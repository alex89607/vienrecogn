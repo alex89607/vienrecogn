{
 "cells": [
  {
   "cell_type": "code",
   "id": "initial_id",
   "metadata": {
    "collapsed": true,
    "ExecuteTime": {
     "end_time": "2024-09-26T17:42:11.701588Z",
     "start_time": "2024-09-26T17:42:09.337128Z"
    }
   },
   "source": [
    "import os\n",
    "import shutil\n",
    "import re\n",
    "from sklearn.model_selection import train_test_split\n",
    "import cv2\n",
    "import numpy as np\n",
    "from ultralytics.data.converter import convert_segment_masks_to_yolo_seg\n",
    "import time\n",
    "from IPython.display import display, HTML\n",
    "from tqdm.notebook import tqdm"
   ],
   "outputs": [],
   "execution_count": 2
  },
  {
   "metadata": {
    "ExecuteTime": {
     "end_time": "2024-09-26T17:42:11.966002Z",
     "start_time": "2024-09-26T17:42:11.962218Z"
    }
   },
   "cell_type": "code",
   "source": [
    "class JupyterLogger:\n",
    "    def __init__(self):\n",
    "        self.logs = []\n",
    "    \n",
    "    def log(self, message, level='INFO'):\n",
    "        self.logs.append(f\"{level}: {message}\")\n",
    "        display(HTML(f\"<p><b>{level}</b>: {message}</p>\"))\n",
    "    \n",
    "    def info(self, message):\n",
    "        self.log(message, 'INFO')\n",
    "    \n",
    "    def warning(self, message):\n",
    "        self.log(message, 'WARNING')\n",
    "    \n",
    "    def error(self, message):\n",
    "        self.log(message, 'ERROR')\n",
    "    \n",
    "    def debug(self, message):\n",
    "        self.log(message, 'DEBUG')\n",
    "    \n",
    "    def save_logs(self, output_dir):\n",
    "        with open(os.path.join(output_dir, 'prepare_data.log'), 'w') as f:\n",
    "            f.write('\\n'.join(self.logs))"
   ],
   "id": "896255e75fe99ce1",
   "outputs": [],
   "execution_count": 3
  },
  {
   "metadata": {
    "ExecuteTime": {
     "end_time": "2024-09-26T17:42:12.092474Z",
     "start_time": "2024-09-26T17:42:12.090061Z"
    }
   },
   "cell_type": "code",
   "source": "logger = JupyterLogger()",
   "id": "32ee31d48fc80a2e",
   "outputs": [],
   "execution_count": 4
  },
  {
   "metadata": {
    "ExecuteTime": {
     "end_time": "2024-09-26T17:42:12.150739Z",
     "start_time": "2024-09-26T17:42:12.148330Z"
    }
   },
   "cell_type": "code",
   "source": [
    "def preprocess_mask(mask):\n",
    "    # Преобразуем бинарную маску (0 и 255) в маску с классами (0 и 1)\n",
    "    return (mask > 0).astype(np.uint8)"
   ],
   "id": "9a6d2269647ccb0d",
   "outputs": [],
   "execution_count": 5
  },
  {
   "metadata": {
    "ExecuteTime": {
     "end_time": "2024-09-26T17:42:12.212227Z",
     "start_time": "2024-09-26T17:42:12.199825Z"
    }
   },
   "cell_type": "code",
   "source": [
    "def prepare_yolo_dataset(input_images_dir, input_masks_dir, output_dir, val_split=0.2):\n",
    "    start_time = time.time()\n",
    "    logger.info(f\"Starting data preparation. Images dir: {input_images_dir}, Masks dir: {input_masks_dir}, Output dir: {output_dir}\")\n",
    "\n",
    "    os.makedirs(output_dir, exist_ok=True)\n",
    "    for split in ['train', 'val']:\n",
    "        os.makedirs(os.path.join(output_dir, 'images', split), exist_ok=True)\n",
    "        os.makedirs(os.path.join(output_dir, 'labels', split), exist_ok=True)\n",
    "\n",
    "    image_files = [f for f in os.listdir(input_images_dir) if f.lower().endswith(('.jpg', '.png', '.jpeg'))]\n",
    "    mask_files = [f for f in os.listdir(input_masks_dir) if f.lower().endswith('.png')]\n",
    "    \n",
    "    logger.info(f\"Found {len(image_files)} images and {len(mask_files)} masks\")\n",
    "\n",
    "    image_mask_pairs = {}\n",
    "    for img_file in image_files:\n",
    "        match = re.match(r'photo no checkersboard \\((\\d+)\\)(_aug_(\\d+))?\\.jpg', img_file)\n",
    "        if match:\n",
    "            number = match.group(1)\n",
    "            aug_num = match.group(3) or '0'  # '0' для оригинального изображения\n",
    "            mask_file = f\"({number}) annotated{'_aug_' + aug_num if aug_num != '0' else ''}.PNG\"\n",
    "            if mask_file in mask_files:\n",
    "                image_mask_pairs[img_file] = mask_file\n",
    "            else:\n",
    "                logger.warning(f\"No matching mask found for image: {img_file}\")\n",
    "\n",
    "    logger.info(f\"Successfully paired {len(image_mask_pairs)} images with masks\")\n",
    "\n",
    "    image_groups = {}\n",
    "    for img_file in image_mask_pairs:\n",
    "        match = re.match(r'photo no checkersboard \\((\\d+)\\)', img_file)\n",
    "        if match:\n",
    "            group_num = match.group(1)\n",
    "            if group_num not in image_groups:\n",
    "                image_groups[group_num] = []\n",
    "            image_groups[group_num].append(img_file)\n",
    "\n",
    "    train_groups, val_groups = train_test_split(list(image_groups.keys()), test_size=val_split, random_state=42)\n",
    "    logger.info(f\"Split data: {len(train_groups)} training groups, {len(val_groups)} validation groups\")\n",
    "\n",
    "    def process_files(groups, split):\n",
    "        total = sum(len(image_groups[group]) for group in groups)\n",
    "        pbar = tqdm(total=total, desc=f\"Processing {split} set\")\n",
    "        for idx, group in enumerate(groups, 1):\n",
    "            for aug_idx, img_file in enumerate(sorted(image_groups[group])):\n",
    "                logger.debug(f\"Processing {split} file: {img_file}\")\n",
    "                \n",
    "                new_name = f\"vein_{split}_{idx:04d}_aug_{aug_idx:02d}\"\n",
    "                \n",
    "                src_img_path = os.path.join(input_images_dir, img_file)\n",
    "                dst_img_path = os.path.join(output_dir, 'images', split, f\"{new_name}.jpg\")\n",
    "                shutil.copy(src_img_path, dst_img_path)\n",
    "\n",
    "                mask_file = image_mask_pairs[img_file]\n",
    "                mask_path = os.path.join(input_masks_dir, mask_file)\n",
    "                mask = cv2.imread(mask_path, cv2.IMREAD_GRAYSCALE)\n",
    "                \n",
    "                if mask is None:\n",
    "                    logger.error(f\"Failed to load mask: {mask_path}\")\n",
    "                    continue\n",
    "\n",
    "                processed_mask = preprocess_mask(mask)\n",
    "\n",
    "                temp_mask_dir = os.path.join(output_dir, 'temp_masks')\n",
    "                os.makedirs(temp_mask_dir, exist_ok=True)\n",
    "                temp_mask_path = os.path.join(temp_mask_dir, f\"{new_name}.png\")\n",
    "                cv2.imwrite(temp_mask_path, processed_mask)\n",
    "\n",
    "                label_dir = os.path.join(output_dir, 'labels', split)\n",
    "                os.makedirs(label_dir, exist_ok=True)\n",
    "\n",
    "                convert_segment_masks_to_yolo_seg(temp_mask_dir, label_dir, 1)\n",
    "\n",
    "                os.remove(temp_mask_path)\n",
    "                \n",
    "                pbar.update(1)\n",
    "        pbar.close()\n",
    "\n",
    "    process_files(train_groups, 'train')\n",
    "    process_files(val_groups, 'val')\n",
    "\n",
    "    shutil.rmtree(os.path.join(output_dir, 'temp_masks'))\n",
    "\n",
    "    logger.info(f\"Data preparation completed. Output saved to {output_dir}\")\n",
    "    logger.info(f\"Training set: {len(train_groups)} groups\")\n",
    "    logger.info(f\"Validation set: {len(val_groups)} groups\")\n",
    "\n",
    "    yaml_content = f\"\"\"\n",
    "path: {output_dir}\n",
    "train: images/train\n",
    "val: images/val\n",
    "\n",
    "names:\n",
    "    0: vein\n",
    "    \"\"\"\n",
    "\n",
    "    yaml_path = os.path.join(output_dir, 'data.yaml')\n",
    "    with open(yaml_path, 'w') as f:\n",
    "        f.write(yaml_content)\n",
    "    logger.info(f\"Created data.yaml file at {yaml_path}\")\n",
    "\n",
    "    end_time = time.time()\n",
    "    logger.info(f\"Total execution time: {end_time - start_time:.2f} seconds\")\n",
    "    \n",
    "    logger.save_logs(output_dir)"
   ],
   "id": "d1b984544df4b2c2",
   "outputs": [],
   "execution_count": 6
  },
  {
   "metadata": {
    "ExecuteTime": {
     "end_time": "2024-09-26T17:43:00.599960Z",
     "start_time": "2024-09-26T17:42:52.945710Z"
    }
   },
   "cell_type": "code",
   "source": [
    "prepare_yolo_dataset(\n",
    "    '/home/_sergei/DataspellProjects/vein-segmentation/data/26/augmented_data/images', \n",
    "    '/home/_sergei/DataspellProjects/vein-segmentation/data/26/augmented_data/masks',\n",
    "    '/home/_sergei/DataspellProjects/vein-segmentation/data/26/yolo_dataset', \n",
    "    val_split=0.1\n",
    ")"
   ],
   "id": "13393391a218ba74",
   "outputs": [
    {
     "data": {
      "text/plain": [
       "<IPython.core.display.HTML object>"
      ],
      "text/html": [
       "<p><b>INFO</b>: Starting data preparation. Images dir: /home/_sergei/DataspellProjects/vein-segmentation/data/26/augmented_data/images, Masks dir: /home/_sergei/DataspellProjects/vein-segmentation/data/26/augmented_data/masks, Output dir: /home/_sergei/DataspellProjects/vein-segmentation/data/26/yolo_dataset</p>"
      ]
     },
     "metadata": {},
     "output_type": "display_data"
    },
    {
     "data": {
      "text/plain": [
       "<IPython.core.display.HTML object>"
      ],
      "text/html": [
       "<p><b>INFO</b>: Found 352 images and 352 masks</p>"
      ]
     },
     "metadata": {},
     "output_type": "display_data"
    },
    {
     "data": {
      "text/plain": [
       "<IPython.core.display.HTML object>"
      ],
      "text/html": [
       "<p><b>INFO</b>: Successfully paired 352 images with masks</p>"
      ]
     },
     "metadata": {},
     "output_type": "display_data"
    },
    {
     "data": {
      "text/plain": [
       "<IPython.core.display.HTML object>"
      ],
      "text/html": [
       "<p><b>INFO</b>: Split data: 28 training groups, 4 validation groups</p>"
      ]
     },
     "metadata": {},
     "output_type": "display_data"
    },
    {
     "data": {
      "text/plain": [
       "Processing train set:   0%|          | 0/308 [00:00<?, ?it/s]"
      ],
      "application/vnd.jupyter.widget-view+json": {
       "version_major": 2,
       "version_minor": 0,
       "model_id": "8716df9498ac4f26b3d91e30dabcf45b"
      }
     },
     "metadata": {},
     "output_type": "display_data"
    },
    {
     "data": {
      "text/plain": [
       "<IPython.core.display.HTML object>"
      ],
      "text/html": [
       "<p><b>DEBUG</b>: Processing train file: photo no checkersboard (17).jpg</p>"
      ]
     },
     "metadata": {},
     "output_type": "display_data"
    },
    {
     "name": "stdout",
     "output_type": "stream",
     "text": [
      "Processing /home/_sergei/DataspellProjects/vein-segmentation/data/26/yolo_dataset/temp_masks/vein_train_0001_aug_00.png imgsz = 726 x 544\n",
      "Processed and stored at /home/_sergei/DataspellProjects/vein-segmentation/data/26/yolo_dataset/labels/train/vein_train_0001_aug_00.txt imgsz = 726 x 544\n"
     ]
    },
    {
     "data": {
      "text/plain": [
       "<IPython.core.display.HTML object>"
      ],
      "text/html": [
       "<p><b>DEBUG</b>: Processing train file: photo no checkersboard (17)_aug_0.jpg</p>"
      ]
     },
     "metadata": {},
     "output_type": "display_data"
    },
    {
     "name": "stdout",
     "output_type": "stream",
     "text": [
      "Processing /home/_sergei/DataspellProjects/vein-segmentation/data/26/yolo_dataset/temp_masks/vein_train_0001_aug_01.png imgsz = 726 x 544\n",
      "Processed and stored at /home/_sergei/DataspellProjects/vein-segmentation/data/26/yolo_dataset/labels/train/vein_train_0001_aug_01.txt imgsz = 726 x 544\n"
     ]
    },
    {
     "data": {
      "text/plain": [
       "<IPython.core.display.HTML object>"
      ],
      "text/html": [
       "<p><b>DEBUG</b>: Processing train file: photo no checkersboard (17)_aug_1.jpg</p>"
      ]
     },
     "metadata": {},
     "output_type": "display_data"
    },
    {
     "name": "stdout",
     "output_type": "stream",
     "text": [
      "Processing /home/_sergei/DataspellProjects/vein-segmentation/data/26/yolo_dataset/temp_masks/vein_train_0001_aug_02.png imgsz = 960 x 1280\n",
      "Processed and stored at /home/_sergei/DataspellProjects/vein-segmentation/data/26/yolo_dataset/labels/train/vein_train_0001_aug_02.txt imgsz = 960 x 1280\n"
     ]
    },
    {
     "data": {
      "text/plain": [
       "<IPython.core.display.HTML object>"
      ],
      "text/html": [
       "<p><b>DEBUG</b>: Processing train file: photo no checkersboard (17)_aug_2.jpg</p>"
      ]
     },
     "metadata": {},
     "output_type": "display_data"
    },
    {
     "name": "stdout",
     "output_type": "stream",
     "text": [
      "Processing /home/_sergei/DataspellProjects/vein-segmentation/data/26/yolo_dataset/temp_masks/vein_train_0001_aug_03.png imgsz = 960 x 1280\n",
      "Processed and stored at /home/_sergei/DataspellProjects/vein-segmentation/data/26/yolo_dataset/labels/train/vein_train_0001_aug_03.txt imgsz = 960 x 1280\n"
     ]
    },
    {
     "data": {
      "text/plain": [
       "<IPython.core.display.HTML object>"
      ],
      "text/html": [
       "<p><b>DEBUG</b>: Processing train file: photo no checkersboard (17)_aug_3.jpg</p>"
      ]
     },
     "metadata": {},
     "output_type": "display_data"
    },
    {
     "name": "stdout",
     "output_type": "stream",
     "text": [
      "Processing /home/_sergei/DataspellProjects/vein-segmentation/data/26/yolo_dataset/temp_masks/vein_train_0001_aug_04.png imgsz = 960 x 1280\n",
      "Processed and stored at /home/_sergei/DataspellProjects/vein-segmentation/data/26/yolo_dataset/labels/train/vein_train_0001_aug_04.txt imgsz = 960 x 1280\n"
     ]
    },
    {
     "data": {
      "text/plain": [
       "<IPython.core.display.HTML object>"
      ],
      "text/html": [
       "<p><b>DEBUG</b>: Processing train file: photo no checkersboard (17)_aug_4.jpg</p>"
      ]
     },
     "metadata": {},
     "output_type": "display_data"
    },
    {
     "name": "stdout",
     "output_type": "stream",
     "text": [
      "Processing /home/_sergei/DataspellProjects/vein-segmentation/data/26/yolo_dataset/temp_masks/vein_train_0001_aug_05.png imgsz = 960 x 1280\n",
      "Processed and stored at /home/_sergei/DataspellProjects/vein-segmentation/data/26/yolo_dataset/labels/train/vein_train_0001_aug_05.txt imgsz = 960 x 1280\n"
     ]
    },
    {
     "data": {
      "text/plain": [
       "<IPython.core.display.HTML object>"
      ],
      "text/html": [
       "<p><b>DEBUG</b>: Processing train file: photo no checkersboard (17)_aug_5.jpg</p>"
      ]
     },
     "metadata": {},
     "output_type": "display_data"
    },
    {
     "name": "stdout",
     "output_type": "stream",
     "text": [
      "Processing /home/_sergei/DataspellProjects/vein-segmentation/data/26/yolo_dataset/temp_masks/vein_train_0001_aug_06.png imgsz = 1280 x 960\n",
      "Processed and stored at /home/_sergei/DataspellProjects/vein-segmentation/data/26/yolo_dataset/labels/train/vein_train_0001_aug_06.txt imgsz = 1280 x 960\n"
     ]
    },
    {
     "data": {
      "text/plain": [
       "<IPython.core.display.HTML object>"
      ],
      "text/html": [
       "<p><b>DEBUG</b>: Processing train file: photo no checkersboard (17)_aug_6.jpg</p>"
      ]
     },
     "metadata": {},
     "output_type": "display_data"
    },
    {
     "name": "stdout",
     "output_type": "stream",
     "text": [
      "Processing /home/_sergei/DataspellProjects/vein-segmentation/data/26/yolo_dataset/temp_masks/vein_train_0001_aug_07.png imgsz = 960 x 1280\n",
      "Processed and stored at /home/_sergei/DataspellProjects/vein-segmentation/data/26/yolo_dataset/labels/train/vein_train_0001_aug_07.txt imgsz = 960 x 1280\n"
     ]
    },
    {
     "data": {
      "text/plain": [
       "<IPython.core.display.HTML object>"
      ],
      "text/html": [
       "<p><b>DEBUG</b>: Processing train file: photo no checkersboard (17)_aug_7.jpg</p>"
      ]
     },
     "metadata": {},
     "output_type": "display_data"
    },
    {
     "name": "stdout",
     "output_type": "stream",
     "text": [
      "Processing /home/_sergei/DataspellProjects/vein-segmentation/data/26/yolo_dataset/temp_masks/vein_train_0001_aug_08.png imgsz = 1280 x 960\n",
      "Processed and stored at /home/_sergei/DataspellProjects/vein-segmentation/data/26/yolo_dataset/labels/train/vein_train_0001_aug_08.txt imgsz = 1280 x 960\n"
     ]
    },
    {
     "data": {
      "text/plain": [
       "<IPython.core.display.HTML object>"
      ],
      "text/html": [
       "<p><b>DEBUG</b>: Processing train file: photo no checkersboard (17)_aug_8.jpg</p>"
      ]
     },
     "metadata": {},
     "output_type": "display_data"
    },
    {
     "name": "stdout",
     "output_type": "stream",
     "text": [
      "Processing /home/_sergei/DataspellProjects/vein-segmentation/data/26/yolo_dataset/temp_masks/vein_train_0001_aug_09.png imgsz = 1280 x 960\n",
      "Processed and stored at /home/_sergei/DataspellProjects/vein-segmentation/data/26/yolo_dataset/labels/train/vein_train_0001_aug_09.txt imgsz = 1280 x 960\n"
     ]
    },
    {
     "data": {
      "text/plain": [
       "<IPython.core.display.HTML object>"
      ],
      "text/html": [
       "<p><b>DEBUG</b>: Processing train file: photo no checkersboard (17)_aug_9.jpg</p>"
      ]
     },
     "metadata": {},
     "output_type": "display_data"
    },
    {
     "name": "stdout",
     "output_type": "stream",
     "text": [
      "Processing /home/_sergei/DataspellProjects/vein-segmentation/data/26/yolo_dataset/temp_masks/vein_train_0001_aug_10.png imgsz = 960 x 1280\n",
      "Processed and stored at /home/_sergei/DataspellProjects/vein-segmentation/data/26/yolo_dataset/labels/train/vein_train_0001_aug_10.txt imgsz = 960 x 1280\n"
     ]
    },
    {
     "data": {
      "text/plain": [
       "<IPython.core.display.HTML object>"
      ],
      "text/html": [
       "<p><b>DEBUG</b>: Processing train file: photo no checkersboard (18).jpg</p>"
      ]
     },
     "metadata": {},
     "output_type": "display_data"
    },
    {
     "name": "stdout",
     "output_type": "stream",
     "text": [
      "Processing /home/_sergei/DataspellProjects/vein-segmentation/data/26/yolo_dataset/temp_masks/vein_train_0002_aug_00.png imgsz = 726 x 545\n",
      "Processed and stored at /home/_sergei/DataspellProjects/vein-segmentation/data/26/yolo_dataset/labels/train/vein_train_0002_aug_00.txt imgsz = 726 x 545\n"
     ]
    },
    {
     "data": {
      "text/plain": [
       "<IPython.core.display.HTML object>"
      ],
      "text/html": [
       "<p><b>DEBUG</b>: Processing train file: photo no checkersboard (18)_aug_0.jpg</p>"
      ]
     },
     "metadata": {},
     "output_type": "display_data"
    },
    {
     "name": "stdout",
     "output_type": "stream",
     "text": [
      "Processing /home/_sergei/DataspellProjects/vein-segmentation/data/26/yolo_dataset/temp_masks/vein_train_0002_aug_01.png imgsz = 726 x 545\n",
      "Processed and stored at /home/_sergei/DataspellProjects/vein-segmentation/data/26/yolo_dataset/labels/train/vein_train_0002_aug_01.txt imgsz = 726 x 545\n"
     ]
    },
    {
     "data": {
      "text/plain": [
       "<IPython.core.display.HTML object>"
      ],
      "text/html": [
       "<p><b>DEBUG</b>: Processing train file: photo no checkersboard (18)_aug_1.jpg</p>"
      ]
     },
     "metadata": {},
     "output_type": "display_data"
    },
    {
     "name": "stdout",
     "output_type": "stream",
     "text": [
      "Processing /home/_sergei/DataspellProjects/vein-segmentation/data/26/yolo_dataset/temp_masks/vein_train_0002_aug_02.png imgsz = 960 x 1280\n",
      "Processed and stored at /home/_sergei/DataspellProjects/vein-segmentation/data/26/yolo_dataset/labels/train/vein_train_0002_aug_02.txt imgsz = 960 x 1280\n"
     ]
    },
    {
     "data": {
      "text/plain": [
       "<IPython.core.display.HTML object>"
      ],
      "text/html": [
       "<p><b>DEBUG</b>: Processing train file: photo no checkersboard (18)_aug_2.jpg</p>"
      ]
     },
     "metadata": {},
     "output_type": "display_data"
    },
    {
     "name": "stdout",
     "output_type": "stream",
     "text": [
      "Processing /home/_sergei/DataspellProjects/vein-segmentation/data/26/yolo_dataset/temp_masks/vein_train_0002_aug_03.png imgsz = 960 x 1280\n",
      "Processed and stored at /home/_sergei/DataspellProjects/vein-segmentation/data/26/yolo_dataset/labels/train/vein_train_0002_aug_03.txt imgsz = 960 x 1280\n"
     ]
    },
    {
     "data": {
      "text/plain": [
       "<IPython.core.display.HTML object>"
      ],
      "text/html": [
       "<p><b>DEBUG</b>: Processing train file: photo no checkersboard (18)_aug_3.jpg</p>"
      ]
     },
     "metadata": {},
     "output_type": "display_data"
    },
    {
     "name": "stdout",
     "output_type": "stream",
     "text": [
      "Processing /home/_sergei/DataspellProjects/vein-segmentation/data/26/yolo_dataset/temp_masks/vein_train_0002_aug_04.png imgsz = 1280 x 960\n",
      "Processed and stored at /home/_sergei/DataspellProjects/vein-segmentation/data/26/yolo_dataset/labels/train/vein_train_0002_aug_04.txt imgsz = 1280 x 960\n"
     ]
    },
    {
     "data": {
      "text/plain": [
       "<IPython.core.display.HTML object>"
      ],
      "text/html": [
       "<p><b>DEBUG</b>: Processing train file: photo no checkersboard (18)_aug_4.jpg</p>"
      ]
     },
     "metadata": {},
     "output_type": "display_data"
    },
    {
     "name": "stdout",
     "output_type": "stream",
     "text": [
      "Processing /home/_sergei/DataspellProjects/vein-segmentation/data/26/yolo_dataset/temp_masks/vein_train_0002_aug_05.png imgsz = 1280 x 960\n",
      "Processed and stored at /home/_sergei/DataspellProjects/vein-segmentation/data/26/yolo_dataset/labels/train/vein_train_0002_aug_05.txt imgsz = 1280 x 960\n"
     ]
    },
    {
     "data": {
      "text/plain": [
       "<IPython.core.display.HTML object>"
      ],
      "text/html": [
       "<p><b>DEBUG</b>: Processing train file: photo no checkersboard (18)_aug_5.jpg</p>"
      ]
     },
     "metadata": {},
     "output_type": "display_data"
    },
    {
     "name": "stdout",
     "output_type": "stream",
     "text": [
      "Processing /home/_sergei/DataspellProjects/vein-segmentation/data/26/yolo_dataset/temp_masks/vein_train_0002_aug_06.png imgsz = 1280 x 960\n",
      "Processed and stored at /home/_sergei/DataspellProjects/vein-segmentation/data/26/yolo_dataset/labels/train/vein_train_0002_aug_06.txt imgsz = 1280 x 960\n"
     ]
    },
    {
     "data": {
      "text/plain": [
       "<IPython.core.display.HTML object>"
      ],
      "text/html": [
       "<p><b>DEBUG</b>: Processing train file: photo no checkersboard (18)_aug_6.jpg</p>"
      ]
     },
     "metadata": {},
     "output_type": "display_data"
    },
    {
     "name": "stdout",
     "output_type": "stream",
     "text": [
      "Processing /home/_sergei/DataspellProjects/vein-segmentation/data/26/yolo_dataset/temp_masks/vein_train_0002_aug_07.png imgsz = 960 x 1280\n",
      "Processed and stored at /home/_sergei/DataspellProjects/vein-segmentation/data/26/yolo_dataset/labels/train/vein_train_0002_aug_07.txt imgsz = 960 x 1280\n"
     ]
    },
    {
     "data": {
      "text/plain": [
       "<IPython.core.display.HTML object>"
      ],
      "text/html": [
       "<p><b>DEBUG</b>: Processing train file: photo no checkersboard (18)_aug_7.jpg</p>"
      ]
     },
     "metadata": {},
     "output_type": "display_data"
    },
    {
     "name": "stdout",
     "output_type": "stream",
     "text": [
      "Processing /home/_sergei/DataspellProjects/vein-segmentation/data/26/yolo_dataset/temp_masks/vein_train_0002_aug_08.png imgsz = 1280 x 960\n",
      "Processed and stored at /home/_sergei/DataspellProjects/vein-segmentation/data/26/yolo_dataset/labels/train/vein_train_0002_aug_08.txt imgsz = 1280 x 960\n"
     ]
    },
    {
     "data": {
      "text/plain": [
       "<IPython.core.display.HTML object>"
      ],
      "text/html": [
       "<p><b>DEBUG</b>: Processing train file: photo no checkersboard (18)_aug_8.jpg</p>"
      ]
     },
     "metadata": {},
     "output_type": "display_data"
    },
    {
     "name": "stdout",
     "output_type": "stream",
     "text": [
      "Processing /home/_sergei/DataspellProjects/vein-segmentation/data/26/yolo_dataset/temp_masks/vein_train_0002_aug_09.png imgsz = 1280 x 960\n",
      "Processed and stored at /home/_sergei/DataspellProjects/vein-segmentation/data/26/yolo_dataset/labels/train/vein_train_0002_aug_09.txt imgsz = 1280 x 960\n"
     ]
    },
    {
     "data": {
      "text/plain": [
       "<IPython.core.display.HTML object>"
      ],
      "text/html": [
       "<p><b>DEBUG</b>: Processing train file: photo no checkersboard (18)_aug_9.jpg</p>"
      ]
     },
     "metadata": {},
     "output_type": "display_data"
    },
    {
     "name": "stdout",
     "output_type": "stream",
     "text": [
      "Processing /home/_sergei/DataspellProjects/vein-segmentation/data/26/yolo_dataset/temp_masks/vein_train_0002_aug_10.png imgsz = 960 x 1280\n",
      "Processed and stored at /home/_sergei/DataspellProjects/vein-segmentation/data/26/yolo_dataset/labels/train/vein_train_0002_aug_10.txt imgsz = 960 x 1280\n"
     ]
    },
    {
     "data": {
      "text/plain": [
       "<IPython.core.display.HTML object>"
      ],
      "text/html": [
       "<p><b>DEBUG</b>: Processing train file: photo no checkersboard (51).jpg</p>"
      ]
     },
     "metadata": {},
     "output_type": "display_data"
    },
    {
     "name": "stdout",
     "output_type": "stream",
     "text": [
      "Processing /home/_sergei/DataspellProjects/vein-segmentation/data/26/yolo_dataset/temp_masks/vein_train_0003_aug_00.png imgsz = 726 x 545\n",
      "Processed and stored at /home/_sergei/DataspellProjects/vein-segmentation/data/26/yolo_dataset/labels/train/vein_train_0003_aug_00.txt imgsz = 726 x 545\n"
     ]
    },
    {
     "data": {
      "text/plain": [
       "<IPython.core.display.HTML object>"
      ],
      "text/html": [
       "<p><b>DEBUG</b>: Processing train file: photo no checkersboard (51)_aug_0.jpg</p>"
      ]
     },
     "metadata": {},
     "output_type": "display_data"
    },
    {
     "name": "stdout",
     "output_type": "stream",
     "text": [
      "Processing /home/_sergei/DataspellProjects/vein-segmentation/data/26/yolo_dataset/temp_masks/vein_train_0003_aug_01.png imgsz = 726 x 545\n",
      "Processed and stored at /home/_sergei/DataspellProjects/vein-segmentation/data/26/yolo_dataset/labels/train/vein_train_0003_aug_01.txt imgsz = 726 x 545\n"
     ]
    },
    {
     "data": {
      "text/plain": [
       "<IPython.core.display.HTML object>"
      ],
      "text/html": [
       "<p><b>DEBUG</b>: Processing train file: photo no checkersboard (51)_aug_1.jpg</p>"
      ]
     },
     "metadata": {},
     "output_type": "display_data"
    },
    {
     "name": "stdout",
     "output_type": "stream",
     "text": [
      "Processing /home/_sergei/DataspellProjects/vein-segmentation/data/26/yolo_dataset/temp_masks/vein_train_0003_aug_02.png imgsz = 960 x 1280\n",
      "Processed and stored at /home/_sergei/DataspellProjects/vein-segmentation/data/26/yolo_dataset/labels/train/vein_train_0003_aug_02.txt imgsz = 960 x 1280\n"
     ]
    },
    {
     "data": {
      "text/plain": [
       "<IPython.core.display.HTML object>"
      ],
      "text/html": [
       "<p><b>DEBUG</b>: Processing train file: photo no checkersboard (51)_aug_2.jpg</p>"
      ]
     },
     "metadata": {},
     "output_type": "display_data"
    },
    {
     "name": "stdout",
     "output_type": "stream",
     "text": [
      "Processing /home/_sergei/DataspellProjects/vein-segmentation/data/26/yolo_dataset/temp_masks/vein_train_0003_aug_03.png imgsz = 960 x 1280\n",
      "Processed and stored at /home/_sergei/DataspellProjects/vein-segmentation/data/26/yolo_dataset/labels/train/vein_train_0003_aug_03.txt imgsz = 960 x 1280\n"
     ]
    },
    {
     "data": {
      "text/plain": [
       "<IPython.core.display.HTML object>"
      ],
      "text/html": [
       "<p><b>DEBUG</b>: Processing train file: photo no checkersboard (51)_aug_3.jpg</p>"
      ]
     },
     "metadata": {},
     "output_type": "display_data"
    },
    {
     "name": "stdout",
     "output_type": "stream",
     "text": [
      "Processing /home/_sergei/DataspellProjects/vein-segmentation/data/26/yolo_dataset/temp_masks/vein_train_0003_aug_04.png imgsz = 960 x 1280\n",
      "Processed and stored at /home/_sergei/DataspellProjects/vein-segmentation/data/26/yolo_dataset/labels/train/vein_train_0003_aug_04.txt imgsz = 960 x 1280\n"
     ]
    },
    {
     "data": {
      "text/plain": [
       "<IPython.core.display.HTML object>"
      ],
      "text/html": [
       "<p><b>DEBUG</b>: Processing train file: photo no checkersboard (51)_aug_4.jpg</p>"
      ]
     },
     "metadata": {},
     "output_type": "display_data"
    },
    {
     "name": "stdout",
     "output_type": "stream",
     "text": [
      "Processing /home/_sergei/DataspellProjects/vein-segmentation/data/26/yolo_dataset/temp_masks/vein_train_0003_aug_05.png imgsz = 1280 x 960\n",
      "Processed and stored at /home/_sergei/DataspellProjects/vein-segmentation/data/26/yolo_dataset/labels/train/vein_train_0003_aug_05.txt imgsz = 1280 x 960\n"
     ]
    },
    {
     "data": {
      "text/plain": [
       "<IPython.core.display.HTML object>"
      ],
      "text/html": [
       "<p><b>DEBUG</b>: Processing train file: photo no checkersboard (51)_aug_5.jpg</p>"
      ]
     },
     "metadata": {},
     "output_type": "display_data"
    },
    {
     "name": "stdout",
     "output_type": "stream",
     "text": [
      "Processing /home/_sergei/DataspellProjects/vein-segmentation/data/26/yolo_dataset/temp_masks/vein_train_0003_aug_06.png imgsz = 960 x 1280\n",
      "Processed and stored at /home/_sergei/DataspellProjects/vein-segmentation/data/26/yolo_dataset/labels/train/vein_train_0003_aug_06.txt imgsz = 960 x 1280\n"
     ]
    },
    {
     "data": {
      "text/plain": [
       "<IPython.core.display.HTML object>"
      ],
      "text/html": [
       "<p><b>DEBUG</b>: Processing train file: photo no checkersboard (51)_aug_6.jpg</p>"
      ]
     },
     "metadata": {},
     "output_type": "display_data"
    },
    {
     "name": "stdout",
     "output_type": "stream",
     "text": [
      "Processing /home/_sergei/DataspellProjects/vein-segmentation/data/26/yolo_dataset/temp_masks/vein_train_0003_aug_07.png imgsz = 960 x 1280\n",
      "Processed and stored at /home/_sergei/DataspellProjects/vein-segmentation/data/26/yolo_dataset/labels/train/vein_train_0003_aug_07.txt imgsz = 960 x 1280\n"
     ]
    },
    {
     "data": {
      "text/plain": [
       "<IPython.core.display.HTML object>"
      ],
      "text/html": [
       "<p><b>DEBUG</b>: Processing train file: photo no checkersboard (51)_aug_7.jpg</p>"
      ]
     },
     "metadata": {},
     "output_type": "display_data"
    },
    {
     "name": "stdout",
     "output_type": "stream",
     "text": [
      "Processing /home/_sergei/DataspellProjects/vein-segmentation/data/26/yolo_dataset/temp_masks/vein_train_0003_aug_08.png imgsz = 1280 x 960\n",
      "Processed and stored at /home/_sergei/DataspellProjects/vein-segmentation/data/26/yolo_dataset/labels/train/vein_train_0003_aug_08.txt imgsz = 1280 x 960\n"
     ]
    },
    {
     "data": {
      "text/plain": [
       "<IPython.core.display.HTML object>"
      ],
      "text/html": [
       "<p><b>DEBUG</b>: Processing train file: photo no checkersboard (51)_aug_8.jpg</p>"
      ]
     },
     "metadata": {},
     "output_type": "display_data"
    },
    {
     "name": "stdout",
     "output_type": "stream",
     "text": [
      "Processing /home/_sergei/DataspellProjects/vein-segmentation/data/26/yolo_dataset/temp_masks/vein_train_0003_aug_09.png imgsz = 960 x 1280\n",
      "Processed and stored at /home/_sergei/DataspellProjects/vein-segmentation/data/26/yolo_dataset/labels/train/vein_train_0003_aug_09.txt imgsz = 960 x 1280\n"
     ]
    },
    {
     "data": {
      "text/plain": [
       "<IPython.core.display.HTML object>"
      ],
      "text/html": [
       "<p><b>DEBUG</b>: Processing train file: photo no checkersboard (51)_aug_9.jpg</p>"
      ]
     },
     "metadata": {},
     "output_type": "display_data"
    },
    {
     "name": "stdout",
     "output_type": "stream",
     "text": [
      "Processing /home/_sergei/DataspellProjects/vein-segmentation/data/26/yolo_dataset/temp_masks/vein_train_0003_aug_10.png imgsz = 1280 x 960\n",
      "Processed and stored at /home/_sergei/DataspellProjects/vein-segmentation/data/26/yolo_dataset/labels/train/vein_train_0003_aug_10.txt imgsz = 1280 x 960\n"
     ]
    },
    {
     "data": {
      "text/plain": [
       "<IPython.core.display.HTML object>"
      ],
      "text/html": [
       "<p><b>DEBUG</b>: Processing train file: photo no checkersboard (44).jpg</p>"
      ]
     },
     "metadata": {},
     "output_type": "display_data"
    },
    {
     "name": "stdout",
     "output_type": "stream",
     "text": [
      "Processing /home/_sergei/DataspellProjects/vein-segmentation/data/26/yolo_dataset/temp_masks/vein_train_0004_aug_00.png imgsz = 724 x 544\n",
      "Processed and stored at /home/_sergei/DataspellProjects/vein-segmentation/data/26/yolo_dataset/labels/train/vein_train_0004_aug_00.txt imgsz = 724 x 544\n"
     ]
    },
    {
     "data": {
      "text/plain": [
       "<IPython.core.display.HTML object>"
      ],
      "text/html": [
       "<p><b>DEBUG</b>: Processing train file: photo no checkersboard (44)_aug_0.jpg</p>"
      ]
     },
     "metadata": {},
     "output_type": "display_data"
    },
    {
     "name": "stdout",
     "output_type": "stream",
     "text": [
      "Processing /home/_sergei/DataspellProjects/vein-segmentation/data/26/yolo_dataset/temp_masks/vein_train_0004_aug_01.png imgsz = 724 x 544\n",
      "Processed and stored at /home/_sergei/DataspellProjects/vein-segmentation/data/26/yolo_dataset/labels/train/vein_train_0004_aug_01.txt imgsz = 724 x 544\n"
     ]
    },
    {
     "data": {
      "text/plain": [
       "<IPython.core.display.HTML object>"
      ],
      "text/html": [
       "<p><b>DEBUG</b>: Processing train file: photo no checkersboard (44)_aug_1.jpg</p>"
      ]
     },
     "metadata": {},
     "output_type": "display_data"
    },
    {
     "name": "stdout",
     "output_type": "stream",
     "text": [
      "Processing /home/_sergei/DataspellProjects/vein-segmentation/data/26/yolo_dataset/temp_masks/vein_train_0004_aug_02.png imgsz = 960 x 1280\n",
      "Processed and stored at /home/_sergei/DataspellProjects/vein-segmentation/data/26/yolo_dataset/labels/train/vein_train_0004_aug_02.txt imgsz = 960 x 1280\n"
     ]
    },
    {
     "data": {
      "text/plain": [
       "<IPython.core.display.HTML object>"
      ],
      "text/html": [
       "<p><b>DEBUG</b>: Processing train file: photo no checkersboard (44)_aug_2.jpg</p>"
      ]
     },
     "metadata": {},
     "output_type": "display_data"
    },
    {
     "name": "stdout",
     "output_type": "stream",
     "text": [
      "Processing /home/_sergei/DataspellProjects/vein-segmentation/data/26/yolo_dataset/temp_masks/vein_train_0004_aug_03.png imgsz = 960 x 1280\n",
      "Processed and stored at /home/_sergei/DataspellProjects/vein-segmentation/data/26/yolo_dataset/labels/train/vein_train_0004_aug_03.txt imgsz = 960 x 1280\n"
     ]
    },
    {
     "data": {
      "text/plain": [
       "<IPython.core.display.HTML object>"
      ],
      "text/html": [
       "<p><b>DEBUG</b>: Processing train file: photo no checkersboard (44)_aug_3.jpg</p>"
      ]
     },
     "metadata": {},
     "output_type": "display_data"
    },
    {
     "name": "stdout",
     "output_type": "stream",
     "text": [
      "Processing /home/_sergei/DataspellProjects/vein-segmentation/data/26/yolo_dataset/temp_masks/vein_train_0004_aug_04.png imgsz = 1280 x 960\n",
      "Processed and stored at /home/_sergei/DataspellProjects/vein-segmentation/data/26/yolo_dataset/labels/train/vein_train_0004_aug_04.txt imgsz = 1280 x 960\n"
     ]
    },
    {
     "data": {
      "text/plain": [
       "<IPython.core.display.HTML object>"
      ],
      "text/html": [
       "<p><b>DEBUG</b>: Processing train file: photo no checkersboard (44)_aug_4.jpg</p>"
      ]
     },
     "metadata": {},
     "output_type": "display_data"
    },
    {
     "name": "stdout",
     "output_type": "stream",
     "text": [
      "Processing /home/_sergei/DataspellProjects/vein-segmentation/data/26/yolo_dataset/temp_masks/vein_train_0004_aug_05.png imgsz = 1280 x 960\n",
      "Processed and stored at /home/_sergei/DataspellProjects/vein-segmentation/data/26/yolo_dataset/labels/train/vein_train_0004_aug_05.txt imgsz = 1280 x 960\n"
     ]
    },
    {
     "data": {
      "text/plain": [
       "<IPython.core.display.HTML object>"
      ],
      "text/html": [
       "<p><b>DEBUG</b>: Processing train file: photo no checkersboard (44)_aug_5.jpg</p>"
      ]
     },
     "metadata": {},
     "output_type": "display_data"
    },
    {
     "name": "stdout",
     "output_type": "stream",
     "text": [
      "Processing /home/_sergei/DataspellProjects/vein-segmentation/data/26/yolo_dataset/temp_masks/vein_train_0004_aug_06.png imgsz = 960 x 1280\n",
      "Processed and stored at /home/_sergei/DataspellProjects/vein-segmentation/data/26/yolo_dataset/labels/train/vein_train_0004_aug_06.txt imgsz = 960 x 1280\n"
     ]
    },
    {
     "data": {
      "text/plain": [
       "<IPython.core.display.HTML object>"
      ],
      "text/html": [
       "<p><b>DEBUG</b>: Processing train file: photo no checkersboard (44)_aug_6.jpg</p>"
      ]
     },
     "metadata": {},
     "output_type": "display_data"
    },
    {
     "name": "stdout",
     "output_type": "stream",
     "text": [
      "Processing /home/_sergei/DataspellProjects/vein-segmentation/data/26/yolo_dataset/temp_masks/vein_train_0004_aug_07.png imgsz = 960 x 1280\n",
      "Processed and stored at /home/_sergei/DataspellProjects/vein-segmentation/data/26/yolo_dataset/labels/train/vein_train_0004_aug_07.txt imgsz = 960 x 1280\n"
     ]
    },
    {
     "data": {
      "text/plain": [
       "<IPython.core.display.HTML object>"
      ],
      "text/html": [
       "<p><b>DEBUG</b>: Processing train file: photo no checkersboard (44)_aug_7.jpg</p>"
      ]
     },
     "metadata": {},
     "output_type": "display_data"
    },
    {
     "name": "stdout",
     "output_type": "stream",
     "text": [
      "Processing /home/_sergei/DataspellProjects/vein-segmentation/data/26/yolo_dataset/temp_masks/vein_train_0004_aug_08.png imgsz = 960 x 1280\n",
      "Processed and stored at /home/_sergei/DataspellProjects/vein-segmentation/data/26/yolo_dataset/labels/train/vein_train_0004_aug_08.txt imgsz = 960 x 1280\n"
     ]
    },
    {
     "data": {
      "text/plain": [
       "<IPython.core.display.HTML object>"
      ],
      "text/html": [
       "<p><b>DEBUG</b>: Processing train file: photo no checkersboard (44)_aug_8.jpg</p>"
      ]
     },
     "metadata": {},
     "output_type": "display_data"
    },
    {
     "name": "stdout",
     "output_type": "stream",
     "text": [
      "Processing /home/_sergei/DataspellProjects/vein-segmentation/data/26/yolo_dataset/temp_masks/vein_train_0004_aug_09.png imgsz = 960 x 1280\n",
      "Processed and stored at /home/_sergei/DataspellProjects/vein-segmentation/data/26/yolo_dataset/labels/train/vein_train_0004_aug_09.txt imgsz = 960 x 1280\n"
     ]
    },
    {
     "data": {
      "text/plain": [
       "<IPython.core.display.HTML object>"
      ],
      "text/html": [
       "<p><b>DEBUG</b>: Processing train file: photo no checkersboard (44)_aug_9.jpg</p>"
      ]
     },
     "metadata": {},
     "output_type": "display_data"
    },
    {
     "name": "stdout",
     "output_type": "stream",
     "text": [
      "Processing /home/_sergei/DataspellProjects/vein-segmentation/data/26/yolo_dataset/temp_masks/vein_train_0004_aug_10.png imgsz = 1280 x 960\n",
      "Processed and stored at /home/_sergei/DataspellProjects/vein-segmentation/data/26/yolo_dataset/labels/train/vein_train_0004_aug_10.txt imgsz = 1280 x 960\n"
     ]
    },
    {
     "data": {
      "text/plain": [
       "<IPython.core.display.HTML object>"
      ],
      "text/html": [
       "<p><b>DEBUG</b>: Processing train file: photo no checkersboard (22).jpg</p>"
      ]
     },
     "metadata": {},
     "output_type": "display_data"
    },
    {
     "name": "stdout",
     "output_type": "stream",
     "text": [
      "Processing /home/_sergei/DataspellProjects/vein-segmentation/data/26/yolo_dataset/temp_masks/vein_train_0005_aug_00.png imgsz = 726 x 546\n",
      "Processed and stored at /home/_sergei/DataspellProjects/vein-segmentation/data/26/yolo_dataset/labels/train/vein_train_0005_aug_00.txt imgsz = 726 x 546\n"
     ]
    },
    {
     "data": {
      "text/plain": [
       "<IPython.core.display.HTML object>"
      ],
      "text/html": [
       "<p><b>DEBUG</b>: Processing train file: photo no checkersboard (22)_aug_0.jpg</p>"
      ]
     },
     "metadata": {},
     "output_type": "display_data"
    },
    {
     "name": "stdout",
     "output_type": "stream",
     "text": [
      "Processing /home/_sergei/DataspellProjects/vein-segmentation/data/26/yolo_dataset/temp_masks/vein_train_0005_aug_01.png imgsz = 726 x 546\n",
      "Processed and stored at /home/_sergei/DataspellProjects/vein-segmentation/data/26/yolo_dataset/labels/train/vein_train_0005_aug_01.txt imgsz = 726 x 546\n"
     ]
    },
    {
     "data": {
      "text/plain": [
       "<IPython.core.display.HTML object>"
      ],
      "text/html": [
       "<p><b>DEBUG</b>: Processing train file: photo no checkersboard (22)_aug_1.jpg</p>"
      ]
     },
     "metadata": {},
     "output_type": "display_data"
    },
    {
     "name": "stdout",
     "output_type": "stream",
     "text": [
      "Processing /home/_sergei/DataspellProjects/vein-segmentation/data/26/yolo_dataset/temp_masks/vein_train_0005_aug_02.png imgsz = 960 x 1280\n",
      "Processed and stored at /home/_sergei/DataspellProjects/vein-segmentation/data/26/yolo_dataset/labels/train/vein_train_0005_aug_02.txt imgsz = 960 x 1280\n"
     ]
    },
    {
     "data": {
      "text/plain": [
       "<IPython.core.display.HTML object>"
      ],
      "text/html": [
       "<p><b>DEBUG</b>: Processing train file: photo no checkersboard (22)_aug_2.jpg</p>"
      ]
     },
     "metadata": {},
     "output_type": "display_data"
    },
    {
     "name": "stdout",
     "output_type": "stream",
     "text": [
      "Processing /home/_sergei/DataspellProjects/vein-segmentation/data/26/yolo_dataset/temp_masks/vein_train_0005_aug_03.png imgsz = 960 x 1280\n",
      "Processed and stored at /home/_sergei/DataspellProjects/vein-segmentation/data/26/yolo_dataset/labels/train/vein_train_0005_aug_03.txt imgsz = 960 x 1280\n"
     ]
    },
    {
     "data": {
      "text/plain": [
       "<IPython.core.display.HTML object>"
      ],
      "text/html": [
       "<p><b>DEBUG</b>: Processing train file: photo no checkersboard (22)_aug_3.jpg</p>"
      ]
     },
     "metadata": {},
     "output_type": "display_data"
    },
    {
     "name": "stdout",
     "output_type": "stream",
     "text": [
      "Processing /home/_sergei/DataspellProjects/vein-segmentation/data/26/yolo_dataset/temp_masks/vein_train_0005_aug_04.png imgsz = 960 x 1280\n",
      "Processed and stored at /home/_sergei/DataspellProjects/vein-segmentation/data/26/yolo_dataset/labels/train/vein_train_0005_aug_04.txt imgsz = 960 x 1280\n"
     ]
    },
    {
     "data": {
      "text/plain": [
       "<IPython.core.display.HTML object>"
      ],
      "text/html": [
       "<p><b>DEBUG</b>: Processing train file: photo no checkersboard (22)_aug_4.jpg</p>"
      ]
     },
     "metadata": {},
     "output_type": "display_data"
    },
    {
     "name": "stdout",
     "output_type": "stream",
     "text": [
      "Processing /home/_sergei/DataspellProjects/vein-segmentation/data/26/yolo_dataset/temp_masks/vein_train_0005_aug_05.png imgsz = 960 x 1280\n",
      "Processed and stored at /home/_sergei/DataspellProjects/vein-segmentation/data/26/yolo_dataset/labels/train/vein_train_0005_aug_05.txt imgsz = 960 x 1280\n"
     ]
    },
    {
     "data": {
      "text/plain": [
       "<IPython.core.display.HTML object>"
      ],
      "text/html": [
       "<p><b>DEBUG</b>: Processing train file: photo no checkersboard (22)_aug_5.jpg</p>"
      ]
     },
     "metadata": {},
     "output_type": "display_data"
    },
    {
     "name": "stdout",
     "output_type": "stream",
     "text": [
      "Processing /home/_sergei/DataspellProjects/vein-segmentation/data/26/yolo_dataset/temp_masks/vein_train_0005_aug_06.png imgsz = 960 x 1280\n",
      "Processed and stored at /home/_sergei/DataspellProjects/vein-segmentation/data/26/yolo_dataset/labels/train/vein_train_0005_aug_06.txt imgsz = 960 x 1280\n"
     ]
    },
    {
     "data": {
      "text/plain": [
       "<IPython.core.display.HTML object>"
      ],
      "text/html": [
       "<p><b>DEBUG</b>: Processing train file: photo no checkersboard (22)_aug_6.jpg</p>"
      ]
     },
     "metadata": {},
     "output_type": "display_data"
    },
    {
     "name": "stdout",
     "output_type": "stream",
     "text": [
      "Processing /home/_sergei/DataspellProjects/vein-segmentation/data/26/yolo_dataset/temp_masks/vein_train_0005_aug_07.png imgsz = 960 x 1280\n",
      "Processed and stored at /home/_sergei/DataspellProjects/vein-segmentation/data/26/yolo_dataset/labels/train/vein_train_0005_aug_07.txt imgsz = 960 x 1280\n"
     ]
    },
    {
     "data": {
      "text/plain": [
       "<IPython.core.display.HTML object>"
      ],
      "text/html": [
       "<p><b>DEBUG</b>: Processing train file: photo no checkersboard (22)_aug_7.jpg</p>"
      ]
     },
     "metadata": {},
     "output_type": "display_data"
    },
    {
     "name": "stdout",
     "output_type": "stream",
     "text": [
      "Processing /home/_sergei/DataspellProjects/vein-segmentation/data/26/yolo_dataset/temp_masks/vein_train_0005_aug_08.png imgsz = 1280 x 960\n",
      "Processed and stored at /home/_sergei/DataspellProjects/vein-segmentation/data/26/yolo_dataset/labels/train/vein_train_0005_aug_08.txt imgsz = 1280 x 960\n"
     ]
    },
    {
     "data": {
      "text/plain": [
       "<IPython.core.display.HTML object>"
      ],
      "text/html": [
       "<p><b>DEBUG</b>: Processing train file: photo no checkersboard (22)_aug_8.jpg</p>"
      ]
     },
     "metadata": {},
     "output_type": "display_data"
    },
    {
     "name": "stdout",
     "output_type": "stream",
     "text": [
      "Processing /home/_sergei/DataspellProjects/vein-segmentation/data/26/yolo_dataset/temp_masks/vein_train_0005_aug_09.png imgsz = 960 x 1280\n",
      "Processed and stored at /home/_sergei/DataspellProjects/vein-segmentation/data/26/yolo_dataset/labels/train/vein_train_0005_aug_09.txt imgsz = 960 x 1280\n"
     ]
    },
    {
     "data": {
      "text/plain": [
       "<IPython.core.display.HTML object>"
      ],
      "text/html": [
       "<p><b>DEBUG</b>: Processing train file: photo no checkersboard (22)_aug_9.jpg</p>"
      ]
     },
     "metadata": {},
     "output_type": "display_data"
    },
    {
     "name": "stdout",
     "output_type": "stream",
     "text": [
      "Processing /home/_sergei/DataspellProjects/vein-segmentation/data/26/yolo_dataset/temp_masks/vein_train_0005_aug_10.png imgsz = 1280 x 960\n",
      "Processed and stored at /home/_sergei/DataspellProjects/vein-segmentation/data/26/yolo_dataset/labels/train/vein_train_0005_aug_10.txt imgsz = 1280 x 960\n"
     ]
    },
    {
     "data": {
      "text/plain": [
       "<IPython.core.display.HTML object>"
      ],
      "text/html": [
       "<p><b>DEBUG</b>: Processing train file: photo no checkersboard (2).jpg</p>"
      ]
     },
     "metadata": {},
     "output_type": "display_data"
    },
    {
     "name": "stdout",
     "output_type": "stream",
     "text": [
      "Processing /home/_sergei/DataspellProjects/vein-segmentation/data/26/yolo_dataset/temp_masks/vein_train_0006_aug_00.png imgsz = 725 x 545\n",
      "Processed and stored at /home/_sergei/DataspellProjects/vein-segmentation/data/26/yolo_dataset/labels/train/vein_train_0006_aug_00.txt imgsz = 725 x 545\n"
     ]
    },
    {
     "data": {
      "text/plain": [
       "<IPython.core.display.HTML object>"
      ],
      "text/html": [
       "<p><b>DEBUG</b>: Processing train file: photo no checkersboard (2)_aug_0.jpg</p>"
      ]
     },
     "metadata": {},
     "output_type": "display_data"
    },
    {
     "name": "stdout",
     "output_type": "stream",
     "text": [
      "Processing /home/_sergei/DataspellProjects/vein-segmentation/data/26/yolo_dataset/temp_masks/vein_train_0006_aug_01.png imgsz = 725 x 545\n",
      "Processed and stored at /home/_sergei/DataspellProjects/vein-segmentation/data/26/yolo_dataset/labels/train/vein_train_0006_aug_01.txt imgsz = 725 x 545\n"
     ]
    },
    {
     "data": {
      "text/plain": [
       "<IPython.core.display.HTML object>"
      ],
      "text/html": [
       "<p><b>DEBUG</b>: Processing train file: photo no checkersboard (2)_aug_1.jpg</p>"
      ]
     },
     "metadata": {},
     "output_type": "display_data"
    },
    {
     "name": "stdout",
     "output_type": "stream",
     "text": [
      "Processing /home/_sergei/DataspellProjects/vein-segmentation/data/26/yolo_dataset/temp_masks/vein_train_0006_aug_02.png imgsz = 1280 x 960\n",
      "Processed and stored at /home/_sergei/DataspellProjects/vein-segmentation/data/26/yolo_dataset/labels/train/vein_train_0006_aug_02.txt imgsz = 1280 x 960\n"
     ]
    },
    {
     "data": {
      "text/plain": [
       "<IPython.core.display.HTML object>"
      ],
      "text/html": [
       "<p><b>DEBUG</b>: Processing train file: photo no checkersboard (2)_aug_2.jpg</p>"
      ]
     },
     "metadata": {},
     "output_type": "display_data"
    },
    {
     "name": "stdout",
     "output_type": "stream",
     "text": [
      "Processing /home/_sergei/DataspellProjects/vein-segmentation/data/26/yolo_dataset/temp_masks/vein_train_0006_aug_03.png imgsz = 960 x 1280\n",
      "Processed and stored at /home/_sergei/DataspellProjects/vein-segmentation/data/26/yolo_dataset/labels/train/vein_train_0006_aug_03.txt imgsz = 960 x 1280\n"
     ]
    },
    {
     "data": {
      "text/plain": [
       "<IPython.core.display.HTML object>"
      ],
      "text/html": [
       "<p><b>DEBUG</b>: Processing train file: photo no checkersboard (2)_aug_3.jpg</p>"
      ]
     },
     "metadata": {},
     "output_type": "display_data"
    },
    {
     "name": "stdout",
     "output_type": "stream",
     "text": [
      "Processing /home/_sergei/DataspellProjects/vein-segmentation/data/26/yolo_dataset/temp_masks/vein_train_0006_aug_04.png imgsz = 1280 x 960\n",
      "Processed and stored at /home/_sergei/DataspellProjects/vein-segmentation/data/26/yolo_dataset/labels/train/vein_train_0006_aug_04.txt imgsz = 1280 x 960\n"
     ]
    },
    {
     "data": {
      "text/plain": [
       "<IPython.core.display.HTML object>"
      ],
      "text/html": [
       "<p><b>DEBUG</b>: Processing train file: photo no checkersboard (2)_aug_4.jpg</p>"
      ]
     },
     "metadata": {},
     "output_type": "display_data"
    },
    {
     "name": "stdout",
     "output_type": "stream",
     "text": [
      "Processing /home/_sergei/DataspellProjects/vein-segmentation/data/26/yolo_dataset/temp_masks/vein_train_0006_aug_05.png imgsz = 960 x 1280\n",
      "Processed and stored at /home/_sergei/DataspellProjects/vein-segmentation/data/26/yolo_dataset/labels/train/vein_train_0006_aug_05.txt imgsz = 960 x 1280\n"
     ]
    },
    {
     "data": {
      "text/plain": [
       "<IPython.core.display.HTML object>"
      ],
      "text/html": [
       "<p><b>DEBUG</b>: Processing train file: photo no checkersboard (2)_aug_5.jpg</p>"
      ]
     },
     "metadata": {},
     "output_type": "display_data"
    },
    {
     "name": "stdout",
     "output_type": "stream",
     "text": [
      "Processing /home/_sergei/DataspellProjects/vein-segmentation/data/26/yolo_dataset/temp_masks/vein_train_0006_aug_06.png imgsz = 960 x 1280\n",
      "Processed and stored at /home/_sergei/DataspellProjects/vein-segmentation/data/26/yolo_dataset/labels/train/vein_train_0006_aug_06.txt imgsz = 960 x 1280\n"
     ]
    },
    {
     "data": {
      "text/plain": [
       "<IPython.core.display.HTML object>"
      ],
      "text/html": [
       "<p><b>DEBUG</b>: Processing train file: photo no checkersboard (2)_aug_6.jpg</p>"
      ]
     },
     "metadata": {},
     "output_type": "display_data"
    },
    {
     "name": "stdout",
     "output_type": "stream",
     "text": [
      "Processing /home/_sergei/DataspellProjects/vein-segmentation/data/26/yolo_dataset/temp_masks/vein_train_0006_aug_07.png imgsz = 960 x 1280\n",
      "Processed and stored at /home/_sergei/DataspellProjects/vein-segmentation/data/26/yolo_dataset/labels/train/vein_train_0006_aug_07.txt imgsz = 960 x 1280\n"
     ]
    },
    {
     "data": {
      "text/plain": [
       "<IPython.core.display.HTML object>"
      ],
      "text/html": [
       "<p><b>DEBUG</b>: Processing train file: photo no checkersboard (2)_aug_7.jpg</p>"
      ]
     },
     "metadata": {},
     "output_type": "display_data"
    },
    {
     "name": "stdout",
     "output_type": "stream",
     "text": [
      "Processing /home/_sergei/DataspellProjects/vein-segmentation/data/26/yolo_dataset/temp_masks/vein_train_0006_aug_08.png imgsz = 1280 x 960\n",
      "Processed and stored at /home/_sergei/DataspellProjects/vein-segmentation/data/26/yolo_dataset/labels/train/vein_train_0006_aug_08.txt imgsz = 1280 x 960\n"
     ]
    },
    {
     "data": {
      "text/plain": [
       "<IPython.core.display.HTML object>"
      ],
      "text/html": [
       "<p><b>DEBUG</b>: Processing train file: photo no checkersboard (2)_aug_8.jpg</p>"
      ]
     },
     "metadata": {},
     "output_type": "display_data"
    },
    {
     "name": "stdout",
     "output_type": "stream",
     "text": [
      "Processing /home/_sergei/DataspellProjects/vein-segmentation/data/26/yolo_dataset/temp_masks/vein_train_0006_aug_09.png imgsz = 1280 x 960\n",
      "Processed and stored at /home/_sergei/DataspellProjects/vein-segmentation/data/26/yolo_dataset/labels/train/vein_train_0006_aug_09.txt imgsz = 1280 x 960\n"
     ]
    },
    {
     "data": {
      "text/plain": [
       "<IPython.core.display.HTML object>"
      ],
      "text/html": [
       "<p><b>DEBUG</b>: Processing train file: photo no checkersboard (2)_aug_9.jpg</p>"
      ]
     },
     "metadata": {},
     "output_type": "display_data"
    },
    {
     "name": "stdout",
     "output_type": "stream",
     "text": [
      "Processing /home/_sergei/DataspellProjects/vein-segmentation/data/26/yolo_dataset/temp_masks/vein_train_0006_aug_10.png imgsz = 1280 x 960\n",
      "Processed and stored at /home/_sergei/DataspellProjects/vein-segmentation/data/26/yolo_dataset/labels/train/vein_train_0006_aug_10.txt imgsz = 1280 x 960\n"
     ]
    },
    {
     "data": {
      "text/plain": [
       "<IPython.core.display.HTML object>"
      ],
      "text/html": [
       "<p><b>DEBUG</b>: Processing train file: photo no checkersboard (8).jpg</p>"
      ]
     },
     "metadata": {},
     "output_type": "display_data"
    },
    {
     "name": "stdout",
     "output_type": "stream",
     "text": [
      "Processing /home/_sergei/DataspellProjects/vein-segmentation/data/26/yolo_dataset/temp_masks/vein_train_0007_aug_00.png imgsz = 725 x 546\n",
      "Processed and stored at /home/_sergei/DataspellProjects/vein-segmentation/data/26/yolo_dataset/labels/train/vein_train_0007_aug_00.txt imgsz = 725 x 546\n"
     ]
    },
    {
     "data": {
      "text/plain": [
       "<IPython.core.display.HTML object>"
      ],
      "text/html": [
       "<p><b>DEBUG</b>: Processing train file: photo no checkersboard (8)_aug_0.jpg</p>"
      ]
     },
     "metadata": {},
     "output_type": "display_data"
    },
    {
     "name": "stdout",
     "output_type": "stream",
     "text": [
      "Processing /home/_sergei/DataspellProjects/vein-segmentation/data/26/yolo_dataset/temp_masks/vein_train_0007_aug_01.png imgsz = 725 x 546\n",
      "Processed and stored at /home/_sergei/DataspellProjects/vein-segmentation/data/26/yolo_dataset/labels/train/vein_train_0007_aug_01.txt imgsz = 725 x 546\n"
     ]
    },
    {
     "data": {
      "text/plain": [
       "<IPython.core.display.HTML object>"
      ],
      "text/html": [
       "<p><b>DEBUG</b>: Processing train file: photo no checkersboard (8)_aug_1.jpg</p>"
      ]
     },
     "metadata": {},
     "output_type": "display_data"
    },
    {
     "name": "stdout",
     "output_type": "stream",
     "text": [
      "Processing /home/_sergei/DataspellProjects/vein-segmentation/data/26/yolo_dataset/temp_masks/vein_train_0007_aug_02.png imgsz = 1280 x 960\n",
      "Processed and stored at /home/_sergei/DataspellProjects/vein-segmentation/data/26/yolo_dataset/labels/train/vein_train_0007_aug_02.txt imgsz = 1280 x 960\n"
     ]
    },
    {
     "data": {
      "text/plain": [
       "<IPython.core.display.HTML object>"
      ],
      "text/html": [
       "<p><b>DEBUG</b>: Processing train file: photo no checkersboard (8)_aug_2.jpg</p>"
      ]
     },
     "metadata": {},
     "output_type": "display_data"
    },
    {
     "name": "stdout",
     "output_type": "stream",
     "text": [
      "Processing /home/_sergei/DataspellProjects/vein-segmentation/data/26/yolo_dataset/temp_masks/vein_train_0007_aug_03.png imgsz = 960 x 1280\n",
      "Processed and stored at /home/_sergei/DataspellProjects/vein-segmentation/data/26/yolo_dataset/labels/train/vein_train_0007_aug_03.txt imgsz = 960 x 1280\n"
     ]
    },
    {
     "data": {
      "text/plain": [
       "<IPython.core.display.HTML object>"
      ],
      "text/html": [
       "<p><b>DEBUG</b>: Processing train file: photo no checkersboard (8)_aug_3.jpg</p>"
      ]
     },
     "metadata": {},
     "output_type": "display_data"
    },
    {
     "name": "stdout",
     "output_type": "stream",
     "text": [
      "Processing /home/_sergei/DataspellProjects/vein-segmentation/data/26/yolo_dataset/temp_masks/vein_train_0007_aug_04.png imgsz = 1280 x 960\n",
      "Processed and stored at /home/_sergei/DataspellProjects/vein-segmentation/data/26/yolo_dataset/labels/train/vein_train_0007_aug_04.txt imgsz = 1280 x 960\n"
     ]
    },
    {
     "data": {
      "text/plain": [
       "<IPython.core.display.HTML object>"
      ],
      "text/html": [
       "<p><b>DEBUG</b>: Processing train file: photo no checkersboard (8)_aug_4.jpg</p>"
      ]
     },
     "metadata": {},
     "output_type": "display_data"
    },
    {
     "name": "stdout",
     "output_type": "stream",
     "text": [
      "Processing /home/_sergei/DataspellProjects/vein-segmentation/data/26/yolo_dataset/temp_masks/vein_train_0007_aug_05.png imgsz = 1280 x 960\n",
      "Processed and stored at /home/_sergei/DataspellProjects/vein-segmentation/data/26/yolo_dataset/labels/train/vein_train_0007_aug_05.txt imgsz = 1280 x 960\n"
     ]
    },
    {
     "data": {
      "text/plain": [
       "<IPython.core.display.HTML object>"
      ],
      "text/html": [
       "<p><b>DEBUG</b>: Processing train file: photo no checkersboard (8)_aug_5.jpg</p>"
      ]
     },
     "metadata": {},
     "output_type": "display_data"
    },
    {
     "name": "stdout",
     "output_type": "stream",
     "text": [
      "Processing /home/_sergei/DataspellProjects/vein-segmentation/data/26/yolo_dataset/temp_masks/vein_train_0007_aug_06.png imgsz = 1280 x 960\n",
      "Processed and stored at /home/_sergei/DataspellProjects/vein-segmentation/data/26/yolo_dataset/labels/train/vein_train_0007_aug_06.txt imgsz = 1280 x 960\n"
     ]
    },
    {
     "data": {
      "text/plain": [
       "<IPython.core.display.HTML object>"
      ],
      "text/html": [
       "<p><b>DEBUG</b>: Processing train file: photo no checkersboard (8)_aug_6.jpg</p>"
      ]
     },
     "metadata": {},
     "output_type": "display_data"
    },
    {
     "name": "stdout",
     "output_type": "stream",
     "text": [
      "Processing /home/_sergei/DataspellProjects/vein-segmentation/data/26/yolo_dataset/temp_masks/vein_train_0007_aug_07.png imgsz = 960 x 1280\n",
      "Processed and stored at /home/_sergei/DataspellProjects/vein-segmentation/data/26/yolo_dataset/labels/train/vein_train_0007_aug_07.txt imgsz = 960 x 1280\n"
     ]
    },
    {
     "data": {
      "text/plain": [
       "<IPython.core.display.HTML object>"
      ],
      "text/html": [
       "<p><b>DEBUG</b>: Processing train file: photo no checkersboard (8)_aug_7.jpg</p>"
      ]
     },
     "metadata": {},
     "output_type": "display_data"
    },
    {
     "name": "stdout",
     "output_type": "stream",
     "text": [
      "Processing /home/_sergei/DataspellProjects/vein-segmentation/data/26/yolo_dataset/temp_masks/vein_train_0007_aug_08.png imgsz = 1280 x 960\n",
      "Processed and stored at /home/_sergei/DataspellProjects/vein-segmentation/data/26/yolo_dataset/labels/train/vein_train_0007_aug_08.txt imgsz = 1280 x 960\n"
     ]
    },
    {
     "data": {
      "text/plain": [
       "<IPython.core.display.HTML object>"
      ],
      "text/html": [
       "<p><b>DEBUG</b>: Processing train file: photo no checkersboard (8)_aug_8.jpg</p>"
      ]
     },
     "metadata": {},
     "output_type": "display_data"
    },
    {
     "name": "stdout",
     "output_type": "stream",
     "text": [
      "Processing /home/_sergei/DataspellProjects/vein-segmentation/data/26/yolo_dataset/temp_masks/vein_train_0007_aug_09.png imgsz = 960 x 1280\n",
      "Processed and stored at /home/_sergei/DataspellProjects/vein-segmentation/data/26/yolo_dataset/labels/train/vein_train_0007_aug_09.txt imgsz = 960 x 1280\n"
     ]
    },
    {
     "data": {
      "text/plain": [
       "<IPython.core.display.HTML object>"
      ],
      "text/html": [
       "<p><b>DEBUG</b>: Processing train file: photo no checkersboard (8)_aug_9.jpg</p>"
      ]
     },
     "metadata": {},
     "output_type": "display_data"
    },
    {
     "name": "stdout",
     "output_type": "stream",
     "text": [
      "Processing /home/_sergei/DataspellProjects/vein-segmentation/data/26/yolo_dataset/temp_masks/vein_train_0007_aug_10.png imgsz = 960 x 1280\n",
      "Processed and stored at /home/_sergei/DataspellProjects/vein-segmentation/data/26/yolo_dataset/labels/train/vein_train_0007_aug_10.txt imgsz = 960 x 1280\n"
     ]
    },
    {
     "data": {
      "text/plain": [
       "<IPython.core.display.HTML object>"
      ],
      "text/html": [
       "<p><b>DEBUG</b>: Processing train file: photo no checkersboard (27).jpg</p>"
      ]
     },
     "metadata": {},
     "output_type": "display_data"
    },
    {
     "name": "stdout",
     "output_type": "stream",
     "text": [
      "Processing /home/_sergei/DataspellProjects/vein-segmentation/data/26/yolo_dataset/temp_masks/vein_train_0008_aug_00.png imgsz = 724 x 545\n",
      "Processed and stored at /home/_sergei/DataspellProjects/vein-segmentation/data/26/yolo_dataset/labels/train/vein_train_0008_aug_00.txt imgsz = 724 x 545\n"
     ]
    },
    {
     "data": {
      "text/plain": [
       "<IPython.core.display.HTML object>"
      ],
      "text/html": [
       "<p><b>DEBUG</b>: Processing train file: photo no checkersboard (27)_aug_0.jpg</p>"
      ]
     },
     "metadata": {},
     "output_type": "display_data"
    },
    {
     "name": "stdout",
     "output_type": "stream",
     "text": [
      "Processing /home/_sergei/DataspellProjects/vein-segmentation/data/26/yolo_dataset/temp_masks/vein_train_0008_aug_01.png imgsz = 724 x 545\n",
      "Processed and stored at /home/_sergei/DataspellProjects/vein-segmentation/data/26/yolo_dataset/labels/train/vein_train_0008_aug_01.txt imgsz = 724 x 545\n"
     ]
    },
    {
     "data": {
      "text/plain": [
       "<IPython.core.display.HTML object>"
      ],
      "text/html": [
       "<p><b>DEBUG</b>: Processing train file: photo no checkersboard (27)_aug_1.jpg</p>"
      ]
     },
     "metadata": {},
     "output_type": "display_data"
    },
    {
     "name": "stdout",
     "output_type": "stream",
     "text": [
      "Processing /home/_sergei/DataspellProjects/vein-segmentation/data/26/yolo_dataset/temp_masks/vein_train_0008_aug_02.png imgsz = 960 x 1280\n",
      "Processed and stored at /home/_sergei/DataspellProjects/vein-segmentation/data/26/yolo_dataset/labels/train/vein_train_0008_aug_02.txt imgsz = 960 x 1280\n"
     ]
    },
    {
     "data": {
      "text/plain": [
       "<IPython.core.display.HTML object>"
      ],
      "text/html": [
       "<p><b>DEBUG</b>: Processing train file: photo no checkersboard (27)_aug_2.jpg</p>"
      ]
     },
     "metadata": {},
     "output_type": "display_data"
    },
    {
     "name": "stdout",
     "output_type": "stream",
     "text": [
      "Processing /home/_sergei/DataspellProjects/vein-segmentation/data/26/yolo_dataset/temp_masks/vein_train_0008_aug_03.png imgsz = 960 x 1280\n",
      "Processed and stored at /home/_sergei/DataspellProjects/vein-segmentation/data/26/yolo_dataset/labels/train/vein_train_0008_aug_03.txt imgsz = 960 x 1280\n"
     ]
    },
    {
     "data": {
      "text/plain": [
       "<IPython.core.display.HTML object>"
      ],
      "text/html": [
       "<p><b>DEBUG</b>: Processing train file: photo no checkersboard (27)_aug_3.jpg</p>"
      ]
     },
     "metadata": {},
     "output_type": "display_data"
    },
    {
     "name": "stdout",
     "output_type": "stream",
     "text": [
      "Processing /home/_sergei/DataspellProjects/vein-segmentation/data/26/yolo_dataset/temp_masks/vein_train_0008_aug_04.png imgsz = 960 x 1280\n",
      "Processed and stored at /home/_sergei/DataspellProjects/vein-segmentation/data/26/yolo_dataset/labels/train/vein_train_0008_aug_04.txt imgsz = 960 x 1280\n"
     ]
    },
    {
     "data": {
      "text/plain": [
       "<IPython.core.display.HTML object>"
      ],
      "text/html": [
       "<p><b>DEBUG</b>: Processing train file: photo no checkersboard (27)_aug_4.jpg</p>"
      ]
     },
     "metadata": {},
     "output_type": "display_data"
    },
    {
     "name": "stdout",
     "output_type": "stream",
     "text": [
      "Processing /home/_sergei/DataspellProjects/vein-segmentation/data/26/yolo_dataset/temp_masks/vein_train_0008_aug_05.png imgsz = 1280 x 960\n",
      "Processed and stored at /home/_sergei/DataspellProjects/vein-segmentation/data/26/yolo_dataset/labels/train/vein_train_0008_aug_05.txt imgsz = 1280 x 960\n"
     ]
    },
    {
     "data": {
      "text/plain": [
       "<IPython.core.display.HTML object>"
      ],
      "text/html": [
       "<p><b>DEBUG</b>: Processing train file: photo no checkersboard (27)_aug_5.jpg</p>"
      ]
     },
     "metadata": {},
     "output_type": "display_data"
    },
    {
     "name": "stdout",
     "output_type": "stream",
     "text": [
      "Processing /home/_sergei/DataspellProjects/vein-segmentation/data/26/yolo_dataset/temp_masks/vein_train_0008_aug_06.png imgsz = 960 x 1280\n",
      "Processed and stored at /home/_sergei/DataspellProjects/vein-segmentation/data/26/yolo_dataset/labels/train/vein_train_0008_aug_06.txt imgsz = 960 x 1280\n"
     ]
    },
    {
     "data": {
      "text/plain": [
       "<IPython.core.display.HTML object>"
      ],
      "text/html": [
       "<p><b>DEBUG</b>: Processing train file: photo no checkersboard (27)_aug_6.jpg</p>"
      ]
     },
     "metadata": {},
     "output_type": "display_data"
    },
    {
     "name": "stdout",
     "output_type": "stream",
     "text": [
      "Processing /home/_sergei/DataspellProjects/vein-segmentation/data/26/yolo_dataset/temp_masks/vein_train_0008_aug_07.png imgsz = 1280 x 960\n",
      "Processed and stored at /home/_sergei/DataspellProjects/vein-segmentation/data/26/yolo_dataset/labels/train/vein_train_0008_aug_07.txt imgsz = 1280 x 960\n"
     ]
    },
    {
     "data": {
      "text/plain": [
       "<IPython.core.display.HTML object>"
      ],
      "text/html": [
       "<p><b>DEBUG</b>: Processing train file: photo no checkersboard (27)_aug_7.jpg</p>"
      ]
     },
     "metadata": {},
     "output_type": "display_data"
    },
    {
     "name": "stdout",
     "output_type": "stream",
     "text": [
      "Processing /home/_sergei/DataspellProjects/vein-segmentation/data/26/yolo_dataset/temp_masks/vein_train_0008_aug_08.png imgsz = 960 x 1280\n",
      "Processed and stored at /home/_sergei/DataspellProjects/vein-segmentation/data/26/yolo_dataset/labels/train/vein_train_0008_aug_08.txt imgsz = 960 x 1280\n"
     ]
    },
    {
     "data": {
      "text/plain": [
       "<IPython.core.display.HTML object>"
      ],
      "text/html": [
       "<p><b>DEBUG</b>: Processing train file: photo no checkersboard (27)_aug_8.jpg</p>"
      ]
     },
     "metadata": {},
     "output_type": "display_data"
    },
    {
     "name": "stdout",
     "output_type": "stream",
     "text": [
      "Processing /home/_sergei/DataspellProjects/vein-segmentation/data/26/yolo_dataset/temp_masks/vein_train_0008_aug_09.png imgsz = 1280 x 960\n",
      "Processed and stored at /home/_sergei/DataspellProjects/vein-segmentation/data/26/yolo_dataset/labels/train/vein_train_0008_aug_09.txt imgsz = 1280 x 960\n"
     ]
    },
    {
     "data": {
      "text/plain": [
       "<IPython.core.display.HTML object>"
      ],
      "text/html": [
       "<p><b>DEBUG</b>: Processing train file: photo no checkersboard (27)_aug_9.jpg</p>"
      ]
     },
     "metadata": {},
     "output_type": "display_data"
    },
    {
     "name": "stdout",
     "output_type": "stream",
     "text": [
      "Processing /home/_sergei/DataspellProjects/vein-segmentation/data/26/yolo_dataset/temp_masks/vein_train_0008_aug_10.png imgsz = 960 x 1280\n",
      "Processed and stored at /home/_sergei/DataspellProjects/vein-segmentation/data/26/yolo_dataset/labels/train/vein_train_0008_aug_10.txt imgsz = 960 x 1280\n"
     ]
    },
    {
     "data": {
      "text/plain": [
       "<IPython.core.display.HTML object>"
      ],
      "text/html": [
       "<p><b>DEBUG</b>: Processing train file: photo no checkersboard (10).jpg</p>"
      ]
     },
     "metadata": {},
     "output_type": "display_data"
    },
    {
     "name": "stdout",
     "output_type": "stream",
     "text": [
      "Processing /home/_sergei/DataspellProjects/vein-segmentation/data/26/yolo_dataset/temp_masks/vein_train_0009_aug_00.png imgsz = 725 x 544\n",
      "Processed and stored at /home/_sergei/DataspellProjects/vein-segmentation/data/26/yolo_dataset/labels/train/vein_train_0009_aug_00.txt imgsz = 725 x 544\n"
     ]
    },
    {
     "data": {
      "text/plain": [
       "<IPython.core.display.HTML object>"
      ],
      "text/html": [
       "<p><b>DEBUG</b>: Processing train file: photo no checkersboard (10)_aug_0.jpg</p>"
      ]
     },
     "metadata": {},
     "output_type": "display_data"
    },
    {
     "name": "stdout",
     "output_type": "stream",
     "text": [
      "Processing /home/_sergei/DataspellProjects/vein-segmentation/data/26/yolo_dataset/temp_masks/vein_train_0009_aug_01.png imgsz = 725 x 544\n",
      "Processed and stored at /home/_sergei/DataspellProjects/vein-segmentation/data/26/yolo_dataset/labels/train/vein_train_0009_aug_01.txt imgsz = 725 x 544\n"
     ]
    },
    {
     "data": {
      "text/plain": [
       "<IPython.core.display.HTML object>"
      ],
      "text/html": [
       "<p><b>DEBUG</b>: Processing train file: photo no checkersboard (10)_aug_1.jpg</p>"
      ]
     },
     "metadata": {},
     "output_type": "display_data"
    },
    {
     "name": "stdout",
     "output_type": "stream",
     "text": [
      "Processing /home/_sergei/DataspellProjects/vein-segmentation/data/26/yolo_dataset/temp_masks/vein_train_0009_aug_02.png imgsz = 1280 x 960\n",
      "Processed and stored at /home/_sergei/DataspellProjects/vein-segmentation/data/26/yolo_dataset/labels/train/vein_train_0009_aug_02.txt imgsz = 1280 x 960\n"
     ]
    },
    {
     "data": {
      "text/plain": [
       "<IPython.core.display.HTML object>"
      ],
      "text/html": [
       "<p><b>DEBUG</b>: Processing train file: photo no checkersboard (10)_aug_2.jpg</p>"
      ]
     },
     "metadata": {},
     "output_type": "display_data"
    },
    {
     "name": "stdout",
     "output_type": "stream",
     "text": [
      "Processing /home/_sergei/DataspellProjects/vein-segmentation/data/26/yolo_dataset/temp_masks/vein_train_0009_aug_03.png imgsz = 960 x 1280\n",
      "Processed and stored at /home/_sergei/DataspellProjects/vein-segmentation/data/26/yolo_dataset/labels/train/vein_train_0009_aug_03.txt imgsz = 960 x 1280\n"
     ]
    },
    {
     "data": {
      "text/plain": [
       "<IPython.core.display.HTML object>"
      ],
      "text/html": [
       "<p><b>DEBUG</b>: Processing train file: photo no checkersboard (10)_aug_3.jpg</p>"
      ]
     },
     "metadata": {},
     "output_type": "display_data"
    },
    {
     "name": "stdout",
     "output_type": "stream",
     "text": [
      "Processing /home/_sergei/DataspellProjects/vein-segmentation/data/26/yolo_dataset/temp_masks/vein_train_0009_aug_04.png imgsz = 960 x 1280\n",
      "Processed and stored at /home/_sergei/DataspellProjects/vein-segmentation/data/26/yolo_dataset/labels/train/vein_train_0009_aug_04.txt imgsz = 960 x 1280\n"
     ]
    },
    {
     "data": {
      "text/plain": [
       "<IPython.core.display.HTML object>"
      ],
      "text/html": [
       "<p><b>DEBUG</b>: Processing train file: photo no checkersboard (10)_aug_4.jpg</p>"
      ]
     },
     "metadata": {},
     "output_type": "display_data"
    },
    {
     "name": "stdout",
     "output_type": "stream",
     "text": [
      "Processing /home/_sergei/DataspellProjects/vein-segmentation/data/26/yolo_dataset/temp_masks/vein_train_0009_aug_05.png imgsz = 960 x 1280\n",
      "Processed and stored at /home/_sergei/DataspellProjects/vein-segmentation/data/26/yolo_dataset/labels/train/vein_train_0009_aug_05.txt imgsz = 960 x 1280\n"
     ]
    },
    {
     "data": {
      "text/plain": [
       "<IPython.core.display.HTML object>"
      ],
      "text/html": [
       "<p><b>DEBUG</b>: Processing train file: photo no checkersboard (10)_aug_5.jpg</p>"
      ]
     },
     "metadata": {},
     "output_type": "display_data"
    },
    {
     "name": "stdout",
     "output_type": "stream",
     "text": [
      "Processing /home/_sergei/DataspellProjects/vein-segmentation/data/26/yolo_dataset/temp_masks/vein_train_0009_aug_06.png imgsz = 1280 x 960\n",
      "Processed and stored at /home/_sergei/DataspellProjects/vein-segmentation/data/26/yolo_dataset/labels/train/vein_train_0009_aug_06.txt imgsz = 1280 x 960\n"
     ]
    },
    {
     "data": {
      "text/plain": [
       "<IPython.core.display.HTML object>"
      ],
      "text/html": [
       "<p><b>DEBUG</b>: Processing train file: photo no checkersboard (10)_aug_6.jpg</p>"
      ]
     },
     "metadata": {},
     "output_type": "display_data"
    },
    {
     "name": "stdout",
     "output_type": "stream",
     "text": [
      "Processing /home/_sergei/DataspellProjects/vein-segmentation/data/26/yolo_dataset/temp_masks/vein_train_0009_aug_07.png imgsz = 1280 x 960\n",
      "Processed and stored at /home/_sergei/DataspellProjects/vein-segmentation/data/26/yolo_dataset/labels/train/vein_train_0009_aug_07.txt imgsz = 1280 x 960\n"
     ]
    },
    {
     "data": {
      "text/plain": [
       "<IPython.core.display.HTML object>"
      ],
      "text/html": [
       "<p><b>DEBUG</b>: Processing train file: photo no checkersboard (10)_aug_7.jpg</p>"
      ]
     },
     "metadata": {},
     "output_type": "display_data"
    },
    {
     "name": "stdout",
     "output_type": "stream",
     "text": [
      "Processing /home/_sergei/DataspellProjects/vein-segmentation/data/26/yolo_dataset/temp_masks/vein_train_0009_aug_08.png imgsz = 1280 x 960\n",
      "Processed and stored at /home/_sergei/DataspellProjects/vein-segmentation/data/26/yolo_dataset/labels/train/vein_train_0009_aug_08.txt imgsz = 1280 x 960\n"
     ]
    },
    {
     "data": {
      "text/plain": [
       "<IPython.core.display.HTML object>"
      ],
      "text/html": [
       "<p><b>DEBUG</b>: Processing train file: photo no checkersboard (10)_aug_8.jpg</p>"
      ]
     },
     "metadata": {},
     "output_type": "display_data"
    },
    {
     "name": "stdout",
     "output_type": "stream",
     "text": [
      "Processing /home/_sergei/DataspellProjects/vein-segmentation/data/26/yolo_dataset/temp_masks/vein_train_0009_aug_09.png imgsz = 960 x 1280\n",
      "Processed and stored at /home/_sergei/DataspellProjects/vein-segmentation/data/26/yolo_dataset/labels/train/vein_train_0009_aug_09.txt imgsz = 960 x 1280\n"
     ]
    },
    {
     "data": {
      "text/plain": [
       "<IPython.core.display.HTML object>"
      ],
      "text/html": [
       "<p><b>DEBUG</b>: Processing train file: photo no checkersboard (10)_aug_9.jpg</p>"
      ]
     },
     "metadata": {},
     "output_type": "display_data"
    },
    {
     "name": "stdout",
     "output_type": "stream",
     "text": [
      "Processing /home/_sergei/DataspellProjects/vein-segmentation/data/26/yolo_dataset/temp_masks/vein_train_0009_aug_10.png imgsz = 960 x 1280\n",
      "Processed and stored at /home/_sergei/DataspellProjects/vein-segmentation/data/26/yolo_dataset/labels/train/vein_train_0009_aug_10.txt imgsz = 960 x 1280\n"
     ]
    },
    {
     "data": {
      "text/plain": [
       "<IPython.core.display.HTML object>"
      ],
      "text/html": [
       "<p><b>DEBUG</b>: Processing train file: photo no checkersboard (23).jpg</p>"
      ]
     },
     "metadata": {},
     "output_type": "display_data"
    },
    {
     "name": "stdout",
     "output_type": "stream",
     "text": [
      "Processing /home/_sergei/DataspellProjects/vein-segmentation/data/26/yolo_dataset/temp_masks/vein_train_0010_aug_00.png imgsz = 724 x 543\n",
      "Processed and stored at /home/_sergei/DataspellProjects/vein-segmentation/data/26/yolo_dataset/labels/train/vein_train_0010_aug_00.txt imgsz = 724 x 543\n"
     ]
    },
    {
     "data": {
      "text/plain": [
       "<IPython.core.display.HTML object>"
      ],
      "text/html": [
       "<p><b>DEBUG</b>: Processing train file: photo no checkersboard (23)_aug_0.jpg</p>"
      ]
     },
     "metadata": {},
     "output_type": "display_data"
    },
    {
     "name": "stdout",
     "output_type": "stream",
     "text": [
      "Processing /home/_sergei/DataspellProjects/vein-segmentation/data/26/yolo_dataset/temp_masks/vein_train_0010_aug_01.png imgsz = 724 x 543\n",
      "Processed and stored at /home/_sergei/DataspellProjects/vein-segmentation/data/26/yolo_dataset/labels/train/vein_train_0010_aug_01.txt imgsz = 724 x 543\n"
     ]
    },
    {
     "data": {
      "text/plain": [
       "<IPython.core.display.HTML object>"
      ],
      "text/html": [
       "<p><b>DEBUG</b>: Processing train file: photo no checkersboard (23)_aug_1.jpg</p>"
      ]
     },
     "metadata": {},
     "output_type": "display_data"
    },
    {
     "name": "stdout",
     "output_type": "stream",
     "text": [
      "Processing /home/_sergei/DataspellProjects/vein-segmentation/data/26/yolo_dataset/temp_masks/vein_train_0010_aug_02.png imgsz = 960 x 1280\n",
      "Processed and stored at /home/_sergei/DataspellProjects/vein-segmentation/data/26/yolo_dataset/labels/train/vein_train_0010_aug_02.txt imgsz = 960 x 1280\n"
     ]
    },
    {
     "data": {
      "text/plain": [
       "<IPython.core.display.HTML object>"
      ],
      "text/html": [
       "<p><b>DEBUG</b>: Processing train file: photo no checkersboard (23)_aug_2.jpg</p>"
      ]
     },
     "metadata": {},
     "output_type": "display_data"
    },
    {
     "name": "stdout",
     "output_type": "stream",
     "text": [
      "Processing /home/_sergei/DataspellProjects/vein-segmentation/data/26/yolo_dataset/temp_masks/vein_train_0010_aug_03.png imgsz = 960 x 1280\n",
      "Processed and stored at /home/_sergei/DataspellProjects/vein-segmentation/data/26/yolo_dataset/labels/train/vein_train_0010_aug_03.txt imgsz = 960 x 1280\n"
     ]
    },
    {
     "data": {
      "text/plain": [
       "<IPython.core.display.HTML object>"
      ],
      "text/html": [
       "<p><b>DEBUG</b>: Processing train file: photo no checkersboard (23)_aug_3.jpg</p>"
      ]
     },
     "metadata": {},
     "output_type": "display_data"
    },
    {
     "name": "stdout",
     "output_type": "stream",
     "text": [
      "Processing /home/_sergei/DataspellProjects/vein-segmentation/data/26/yolo_dataset/temp_masks/vein_train_0010_aug_04.png imgsz = 1280 x 960\n",
      "Processed and stored at /home/_sergei/DataspellProjects/vein-segmentation/data/26/yolo_dataset/labels/train/vein_train_0010_aug_04.txt imgsz = 1280 x 960\n"
     ]
    },
    {
     "data": {
      "text/plain": [
       "<IPython.core.display.HTML object>"
      ],
      "text/html": [
       "<p><b>DEBUG</b>: Processing train file: photo no checkersboard (23)_aug_4.jpg</p>"
      ]
     },
     "metadata": {},
     "output_type": "display_data"
    },
    {
     "name": "stdout",
     "output_type": "stream",
     "text": [
      "Processing /home/_sergei/DataspellProjects/vein-segmentation/data/26/yolo_dataset/temp_masks/vein_train_0010_aug_05.png imgsz = 1280 x 960\n",
      "Processed and stored at /home/_sergei/DataspellProjects/vein-segmentation/data/26/yolo_dataset/labels/train/vein_train_0010_aug_05.txt imgsz = 1280 x 960\n"
     ]
    },
    {
     "data": {
      "text/plain": [
       "<IPython.core.display.HTML object>"
      ],
      "text/html": [
       "<p><b>DEBUG</b>: Processing train file: photo no checkersboard (23)_aug_5.jpg</p>"
      ]
     },
     "metadata": {},
     "output_type": "display_data"
    },
    {
     "name": "stdout",
     "output_type": "stream",
     "text": [
      "Processing /home/_sergei/DataspellProjects/vein-segmentation/data/26/yolo_dataset/temp_masks/vein_train_0010_aug_06.png imgsz = 960 x 1280\n",
      "Processed and stored at /home/_sergei/DataspellProjects/vein-segmentation/data/26/yolo_dataset/labels/train/vein_train_0010_aug_06.txt imgsz = 960 x 1280\n"
     ]
    },
    {
     "data": {
      "text/plain": [
       "<IPython.core.display.HTML object>"
      ],
      "text/html": [
       "<p><b>DEBUG</b>: Processing train file: photo no checkersboard (23)_aug_6.jpg</p>"
      ]
     },
     "metadata": {},
     "output_type": "display_data"
    },
    {
     "name": "stdout",
     "output_type": "stream",
     "text": [
      "Processing /home/_sergei/DataspellProjects/vein-segmentation/data/26/yolo_dataset/temp_masks/vein_train_0010_aug_07.png imgsz = 1280 x 960\n",
      "Processed and stored at /home/_sergei/DataspellProjects/vein-segmentation/data/26/yolo_dataset/labels/train/vein_train_0010_aug_07.txt imgsz = 1280 x 960\n"
     ]
    },
    {
     "data": {
      "text/plain": [
       "<IPython.core.display.HTML object>"
      ],
      "text/html": [
       "<p><b>DEBUG</b>: Processing train file: photo no checkersboard (23)_aug_7.jpg</p>"
      ]
     },
     "metadata": {},
     "output_type": "display_data"
    },
    {
     "name": "stdout",
     "output_type": "stream",
     "text": [
      "Processing /home/_sergei/DataspellProjects/vein-segmentation/data/26/yolo_dataset/temp_masks/vein_train_0010_aug_08.png imgsz = 960 x 1280\n",
      "Processed and stored at /home/_sergei/DataspellProjects/vein-segmentation/data/26/yolo_dataset/labels/train/vein_train_0010_aug_08.txt imgsz = 960 x 1280\n"
     ]
    },
    {
     "data": {
      "text/plain": [
       "<IPython.core.display.HTML object>"
      ],
      "text/html": [
       "<p><b>DEBUG</b>: Processing train file: photo no checkersboard (23)_aug_8.jpg</p>"
      ]
     },
     "metadata": {},
     "output_type": "display_data"
    },
    {
     "name": "stdout",
     "output_type": "stream",
     "text": [
      "Processing /home/_sergei/DataspellProjects/vein-segmentation/data/26/yolo_dataset/temp_masks/vein_train_0010_aug_09.png imgsz = 960 x 1280\n",
      "Processed and stored at /home/_sergei/DataspellProjects/vein-segmentation/data/26/yolo_dataset/labels/train/vein_train_0010_aug_09.txt imgsz = 960 x 1280\n"
     ]
    },
    {
     "data": {
      "text/plain": [
       "<IPython.core.display.HTML object>"
      ],
      "text/html": [
       "<p><b>DEBUG</b>: Processing train file: photo no checkersboard (23)_aug_9.jpg</p>"
      ]
     },
     "metadata": {},
     "output_type": "display_data"
    },
    {
     "name": "stdout",
     "output_type": "stream",
     "text": [
      "Processing /home/_sergei/DataspellProjects/vein-segmentation/data/26/yolo_dataset/temp_masks/vein_train_0010_aug_10.png imgsz = 1280 x 960\n",
      "Processed and stored at /home/_sergei/DataspellProjects/vein-segmentation/data/26/yolo_dataset/labels/train/vein_train_0010_aug_10.txt imgsz = 1280 x 960\n"
     ]
    },
    {
     "data": {
      "text/plain": [
       "<IPython.core.display.HTML object>"
      ],
      "text/html": [
       "<p><b>DEBUG</b>: Processing train file: photo no checkersboard (21).jpg</p>"
      ]
     },
     "metadata": {},
     "output_type": "display_data"
    },
    {
     "name": "stdout",
     "output_type": "stream",
     "text": [
      "Processing /home/_sergei/DataspellProjects/vein-segmentation/data/26/yolo_dataset/temp_masks/vein_train_0011_aug_00.png imgsz = 724 x 545\n",
      "Processed and stored at /home/_sergei/DataspellProjects/vein-segmentation/data/26/yolo_dataset/labels/train/vein_train_0011_aug_00.txt imgsz = 724 x 545\n"
     ]
    },
    {
     "data": {
      "text/plain": [
       "<IPython.core.display.HTML object>"
      ],
      "text/html": [
       "<p><b>DEBUG</b>: Processing train file: photo no checkersboard (21)_aug_0.jpg</p>"
      ]
     },
     "metadata": {},
     "output_type": "display_data"
    },
    {
     "name": "stdout",
     "output_type": "stream",
     "text": [
      "Processing /home/_sergei/DataspellProjects/vein-segmentation/data/26/yolo_dataset/temp_masks/vein_train_0011_aug_01.png imgsz = 724 x 545\n",
      "Processed and stored at /home/_sergei/DataspellProjects/vein-segmentation/data/26/yolo_dataset/labels/train/vein_train_0011_aug_01.txt imgsz = 724 x 545\n"
     ]
    },
    {
     "data": {
      "text/plain": [
       "<IPython.core.display.HTML object>"
      ],
      "text/html": [
       "<p><b>DEBUG</b>: Processing train file: photo no checkersboard (21)_aug_1.jpg</p>"
      ]
     },
     "metadata": {},
     "output_type": "display_data"
    },
    {
     "name": "stdout",
     "output_type": "stream",
     "text": [
      "Processing /home/_sergei/DataspellProjects/vein-segmentation/data/26/yolo_dataset/temp_masks/vein_train_0011_aug_02.png imgsz = 1280 x 960\n",
      "Processed and stored at /home/_sergei/DataspellProjects/vein-segmentation/data/26/yolo_dataset/labels/train/vein_train_0011_aug_02.txt imgsz = 1280 x 960\n"
     ]
    },
    {
     "data": {
      "text/plain": [
       "<IPython.core.display.HTML object>"
      ],
      "text/html": [
       "<p><b>DEBUG</b>: Processing train file: photo no checkersboard (21)_aug_2.jpg</p>"
      ]
     },
     "metadata": {},
     "output_type": "display_data"
    },
    {
     "name": "stdout",
     "output_type": "stream",
     "text": [
      "Processing /home/_sergei/DataspellProjects/vein-segmentation/data/26/yolo_dataset/temp_masks/vein_train_0011_aug_03.png imgsz = 1280 x 960\n",
      "Processed and stored at /home/_sergei/DataspellProjects/vein-segmentation/data/26/yolo_dataset/labels/train/vein_train_0011_aug_03.txt imgsz = 1280 x 960\n"
     ]
    },
    {
     "data": {
      "text/plain": [
       "<IPython.core.display.HTML object>"
      ],
      "text/html": [
       "<p><b>DEBUG</b>: Processing train file: photo no checkersboard (21)_aug_3.jpg</p>"
      ]
     },
     "metadata": {},
     "output_type": "display_data"
    },
    {
     "name": "stdout",
     "output_type": "stream",
     "text": [
      "Processing /home/_sergei/DataspellProjects/vein-segmentation/data/26/yolo_dataset/temp_masks/vein_train_0011_aug_04.png imgsz = 1280 x 960\n",
      "Processed and stored at /home/_sergei/DataspellProjects/vein-segmentation/data/26/yolo_dataset/labels/train/vein_train_0011_aug_04.txt imgsz = 1280 x 960\n"
     ]
    },
    {
     "data": {
      "text/plain": [
       "<IPython.core.display.HTML object>"
      ],
      "text/html": [
       "<p><b>DEBUG</b>: Processing train file: photo no checkersboard (21)_aug_4.jpg</p>"
      ]
     },
     "metadata": {},
     "output_type": "display_data"
    },
    {
     "name": "stdout",
     "output_type": "stream",
     "text": [
      "Processing /home/_sergei/DataspellProjects/vein-segmentation/data/26/yolo_dataset/temp_masks/vein_train_0011_aug_05.png imgsz = 960 x 1280\n",
      "Processed and stored at /home/_sergei/DataspellProjects/vein-segmentation/data/26/yolo_dataset/labels/train/vein_train_0011_aug_05.txt imgsz = 960 x 1280\n"
     ]
    },
    {
     "data": {
      "text/plain": [
       "<IPython.core.display.HTML object>"
      ],
      "text/html": [
       "<p><b>DEBUG</b>: Processing train file: photo no checkersboard (21)_aug_5.jpg</p>"
      ]
     },
     "metadata": {},
     "output_type": "display_data"
    },
    {
     "name": "stdout",
     "output_type": "stream",
     "text": [
      "Processing /home/_sergei/DataspellProjects/vein-segmentation/data/26/yolo_dataset/temp_masks/vein_train_0011_aug_06.png imgsz = 1280 x 960\n",
      "Processed and stored at /home/_sergei/DataspellProjects/vein-segmentation/data/26/yolo_dataset/labels/train/vein_train_0011_aug_06.txt imgsz = 1280 x 960\n"
     ]
    },
    {
     "data": {
      "text/plain": [
       "<IPython.core.display.HTML object>"
      ],
      "text/html": [
       "<p><b>DEBUG</b>: Processing train file: photo no checkersboard (21)_aug_6.jpg</p>"
      ]
     },
     "metadata": {},
     "output_type": "display_data"
    },
    {
     "name": "stdout",
     "output_type": "stream",
     "text": [
      "Processing /home/_sergei/DataspellProjects/vein-segmentation/data/26/yolo_dataset/temp_masks/vein_train_0011_aug_07.png imgsz = 960 x 1280\n",
      "Processed and stored at /home/_sergei/DataspellProjects/vein-segmentation/data/26/yolo_dataset/labels/train/vein_train_0011_aug_07.txt imgsz = 960 x 1280\n"
     ]
    },
    {
     "data": {
      "text/plain": [
       "<IPython.core.display.HTML object>"
      ],
      "text/html": [
       "<p><b>DEBUG</b>: Processing train file: photo no checkersboard (21)_aug_7.jpg</p>"
      ]
     },
     "metadata": {},
     "output_type": "display_data"
    },
    {
     "name": "stdout",
     "output_type": "stream",
     "text": [
      "Processing /home/_sergei/DataspellProjects/vein-segmentation/data/26/yolo_dataset/temp_masks/vein_train_0011_aug_08.png imgsz = 960 x 1280\n",
      "Processed and stored at /home/_sergei/DataspellProjects/vein-segmentation/data/26/yolo_dataset/labels/train/vein_train_0011_aug_08.txt imgsz = 960 x 1280\n"
     ]
    },
    {
     "data": {
      "text/plain": [
       "<IPython.core.display.HTML object>"
      ],
      "text/html": [
       "<p><b>DEBUG</b>: Processing train file: photo no checkersboard (21)_aug_8.jpg</p>"
      ]
     },
     "metadata": {},
     "output_type": "display_data"
    },
    {
     "name": "stdout",
     "output_type": "stream",
     "text": [
      "Processing /home/_sergei/DataspellProjects/vein-segmentation/data/26/yolo_dataset/temp_masks/vein_train_0011_aug_09.png imgsz = 960 x 1280\n",
      "Processed and stored at /home/_sergei/DataspellProjects/vein-segmentation/data/26/yolo_dataset/labels/train/vein_train_0011_aug_09.txt imgsz = 960 x 1280\n"
     ]
    },
    {
     "data": {
      "text/plain": [
       "<IPython.core.display.HTML object>"
      ],
      "text/html": [
       "<p><b>DEBUG</b>: Processing train file: photo no checkersboard (21)_aug_9.jpg</p>"
      ]
     },
     "metadata": {},
     "output_type": "display_data"
    },
    {
     "name": "stdout",
     "output_type": "stream",
     "text": [
      "Processing /home/_sergei/DataspellProjects/vein-segmentation/data/26/yolo_dataset/temp_masks/vein_train_0011_aug_10.png imgsz = 1280 x 960\n",
      "Processed and stored at /home/_sergei/DataspellProjects/vein-segmentation/data/26/yolo_dataset/labels/train/vein_train_0011_aug_10.txt imgsz = 1280 x 960\n"
     ]
    },
    {
     "data": {
      "text/plain": [
       "<IPython.core.display.HTML object>"
      ],
      "text/html": [
       "<p><b>DEBUG</b>: Processing train file: photo no checkersboard (40).jpg</p>"
      ]
     },
     "metadata": {},
     "output_type": "display_data"
    },
    {
     "name": "stdout",
     "output_type": "stream",
     "text": [
      "Processing /home/_sergei/DataspellProjects/vein-segmentation/data/26/yolo_dataset/temp_masks/vein_train_0012_aug_00.png imgsz = 724 x 545\n",
      "Processed and stored at /home/_sergei/DataspellProjects/vein-segmentation/data/26/yolo_dataset/labels/train/vein_train_0012_aug_00.txt imgsz = 724 x 545\n"
     ]
    },
    {
     "data": {
      "text/plain": [
       "<IPython.core.display.HTML object>"
      ],
      "text/html": [
       "<p><b>DEBUG</b>: Processing train file: photo no checkersboard (40)_aug_0.jpg</p>"
      ]
     },
     "metadata": {},
     "output_type": "display_data"
    },
    {
     "name": "stdout",
     "output_type": "stream",
     "text": [
      "Processing /home/_sergei/DataspellProjects/vein-segmentation/data/26/yolo_dataset/temp_masks/vein_train_0012_aug_01.png imgsz = 724 x 545\n",
      "Processed and stored at /home/_sergei/DataspellProjects/vein-segmentation/data/26/yolo_dataset/labels/train/vein_train_0012_aug_01.txt imgsz = 724 x 545\n"
     ]
    },
    {
     "data": {
      "text/plain": [
       "<IPython.core.display.HTML object>"
      ],
      "text/html": [
       "<p><b>DEBUG</b>: Processing train file: photo no checkersboard (40)_aug_1.jpg</p>"
      ]
     },
     "metadata": {},
     "output_type": "display_data"
    },
    {
     "name": "stdout",
     "output_type": "stream",
     "text": [
      "Processing /home/_sergei/DataspellProjects/vein-segmentation/data/26/yolo_dataset/temp_masks/vein_train_0012_aug_02.png imgsz = 960 x 1280\n",
      "Processed and stored at /home/_sergei/DataspellProjects/vein-segmentation/data/26/yolo_dataset/labels/train/vein_train_0012_aug_02.txt imgsz = 960 x 1280\n"
     ]
    },
    {
     "data": {
      "text/plain": [
       "<IPython.core.display.HTML object>"
      ],
      "text/html": [
       "<p><b>DEBUG</b>: Processing train file: photo no checkersboard (40)_aug_2.jpg</p>"
      ]
     },
     "metadata": {},
     "output_type": "display_data"
    },
    {
     "name": "stdout",
     "output_type": "stream",
     "text": [
      "Processing /home/_sergei/DataspellProjects/vein-segmentation/data/26/yolo_dataset/temp_masks/vein_train_0012_aug_03.png imgsz = 1280 x 960\n",
      "Processed and stored at /home/_sergei/DataspellProjects/vein-segmentation/data/26/yolo_dataset/labels/train/vein_train_0012_aug_03.txt imgsz = 1280 x 960\n"
     ]
    },
    {
     "data": {
      "text/plain": [
       "<IPython.core.display.HTML object>"
      ],
      "text/html": [
       "<p><b>DEBUG</b>: Processing train file: photo no checkersboard (40)_aug_3.jpg</p>"
      ]
     },
     "metadata": {},
     "output_type": "display_data"
    },
    {
     "name": "stdout",
     "output_type": "stream",
     "text": [
      "Processing /home/_sergei/DataspellProjects/vein-segmentation/data/26/yolo_dataset/temp_masks/vein_train_0012_aug_04.png imgsz = 1280 x 960\n",
      "Processed and stored at /home/_sergei/DataspellProjects/vein-segmentation/data/26/yolo_dataset/labels/train/vein_train_0012_aug_04.txt imgsz = 1280 x 960\n"
     ]
    },
    {
     "data": {
      "text/plain": [
       "<IPython.core.display.HTML object>"
      ],
      "text/html": [
       "<p><b>DEBUG</b>: Processing train file: photo no checkersboard (40)_aug_4.jpg</p>"
      ]
     },
     "metadata": {},
     "output_type": "display_data"
    },
    {
     "name": "stdout",
     "output_type": "stream",
     "text": [
      "Processing /home/_sergei/DataspellProjects/vein-segmentation/data/26/yolo_dataset/temp_masks/vein_train_0012_aug_05.png imgsz = 1280 x 960\n",
      "Processed and stored at /home/_sergei/DataspellProjects/vein-segmentation/data/26/yolo_dataset/labels/train/vein_train_0012_aug_05.txt imgsz = 1280 x 960\n"
     ]
    },
    {
     "data": {
      "text/plain": [
       "<IPython.core.display.HTML object>"
      ],
      "text/html": [
       "<p><b>DEBUG</b>: Processing train file: photo no checkersboard (40)_aug_5.jpg</p>"
      ]
     },
     "metadata": {},
     "output_type": "display_data"
    },
    {
     "name": "stdout",
     "output_type": "stream",
     "text": [
      "Processing /home/_sergei/DataspellProjects/vein-segmentation/data/26/yolo_dataset/temp_masks/vein_train_0012_aug_06.png imgsz = 1280 x 960\n",
      "Processed and stored at /home/_sergei/DataspellProjects/vein-segmentation/data/26/yolo_dataset/labels/train/vein_train_0012_aug_06.txt imgsz = 1280 x 960\n"
     ]
    },
    {
     "data": {
      "text/plain": [
       "<IPython.core.display.HTML object>"
      ],
      "text/html": [
       "<p><b>DEBUG</b>: Processing train file: photo no checkersboard (40)_aug_6.jpg</p>"
      ]
     },
     "metadata": {},
     "output_type": "display_data"
    },
    {
     "name": "stdout",
     "output_type": "stream",
     "text": [
      "Processing /home/_sergei/DataspellProjects/vein-segmentation/data/26/yolo_dataset/temp_masks/vein_train_0012_aug_07.png imgsz = 1280 x 960\n",
      "Processed and stored at /home/_sergei/DataspellProjects/vein-segmentation/data/26/yolo_dataset/labels/train/vein_train_0012_aug_07.txt imgsz = 1280 x 960\n"
     ]
    },
    {
     "data": {
      "text/plain": [
       "<IPython.core.display.HTML object>"
      ],
      "text/html": [
       "<p><b>DEBUG</b>: Processing train file: photo no checkersboard (40)_aug_7.jpg</p>"
      ]
     },
     "metadata": {},
     "output_type": "display_data"
    },
    {
     "name": "stdout",
     "output_type": "stream",
     "text": [
      "Processing /home/_sergei/DataspellProjects/vein-segmentation/data/26/yolo_dataset/temp_masks/vein_train_0012_aug_08.png imgsz = 1280 x 960\n",
      "Processed and stored at /home/_sergei/DataspellProjects/vein-segmentation/data/26/yolo_dataset/labels/train/vein_train_0012_aug_08.txt imgsz = 1280 x 960\n"
     ]
    },
    {
     "data": {
      "text/plain": [
       "<IPython.core.display.HTML object>"
      ],
      "text/html": [
       "<p><b>DEBUG</b>: Processing train file: photo no checkersboard (40)_aug_8.jpg</p>"
      ]
     },
     "metadata": {},
     "output_type": "display_data"
    },
    {
     "name": "stdout",
     "output_type": "stream",
     "text": [
      "Processing /home/_sergei/DataspellProjects/vein-segmentation/data/26/yolo_dataset/temp_masks/vein_train_0012_aug_09.png imgsz = 960 x 1280\n",
      "Processed and stored at /home/_sergei/DataspellProjects/vein-segmentation/data/26/yolo_dataset/labels/train/vein_train_0012_aug_09.txt imgsz = 960 x 1280\n"
     ]
    },
    {
     "data": {
      "text/plain": [
       "<IPython.core.display.HTML object>"
      ],
      "text/html": [
       "<p><b>DEBUG</b>: Processing train file: photo no checkersboard (40)_aug_9.jpg</p>"
      ]
     },
     "metadata": {},
     "output_type": "display_data"
    },
    {
     "name": "stdout",
     "output_type": "stream",
     "text": [
      "Processing /home/_sergei/DataspellProjects/vein-segmentation/data/26/yolo_dataset/temp_masks/vein_train_0012_aug_10.png imgsz = 1280 x 960\n",
      "Processed and stored at /home/_sergei/DataspellProjects/vein-segmentation/data/26/yolo_dataset/labels/train/vein_train_0012_aug_10.txt imgsz = 1280 x 960\n"
     ]
    },
    {
     "data": {
      "text/plain": [
       "<IPython.core.display.HTML object>"
      ],
      "text/html": [
       "<p><b>DEBUG</b>: Processing train file: photo no checkersboard (3).jpg</p>"
      ]
     },
     "metadata": {},
     "output_type": "display_data"
    },
    {
     "name": "stdout",
     "output_type": "stream",
     "text": [
      "Processing /home/_sergei/DataspellProjects/vein-segmentation/data/26/yolo_dataset/temp_masks/vein_train_0013_aug_00.png imgsz = 725 x 545\n",
      "Processed and stored at /home/_sergei/DataspellProjects/vein-segmentation/data/26/yolo_dataset/labels/train/vein_train_0013_aug_00.txt imgsz = 725 x 545\n"
     ]
    },
    {
     "data": {
      "text/plain": [
       "<IPython.core.display.HTML object>"
      ],
      "text/html": [
       "<p><b>DEBUG</b>: Processing train file: photo no checkersboard (3)_aug_0.jpg</p>"
      ]
     },
     "metadata": {},
     "output_type": "display_data"
    },
    {
     "name": "stdout",
     "output_type": "stream",
     "text": [
      "Processing /home/_sergei/DataspellProjects/vein-segmentation/data/26/yolo_dataset/temp_masks/vein_train_0013_aug_01.png imgsz = 725 x 545\n",
      "Processed and stored at /home/_sergei/DataspellProjects/vein-segmentation/data/26/yolo_dataset/labels/train/vein_train_0013_aug_01.txt imgsz = 725 x 545\n"
     ]
    },
    {
     "data": {
      "text/plain": [
       "<IPython.core.display.HTML object>"
      ],
      "text/html": [
       "<p><b>DEBUG</b>: Processing train file: photo no checkersboard (3)_aug_1.jpg</p>"
      ]
     },
     "metadata": {},
     "output_type": "display_data"
    },
    {
     "name": "stdout",
     "output_type": "stream",
     "text": [
      "Processing /home/_sergei/DataspellProjects/vein-segmentation/data/26/yolo_dataset/temp_masks/vein_train_0013_aug_02.png imgsz = 1280 x 960\n",
      "Processed and stored at /home/_sergei/DataspellProjects/vein-segmentation/data/26/yolo_dataset/labels/train/vein_train_0013_aug_02.txt imgsz = 1280 x 960\n"
     ]
    },
    {
     "data": {
      "text/plain": [
       "<IPython.core.display.HTML object>"
      ],
      "text/html": [
       "<p><b>DEBUG</b>: Processing train file: photo no checkersboard (3)_aug_2.jpg</p>"
      ]
     },
     "metadata": {},
     "output_type": "display_data"
    },
    {
     "name": "stdout",
     "output_type": "stream",
     "text": [
      "Processing /home/_sergei/DataspellProjects/vein-segmentation/data/26/yolo_dataset/temp_masks/vein_train_0013_aug_03.png imgsz = 960 x 1280\n",
      "Processed and stored at /home/_sergei/DataspellProjects/vein-segmentation/data/26/yolo_dataset/labels/train/vein_train_0013_aug_03.txt imgsz = 960 x 1280\n"
     ]
    },
    {
     "data": {
      "text/plain": [
       "<IPython.core.display.HTML object>"
      ],
      "text/html": [
       "<p><b>DEBUG</b>: Processing train file: photo no checkersboard (3)_aug_3.jpg</p>"
      ]
     },
     "metadata": {},
     "output_type": "display_data"
    },
    {
     "name": "stdout",
     "output_type": "stream",
     "text": [
      "Processing /home/_sergei/DataspellProjects/vein-segmentation/data/26/yolo_dataset/temp_masks/vein_train_0013_aug_04.png imgsz = 1280 x 960\n",
      "Processed and stored at /home/_sergei/DataspellProjects/vein-segmentation/data/26/yolo_dataset/labels/train/vein_train_0013_aug_04.txt imgsz = 1280 x 960\n"
     ]
    },
    {
     "data": {
      "text/plain": [
       "<IPython.core.display.HTML object>"
      ],
      "text/html": [
       "<p><b>DEBUG</b>: Processing train file: photo no checkersboard (3)_aug_4.jpg</p>"
      ]
     },
     "metadata": {},
     "output_type": "display_data"
    },
    {
     "name": "stdout",
     "output_type": "stream",
     "text": [
      "Processing /home/_sergei/DataspellProjects/vein-segmentation/data/26/yolo_dataset/temp_masks/vein_train_0013_aug_05.png imgsz = 960 x 1280\n",
      "Processed and stored at /home/_sergei/DataspellProjects/vein-segmentation/data/26/yolo_dataset/labels/train/vein_train_0013_aug_05.txt imgsz = 960 x 1280\n"
     ]
    },
    {
     "data": {
      "text/plain": [
       "<IPython.core.display.HTML object>"
      ],
      "text/html": [
       "<p><b>DEBUG</b>: Processing train file: photo no checkersboard (3)_aug_5.jpg</p>"
      ]
     },
     "metadata": {},
     "output_type": "display_data"
    },
    {
     "name": "stdout",
     "output_type": "stream",
     "text": [
      "Processing /home/_sergei/DataspellProjects/vein-segmentation/data/26/yolo_dataset/temp_masks/vein_train_0013_aug_06.png imgsz = 1280 x 960\n",
      "Processed and stored at /home/_sergei/DataspellProjects/vein-segmentation/data/26/yolo_dataset/labels/train/vein_train_0013_aug_06.txt imgsz = 1280 x 960\n"
     ]
    },
    {
     "data": {
      "text/plain": [
       "<IPython.core.display.HTML object>"
      ],
      "text/html": [
       "<p><b>DEBUG</b>: Processing train file: photo no checkersboard (3)_aug_6.jpg</p>"
      ]
     },
     "metadata": {},
     "output_type": "display_data"
    },
    {
     "name": "stdout",
     "output_type": "stream",
     "text": [
      "Processing /home/_sergei/DataspellProjects/vein-segmentation/data/26/yolo_dataset/temp_masks/vein_train_0013_aug_07.png imgsz = 960 x 1280\n",
      "Processed and stored at /home/_sergei/DataspellProjects/vein-segmentation/data/26/yolo_dataset/labels/train/vein_train_0013_aug_07.txt imgsz = 960 x 1280\n"
     ]
    },
    {
     "data": {
      "text/plain": [
       "<IPython.core.display.HTML object>"
      ],
      "text/html": [
       "<p><b>DEBUG</b>: Processing train file: photo no checkersboard (3)_aug_7.jpg</p>"
      ]
     },
     "metadata": {},
     "output_type": "display_data"
    },
    {
     "name": "stdout",
     "output_type": "stream",
     "text": [
      "Processing /home/_sergei/DataspellProjects/vein-segmentation/data/26/yolo_dataset/temp_masks/vein_train_0013_aug_08.png imgsz = 960 x 1280\n",
      "Processed and stored at /home/_sergei/DataspellProjects/vein-segmentation/data/26/yolo_dataset/labels/train/vein_train_0013_aug_08.txt imgsz = 960 x 1280\n"
     ]
    },
    {
     "data": {
      "text/plain": [
       "<IPython.core.display.HTML object>"
      ],
      "text/html": [
       "<p><b>DEBUG</b>: Processing train file: photo no checkersboard (3)_aug_8.jpg</p>"
      ]
     },
     "metadata": {},
     "output_type": "display_data"
    },
    {
     "name": "stdout",
     "output_type": "stream",
     "text": [
      "Processing /home/_sergei/DataspellProjects/vein-segmentation/data/26/yolo_dataset/temp_masks/vein_train_0013_aug_09.png imgsz = 1280 x 960\n",
      "Processed and stored at /home/_sergei/DataspellProjects/vein-segmentation/data/26/yolo_dataset/labels/train/vein_train_0013_aug_09.txt imgsz = 1280 x 960\n"
     ]
    },
    {
     "data": {
      "text/plain": [
       "<IPython.core.display.HTML object>"
      ],
      "text/html": [
       "<p><b>DEBUG</b>: Processing train file: photo no checkersboard (3)_aug_9.jpg</p>"
      ]
     },
     "metadata": {},
     "output_type": "display_data"
    },
    {
     "name": "stdout",
     "output_type": "stream",
     "text": [
      "Processing /home/_sergei/DataspellProjects/vein-segmentation/data/26/yolo_dataset/temp_masks/vein_train_0013_aug_10.png imgsz = 960 x 1280\n",
      "Processed and stored at /home/_sergei/DataspellProjects/vein-segmentation/data/26/yolo_dataset/labels/train/vein_train_0013_aug_10.txt imgsz = 960 x 1280\n"
     ]
    },
    {
     "data": {
      "text/plain": [
       "<IPython.core.display.HTML object>"
      ],
      "text/html": [
       "<p><b>DEBUG</b>: Processing train file: photo no checkersboard (6).jpg</p>"
      ]
     },
     "metadata": {},
     "output_type": "display_data"
    },
    {
     "name": "stdout",
     "output_type": "stream",
     "text": [
      "Processing /home/_sergei/DataspellProjects/vein-segmentation/data/26/yolo_dataset/temp_masks/vein_train_0014_aug_00.png imgsz = 725 x 546\n",
      "Processed and stored at /home/_sergei/DataspellProjects/vein-segmentation/data/26/yolo_dataset/labels/train/vein_train_0014_aug_00.txt imgsz = 725 x 546\n"
     ]
    },
    {
     "data": {
      "text/plain": [
       "<IPython.core.display.HTML object>"
      ],
      "text/html": [
       "<p><b>DEBUG</b>: Processing train file: photo no checkersboard (6)_aug_0.jpg</p>"
      ]
     },
     "metadata": {},
     "output_type": "display_data"
    },
    {
     "name": "stdout",
     "output_type": "stream",
     "text": [
      "Processing /home/_sergei/DataspellProjects/vein-segmentation/data/26/yolo_dataset/temp_masks/vein_train_0014_aug_01.png imgsz = 725 x 546\n",
      "Processed and stored at /home/_sergei/DataspellProjects/vein-segmentation/data/26/yolo_dataset/labels/train/vein_train_0014_aug_01.txt imgsz = 725 x 546\n"
     ]
    },
    {
     "data": {
      "text/plain": [
       "<IPython.core.display.HTML object>"
      ],
      "text/html": [
       "<p><b>DEBUG</b>: Processing train file: photo no checkersboard (6)_aug_1.jpg</p>"
      ]
     },
     "metadata": {},
     "output_type": "display_data"
    },
    {
     "name": "stdout",
     "output_type": "stream",
     "text": [
      "Processing /home/_sergei/DataspellProjects/vein-segmentation/data/26/yolo_dataset/temp_masks/vein_train_0014_aug_02.png imgsz = 960 x 1280\n",
      "Processed and stored at /home/_sergei/DataspellProjects/vein-segmentation/data/26/yolo_dataset/labels/train/vein_train_0014_aug_02.txt imgsz = 960 x 1280\n"
     ]
    },
    {
     "data": {
      "text/plain": [
       "<IPython.core.display.HTML object>"
      ],
      "text/html": [
       "<p><b>DEBUG</b>: Processing train file: photo no checkersboard (6)_aug_2.jpg</p>"
      ]
     },
     "metadata": {},
     "output_type": "display_data"
    },
    {
     "name": "stdout",
     "output_type": "stream",
     "text": [
      "Processing /home/_sergei/DataspellProjects/vein-segmentation/data/26/yolo_dataset/temp_masks/vein_train_0014_aug_03.png imgsz = 960 x 1280\n",
      "Processed and stored at /home/_sergei/DataspellProjects/vein-segmentation/data/26/yolo_dataset/labels/train/vein_train_0014_aug_03.txt imgsz = 960 x 1280\n"
     ]
    },
    {
     "data": {
      "text/plain": [
       "<IPython.core.display.HTML object>"
      ],
      "text/html": [
       "<p><b>DEBUG</b>: Processing train file: photo no checkersboard (6)_aug_3.jpg</p>"
      ]
     },
     "metadata": {},
     "output_type": "display_data"
    },
    {
     "name": "stdout",
     "output_type": "stream",
     "text": [
      "Processing /home/_sergei/DataspellProjects/vein-segmentation/data/26/yolo_dataset/temp_masks/vein_train_0014_aug_04.png imgsz = 960 x 1280\n",
      "Processed and stored at /home/_sergei/DataspellProjects/vein-segmentation/data/26/yolo_dataset/labels/train/vein_train_0014_aug_04.txt imgsz = 960 x 1280\n"
     ]
    },
    {
     "data": {
      "text/plain": [
       "<IPython.core.display.HTML object>"
      ],
      "text/html": [
       "<p><b>DEBUG</b>: Processing train file: photo no checkersboard (6)_aug_4.jpg</p>"
      ]
     },
     "metadata": {},
     "output_type": "display_data"
    },
    {
     "name": "stdout",
     "output_type": "stream",
     "text": [
      "Processing /home/_sergei/DataspellProjects/vein-segmentation/data/26/yolo_dataset/temp_masks/vein_train_0014_aug_05.png imgsz = 1280 x 960\n",
      "Processed and stored at /home/_sergei/DataspellProjects/vein-segmentation/data/26/yolo_dataset/labels/train/vein_train_0014_aug_05.txt imgsz = 1280 x 960\n"
     ]
    },
    {
     "data": {
      "text/plain": [
       "<IPython.core.display.HTML object>"
      ],
      "text/html": [
       "<p><b>DEBUG</b>: Processing train file: photo no checkersboard (6)_aug_5.jpg</p>"
      ]
     },
     "metadata": {},
     "output_type": "display_data"
    },
    {
     "name": "stdout",
     "output_type": "stream",
     "text": [
      "Processing /home/_sergei/DataspellProjects/vein-segmentation/data/26/yolo_dataset/temp_masks/vein_train_0014_aug_06.png imgsz = 1280 x 960\n",
      "Processed and stored at /home/_sergei/DataspellProjects/vein-segmentation/data/26/yolo_dataset/labels/train/vein_train_0014_aug_06.txt imgsz = 1280 x 960\n"
     ]
    },
    {
     "data": {
      "text/plain": [
       "<IPython.core.display.HTML object>"
      ],
      "text/html": [
       "<p><b>DEBUG</b>: Processing train file: photo no checkersboard (6)_aug_6.jpg</p>"
      ]
     },
     "metadata": {},
     "output_type": "display_data"
    },
    {
     "name": "stdout",
     "output_type": "stream",
     "text": [
      "Processing /home/_sergei/DataspellProjects/vein-segmentation/data/26/yolo_dataset/temp_masks/vein_train_0014_aug_07.png imgsz = 960 x 1280\n",
      "Processed and stored at /home/_sergei/DataspellProjects/vein-segmentation/data/26/yolo_dataset/labels/train/vein_train_0014_aug_07.txt imgsz = 960 x 1280\n"
     ]
    },
    {
     "data": {
      "text/plain": [
       "<IPython.core.display.HTML object>"
      ],
      "text/html": [
       "<p><b>DEBUG</b>: Processing train file: photo no checkersboard (6)_aug_7.jpg</p>"
      ]
     },
     "metadata": {},
     "output_type": "display_data"
    },
    {
     "name": "stdout",
     "output_type": "stream",
     "text": [
      "Processing /home/_sergei/DataspellProjects/vein-segmentation/data/26/yolo_dataset/temp_masks/vein_train_0014_aug_08.png imgsz = 1280 x 960\n",
      "Processed and stored at /home/_sergei/DataspellProjects/vein-segmentation/data/26/yolo_dataset/labels/train/vein_train_0014_aug_08.txt imgsz = 1280 x 960\n"
     ]
    },
    {
     "data": {
      "text/plain": [
       "<IPython.core.display.HTML object>"
      ],
      "text/html": [
       "<p><b>DEBUG</b>: Processing train file: photo no checkersboard (6)_aug_8.jpg</p>"
      ]
     },
     "metadata": {},
     "output_type": "display_data"
    },
    {
     "name": "stdout",
     "output_type": "stream",
     "text": [
      "Processing /home/_sergei/DataspellProjects/vein-segmentation/data/26/yolo_dataset/temp_masks/vein_train_0014_aug_09.png imgsz = 960 x 1280\n",
      "Processed and stored at /home/_sergei/DataspellProjects/vein-segmentation/data/26/yolo_dataset/labels/train/vein_train_0014_aug_09.txt imgsz = 960 x 1280\n"
     ]
    },
    {
     "data": {
      "text/plain": [
       "<IPython.core.display.HTML object>"
      ],
      "text/html": [
       "<p><b>DEBUG</b>: Processing train file: photo no checkersboard (6)_aug_9.jpg</p>"
      ]
     },
     "metadata": {},
     "output_type": "display_data"
    },
    {
     "name": "stdout",
     "output_type": "stream",
     "text": [
      "Processing /home/_sergei/DataspellProjects/vein-segmentation/data/26/yolo_dataset/temp_masks/vein_train_0014_aug_10.png imgsz = 960 x 1280\n",
      "Processed and stored at /home/_sergei/DataspellProjects/vein-segmentation/data/26/yolo_dataset/labels/train/vein_train_0014_aug_10.txt imgsz = 960 x 1280\n"
     ]
    },
    {
     "data": {
      "text/plain": [
       "<IPython.core.display.HTML object>"
      ],
      "text/html": [
       "<p><b>DEBUG</b>: Processing train file: photo no checkersboard (46).jpg</p>"
      ]
     },
     "metadata": {},
     "output_type": "display_data"
    },
    {
     "name": "stdout",
     "output_type": "stream",
     "text": [
      "Processing /home/_sergei/DataspellProjects/vein-segmentation/data/26/yolo_dataset/temp_masks/vein_train_0015_aug_00.png imgsz = 724 x 545\n",
      "Processed and stored at /home/_sergei/DataspellProjects/vein-segmentation/data/26/yolo_dataset/labels/train/vein_train_0015_aug_00.txt imgsz = 724 x 545\n"
     ]
    },
    {
     "data": {
      "text/plain": [
       "<IPython.core.display.HTML object>"
      ],
      "text/html": [
       "<p><b>DEBUG</b>: Processing train file: photo no checkersboard (46)_aug_0.jpg</p>"
      ]
     },
     "metadata": {},
     "output_type": "display_data"
    },
    {
     "name": "stdout",
     "output_type": "stream",
     "text": [
      "Processing /home/_sergei/DataspellProjects/vein-segmentation/data/26/yolo_dataset/temp_masks/vein_train_0015_aug_01.png imgsz = 724 x 545\n",
      "Processed and stored at /home/_sergei/DataspellProjects/vein-segmentation/data/26/yolo_dataset/labels/train/vein_train_0015_aug_01.txt imgsz = 724 x 545\n"
     ]
    },
    {
     "data": {
      "text/plain": [
       "<IPython.core.display.HTML object>"
      ],
      "text/html": [
       "<p><b>DEBUG</b>: Processing train file: photo no checkersboard (46)_aug_1.jpg</p>"
      ]
     },
     "metadata": {},
     "output_type": "display_data"
    },
    {
     "name": "stdout",
     "output_type": "stream",
     "text": [
      "Processing /home/_sergei/DataspellProjects/vein-segmentation/data/26/yolo_dataset/temp_masks/vein_train_0015_aug_02.png imgsz = 1280 x 960\n",
      "Processed and stored at /home/_sergei/DataspellProjects/vein-segmentation/data/26/yolo_dataset/labels/train/vein_train_0015_aug_02.txt imgsz = 1280 x 960\n"
     ]
    },
    {
     "data": {
      "text/plain": [
       "<IPython.core.display.HTML object>"
      ],
      "text/html": [
       "<p><b>DEBUG</b>: Processing train file: photo no checkersboard (46)_aug_2.jpg</p>"
      ]
     },
     "metadata": {},
     "output_type": "display_data"
    },
    {
     "name": "stdout",
     "output_type": "stream",
     "text": [
      "Processing /home/_sergei/DataspellProjects/vein-segmentation/data/26/yolo_dataset/temp_masks/vein_train_0015_aug_03.png imgsz = 960 x 1280\n",
      "Processed and stored at /home/_sergei/DataspellProjects/vein-segmentation/data/26/yolo_dataset/labels/train/vein_train_0015_aug_03.txt imgsz = 960 x 1280\n"
     ]
    },
    {
     "data": {
      "text/plain": [
       "<IPython.core.display.HTML object>"
      ],
      "text/html": [
       "<p><b>DEBUG</b>: Processing train file: photo no checkersboard (46)_aug_3.jpg</p>"
      ]
     },
     "metadata": {},
     "output_type": "display_data"
    },
    {
     "name": "stdout",
     "output_type": "stream",
     "text": [
      "Processing /home/_sergei/DataspellProjects/vein-segmentation/data/26/yolo_dataset/temp_masks/vein_train_0015_aug_04.png imgsz = 1280 x 960\n",
      "Processed and stored at /home/_sergei/DataspellProjects/vein-segmentation/data/26/yolo_dataset/labels/train/vein_train_0015_aug_04.txt imgsz = 1280 x 960\n"
     ]
    },
    {
     "data": {
      "text/plain": [
       "<IPython.core.display.HTML object>"
      ],
      "text/html": [
       "<p><b>DEBUG</b>: Processing train file: photo no checkersboard (46)_aug_4.jpg</p>"
      ]
     },
     "metadata": {},
     "output_type": "display_data"
    },
    {
     "name": "stdout",
     "output_type": "stream",
     "text": [
      "Processing /home/_sergei/DataspellProjects/vein-segmentation/data/26/yolo_dataset/temp_masks/vein_train_0015_aug_05.png imgsz = 960 x 1280\n",
      "Processed and stored at /home/_sergei/DataspellProjects/vein-segmentation/data/26/yolo_dataset/labels/train/vein_train_0015_aug_05.txt imgsz = 960 x 1280\n"
     ]
    },
    {
     "data": {
      "text/plain": [
       "<IPython.core.display.HTML object>"
      ],
      "text/html": [
       "<p><b>DEBUG</b>: Processing train file: photo no checkersboard (46)_aug_5.jpg</p>"
      ]
     },
     "metadata": {},
     "output_type": "display_data"
    },
    {
     "name": "stdout",
     "output_type": "stream",
     "text": [
      "Processing /home/_sergei/DataspellProjects/vein-segmentation/data/26/yolo_dataset/temp_masks/vein_train_0015_aug_06.png imgsz = 960 x 1280\n",
      "Processed and stored at /home/_sergei/DataspellProjects/vein-segmentation/data/26/yolo_dataset/labels/train/vein_train_0015_aug_06.txt imgsz = 960 x 1280\n"
     ]
    },
    {
     "data": {
      "text/plain": [
       "<IPython.core.display.HTML object>"
      ],
      "text/html": [
       "<p><b>DEBUG</b>: Processing train file: photo no checkersboard (46)_aug_6.jpg</p>"
      ]
     },
     "metadata": {},
     "output_type": "display_data"
    },
    {
     "name": "stdout",
     "output_type": "stream",
     "text": [
      "Processing /home/_sergei/DataspellProjects/vein-segmentation/data/26/yolo_dataset/temp_masks/vein_train_0015_aug_07.png imgsz = 1280 x 960\n",
      "Processed and stored at /home/_sergei/DataspellProjects/vein-segmentation/data/26/yolo_dataset/labels/train/vein_train_0015_aug_07.txt imgsz = 1280 x 960\n"
     ]
    },
    {
     "data": {
      "text/plain": [
       "<IPython.core.display.HTML object>"
      ],
      "text/html": [
       "<p><b>DEBUG</b>: Processing train file: photo no checkersboard (46)_aug_7.jpg</p>"
      ]
     },
     "metadata": {},
     "output_type": "display_data"
    },
    {
     "name": "stdout",
     "output_type": "stream",
     "text": [
      "Processing /home/_sergei/DataspellProjects/vein-segmentation/data/26/yolo_dataset/temp_masks/vein_train_0015_aug_08.png imgsz = 1280 x 960\n",
      "Processed and stored at /home/_sergei/DataspellProjects/vein-segmentation/data/26/yolo_dataset/labels/train/vein_train_0015_aug_08.txt imgsz = 1280 x 960\n"
     ]
    },
    {
     "data": {
      "text/plain": [
       "<IPython.core.display.HTML object>"
      ],
      "text/html": [
       "<p><b>DEBUG</b>: Processing train file: photo no checkersboard (46)_aug_8.jpg</p>"
      ]
     },
     "metadata": {},
     "output_type": "display_data"
    },
    {
     "name": "stdout",
     "output_type": "stream",
     "text": [
      "Processing /home/_sergei/DataspellProjects/vein-segmentation/data/26/yolo_dataset/temp_masks/vein_train_0015_aug_09.png imgsz = 1280 x 960\n",
      "Processed and stored at /home/_sergei/DataspellProjects/vein-segmentation/data/26/yolo_dataset/labels/train/vein_train_0015_aug_09.txt imgsz = 1280 x 960\n"
     ]
    },
    {
     "data": {
      "text/plain": [
       "<IPython.core.display.HTML object>"
      ],
      "text/html": [
       "<p><b>DEBUG</b>: Processing train file: photo no checkersboard (46)_aug_9.jpg</p>"
      ]
     },
     "metadata": {},
     "output_type": "display_data"
    },
    {
     "name": "stdout",
     "output_type": "stream",
     "text": [
      "Processing /home/_sergei/DataspellProjects/vein-segmentation/data/26/yolo_dataset/temp_masks/vein_train_0015_aug_10.png imgsz = 960 x 1280\n",
      "Processed and stored at /home/_sergei/DataspellProjects/vein-segmentation/data/26/yolo_dataset/labels/train/vein_train_0015_aug_10.txt imgsz = 960 x 1280\n"
     ]
    },
    {
     "data": {
      "text/plain": [
       "<IPython.core.display.HTML object>"
      ],
      "text/html": [
       "<p><b>DEBUG</b>: Processing train file: photo no checkersboard (7).jpg</p>"
      ]
     },
     "metadata": {},
     "output_type": "display_data"
    },
    {
     "name": "stdout",
     "output_type": "stream",
     "text": [
      "Processing /home/_sergei/DataspellProjects/vein-segmentation/data/26/yolo_dataset/temp_masks/vein_train_0016_aug_00.png imgsz = 726 x 545\n",
      "Processed and stored at /home/_sergei/DataspellProjects/vein-segmentation/data/26/yolo_dataset/labels/train/vein_train_0016_aug_00.txt imgsz = 726 x 545\n"
     ]
    },
    {
     "data": {
      "text/plain": [
       "<IPython.core.display.HTML object>"
      ],
      "text/html": [
       "<p><b>DEBUG</b>: Processing train file: photo no checkersboard (7)_aug_0.jpg</p>"
      ]
     },
     "metadata": {},
     "output_type": "display_data"
    },
    {
     "name": "stdout",
     "output_type": "stream",
     "text": [
      "Processing /home/_sergei/DataspellProjects/vein-segmentation/data/26/yolo_dataset/temp_masks/vein_train_0016_aug_01.png imgsz = 726 x 545\n",
      "Processed and stored at /home/_sergei/DataspellProjects/vein-segmentation/data/26/yolo_dataset/labels/train/vein_train_0016_aug_01.txt imgsz = 726 x 545\n"
     ]
    },
    {
     "data": {
      "text/plain": [
       "<IPython.core.display.HTML object>"
      ],
      "text/html": [
       "<p><b>DEBUG</b>: Processing train file: photo no checkersboard (7)_aug_1.jpg</p>"
      ]
     },
     "metadata": {},
     "output_type": "display_data"
    },
    {
     "name": "stdout",
     "output_type": "stream",
     "text": [
      "Processing /home/_sergei/DataspellProjects/vein-segmentation/data/26/yolo_dataset/temp_masks/vein_train_0016_aug_02.png imgsz = 960 x 1280\n",
      "Processed and stored at /home/_sergei/DataspellProjects/vein-segmentation/data/26/yolo_dataset/labels/train/vein_train_0016_aug_02.txt imgsz = 960 x 1280\n"
     ]
    },
    {
     "data": {
      "text/plain": [
       "<IPython.core.display.HTML object>"
      ],
      "text/html": [
       "<p><b>DEBUG</b>: Processing train file: photo no checkersboard (7)_aug_2.jpg</p>"
      ]
     },
     "metadata": {},
     "output_type": "display_data"
    },
    {
     "name": "stdout",
     "output_type": "stream",
     "text": [
      "Processing /home/_sergei/DataspellProjects/vein-segmentation/data/26/yolo_dataset/temp_masks/vein_train_0016_aug_03.png imgsz = 1280 x 960\n",
      "Processed and stored at /home/_sergei/DataspellProjects/vein-segmentation/data/26/yolo_dataset/labels/train/vein_train_0016_aug_03.txt imgsz = 1280 x 960\n"
     ]
    },
    {
     "data": {
      "text/plain": [
       "<IPython.core.display.HTML object>"
      ],
      "text/html": [
       "<p><b>DEBUG</b>: Processing train file: photo no checkersboard (7)_aug_3.jpg</p>"
      ]
     },
     "metadata": {},
     "output_type": "display_data"
    },
    {
     "name": "stdout",
     "output_type": "stream",
     "text": [
      "Processing /home/_sergei/DataspellProjects/vein-segmentation/data/26/yolo_dataset/temp_masks/vein_train_0016_aug_04.png imgsz = 1280 x 960\n",
      "Processed and stored at /home/_sergei/DataspellProjects/vein-segmentation/data/26/yolo_dataset/labels/train/vein_train_0016_aug_04.txt imgsz = 1280 x 960\n"
     ]
    },
    {
     "data": {
      "text/plain": [
       "<IPython.core.display.HTML object>"
      ],
      "text/html": [
       "<p><b>DEBUG</b>: Processing train file: photo no checkersboard (7)_aug_4.jpg</p>"
      ]
     },
     "metadata": {},
     "output_type": "display_data"
    },
    {
     "name": "stdout",
     "output_type": "stream",
     "text": [
      "Processing /home/_sergei/DataspellProjects/vein-segmentation/data/26/yolo_dataset/temp_masks/vein_train_0016_aug_05.png imgsz = 1280 x 960\n",
      "Processed and stored at /home/_sergei/DataspellProjects/vein-segmentation/data/26/yolo_dataset/labels/train/vein_train_0016_aug_05.txt imgsz = 1280 x 960\n"
     ]
    },
    {
     "data": {
      "text/plain": [
       "<IPython.core.display.HTML object>"
      ],
      "text/html": [
       "<p><b>DEBUG</b>: Processing train file: photo no checkersboard (7)_aug_5.jpg</p>"
      ]
     },
     "metadata": {},
     "output_type": "display_data"
    },
    {
     "name": "stdout",
     "output_type": "stream",
     "text": [
      "Processing /home/_sergei/DataspellProjects/vein-segmentation/data/26/yolo_dataset/temp_masks/vein_train_0016_aug_06.png imgsz = 960 x 1280\n",
      "Processed and stored at /home/_sergei/DataspellProjects/vein-segmentation/data/26/yolo_dataset/labels/train/vein_train_0016_aug_06.txt imgsz = 960 x 1280\n"
     ]
    },
    {
     "data": {
      "text/plain": [
       "<IPython.core.display.HTML object>"
      ],
      "text/html": [
       "<p><b>DEBUG</b>: Processing train file: photo no checkersboard (7)_aug_6.jpg</p>"
      ]
     },
     "metadata": {},
     "output_type": "display_data"
    },
    {
     "name": "stdout",
     "output_type": "stream",
     "text": [
      "Processing /home/_sergei/DataspellProjects/vein-segmentation/data/26/yolo_dataset/temp_masks/vein_train_0016_aug_07.png imgsz = 1280 x 960\n",
      "Processed and stored at /home/_sergei/DataspellProjects/vein-segmentation/data/26/yolo_dataset/labels/train/vein_train_0016_aug_07.txt imgsz = 1280 x 960\n"
     ]
    },
    {
     "data": {
      "text/plain": [
       "<IPython.core.display.HTML object>"
      ],
      "text/html": [
       "<p><b>DEBUG</b>: Processing train file: photo no checkersboard (7)_aug_7.jpg</p>"
      ]
     },
     "metadata": {},
     "output_type": "display_data"
    },
    {
     "name": "stdout",
     "output_type": "stream",
     "text": [
      "Processing /home/_sergei/DataspellProjects/vein-segmentation/data/26/yolo_dataset/temp_masks/vein_train_0016_aug_08.png imgsz = 960 x 1280\n",
      "Processed and stored at /home/_sergei/DataspellProjects/vein-segmentation/data/26/yolo_dataset/labels/train/vein_train_0016_aug_08.txt imgsz = 960 x 1280\n"
     ]
    },
    {
     "data": {
      "text/plain": [
       "<IPython.core.display.HTML object>"
      ],
      "text/html": [
       "<p><b>DEBUG</b>: Processing train file: photo no checkersboard (7)_aug_8.jpg</p>"
      ]
     },
     "metadata": {},
     "output_type": "display_data"
    },
    {
     "name": "stdout",
     "output_type": "stream",
     "text": [
      "Processing /home/_sergei/DataspellProjects/vein-segmentation/data/26/yolo_dataset/temp_masks/vein_train_0016_aug_09.png imgsz = 1280 x 960\n",
      "Processed and stored at /home/_sergei/DataspellProjects/vein-segmentation/data/26/yolo_dataset/labels/train/vein_train_0016_aug_09.txt imgsz = 1280 x 960\n"
     ]
    },
    {
     "data": {
      "text/plain": [
       "<IPython.core.display.HTML object>"
      ],
      "text/html": [
       "<p><b>DEBUG</b>: Processing train file: photo no checkersboard (7)_aug_9.jpg</p>"
      ]
     },
     "metadata": {},
     "output_type": "display_data"
    },
    {
     "name": "stdout",
     "output_type": "stream",
     "text": [
      "Processing /home/_sergei/DataspellProjects/vein-segmentation/data/26/yolo_dataset/temp_masks/vein_train_0016_aug_10.png imgsz = 960 x 1280\n",
      "Processed and stored at /home/_sergei/DataspellProjects/vein-segmentation/data/26/yolo_dataset/labels/train/vein_train_0016_aug_10.txt imgsz = 960 x 1280\n"
     ]
    },
    {
     "data": {
      "text/plain": [
       "<IPython.core.display.HTML object>"
      ],
      "text/html": [
       "<p><b>DEBUG</b>: Processing train file: photo no checkersboard (38).jpg</p>"
      ]
     },
     "metadata": {},
     "output_type": "display_data"
    },
    {
     "name": "stdout",
     "output_type": "stream",
     "text": [
      "Processing /home/_sergei/DataspellProjects/vein-segmentation/data/26/yolo_dataset/temp_masks/vein_train_0017_aug_00.png imgsz = 725 x 545\n",
      "Processed and stored at /home/_sergei/DataspellProjects/vein-segmentation/data/26/yolo_dataset/labels/train/vein_train_0017_aug_00.txt imgsz = 725 x 545\n"
     ]
    },
    {
     "data": {
      "text/plain": [
       "<IPython.core.display.HTML object>"
      ],
      "text/html": [
       "<p><b>DEBUG</b>: Processing train file: photo no checkersboard (38)_aug_0.jpg</p>"
      ]
     },
     "metadata": {},
     "output_type": "display_data"
    },
    {
     "name": "stdout",
     "output_type": "stream",
     "text": [
      "Processing /home/_sergei/DataspellProjects/vein-segmentation/data/26/yolo_dataset/temp_masks/vein_train_0017_aug_01.png imgsz = 725 x 545\n",
      "Processed and stored at /home/_sergei/DataspellProjects/vein-segmentation/data/26/yolo_dataset/labels/train/vein_train_0017_aug_01.txt imgsz = 725 x 545\n"
     ]
    },
    {
     "data": {
      "text/plain": [
       "<IPython.core.display.HTML object>"
      ],
      "text/html": [
       "<p><b>DEBUG</b>: Processing train file: photo no checkersboard (38)_aug_1.jpg</p>"
      ]
     },
     "metadata": {},
     "output_type": "display_data"
    },
    {
     "name": "stdout",
     "output_type": "stream",
     "text": [
      "Processing /home/_sergei/DataspellProjects/vein-segmentation/data/26/yolo_dataset/temp_masks/vein_train_0017_aug_02.png imgsz = 960 x 1280\n",
      "Processed and stored at /home/_sergei/DataspellProjects/vein-segmentation/data/26/yolo_dataset/labels/train/vein_train_0017_aug_02.txt imgsz = 960 x 1280\n"
     ]
    },
    {
     "data": {
      "text/plain": [
       "<IPython.core.display.HTML object>"
      ],
      "text/html": [
       "<p><b>DEBUG</b>: Processing train file: photo no checkersboard (38)_aug_2.jpg</p>"
      ]
     },
     "metadata": {},
     "output_type": "display_data"
    },
    {
     "name": "stdout",
     "output_type": "stream",
     "text": [
      "Processing /home/_sergei/DataspellProjects/vein-segmentation/data/26/yolo_dataset/temp_masks/vein_train_0017_aug_03.png imgsz = 960 x 1280\n",
      "Processed and stored at /home/_sergei/DataspellProjects/vein-segmentation/data/26/yolo_dataset/labels/train/vein_train_0017_aug_03.txt imgsz = 960 x 1280\n"
     ]
    },
    {
     "data": {
      "text/plain": [
       "<IPython.core.display.HTML object>"
      ],
      "text/html": [
       "<p><b>DEBUG</b>: Processing train file: photo no checkersboard (38)_aug_3.jpg</p>"
      ]
     },
     "metadata": {},
     "output_type": "display_data"
    },
    {
     "name": "stdout",
     "output_type": "stream",
     "text": [
      "Processing /home/_sergei/DataspellProjects/vein-segmentation/data/26/yolo_dataset/temp_masks/vein_train_0017_aug_04.png imgsz = 960 x 1280\n",
      "Processed and stored at /home/_sergei/DataspellProjects/vein-segmentation/data/26/yolo_dataset/labels/train/vein_train_0017_aug_04.txt imgsz = 960 x 1280\n"
     ]
    },
    {
     "data": {
      "text/plain": [
       "<IPython.core.display.HTML object>"
      ],
      "text/html": [
       "<p><b>DEBUG</b>: Processing train file: photo no checkersboard (38)_aug_4.jpg</p>"
      ]
     },
     "metadata": {},
     "output_type": "display_data"
    },
    {
     "name": "stdout",
     "output_type": "stream",
     "text": [
      "Processing /home/_sergei/DataspellProjects/vein-segmentation/data/26/yolo_dataset/temp_masks/vein_train_0017_aug_05.png imgsz = 960 x 1280\n",
      "Processed and stored at /home/_sergei/DataspellProjects/vein-segmentation/data/26/yolo_dataset/labels/train/vein_train_0017_aug_05.txt imgsz = 960 x 1280\n"
     ]
    },
    {
     "data": {
      "text/plain": [
       "<IPython.core.display.HTML object>"
      ],
      "text/html": [
       "<p><b>DEBUG</b>: Processing train file: photo no checkersboard (38)_aug_5.jpg</p>"
      ]
     },
     "metadata": {},
     "output_type": "display_data"
    },
    {
     "name": "stdout",
     "output_type": "stream",
     "text": [
      "Processing /home/_sergei/DataspellProjects/vein-segmentation/data/26/yolo_dataset/temp_masks/vein_train_0017_aug_06.png imgsz = 1280 x 960\n",
      "Processed and stored at /home/_sergei/DataspellProjects/vein-segmentation/data/26/yolo_dataset/labels/train/vein_train_0017_aug_06.txt imgsz = 1280 x 960\n"
     ]
    },
    {
     "data": {
      "text/plain": [
       "<IPython.core.display.HTML object>"
      ],
      "text/html": [
       "<p><b>DEBUG</b>: Processing train file: photo no checkersboard (38)_aug_6.jpg</p>"
      ]
     },
     "metadata": {},
     "output_type": "display_data"
    },
    {
     "name": "stdout",
     "output_type": "stream",
     "text": [
      "Processing /home/_sergei/DataspellProjects/vein-segmentation/data/26/yolo_dataset/temp_masks/vein_train_0017_aug_07.png imgsz = 960 x 1280\n",
      "Processed and stored at /home/_sergei/DataspellProjects/vein-segmentation/data/26/yolo_dataset/labels/train/vein_train_0017_aug_07.txt imgsz = 960 x 1280\n"
     ]
    },
    {
     "data": {
      "text/plain": [
       "<IPython.core.display.HTML object>"
      ],
      "text/html": [
       "<p><b>DEBUG</b>: Processing train file: photo no checkersboard (38)_aug_7.jpg</p>"
      ]
     },
     "metadata": {},
     "output_type": "display_data"
    },
    {
     "name": "stdout",
     "output_type": "stream",
     "text": [
      "Processing /home/_sergei/DataspellProjects/vein-segmentation/data/26/yolo_dataset/temp_masks/vein_train_0017_aug_08.png imgsz = 960 x 1280\n",
      "Processed and stored at /home/_sergei/DataspellProjects/vein-segmentation/data/26/yolo_dataset/labels/train/vein_train_0017_aug_08.txt imgsz = 960 x 1280\n"
     ]
    },
    {
     "data": {
      "text/plain": [
       "<IPython.core.display.HTML object>"
      ],
      "text/html": [
       "<p><b>DEBUG</b>: Processing train file: photo no checkersboard (38)_aug_8.jpg</p>"
      ]
     },
     "metadata": {},
     "output_type": "display_data"
    },
    {
     "name": "stdout",
     "output_type": "stream",
     "text": [
      "Processing /home/_sergei/DataspellProjects/vein-segmentation/data/26/yolo_dataset/temp_masks/vein_train_0017_aug_09.png imgsz = 960 x 1280\n",
      "Processed and stored at /home/_sergei/DataspellProjects/vein-segmentation/data/26/yolo_dataset/labels/train/vein_train_0017_aug_09.txt imgsz = 960 x 1280\n"
     ]
    },
    {
     "data": {
      "text/plain": [
       "<IPython.core.display.HTML object>"
      ],
      "text/html": [
       "<p><b>DEBUG</b>: Processing train file: photo no checkersboard (38)_aug_9.jpg</p>"
      ]
     },
     "metadata": {},
     "output_type": "display_data"
    },
    {
     "name": "stdout",
     "output_type": "stream",
     "text": [
      "Processing /home/_sergei/DataspellProjects/vein-segmentation/data/26/yolo_dataset/temp_masks/vein_train_0017_aug_10.png imgsz = 960 x 1280\n",
      "Processed and stored at /home/_sergei/DataspellProjects/vein-segmentation/data/26/yolo_dataset/labels/train/vein_train_0017_aug_10.txt imgsz = 960 x 1280\n"
     ]
    },
    {
     "data": {
      "text/plain": [
       "<IPython.core.display.HTML object>"
      ],
      "text/html": [
       "<p><b>DEBUG</b>: Processing train file: photo no checkersboard (47).jpg</p>"
      ]
     },
     "metadata": {},
     "output_type": "display_data"
    },
    {
     "name": "stdout",
     "output_type": "stream",
     "text": [
      "Processing /home/_sergei/DataspellProjects/vein-segmentation/data/26/yolo_dataset/temp_masks/vein_train_0018_aug_00.png imgsz = 725 x 545\n",
      "Processed and stored at /home/_sergei/DataspellProjects/vein-segmentation/data/26/yolo_dataset/labels/train/vein_train_0018_aug_00.txt imgsz = 725 x 545\n"
     ]
    },
    {
     "data": {
      "text/plain": [
       "<IPython.core.display.HTML object>"
      ],
      "text/html": [
       "<p><b>DEBUG</b>: Processing train file: photo no checkersboard (47)_aug_0.jpg</p>"
      ]
     },
     "metadata": {},
     "output_type": "display_data"
    },
    {
     "name": "stdout",
     "output_type": "stream",
     "text": [
      "Processing /home/_sergei/DataspellProjects/vein-segmentation/data/26/yolo_dataset/temp_masks/vein_train_0018_aug_01.png imgsz = 725 x 545\n",
      "Processed and stored at /home/_sergei/DataspellProjects/vein-segmentation/data/26/yolo_dataset/labels/train/vein_train_0018_aug_01.txt imgsz = 725 x 545\n"
     ]
    },
    {
     "data": {
      "text/plain": [
       "<IPython.core.display.HTML object>"
      ],
      "text/html": [
       "<p><b>DEBUG</b>: Processing train file: photo no checkersboard (47)_aug_1.jpg</p>"
      ]
     },
     "metadata": {},
     "output_type": "display_data"
    },
    {
     "name": "stdout",
     "output_type": "stream",
     "text": [
      "Processing /home/_sergei/DataspellProjects/vein-segmentation/data/26/yolo_dataset/temp_masks/vein_train_0018_aug_02.png imgsz = 960 x 1280\n",
      "Processed and stored at /home/_sergei/DataspellProjects/vein-segmentation/data/26/yolo_dataset/labels/train/vein_train_0018_aug_02.txt imgsz = 960 x 1280\n"
     ]
    },
    {
     "data": {
      "text/plain": [
       "<IPython.core.display.HTML object>"
      ],
      "text/html": [
       "<p><b>DEBUG</b>: Processing train file: photo no checkersboard (47)_aug_2.jpg</p>"
      ]
     },
     "metadata": {},
     "output_type": "display_data"
    },
    {
     "name": "stdout",
     "output_type": "stream",
     "text": [
      "Processing /home/_sergei/DataspellProjects/vein-segmentation/data/26/yolo_dataset/temp_masks/vein_train_0018_aug_03.png imgsz = 1280 x 960\n",
      "Processed and stored at /home/_sergei/DataspellProjects/vein-segmentation/data/26/yolo_dataset/labels/train/vein_train_0018_aug_03.txt imgsz = 1280 x 960\n"
     ]
    },
    {
     "data": {
      "text/plain": [
       "<IPython.core.display.HTML object>"
      ],
      "text/html": [
       "<p><b>DEBUG</b>: Processing train file: photo no checkersboard (47)_aug_3.jpg</p>"
      ]
     },
     "metadata": {},
     "output_type": "display_data"
    },
    {
     "name": "stdout",
     "output_type": "stream",
     "text": [
      "Processing /home/_sergei/DataspellProjects/vein-segmentation/data/26/yolo_dataset/temp_masks/vein_train_0018_aug_04.png imgsz = 1280 x 960\n",
      "Processed and stored at /home/_sergei/DataspellProjects/vein-segmentation/data/26/yolo_dataset/labels/train/vein_train_0018_aug_04.txt imgsz = 1280 x 960\n"
     ]
    },
    {
     "data": {
      "text/plain": [
       "<IPython.core.display.HTML object>"
      ],
      "text/html": [
       "<p><b>DEBUG</b>: Processing train file: photo no checkersboard (47)_aug_4.jpg</p>"
      ]
     },
     "metadata": {},
     "output_type": "display_data"
    },
    {
     "name": "stdout",
     "output_type": "stream",
     "text": [
      "Processing /home/_sergei/DataspellProjects/vein-segmentation/data/26/yolo_dataset/temp_masks/vein_train_0018_aug_05.png imgsz = 1280 x 960\n",
      "Processed and stored at /home/_sergei/DataspellProjects/vein-segmentation/data/26/yolo_dataset/labels/train/vein_train_0018_aug_05.txt imgsz = 1280 x 960\n"
     ]
    },
    {
     "data": {
      "text/plain": [
       "<IPython.core.display.HTML object>"
      ],
      "text/html": [
       "<p><b>DEBUG</b>: Processing train file: photo no checkersboard (47)_aug_5.jpg</p>"
      ]
     },
     "metadata": {},
     "output_type": "display_data"
    },
    {
     "name": "stdout",
     "output_type": "stream",
     "text": [
      "Processing /home/_sergei/DataspellProjects/vein-segmentation/data/26/yolo_dataset/temp_masks/vein_train_0018_aug_06.png imgsz = 960 x 1280\n",
      "Processed and stored at /home/_sergei/DataspellProjects/vein-segmentation/data/26/yolo_dataset/labels/train/vein_train_0018_aug_06.txt imgsz = 960 x 1280\n"
     ]
    },
    {
     "data": {
      "text/plain": [
       "<IPython.core.display.HTML object>"
      ],
      "text/html": [
       "<p><b>DEBUG</b>: Processing train file: photo no checkersboard (47)_aug_6.jpg</p>"
      ]
     },
     "metadata": {},
     "output_type": "display_data"
    },
    {
     "name": "stdout",
     "output_type": "stream",
     "text": [
      "Processing /home/_sergei/DataspellProjects/vein-segmentation/data/26/yolo_dataset/temp_masks/vein_train_0018_aug_07.png imgsz = 960 x 1280\n",
      "Processed and stored at /home/_sergei/DataspellProjects/vein-segmentation/data/26/yolo_dataset/labels/train/vein_train_0018_aug_07.txt imgsz = 960 x 1280\n"
     ]
    },
    {
     "data": {
      "text/plain": [
       "<IPython.core.display.HTML object>"
      ],
      "text/html": [
       "<p><b>DEBUG</b>: Processing train file: photo no checkersboard (47)_aug_7.jpg</p>"
      ]
     },
     "metadata": {},
     "output_type": "display_data"
    },
    {
     "name": "stdout",
     "output_type": "stream",
     "text": [
      "Processing /home/_sergei/DataspellProjects/vein-segmentation/data/26/yolo_dataset/temp_masks/vein_train_0018_aug_08.png imgsz = 1280 x 960\n",
      "Processed and stored at /home/_sergei/DataspellProjects/vein-segmentation/data/26/yolo_dataset/labels/train/vein_train_0018_aug_08.txt imgsz = 1280 x 960\n"
     ]
    },
    {
     "data": {
      "text/plain": [
       "<IPython.core.display.HTML object>"
      ],
      "text/html": [
       "<p><b>DEBUG</b>: Processing train file: photo no checkersboard (47)_aug_8.jpg</p>"
      ]
     },
     "metadata": {},
     "output_type": "display_data"
    },
    {
     "name": "stdout",
     "output_type": "stream",
     "text": [
      "Processing /home/_sergei/DataspellProjects/vein-segmentation/data/26/yolo_dataset/temp_masks/vein_train_0018_aug_09.png imgsz = 1280 x 960\n",
      "Processed and stored at /home/_sergei/DataspellProjects/vein-segmentation/data/26/yolo_dataset/labels/train/vein_train_0018_aug_09.txt imgsz = 1280 x 960\n"
     ]
    },
    {
     "data": {
      "text/plain": [
       "<IPython.core.display.HTML object>"
      ],
      "text/html": [
       "<p><b>DEBUG</b>: Processing train file: photo no checkersboard (47)_aug_9.jpg</p>"
      ]
     },
     "metadata": {},
     "output_type": "display_data"
    },
    {
     "name": "stdout",
     "output_type": "stream",
     "text": [
      "Processing /home/_sergei/DataspellProjects/vein-segmentation/data/26/yolo_dataset/temp_masks/vein_train_0018_aug_10.png imgsz = 1280 x 960\n",
      "Processed and stored at /home/_sergei/DataspellProjects/vein-segmentation/data/26/yolo_dataset/labels/train/vein_train_0018_aug_10.txt imgsz = 1280 x 960\n"
     ]
    },
    {
     "data": {
      "text/plain": [
       "<IPython.core.display.HTML object>"
      ],
      "text/html": [
       "<p><b>DEBUG</b>: Processing train file: photo no checkersboard (39).jpg</p>"
      ]
     },
     "metadata": {},
     "output_type": "display_data"
    },
    {
     "name": "stdout",
     "output_type": "stream",
     "text": [
      "Processing /home/_sergei/DataspellProjects/vein-segmentation/data/26/yolo_dataset/temp_masks/vein_train_0019_aug_00.png imgsz = 727 x 545\n",
      "Processed and stored at /home/_sergei/DataspellProjects/vein-segmentation/data/26/yolo_dataset/labels/train/vein_train_0019_aug_00.txt imgsz = 727 x 545\n"
     ]
    },
    {
     "data": {
      "text/plain": [
       "<IPython.core.display.HTML object>"
      ],
      "text/html": [
       "<p><b>DEBUG</b>: Processing train file: photo no checkersboard (39)_aug_0.jpg</p>"
      ]
     },
     "metadata": {},
     "output_type": "display_data"
    },
    {
     "name": "stdout",
     "output_type": "stream",
     "text": [
      "Processing /home/_sergei/DataspellProjects/vein-segmentation/data/26/yolo_dataset/temp_masks/vein_train_0019_aug_01.png imgsz = 727 x 545\n",
      "Processed and stored at /home/_sergei/DataspellProjects/vein-segmentation/data/26/yolo_dataset/labels/train/vein_train_0019_aug_01.txt imgsz = 727 x 545\n"
     ]
    },
    {
     "data": {
      "text/plain": [
       "<IPython.core.display.HTML object>"
      ],
      "text/html": [
       "<p><b>DEBUG</b>: Processing train file: photo no checkersboard (39)_aug_1.jpg</p>"
      ]
     },
     "metadata": {},
     "output_type": "display_data"
    },
    {
     "name": "stdout",
     "output_type": "stream",
     "text": [
      "Processing /home/_sergei/DataspellProjects/vein-segmentation/data/26/yolo_dataset/temp_masks/vein_train_0019_aug_02.png imgsz = 1280 x 960\n",
      "Processed and stored at /home/_sergei/DataspellProjects/vein-segmentation/data/26/yolo_dataset/labels/train/vein_train_0019_aug_02.txt imgsz = 1280 x 960\n"
     ]
    },
    {
     "data": {
      "text/plain": [
       "<IPython.core.display.HTML object>"
      ],
      "text/html": [
       "<p><b>DEBUG</b>: Processing train file: photo no checkersboard (39)_aug_2.jpg</p>"
      ]
     },
     "metadata": {},
     "output_type": "display_data"
    },
    {
     "name": "stdout",
     "output_type": "stream",
     "text": [
      "Processing /home/_sergei/DataspellProjects/vein-segmentation/data/26/yolo_dataset/temp_masks/vein_train_0019_aug_03.png imgsz = 960 x 1280\n",
      "Processed and stored at /home/_sergei/DataspellProjects/vein-segmentation/data/26/yolo_dataset/labels/train/vein_train_0019_aug_03.txt imgsz = 960 x 1280\n"
     ]
    },
    {
     "data": {
      "text/plain": [
       "<IPython.core.display.HTML object>"
      ],
      "text/html": [
       "<p><b>DEBUG</b>: Processing train file: photo no checkersboard (39)_aug_3.jpg</p>"
      ]
     },
     "metadata": {},
     "output_type": "display_data"
    },
    {
     "name": "stdout",
     "output_type": "stream",
     "text": [
      "Processing /home/_sergei/DataspellProjects/vein-segmentation/data/26/yolo_dataset/temp_masks/vein_train_0019_aug_04.png imgsz = 1280 x 960\n",
      "Processed and stored at /home/_sergei/DataspellProjects/vein-segmentation/data/26/yolo_dataset/labels/train/vein_train_0019_aug_04.txt imgsz = 1280 x 960\n"
     ]
    },
    {
     "data": {
      "text/plain": [
       "<IPython.core.display.HTML object>"
      ],
      "text/html": [
       "<p><b>DEBUG</b>: Processing train file: photo no checkersboard (39)_aug_4.jpg</p>"
      ]
     },
     "metadata": {},
     "output_type": "display_data"
    },
    {
     "name": "stdout",
     "output_type": "stream",
     "text": [
      "Processing /home/_sergei/DataspellProjects/vein-segmentation/data/26/yolo_dataset/temp_masks/vein_train_0019_aug_05.png imgsz = 960 x 1280\n",
      "Processed and stored at /home/_sergei/DataspellProjects/vein-segmentation/data/26/yolo_dataset/labels/train/vein_train_0019_aug_05.txt imgsz = 960 x 1280\n"
     ]
    },
    {
     "data": {
      "text/plain": [
       "<IPython.core.display.HTML object>"
      ],
      "text/html": [
       "<p><b>DEBUG</b>: Processing train file: photo no checkersboard (39)_aug_5.jpg</p>"
      ]
     },
     "metadata": {},
     "output_type": "display_data"
    },
    {
     "name": "stdout",
     "output_type": "stream",
     "text": [
      "Processing /home/_sergei/DataspellProjects/vein-segmentation/data/26/yolo_dataset/temp_masks/vein_train_0019_aug_06.png imgsz = 1280 x 960\n",
      "Processed and stored at /home/_sergei/DataspellProjects/vein-segmentation/data/26/yolo_dataset/labels/train/vein_train_0019_aug_06.txt imgsz = 1280 x 960\n"
     ]
    },
    {
     "data": {
      "text/plain": [
       "<IPython.core.display.HTML object>"
      ],
      "text/html": [
       "<p><b>DEBUG</b>: Processing train file: photo no checkersboard (39)_aug_6.jpg</p>"
      ]
     },
     "metadata": {},
     "output_type": "display_data"
    },
    {
     "name": "stdout",
     "output_type": "stream",
     "text": [
      "Processing /home/_sergei/DataspellProjects/vein-segmentation/data/26/yolo_dataset/temp_masks/vein_train_0019_aug_07.png imgsz = 1280 x 960\n",
      "Processed and stored at /home/_sergei/DataspellProjects/vein-segmentation/data/26/yolo_dataset/labels/train/vein_train_0019_aug_07.txt imgsz = 1280 x 960\n"
     ]
    },
    {
     "data": {
      "text/plain": [
       "<IPython.core.display.HTML object>"
      ],
      "text/html": [
       "<p><b>DEBUG</b>: Processing train file: photo no checkersboard (39)_aug_7.jpg</p>"
      ]
     },
     "metadata": {},
     "output_type": "display_data"
    },
    {
     "name": "stdout",
     "output_type": "stream",
     "text": [
      "Processing /home/_sergei/DataspellProjects/vein-segmentation/data/26/yolo_dataset/temp_masks/vein_train_0019_aug_08.png imgsz = 960 x 1280\n",
      "Processed and stored at /home/_sergei/DataspellProjects/vein-segmentation/data/26/yolo_dataset/labels/train/vein_train_0019_aug_08.txt imgsz = 960 x 1280\n"
     ]
    },
    {
     "data": {
      "text/plain": [
       "<IPython.core.display.HTML object>"
      ],
      "text/html": [
       "<p><b>DEBUG</b>: Processing train file: photo no checkersboard (39)_aug_8.jpg</p>"
      ]
     },
     "metadata": {},
     "output_type": "display_data"
    },
    {
     "name": "stdout",
     "output_type": "stream",
     "text": [
      "Processing /home/_sergei/DataspellProjects/vein-segmentation/data/26/yolo_dataset/temp_masks/vein_train_0019_aug_09.png imgsz = 1280 x 960\n",
      "Processed and stored at /home/_sergei/DataspellProjects/vein-segmentation/data/26/yolo_dataset/labels/train/vein_train_0019_aug_09.txt imgsz = 1280 x 960\n"
     ]
    },
    {
     "data": {
      "text/plain": [
       "<IPython.core.display.HTML object>"
      ],
      "text/html": [
       "<p><b>DEBUG</b>: Processing train file: photo no checkersboard (39)_aug_9.jpg</p>"
      ]
     },
     "metadata": {},
     "output_type": "display_data"
    },
    {
     "name": "stdout",
     "output_type": "stream",
     "text": [
      "Processing /home/_sergei/DataspellProjects/vein-segmentation/data/26/yolo_dataset/temp_masks/vein_train_0019_aug_10.png imgsz = 1280 x 960\n",
      "Processed and stored at /home/_sergei/DataspellProjects/vein-segmentation/data/26/yolo_dataset/labels/train/vein_train_0019_aug_10.txt imgsz = 1280 x 960\n"
     ]
    },
    {
     "data": {
      "text/plain": [
       "<IPython.core.display.HTML object>"
      ],
      "text/html": [
       "<p><b>DEBUG</b>: Processing train file: photo no checkersboard (30).jpg</p>"
      ]
     },
     "metadata": {},
     "output_type": "display_data"
    },
    {
     "name": "stdout",
     "output_type": "stream",
     "text": [
      "Processing /home/_sergei/DataspellProjects/vein-segmentation/data/26/yolo_dataset/temp_masks/vein_train_0020_aug_00.png imgsz = 725 x 543\n",
      "Processed and stored at /home/_sergei/DataspellProjects/vein-segmentation/data/26/yolo_dataset/labels/train/vein_train_0020_aug_00.txt imgsz = 725 x 543\n"
     ]
    },
    {
     "data": {
      "text/plain": [
       "<IPython.core.display.HTML object>"
      ],
      "text/html": [
       "<p><b>DEBUG</b>: Processing train file: photo no checkersboard (30)_aug_0.jpg</p>"
      ]
     },
     "metadata": {},
     "output_type": "display_data"
    },
    {
     "name": "stdout",
     "output_type": "stream",
     "text": [
      "Processing /home/_sergei/DataspellProjects/vein-segmentation/data/26/yolo_dataset/temp_masks/vein_train_0020_aug_01.png imgsz = 725 x 543\n",
      "Processed and stored at /home/_sergei/DataspellProjects/vein-segmentation/data/26/yolo_dataset/labels/train/vein_train_0020_aug_01.txt imgsz = 725 x 543\n"
     ]
    },
    {
     "data": {
      "text/plain": [
       "<IPython.core.display.HTML object>"
      ],
      "text/html": [
       "<p><b>DEBUG</b>: Processing train file: photo no checkersboard (30)_aug_1.jpg</p>"
      ]
     },
     "metadata": {},
     "output_type": "display_data"
    },
    {
     "name": "stdout",
     "output_type": "stream",
     "text": [
      "Processing /home/_sergei/DataspellProjects/vein-segmentation/data/26/yolo_dataset/temp_masks/vein_train_0020_aug_02.png imgsz = 1280 x 960\n",
      "Processed and stored at /home/_sergei/DataspellProjects/vein-segmentation/data/26/yolo_dataset/labels/train/vein_train_0020_aug_02.txt imgsz = 1280 x 960\n"
     ]
    },
    {
     "data": {
      "text/plain": [
       "<IPython.core.display.HTML object>"
      ],
      "text/html": [
       "<p><b>DEBUG</b>: Processing train file: photo no checkersboard (30)_aug_2.jpg</p>"
      ]
     },
     "metadata": {},
     "output_type": "display_data"
    },
    {
     "name": "stdout",
     "output_type": "stream",
     "text": [
      "Processing /home/_sergei/DataspellProjects/vein-segmentation/data/26/yolo_dataset/temp_masks/vein_train_0020_aug_03.png imgsz = 1280 x 960\n",
      "Processed and stored at /home/_sergei/DataspellProjects/vein-segmentation/data/26/yolo_dataset/labels/train/vein_train_0020_aug_03.txt imgsz = 1280 x 960\n"
     ]
    },
    {
     "data": {
      "text/plain": [
       "<IPython.core.display.HTML object>"
      ],
      "text/html": [
       "<p><b>DEBUG</b>: Processing train file: photo no checkersboard (30)_aug_3.jpg</p>"
      ]
     },
     "metadata": {},
     "output_type": "display_data"
    },
    {
     "name": "stdout",
     "output_type": "stream",
     "text": [
      "Processing /home/_sergei/DataspellProjects/vein-segmentation/data/26/yolo_dataset/temp_masks/vein_train_0020_aug_04.png imgsz = 1280 x 960\n",
      "Processed and stored at /home/_sergei/DataspellProjects/vein-segmentation/data/26/yolo_dataset/labels/train/vein_train_0020_aug_04.txt imgsz = 1280 x 960\n"
     ]
    },
    {
     "data": {
      "text/plain": [
       "<IPython.core.display.HTML object>"
      ],
      "text/html": [
       "<p><b>DEBUG</b>: Processing train file: photo no checkersboard (30)_aug_4.jpg</p>"
      ]
     },
     "metadata": {},
     "output_type": "display_data"
    },
    {
     "name": "stdout",
     "output_type": "stream",
     "text": [
      "Processing /home/_sergei/DataspellProjects/vein-segmentation/data/26/yolo_dataset/temp_masks/vein_train_0020_aug_05.png imgsz = 1280 x 960\n",
      "Processed and stored at /home/_sergei/DataspellProjects/vein-segmentation/data/26/yolo_dataset/labels/train/vein_train_0020_aug_05.txt imgsz = 1280 x 960\n"
     ]
    },
    {
     "data": {
      "text/plain": [
       "<IPython.core.display.HTML object>"
      ],
      "text/html": [
       "<p><b>DEBUG</b>: Processing train file: photo no checkersboard (30)_aug_5.jpg</p>"
      ]
     },
     "metadata": {},
     "output_type": "display_data"
    },
    {
     "name": "stdout",
     "output_type": "stream",
     "text": [
      "Processing /home/_sergei/DataspellProjects/vein-segmentation/data/26/yolo_dataset/temp_masks/vein_train_0020_aug_06.png imgsz = 960 x 1280\n",
      "Processed and stored at /home/_sergei/DataspellProjects/vein-segmentation/data/26/yolo_dataset/labels/train/vein_train_0020_aug_06.txt imgsz = 960 x 1280\n"
     ]
    },
    {
     "data": {
      "text/plain": [
       "<IPython.core.display.HTML object>"
      ],
      "text/html": [
       "<p><b>DEBUG</b>: Processing train file: photo no checkersboard (30)_aug_6.jpg</p>"
      ]
     },
     "metadata": {},
     "output_type": "display_data"
    },
    {
     "name": "stdout",
     "output_type": "stream",
     "text": [
      "Processing /home/_sergei/DataspellProjects/vein-segmentation/data/26/yolo_dataset/temp_masks/vein_train_0020_aug_07.png imgsz = 1280 x 960\n",
      "Processed and stored at /home/_sergei/DataspellProjects/vein-segmentation/data/26/yolo_dataset/labels/train/vein_train_0020_aug_07.txt imgsz = 1280 x 960\n"
     ]
    },
    {
     "data": {
      "text/plain": [
       "<IPython.core.display.HTML object>"
      ],
      "text/html": [
       "<p><b>DEBUG</b>: Processing train file: photo no checkersboard (30)_aug_7.jpg</p>"
      ]
     },
     "metadata": {},
     "output_type": "display_data"
    },
    {
     "name": "stdout",
     "output_type": "stream",
     "text": [
      "Processing /home/_sergei/DataspellProjects/vein-segmentation/data/26/yolo_dataset/temp_masks/vein_train_0020_aug_08.png imgsz = 960 x 1280\n",
      "Processed and stored at /home/_sergei/DataspellProjects/vein-segmentation/data/26/yolo_dataset/labels/train/vein_train_0020_aug_08.txt imgsz = 960 x 1280\n"
     ]
    },
    {
     "data": {
      "text/plain": [
       "<IPython.core.display.HTML object>"
      ],
      "text/html": [
       "<p><b>DEBUG</b>: Processing train file: photo no checkersboard (30)_aug_8.jpg</p>"
      ]
     },
     "metadata": {},
     "output_type": "display_data"
    },
    {
     "name": "stdout",
     "output_type": "stream",
     "text": [
      "Processing /home/_sergei/DataspellProjects/vein-segmentation/data/26/yolo_dataset/temp_masks/vein_train_0020_aug_09.png imgsz = 960 x 1280\n",
      "Processed and stored at /home/_sergei/DataspellProjects/vein-segmentation/data/26/yolo_dataset/labels/train/vein_train_0020_aug_09.txt imgsz = 960 x 1280\n"
     ]
    },
    {
     "data": {
      "text/plain": [
       "<IPython.core.display.HTML object>"
      ],
      "text/html": [
       "<p><b>DEBUG</b>: Processing train file: photo no checkersboard (30)_aug_9.jpg</p>"
      ]
     },
     "metadata": {},
     "output_type": "display_data"
    },
    {
     "name": "stdout",
     "output_type": "stream",
     "text": [
      "Processing /home/_sergei/DataspellProjects/vein-segmentation/data/26/yolo_dataset/temp_masks/vein_train_0020_aug_10.png imgsz = 960 x 1280\n",
      "Processed and stored at /home/_sergei/DataspellProjects/vein-segmentation/data/26/yolo_dataset/labels/train/vein_train_0020_aug_10.txt imgsz = 960 x 1280\n"
     ]
    },
    {
     "data": {
      "text/plain": [
       "<IPython.core.display.HTML object>"
      ],
      "text/html": [
       "<p><b>DEBUG</b>: Processing train file: photo no checkersboard (52).jpg</p>"
      ]
     },
     "metadata": {},
     "output_type": "display_data"
    },
    {
     "name": "stdout",
     "output_type": "stream",
     "text": [
      "Processing /home/_sergei/DataspellProjects/vein-segmentation/data/26/yolo_dataset/temp_masks/vein_train_0021_aug_00.png imgsz = 723 x 543\n",
      "Processed and stored at /home/_sergei/DataspellProjects/vein-segmentation/data/26/yolo_dataset/labels/train/vein_train_0021_aug_00.txt imgsz = 723 x 543\n"
     ]
    },
    {
     "data": {
      "text/plain": [
       "<IPython.core.display.HTML object>"
      ],
      "text/html": [
       "<p><b>DEBUG</b>: Processing train file: photo no checkersboard (52)_aug_0.jpg</p>"
      ]
     },
     "metadata": {},
     "output_type": "display_data"
    },
    {
     "name": "stdout",
     "output_type": "stream",
     "text": [
      "Processing /home/_sergei/DataspellProjects/vein-segmentation/data/26/yolo_dataset/temp_masks/vein_train_0021_aug_01.png imgsz = 723 x 543\n",
      "Processed and stored at /home/_sergei/DataspellProjects/vein-segmentation/data/26/yolo_dataset/labels/train/vein_train_0021_aug_01.txt imgsz = 723 x 543\n"
     ]
    },
    {
     "data": {
      "text/plain": [
       "<IPython.core.display.HTML object>"
      ],
      "text/html": [
       "<p><b>DEBUG</b>: Processing train file: photo no checkersboard (52)_aug_1.jpg</p>"
      ]
     },
     "metadata": {},
     "output_type": "display_data"
    },
    {
     "name": "stdout",
     "output_type": "stream",
     "text": [
      "Processing /home/_sergei/DataspellProjects/vein-segmentation/data/26/yolo_dataset/temp_masks/vein_train_0021_aug_02.png imgsz = 960 x 1280\n",
      "Processed and stored at /home/_sergei/DataspellProjects/vein-segmentation/data/26/yolo_dataset/labels/train/vein_train_0021_aug_02.txt imgsz = 960 x 1280\n"
     ]
    },
    {
     "data": {
      "text/plain": [
       "<IPython.core.display.HTML object>"
      ],
      "text/html": [
       "<p><b>DEBUG</b>: Processing train file: photo no checkersboard (52)_aug_2.jpg</p>"
      ]
     },
     "metadata": {},
     "output_type": "display_data"
    },
    {
     "name": "stdout",
     "output_type": "stream",
     "text": [
      "Processing /home/_sergei/DataspellProjects/vein-segmentation/data/26/yolo_dataset/temp_masks/vein_train_0021_aug_03.png imgsz = 960 x 1280\n",
      "Processed and stored at /home/_sergei/DataspellProjects/vein-segmentation/data/26/yolo_dataset/labels/train/vein_train_0021_aug_03.txt imgsz = 960 x 1280\n"
     ]
    },
    {
     "data": {
      "text/plain": [
       "<IPython.core.display.HTML object>"
      ],
      "text/html": [
       "<p><b>DEBUG</b>: Processing train file: photo no checkersboard (52)_aug_3.jpg</p>"
      ]
     },
     "metadata": {},
     "output_type": "display_data"
    },
    {
     "name": "stdout",
     "output_type": "stream",
     "text": [
      "Processing /home/_sergei/DataspellProjects/vein-segmentation/data/26/yolo_dataset/temp_masks/vein_train_0021_aug_04.png imgsz = 960 x 1280\n",
      "Processed and stored at /home/_sergei/DataspellProjects/vein-segmentation/data/26/yolo_dataset/labels/train/vein_train_0021_aug_04.txt imgsz = 960 x 1280\n"
     ]
    },
    {
     "data": {
      "text/plain": [
       "<IPython.core.display.HTML object>"
      ],
      "text/html": [
       "<p><b>DEBUG</b>: Processing train file: photo no checkersboard (52)_aug_4.jpg</p>"
      ]
     },
     "metadata": {},
     "output_type": "display_data"
    },
    {
     "name": "stdout",
     "output_type": "stream",
     "text": [
      "Processing /home/_sergei/DataspellProjects/vein-segmentation/data/26/yolo_dataset/temp_masks/vein_train_0021_aug_05.png imgsz = 1280 x 960\n",
      "Processed and stored at /home/_sergei/DataspellProjects/vein-segmentation/data/26/yolo_dataset/labels/train/vein_train_0021_aug_05.txt imgsz = 1280 x 960\n"
     ]
    },
    {
     "data": {
      "text/plain": [
       "<IPython.core.display.HTML object>"
      ],
      "text/html": [
       "<p><b>DEBUG</b>: Processing train file: photo no checkersboard (52)_aug_5.jpg</p>"
      ]
     },
     "metadata": {},
     "output_type": "display_data"
    },
    {
     "name": "stdout",
     "output_type": "stream",
     "text": [
      "Processing /home/_sergei/DataspellProjects/vein-segmentation/data/26/yolo_dataset/temp_masks/vein_train_0021_aug_06.png imgsz = 960 x 1280\n",
      "Processed and stored at /home/_sergei/DataspellProjects/vein-segmentation/data/26/yolo_dataset/labels/train/vein_train_0021_aug_06.txt imgsz = 960 x 1280\n"
     ]
    },
    {
     "data": {
      "text/plain": [
       "<IPython.core.display.HTML object>"
      ],
      "text/html": [
       "<p><b>DEBUG</b>: Processing train file: photo no checkersboard (52)_aug_6.jpg</p>"
      ]
     },
     "metadata": {},
     "output_type": "display_data"
    },
    {
     "name": "stdout",
     "output_type": "stream",
     "text": [
      "Processing /home/_sergei/DataspellProjects/vein-segmentation/data/26/yolo_dataset/temp_masks/vein_train_0021_aug_07.png imgsz = 960 x 1280\n",
      "Processed and stored at /home/_sergei/DataspellProjects/vein-segmentation/data/26/yolo_dataset/labels/train/vein_train_0021_aug_07.txt imgsz = 960 x 1280\n"
     ]
    },
    {
     "data": {
      "text/plain": [
       "<IPython.core.display.HTML object>"
      ],
      "text/html": [
       "<p><b>DEBUG</b>: Processing train file: photo no checkersboard (52)_aug_7.jpg</p>"
      ]
     },
     "metadata": {},
     "output_type": "display_data"
    },
    {
     "name": "stdout",
     "output_type": "stream",
     "text": [
      "Processing /home/_sergei/DataspellProjects/vein-segmentation/data/26/yolo_dataset/temp_masks/vein_train_0021_aug_08.png imgsz = 1280 x 960\n",
      "Processed and stored at /home/_sergei/DataspellProjects/vein-segmentation/data/26/yolo_dataset/labels/train/vein_train_0021_aug_08.txt imgsz = 1280 x 960\n"
     ]
    },
    {
     "data": {
      "text/plain": [
       "<IPython.core.display.HTML object>"
      ],
      "text/html": [
       "<p><b>DEBUG</b>: Processing train file: photo no checkersboard (52)_aug_8.jpg</p>"
      ]
     },
     "metadata": {},
     "output_type": "display_data"
    },
    {
     "name": "stdout",
     "output_type": "stream",
     "text": [
      "Processing /home/_sergei/DataspellProjects/vein-segmentation/data/26/yolo_dataset/temp_masks/vein_train_0021_aug_09.png imgsz = 1280 x 960\n",
      "Processed and stored at /home/_sergei/DataspellProjects/vein-segmentation/data/26/yolo_dataset/labels/train/vein_train_0021_aug_09.txt imgsz = 1280 x 960\n"
     ]
    },
    {
     "data": {
      "text/plain": [
       "<IPython.core.display.HTML object>"
      ],
      "text/html": [
       "<p><b>DEBUG</b>: Processing train file: photo no checkersboard (52)_aug_9.jpg</p>"
      ]
     },
     "metadata": {},
     "output_type": "display_data"
    },
    {
     "name": "stdout",
     "output_type": "stream",
     "text": [
      "Processing /home/_sergei/DataspellProjects/vein-segmentation/data/26/yolo_dataset/temp_masks/vein_train_0021_aug_10.png imgsz = 960 x 1280\n",
      "Processed and stored at /home/_sergei/DataspellProjects/vein-segmentation/data/26/yolo_dataset/labels/train/vein_train_0021_aug_10.txt imgsz = 960 x 1280\n"
     ]
    },
    {
     "data": {
      "text/plain": [
       "<IPython.core.display.HTML object>"
      ],
      "text/html": [
       "<p><b>DEBUG</b>: Processing train file: photo no checkersboard (35).jpg</p>"
      ]
     },
     "metadata": {},
     "output_type": "display_data"
    },
    {
     "name": "stdout",
     "output_type": "stream",
     "text": [
      "Processing /home/_sergei/DataspellProjects/vein-segmentation/data/26/yolo_dataset/temp_masks/vein_train_0022_aug_00.png imgsz = 724 x 545\n",
      "Processed and stored at /home/_sergei/DataspellProjects/vein-segmentation/data/26/yolo_dataset/labels/train/vein_train_0022_aug_00.txt imgsz = 724 x 545\n"
     ]
    },
    {
     "data": {
      "text/plain": [
       "<IPython.core.display.HTML object>"
      ],
      "text/html": [
       "<p><b>DEBUG</b>: Processing train file: photo no checkersboard (35)_aug_0.jpg</p>"
      ]
     },
     "metadata": {},
     "output_type": "display_data"
    },
    {
     "name": "stdout",
     "output_type": "stream",
     "text": [
      "Processing /home/_sergei/DataspellProjects/vein-segmentation/data/26/yolo_dataset/temp_masks/vein_train_0022_aug_01.png imgsz = 724 x 545\n",
      "Processed and stored at /home/_sergei/DataspellProjects/vein-segmentation/data/26/yolo_dataset/labels/train/vein_train_0022_aug_01.txt imgsz = 724 x 545\n"
     ]
    },
    {
     "data": {
      "text/plain": [
       "<IPython.core.display.HTML object>"
      ],
      "text/html": [
       "<p><b>DEBUG</b>: Processing train file: photo no checkersboard (35)_aug_1.jpg</p>"
      ]
     },
     "metadata": {},
     "output_type": "display_data"
    },
    {
     "name": "stdout",
     "output_type": "stream",
     "text": [
      "Processing /home/_sergei/DataspellProjects/vein-segmentation/data/26/yolo_dataset/temp_masks/vein_train_0022_aug_02.png imgsz = 1280 x 960\n",
      "Processed and stored at /home/_sergei/DataspellProjects/vein-segmentation/data/26/yolo_dataset/labels/train/vein_train_0022_aug_02.txt imgsz = 1280 x 960\n"
     ]
    },
    {
     "data": {
      "text/plain": [
       "<IPython.core.display.HTML object>"
      ],
      "text/html": [
       "<p><b>DEBUG</b>: Processing train file: photo no checkersboard (35)_aug_2.jpg</p>"
      ]
     },
     "metadata": {},
     "output_type": "display_data"
    },
    {
     "name": "stdout",
     "output_type": "stream",
     "text": [
      "Processing /home/_sergei/DataspellProjects/vein-segmentation/data/26/yolo_dataset/temp_masks/vein_train_0022_aug_03.png imgsz = 960 x 1280\n",
      "Processed and stored at /home/_sergei/DataspellProjects/vein-segmentation/data/26/yolo_dataset/labels/train/vein_train_0022_aug_03.txt imgsz = 960 x 1280\n"
     ]
    },
    {
     "data": {
      "text/plain": [
       "<IPython.core.display.HTML object>"
      ],
      "text/html": [
       "<p><b>DEBUG</b>: Processing train file: photo no checkersboard (35)_aug_3.jpg</p>"
      ]
     },
     "metadata": {},
     "output_type": "display_data"
    },
    {
     "name": "stdout",
     "output_type": "stream",
     "text": [
      "Processing /home/_sergei/DataspellProjects/vein-segmentation/data/26/yolo_dataset/temp_masks/vein_train_0022_aug_04.png imgsz = 960 x 1280\n",
      "Processed and stored at /home/_sergei/DataspellProjects/vein-segmentation/data/26/yolo_dataset/labels/train/vein_train_0022_aug_04.txt imgsz = 960 x 1280\n"
     ]
    },
    {
     "data": {
      "text/plain": [
       "<IPython.core.display.HTML object>"
      ],
      "text/html": [
       "<p><b>DEBUG</b>: Processing train file: photo no checkersboard (35)_aug_4.jpg</p>"
      ]
     },
     "metadata": {},
     "output_type": "display_data"
    },
    {
     "name": "stdout",
     "output_type": "stream",
     "text": [
      "Processing /home/_sergei/DataspellProjects/vein-segmentation/data/26/yolo_dataset/temp_masks/vein_train_0022_aug_05.png imgsz = 1280 x 960\n",
      "Processed and stored at /home/_sergei/DataspellProjects/vein-segmentation/data/26/yolo_dataset/labels/train/vein_train_0022_aug_05.txt imgsz = 1280 x 960\n"
     ]
    },
    {
     "data": {
      "text/plain": [
       "<IPython.core.display.HTML object>"
      ],
      "text/html": [
       "<p><b>DEBUG</b>: Processing train file: photo no checkersboard (35)_aug_5.jpg</p>"
      ]
     },
     "metadata": {},
     "output_type": "display_data"
    },
    {
     "name": "stdout",
     "output_type": "stream",
     "text": [
      "Processing /home/_sergei/DataspellProjects/vein-segmentation/data/26/yolo_dataset/temp_masks/vein_train_0022_aug_06.png imgsz = 960 x 1280\n",
      "Processed and stored at /home/_sergei/DataspellProjects/vein-segmentation/data/26/yolo_dataset/labels/train/vein_train_0022_aug_06.txt imgsz = 960 x 1280\n"
     ]
    },
    {
     "data": {
      "text/plain": [
       "<IPython.core.display.HTML object>"
      ],
      "text/html": [
       "<p><b>DEBUG</b>: Processing train file: photo no checkersboard (35)_aug_6.jpg</p>"
      ]
     },
     "metadata": {},
     "output_type": "display_data"
    },
    {
     "name": "stdout",
     "output_type": "stream",
     "text": [
      "Processing /home/_sergei/DataspellProjects/vein-segmentation/data/26/yolo_dataset/temp_masks/vein_train_0022_aug_07.png imgsz = 1280 x 960\n",
      "Processed and stored at /home/_sergei/DataspellProjects/vein-segmentation/data/26/yolo_dataset/labels/train/vein_train_0022_aug_07.txt imgsz = 1280 x 960\n"
     ]
    },
    {
     "data": {
      "text/plain": [
       "<IPython.core.display.HTML object>"
      ],
      "text/html": [
       "<p><b>DEBUG</b>: Processing train file: photo no checkersboard (35)_aug_7.jpg</p>"
      ]
     },
     "metadata": {},
     "output_type": "display_data"
    },
    {
     "name": "stdout",
     "output_type": "stream",
     "text": [
      "Processing /home/_sergei/DataspellProjects/vein-segmentation/data/26/yolo_dataset/temp_masks/vein_train_0022_aug_08.png imgsz = 1280 x 960\n",
      "Processed and stored at /home/_sergei/DataspellProjects/vein-segmentation/data/26/yolo_dataset/labels/train/vein_train_0022_aug_08.txt imgsz = 1280 x 960\n"
     ]
    },
    {
     "data": {
      "text/plain": [
       "<IPython.core.display.HTML object>"
      ],
      "text/html": [
       "<p><b>DEBUG</b>: Processing train file: photo no checkersboard (35)_aug_8.jpg</p>"
      ]
     },
     "metadata": {},
     "output_type": "display_data"
    },
    {
     "name": "stdout",
     "output_type": "stream",
     "text": [
      "Processing /home/_sergei/DataspellProjects/vein-segmentation/data/26/yolo_dataset/temp_masks/vein_train_0022_aug_09.png imgsz = 960 x 1280\n",
      "Processed and stored at /home/_sergei/DataspellProjects/vein-segmentation/data/26/yolo_dataset/labels/train/vein_train_0022_aug_09.txt imgsz = 960 x 1280\n"
     ]
    },
    {
     "data": {
      "text/plain": [
       "<IPython.core.display.HTML object>"
      ],
      "text/html": [
       "<p><b>DEBUG</b>: Processing train file: photo no checkersboard (35)_aug_9.jpg</p>"
      ]
     },
     "metadata": {},
     "output_type": "display_data"
    },
    {
     "name": "stdout",
     "output_type": "stream",
     "text": [
      "Processing /home/_sergei/DataspellProjects/vein-segmentation/data/26/yolo_dataset/temp_masks/vein_train_0022_aug_10.png imgsz = 960 x 1280\n",
      "Processed and stored at /home/_sergei/DataspellProjects/vein-segmentation/data/26/yolo_dataset/labels/train/vein_train_0022_aug_10.txt imgsz = 960 x 1280\n"
     ]
    },
    {
     "data": {
      "text/plain": [
       "<IPython.core.display.HTML object>"
      ],
      "text/html": [
       "<p><b>DEBUG</b>: Processing train file: photo no checkersboard (12).jpg</p>"
      ]
     },
     "metadata": {},
     "output_type": "display_data"
    },
    {
     "name": "stdout",
     "output_type": "stream",
     "text": [
      "Processing /home/_sergei/DataspellProjects/vein-segmentation/data/26/yolo_dataset/temp_masks/vein_train_0023_aug_00.png imgsz = 726 x 545\n",
      "Processed and stored at /home/_sergei/DataspellProjects/vein-segmentation/data/26/yolo_dataset/labels/train/vein_train_0023_aug_00.txt imgsz = 726 x 545\n"
     ]
    },
    {
     "data": {
      "text/plain": [
       "<IPython.core.display.HTML object>"
      ],
      "text/html": [
       "<p><b>DEBUG</b>: Processing train file: photo no checkersboard (12)_aug_0.jpg</p>"
      ]
     },
     "metadata": {},
     "output_type": "display_data"
    },
    {
     "name": "stdout",
     "output_type": "stream",
     "text": [
      "Processing /home/_sergei/DataspellProjects/vein-segmentation/data/26/yolo_dataset/temp_masks/vein_train_0023_aug_01.png imgsz = 726 x 545\n",
      "Processed and stored at /home/_sergei/DataspellProjects/vein-segmentation/data/26/yolo_dataset/labels/train/vein_train_0023_aug_01.txt imgsz = 726 x 545\n"
     ]
    },
    {
     "data": {
      "text/plain": [
       "<IPython.core.display.HTML object>"
      ],
      "text/html": [
       "<p><b>DEBUG</b>: Processing train file: photo no checkersboard (12)_aug_1.jpg</p>"
      ]
     },
     "metadata": {},
     "output_type": "display_data"
    },
    {
     "name": "stdout",
     "output_type": "stream",
     "text": [
      "Processing /home/_sergei/DataspellProjects/vein-segmentation/data/26/yolo_dataset/temp_masks/vein_train_0023_aug_02.png imgsz = 960 x 1280\n",
      "Processed and stored at /home/_sergei/DataspellProjects/vein-segmentation/data/26/yolo_dataset/labels/train/vein_train_0023_aug_02.txt imgsz = 960 x 1280\n"
     ]
    },
    {
     "data": {
      "text/plain": [
       "<IPython.core.display.HTML object>"
      ],
      "text/html": [
       "<p><b>DEBUG</b>: Processing train file: photo no checkersboard (12)_aug_2.jpg</p>"
      ]
     },
     "metadata": {},
     "output_type": "display_data"
    },
    {
     "name": "stdout",
     "output_type": "stream",
     "text": [
      "Processing /home/_sergei/DataspellProjects/vein-segmentation/data/26/yolo_dataset/temp_masks/vein_train_0023_aug_03.png imgsz = 960 x 1280\n",
      "Processed and stored at /home/_sergei/DataspellProjects/vein-segmentation/data/26/yolo_dataset/labels/train/vein_train_0023_aug_03.txt imgsz = 960 x 1280\n"
     ]
    },
    {
     "data": {
      "text/plain": [
       "<IPython.core.display.HTML object>"
      ],
      "text/html": [
       "<p><b>DEBUG</b>: Processing train file: photo no checkersboard (12)_aug_3.jpg</p>"
      ]
     },
     "metadata": {},
     "output_type": "display_data"
    },
    {
     "name": "stdout",
     "output_type": "stream",
     "text": [
      "Processing /home/_sergei/DataspellProjects/vein-segmentation/data/26/yolo_dataset/temp_masks/vein_train_0023_aug_04.png imgsz = 1280 x 960\n",
      "Processed and stored at /home/_sergei/DataspellProjects/vein-segmentation/data/26/yolo_dataset/labels/train/vein_train_0023_aug_04.txt imgsz = 1280 x 960\n"
     ]
    },
    {
     "data": {
      "text/plain": [
       "<IPython.core.display.HTML object>"
      ],
      "text/html": [
       "<p><b>DEBUG</b>: Processing train file: photo no checkersboard (12)_aug_4.jpg</p>"
      ]
     },
     "metadata": {},
     "output_type": "display_data"
    },
    {
     "name": "stdout",
     "output_type": "stream",
     "text": [
      "Processing /home/_sergei/DataspellProjects/vein-segmentation/data/26/yolo_dataset/temp_masks/vein_train_0023_aug_05.png imgsz = 960 x 1280\n",
      "Processed and stored at /home/_sergei/DataspellProjects/vein-segmentation/data/26/yolo_dataset/labels/train/vein_train_0023_aug_05.txt imgsz = 960 x 1280\n"
     ]
    },
    {
     "data": {
      "text/plain": [
       "<IPython.core.display.HTML object>"
      ],
      "text/html": [
       "<p><b>DEBUG</b>: Processing train file: photo no checkersboard (12)_aug_5.jpg</p>"
      ]
     },
     "metadata": {},
     "output_type": "display_data"
    },
    {
     "name": "stdout",
     "output_type": "stream",
     "text": [
      "Processing /home/_sergei/DataspellProjects/vein-segmentation/data/26/yolo_dataset/temp_masks/vein_train_0023_aug_06.png imgsz = 1280 x 960\n",
      "Processed and stored at /home/_sergei/DataspellProjects/vein-segmentation/data/26/yolo_dataset/labels/train/vein_train_0023_aug_06.txt imgsz = 1280 x 960\n"
     ]
    },
    {
     "data": {
      "text/plain": [
       "<IPython.core.display.HTML object>"
      ],
      "text/html": [
       "<p><b>DEBUG</b>: Processing train file: photo no checkersboard (12)_aug_6.jpg</p>"
      ]
     },
     "metadata": {},
     "output_type": "display_data"
    },
    {
     "name": "stdout",
     "output_type": "stream",
     "text": [
      "Processing /home/_sergei/DataspellProjects/vein-segmentation/data/26/yolo_dataset/temp_masks/vein_train_0023_aug_07.png imgsz = 960 x 1280\n",
      "Processed and stored at /home/_sergei/DataspellProjects/vein-segmentation/data/26/yolo_dataset/labels/train/vein_train_0023_aug_07.txt imgsz = 960 x 1280\n"
     ]
    },
    {
     "data": {
      "text/plain": [
       "<IPython.core.display.HTML object>"
      ],
      "text/html": [
       "<p><b>DEBUG</b>: Processing train file: photo no checkersboard (12)_aug_7.jpg</p>"
      ]
     },
     "metadata": {},
     "output_type": "display_data"
    },
    {
     "name": "stdout",
     "output_type": "stream",
     "text": [
      "Processing /home/_sergei/DataspellProjects/vein-segmentation/data/26/yolo_dataset/temp_masks/vein_train_0023_aug_08.png imgsz = 960 x 1280\n",
      "Processed and stored at /home/_sergei/DataspellProjects/vein-segmentation/data/26/yolo_dataset/labels/train/vein_train_0023_aug_08.txt imgsz = 960 x 1280\n"
     ]
    },
    {
     "data": {
      "text/plain": [
       "<IPython.core.display.HTML object>"
      ],
      "text/html": [
       "<p><b>DEBUG</b>: Processing train file: photo no checkersboard (12)_aug_8.jpg</p>"
      ]
     },
     "metadata": {},
     "output_type": "display_data"
    },
    {
     "name": "stdout",
     "output_type": "stream",
     "text": [
      "Processing /home/_sergei/DataspellProjects/vein-segmentation/data/26/yolo_dataset/temp_masks/vein_train_0023_aug_09.png imgsz = 1280 x 960\n",
      "Processed and stored at /home/_sergei/DataspellProjects/vein-segmentation/data/26/yolo_dataset/labels/train/vein_train_0023_aug_09.txt imgsz = 1280 x 960\n"
     ]
    },
    {
     "data": {
      "text/plain": [
       "<IPython.core.display.HTML object>"
      ],
      "text/html": [
       "<p><b>DEBUG</b>: Processing train file: photo no checkersboard (12)_aug_9.jpg</p>"
      ]
     },
     "metadata": {},
     "output_type": "display_data"
    },
    {
     "name": "stdout",
     "output_type": "stream",
     "text": [
      "Processing /home/_sergei/DataspellProjects/vein-segmentation/data/26/yolo_dataset/temp_masks/vein_train_0023_aug_10.png imgsz = 960 x 1280\n",
      "Processed and stored at /home/_sergei/DataspellProjects/vein-segmentation/data/26/yolo_dataset/labels/train/vein_train_0023_aug_10.txt imgsz = 960 x 1280\n"
     ]
    },
    {
     "data": {
      "text/plain": [
       "<IPython.core.display.HTML object>"
      ],
      "text/html": [
       "<p><b>DEBUG</b>: Processing train file: photo no checkersboard (20).jpg</p>"
      ]
     },
     "metadata": {},
     "output_type": "display_data"
    },
    {
     "name": "stdout",
     "output_type": "stream",
     "text": [
      "Processing /home/_sergei/DataspellProjects/vein-segmentation/data/26/yolo_dataset/temp_masks/vein_train_0024_aug_00.png imgsz = 725 x 545\n",
      "Processed and stored at /home/_sergei/DataspellProjects/vein-segmentation/data/26/yolo_dataset/labels/train/vein_train_0024_aug_00.txt imgsz = 725 x 545\n"
     ]
    },
    {
     "data": {
      "text/plain": [
       "<IPython.core.display.HTML object>"
      ],
      "text/html": [
       "<p><b>DEBUG</b>: Processing train file: photo no checkersboard (20)_aug_0.jpg</p>"
      ]
     },
     "metadata": {},
     "output_type": "display_data"
    },
    {
     "name": "stdout",
     "output_type": "stream",
     "text": [
      "Processing /home/_sergei/DataspellProjects/vein-segmentation/data/26/yolo_dataset/temp_masks/vein_train_0024_aug_01.png imgsz = 725 x 545\n",
      "Processed and stored at /home/_sergei/DataspellProjects/vein-segmentation/data/26/yolo_dataset/labels/train/vein_train_0024_aug_01.txt imgsz = 725 x 545\n"
     ]
    },
    {
     "data": {
      "text/plain": [
       "<IPython.core.display.HTML object>"
      ],
      "text/html": [
       "<p><b>DEBUG</b>: Processing train file: photo no checkersboard (20)_aug_1.jpg</p>"
      ]
     },
     "metadata": {},
     "output_type": "display_data"
    },
    {
     "name": "stdout",
     "output_type": "stream",
     "text": [
      "Processing /home/_sergei/DataspellProjects/vein-segmentation/data/26/yolo_dataset/temp_masks/vein_train_0024_aug_02.png imgsz = 960 x 1280\n",
      "Processed and stored at /home/_sergei/DataspellProjects/vein-segmentation/data/26/yolo_dataset/labels/train/vein_train_0024_aug_02.txt imgsz = 960 x 1280\n"
     ]
    },
    {
     "data": {
      "text/plain": [
       "<IPython.core.display.HTML object>"
      ],
      "text/html": [
       "<p><b>DEBUG</b>: Processing train file: photo no checkersboard (20)_aug_2.jpg</p>"
      ]
     },
     "metadata": {},
     "output_type": "display_data"
    },
    {
     "name": "stdout",
     "output_type": "stream",
     "text": [
      "Processing /home/_sergei/DataspellProjects/vein-segmentation/data/26/yolo_dataset/temp_masks/vein_train_0024_aug_03.png imgsz = 960 x 1280\n",
      "Processed and stored at /home/_sergei/DataspellProjects/vein-segmentation/data/26/yolo_dataset/labels/train/vein_train_0024_aug_03.txt imgsz = 960 x 1280\n"
     ]
    },
    {
     "data": {
      "text/plain": [
       "<IPython.core.display.HTML object>"
      ],
      "text/html": [
       "<p><b>DEBUG</b>: Processing train file: photo no checkersboard (20)_aug_3.jpg</p>"
      ]
     },
     "metadata": {},
     "output_type": "display_data"
    },
    {
     "name": "stdout",
     "output_type": "stream",
     "text": [
      "Processing /home/_sergei/DataspellProjects/vein-segmentation/data/26/yolo_dataset/temp_masks/vein_train_0024_aug_04.png imgsz = 960 x 1280\n",
      "Processed and stored at /home/_sergei/DataspellProjects/vein-segmentation/data/26/yolo_dataset/labels/train/vein_train_0024_aug_04.txt imgsz = 960 x 1280\n"
     ]
    },
    {
     "data": {
      "text/plain": [
       "<IPython.core.display.HTML object>"
      ],
      "text/html": [
       "<p><b>DEBUG</b>: Processing train file: photo no checkersboard (20)_aug_4.jpg</p>"
      ]
     },
     "metadata": {},
     "output_type": "display_data"
    },
    {
     "name": "stdout",
     "output_type": "stream",
     "text": [
      "Processing /home/_sergei/DataspellProjects/vein-segmentation/data/26/yolo_dataset/temp_masks/vein_train_0024_aug_05.png imgsz = 1280 x 960\n",
      "Processed and stored at /home/_sergei/DataspellProjects/vein-segmentation/data/26/yolo_dataset/labels/train/vein_train_0024_aug_05.txt imgsz = 1280 x 960\n"
     ]
    },
    {
     "data": {
      "text/plain": [
       "<IPython.core.display.HTML object>"
      ],
      "text/html": [
       "<p><b>DEBUG</b>: Processing train file: photo no checkersboard (20)_aug_5.jpg</p>"
      ]
     },
     "metadata": {},
     "output_type": "display_data"
    },
    {
     "name": "stdout",
     "output_type": "stream",
     "text": [
      "Processing /home/_sergei/DataspellProjects/vein-segmentation/data/26/yolo_dataset/temp_masks/vein_train_0024_aug_06.png imgsz = 1280 x 960\n",
      "Processed and stored at /home/_sergei/DataspellProjects/vein-segmentation/data/26/yolo_dataset/labels/train/vein_train_0024_aug_06.txt imgsz = 1280 x 960\n"
     ]
    },
    {
     "data": {
      "text/plain": [
       "<IPython.core.display.HTML object>"
      ],
      "text/html": [
       "<p><b>DEBUG</b>: Processing train file: photo no checkersboard (20)_aug_6.jpg</p>"
      ]
     },
     "metadata": {},
     "output_type": "display_data"
    },
    {
     "name": "stdout",
     "output_type": "stream",
     "text": [
      "Processing /home/_sergei/DataspellProjects/vein-segmentation/data/26/yolo_dataset/temp_masks/vein_train_0024_aug_07.png imgsz = 1280 x 960\n",
      "Processed and stored at /home/_sergei/DataspellProjects/vein-segmentation/data/26/yolo_dataset/labels/train/vein_train_0024_aug_07.txt imgsz = 1280 x 960\n"
     ]
    },
    {
     "data": {
      "text/plain": [
       "<IPython.core.display.HTML object>"
      ],
      "text/html": [
       "<p><b>DEBUG</b>: Processing train file: photo no checkersboard (20)_aug_7.jpg</p>"
      ]
     },
     "metadata": {},
     "output_type": "display_data"
    },
    {
     "name": "stdout",
     "output_type": "stream",
     "text": [
      "Processing /home/_sergei/DataspellProjects/vein-segmentation/data/26/yolo_dataset/temp_masks/vein_train_0024_aug_08.png imgsz = 960 x 1280\n",
      "Processed and stored at /home/_sergei/DataspellProjects/vein-segmentation/data/26/yolo_dataset/labels/train/vein_train_0024_aug_08.txt imgsz = 960 x 1280\n"
     ]
    },
    {
     "data": {
      "text/plain": [
       "<IPython.core.display.HTML object>"
      ],
      "text/html": [
       "<p><b>DEBUG</b>: Processing train file: photo no checkersboard (20)_aug_8.jpg</p>"
      ]
     },
     "metadata": {},
     "output_type": "display_data"
    },
    {
     "name": "stdout",
     "output_type": "stream",
     "text": [
      "Processing /home/_sergei/DataspellProjects/vein-segmentation/data/26/yolo_dataset/temp_masks/vein_train_0024_aug_09.png imgsz = 960 x 1280\n",
      "Processed and stored at /home/_sergei/DataspellProjects/vein-segmentation/data/26/yolo_dataset/labels/train/vein_train_0024_aug_09.txt imgsz = 960 x 1280\n"
     ]
    },
    {
     "data": {
      "text/plain": [
       "<IPython.core.display.HTML object>"
      ],
      "text/html": [
       "<p><b>DEBUG</b>: Processing train file: photo no checkersboard (20)_aug_9.jpg</p>"
      ]
     },
     "metadata": {},
     "output_type": "display_data"
    },
    {
     "name": "stdout",
     "output_type": "stream",
     "text": [
      "Processing /home/_sergei/DataspellProjects/vein-segmentation/data/26/yolo_dataset/temp_masks/vein_train_0024_aug_10.png imgsz = 960 x 1280\n",
      "Processed and stored at /home/_sergei/DataspellProjects/vein-segmentation/data/26/yolo_dataset/labels/train/vein_train_0024_aug_10.txt imgsz = 960 x 1280\n"
     ]
    },
    {
     "data": {
      "text/plain": [
       "<IPython.core.display.HTML object>"
      ],
      "text/html": [
       "<p><b>DEBUG</b>: Processing train file: photo no checkersboard (24).jpg</p>"
      ]
     },
     "metadata": {},
     "output_type": "display_data"
    },
    {
     "name": "stdout",
     "output_type": "stream",
     "text": [
      "Processing /home/_sergei/DataspellProjects/vein-segmentation/data/26/yolo_dataset/temp_masks/vein_train_0025_aug_00.png imgsz = 725 x 545\n",
      "Processed and stored at /home/_sergei/DataspellProjects/vein-segmentation/data/26/yolo_dataset/labels/train/vein_train_0025_aug_00.txt imgsz = 725 x 545\n"
     ]
    },
    {
     "data": {
      "text/plain": [
       "<IPython.core.display.HTML object>"
      ],
      "text/html": [
       "<p><b>DEBUG</b>: Processing train file: photo no checkersboard (24)_aug_0.jpg</p>"
      ]
     },
     "metadata": {},
     "output_type": "display_data"
    },
    {
     "name": "stdout",
     "output_type": "stream",
     "text": [
      "Processing /home/_sergei/DataspellProjects/vein-segmentation/data/26/yolo_dataset/temp_masks/vein_train_0025_aug_01.png imgsz = 725 x 545\n",
      "Processed and stored at /home/_sergei/DataspellProjects/vein-segmentation/data/26/yolo_dataset/labels/train/vein_train_0025_aug_01.txt imgsz = 725 x 545\n"
     ]
    },
    {
     "data": {
      "text/plain": [
       "<IPython.core.display.HTML object>"
      ],
      "text/html": [
       "<p><b>DEBUG</b>: Processing train file: photo no checkersboard (24)_aug_1.jpg</p>"
      ]
     },
     "metadata": {},
     "output_type": "display_data"
    },
    {
     "name": "stdout",
     "output_type": "stream",
     "text": [
      "Processing /home/_sergei/DataspellProjects/vein-segmentation/data/26/yolo_dataset/temp_masks/vein_train_0025_aug_02.png imgsz = 960 x 1280\n",
      "Processed and stored at /home/_sergei/DataspellProjects/vein-segmentation/data/26/yolo_dataset/labels/train/vein_train_0025_aug_02.txt imgsz = 960 x 1280\n"
     ]
    },
    {
     "data": {
      "text/plain": [
       "<IPython.core.display.HTML object>"
      ],
      "text/html": [
       "<p><b>DEBUG</b>: Processing train file: photo no checkersboard (24)_aug_2.jpg</p>"
      ]
     },
     "metadata": {},
     "output_type": "display_data"
    },
    {
     "name": "stdout",
     "output_type": "stream",
     "text": [
      "Processing /home/_sergei/DataspellProjects/vein-segmentation/data/26/yolo_dataset/temp_masks/vein_train_0025_aug_03.png imgsz = 1280 x 960\n",
      "Processed and stored at /home/_sergei/DataspellProjects/vein-segmentation/data/26/yolo_dataset/labels/train/vein_train_0025_aug_03.txt imgsz = 1280 x 960\n"
     ]
    },
    {
     "data": {
      "text/plain": [
       "<IPython.core.display.HTML object>"
      ],
      "text/html": [
       "<p><b>DEBUG</b>: Processing train file: photo no checkersboard (24)_aug_3.jpg</p>"
      ]
     },
     "metadata": {},
     "output_type": "display_data"
    },
    {
     "name": "stdout",
     "output_type": "stream",
     "text": [
      "Processing /home/_sergei/DataspellProjects/vein-segmentation/data/26/yolo_dataset/temp_masks/vein_train_0025_aug_04.png imgsz = 960 x 1280\n",
      "Processed and stored at /home/_sergei/DataspellProjects/vein-segmentation/data/26/yolo_dataset/labels/train/vein_train_0025_aug_04.txt imgsz = 960 x 1280\n"
     ]
    },
    {
     "data": {
      "text/plain": [
       "<IPython.core.display.HTML object>"
      ],
      "text/html": [
       "<p><b>DEBUG</b>: Processing train file: photo no checkersboard (24)_aug_4.jpg</p>"
      ]
     },
     "metadata": {},
     "output_type": "display_data"
    },
    {
     "name": "stdout",
     "output_type": "stream",
     "text": [
      "Processing /home/_sergei/DataspellProjects/vein-segmentation/data/26/yolo_dataset/temp_masks/vein_train_0025_aug_05.png imgsz = 1280 x 960\n",
      "Processed and stored at /home/_sergei/DataspellProjects/vein-segmentation/data/26/yolo_dataset/labels/train/vein_train_0025_aug_05.txt imgsz = 1280 x 960\n"
     ]
    },
    {
     "data": {
      "text/plain": [
       "<IPython.core.display.HTML object>"
      ],
      "text/html": [
       "<p><b>DEBUG</b>: Processing train file: photo no checkersboard (24)_aug_5.jpg</p>"
      ]
     },
     "metadata": {},
     "output_type": "display_data"
    },
    {
     "name": "stdout",
     "output_type": "stream",
     "text": [
      "Processing /home/_sergei/DataspellProjects/vein-segmentation/data/26/yolo_dataset/temp_masks/vein_train_0025_aug_06.png imgsz = 960 x 1280\n",
      "Processed and stored at /home/_sergei/DataspellProjects/vein-segmentation/data/26/yolo_dataset/labels/train/vein_train_0025_aug_06.txt imgsz = 960 x 1280\n"
     ]
    },
    {
     "data": {
      "text/plain": [
       "<IPython.core.display.HTML object>"
      ],
      "text/html": [
       "<p><b>DEBUG</b>: Processing train file: photo no checkersboard (24)_aug_6.jpg</p>"
      ]
     },
     "metadata": {},
     "output_type": "display_data"
    },
    {
     "name": "stdout",
     "output_type": "stream",
     "text": [
      "Processing /home/_sergei/DataspellProjects/vein-segmentation/data/26/yolo_dataset/temp_masks/vein_train_0025_aug_07.png imgsz = 1280 x 960\n",
      "Processed and stored at /home/_sergei/DataspellProjects/vein-segmentation/data/26/yolo_dataset/labels/train/vein_train_0025_aug_07.txt imgsz = 1280 x 960\n"
     ]
    },
    {
     "data": {
      "text/plain": [
       "<IPython.core.display.HTML object>"
      ],
      "text/html": [
       "<p><b>DEBUG</b>: Processing train file: photo no checkersboard (24)_aug_7.jpg</p>"
      ]
     },
     "metadata": {},
     "output_type": "display_data"
    },
    {
     "name": "stdout",
     "output_type": "stream",
     "text": [
      "Processing /home/_sergei/DataspellProjects/vein-segmentation/data/26/yolo_dataset/temp_masks/vein_train_0025_aug_08.png imgsz = 960 x 1280\n",
      "Processed and stored at /home/_sergei/DataspellProjects/vein-segmentation/data/26/yolo_dataset/labels/train/vein_train_0025_aug_08.txt imgsz = 960 x 1280\n"
     ]
    },
    {
     "data": {
      "text/plain": [
       "<IPython.core.display.HTML object>"
      ],
      "text/html": [
       "<p><b>DEBUG</b>: Processing train file: photo no checkersboard (24)_aug_8.jpg</p>"
      ]
     },
     "metadata": {},
     "output_type": "display_data"
    },
    {
     "name": "stdout",
     "output_type": "stream",
     "text": [
      "Processing /home/_sergei/DataspellProjects/vein-segmentation/data/26/yolo_dataset/temp_masks/vein_train_0025_aug_09.png imgsz = 960 x 1280\n",
      "Processed and stored at /home/_sergei/DataspellProjects/vein-segmentation/data/26/yolo_dataset/labels/train/vein_train_0025_aug_09.txt imgsz = 960 x 1280\n"
     ]
    },
    {
     "data": {
      "text/plain": [
       "<IPython.core.display.HTML object>"
      ],
      "text/html": [
       "<p><b>DEBUG</b>: Processing train file: photo no checkersboard (24)_aug_9.jpg</p>"
      ]
     },
     "metadata": {},
     "output_type": "display_data"
    },
    {
     "name": "stdout",
     "output_type": "stream",
     "text": [
      "Processing /home/_sergei/DataspellProjects/vein-segmentation/data/26/yolo_dataset/temp_masks/vein_train_0025_aug_10.png imgsz = 960 x 1280\n",
      "Processed and stored at /home/_sergei/DataspellProjects/vein-segmentation/data/26/yolo_dataset/labels/train/vein_train_0025_aug_10.txt imgsz = 960 x 1280\n"
     ]
    },
    {
     "data": {
      "text/plain": [
       "<IPython.core.display.HTML object>"
      ],
      "text/html": [
       "<p><b>DEBUG</b>: Processing train file: photo no checkersboard (49).jpg</p>"
      ]
     },
     "metadata": {},
     "output_type": "display_data"
    },
    {
     "name": "stdout",
     "output_type": "stream",
     "text": [
      "Processing /home/_sergei/DataspellProjects/vein-segmentation/data/26/yolo_dataset/temp_masks/vein_train_0026_aug_00.png imgsz = 725 x 544\n",
      "Processed and stored at /home/_sergei/DataspellProjects/vein-segmentation/data/26/yolo_dataset/labels/train/vein_train_0026_aug_00.txt imgsz = 725 x 544\n"
     ]
    },
    {
     "data": {
      "text/plain": [
       "<IPython.core.display.HTML object>"
      ],
      "text/html": [
       "<p><b>DEBUG</b>: Processing train file: photo no checkersboard (49)_aug_0.jpg</p>"
      ]
     },
     "metadata": {},
     "output_type": "display_data"
    },
    {
     "name": "stdout",
     "output_type": "stream",
     "text": [
      "Processing /home/_sergei/DataspellProjects/vein-segmentation/data/26/yolo_dataset/temp_masks/vein_train_0026_aug_01.png imgsz = 725 x 544\n",
      "Processed and stored at /home/_sergei/DataspellProjects/vein-segmentation/data/26/yolo_dataset/labels/train/vein_train_0026_aug_01.txt imgsz = 725 x 544\n"
     ]
    },
    {
     "data": {
      "text/plain": [
       "<IPython.core.display.HTML object>"
      ],
      "text/html": [
       "<p><b>DEBUG</b>: Processing train file: photo no checkersboard (49)_aug_1.jpg</p>"
      ]
     },
     "metadata": {},
     "output_type": "display_data"
    },
    {
     "name": "stdout",
     "output_type": "stream",
     "text": [
      "Processing /home/_sergei/DataspellProjects/vein-segmentation/data/26/yolo_dataset/temp_masks/vein_train_0026_aug_02.png imgsz = 1280 x 960\n",
      "Processed and stored at /home/_sergei/DataspellProjects/vein-segmentation/data/26/yolo_dataset/labels/train/vein_train_0026_aug_02.txt imgsz = 1280 x 960\n"
     ]
    },
    {
     "data": {
      "text/plain": [
       "<IPython.core.display.HTML object>"
      ],
      "text/html": [
       "<p><b>DEBUG</b>: Processing train file: photo no checkersboard (49)_aug_2.jpg</p>"
      ]
     },
     "metadata": {},
     "output_type": "display_data"
    },
    {
     "name": "stdout",
     "output_type": "stream",
     "text": [
      "Processing /home/_sergei/DataspellProjects/vein-segmentation/data/26/yolo_dataset/temp_masks/vein_train_0026_aug_03.png imgsz = 960 x 1280\n",
      "Processed and stored at /home/_sergei/DataspellProjects/vein-segmentation/data/26/yolo_dataset/labels/train/vein_train_0026_aug_03.txt imgsz = 960 x 1280\n"
     ]
    },
    {
     "data": {
      "text/plain": [
       "<IPython.core.display.HTML object>"
      ],
      "text/html": [
       "<p><b>DEBUG</b>: Processing train file: photo no checkersboard (49)_aug_3.jpg</p>"
      ]
     },
     "metadata": {},
     "output_type": "display_data"
    },
    {
     "name": "stdout",
     "output_type": "stream",
     "text": [
      "Processing /home/_sergei/DataspellProjects/vein-segmentation/data/26/yolo_dataset/temp_masks/vein_train_0026_aug_04.png imgsz = 1280 x 960\n",
      "Processed and stored at /home/_sergei/DataspellProjects/vein-segmentation/data/26/yolo_dataset/labels/train/vein_train_0026_aug_04.txt imgsz = 1280 x 960\n"
     ]
    },
    {
     "data": {
      "text/plain": [
       "<IPython.core.display.HTML object>"
      ],
      "text/html": [
       "<p><b>DEBUG</b>: Processing train file: photo no checkersboard (49)_aug_4.jpg</p>"
      ]
     },
     "metadata": {},
     "output_type": "display_data"
    },
    {
     "name": "stdout",
     "output_type": "stream",
     "text": [
      "Processing /home/_sergei/DataspellProjects/vein-segmentation/data/26/yolo_dataset/temp_masks/vein_train_0026_aug_05.png imgsz = 960 x 1280\n",
      "Processed and stored at /home/_sergei/DataspellProjects/vein-segmentation/data/26/yolo_dataset/labels/train/vein_train_0026_aug_05.txt imgsz = 960 x 1280\n"
     ]
    },
    {
     "data": {
      "text/plain": [
       "<IPython.core.display.HTML object>"
      ],
      "text/html": [
       "<p><b>DEBUG</b>: Processing train file: photo no checkersboard (49)_aug_5.jpg</p>"
      ]
     },
     "metadata": {},
     "output_type": "display_data"
    },
    {
     "name": "stdout",
     "output_type": "stream",
     "text": [
      "Processing /home/_sergei/DataspellProjects/vein-segmentation/data/26/yolo_dataset/temp_masks/vein_train_0026_aug_06.png imgsz = 960 x 1280\n",
      "Processed and stored at /home/_sergei/DataspellProjects/vein-segmentation/data/26/yolo_dataset/labels/train/vein_train_0026_aug_06.txt imgsz = 960 x 1280\n"
     ]
    },
    {
     "data": {
      "text/plain": [
       "<IPython.core.display.HTML object>"
      ],
      "text/html": [
       "<p><b>DEBUG</b>: Processing train file: photo no checkersboard (49)_aug_6.jpg</p>"
      ]
     },
     "metadata": {},
     "output_type": "display_data"
    },
    {
     "name": "stdout",
     "output_type": "stream",
     "text": [
      "Processing /home/_sergei/DataspellProjects/vein-segmentation/data/26/yolo_dataset/temp_masks/vein_train_0026_aug_07.png imgsz = 1280 x 960\n",
      "Processed and stored at /home/_sergei/DataspellProjects/vein-segmentation/data/26/yolo_dataset/labels/train/vein_train_0026_aug_07.txt imgsz = 1280 x 960\n"
     ]
    },
    {
     "data": {
      "text/plain": [
       "<IPython.core.display.HTML object>"
      ],
      "text/html": [
       "<p><b>DEBUG</b>: Processing train file: photo no checkersboard (49)_aug_7.jpg</p>"
      ]
     },
     "metadata": {},
     "output_type": "display_data"
    },
    {
     "name": "stdout",
     "output_type": "stream",
     "text": [
      "Processing /home/_sergei/DataspellProjects/vein-segmentation/data/26/yolo_dataset/temp_masks/vein_train_0026_aug_08.png imgsz = 960 x 1280\n",
      "Processed and stored at /home/_sergei/DataspellProjects/vein-segmentation/data/26/yolo_dataset/labels/train/vein_train_0026_aug_08.txt imgsz = 960 x 1280\n"
     ]
    },
    {
     "data": {
      "text/plain": [
       "<IPython.core.display.HTML object>"
      ],
      "text/html": [
       "<p><b>DEBUG</b>: Processing train file: photo no checkersboard (49)_aug_8.jpg</p>"
      ]
     },
     "metadata": {},
     "output_type": "display_data"
    },
    {
     "name": "stdout",
     "output_type": "stream",
     "text": [
      "Processing /home/_sergei/DataspellProjects/vein-segmentation/data/26/yolo_dataset/temp_masks/vein_train_0026_aug_09.png imgsz = 960 x 1280\n",
      "Processed and stored at /home/_sergei/DataspellProjects/vein-segmentation/data/26/yolo_dataset/labels/train/vein_train_0026_aug_09.txt imgsz = 960 x 1280\n"
     ]
    },
    {
     "data": {
      "text/plain": [
       "<IPython.core.display.HTML object>"
      ],
      "text/html": [
       "<p><b>DEBUG</b>: Processing train file: photo no checkersboard (49)_aug_9.jpg</p>"
      ]
     },
     "metadata": {},
     "output_type": "display_data"
    },
    {
     "name": "stdout",
     "output_type": "stream",
     "text": [
      "Processing /home/_sergei/DataspellProjects/vein-segmentation/data/26/yolo_dataset/temp_masks/vein_train_0026_aug_10.png imgsz = 960 x 1280\n",
      "Processed and stored at /home/_sergei/DataspellProjects/vein-segmentation/data/26/yolo_dataset/labels/train/vein_train_0026_aug_10.txt imgsz = 960 x 1280\n"
     ]
    },
    {
     "data": {
      "text/plain": [
       "<IPython.core.display.HTML object>"
      ],
      "text/html": [
       "<p><b>DEBUG</b>: Processing train file: photo no checkersboard (31).jpg</p>"
      ]
     },
     "metadata": {},
     "output_type": "display_data"
    },
    {
     "name": "stdout",
     "output_type": "stream",
     "text": [
      "Processing /home/_sergei/DataspellProjects/vein-segmentation/data/26/yolo_dataset/temp_masks/vein_train_0027_aug_00.png imgsz = 726 x 546\n",
      "Processed and stored at /home/_sergei/DataspellProjects/vein-segmentation/data/26/yolo_dataset/labels/train/vein_train_0027_aug_00.txt imgsz = 726 x 546\n"
     ]
    },
    {
     "data": {
      "text/plain": [
       "<IPython.core.display.HTML object>"
      ],
      "text/html": [
       "<p><b>DEBUG</b>: Processing train file: photo no checkersboard (31)_aug_0.jpg</p>"
      ]
     },
     "metadata": {},
     "output_type": "display_data"
    },
    {
     "name": "stdout",
     "output_type": "stream",
     "text": [
      "Processing /home/_sergei/DataspellProjects/vein-segmentation/data/26/yolo_dataset/temp_masks/vein_train_0027_aug_01.png imgsz = 726 x 546\n",
      "Processed and stored at /home/_sergei/DataspellProjects/vein-segmentation/data/26/yolo_dataset/labels/train/vein_train_0027_aug_01.txt imgsz = 726 x 546\n"
     ]
    },
    {
     "data": {
      "text/plain": [
       "<IPython.core.display.HTML object>"
      ],
      "text/html": [
       "<p><b>DEBUG</b>: Processing train file: photo no checkersboard (31)_aug_1.jpg</p>"
      ]
     },
     "metadata": {},
     "output_type": "display_data"
    },
    {
     "name": "stdout",
     "output_type": "stream",
     "text": [
      "Processing /home/_sergei/DataspellProjects/vein-segmentation/data/26/yolo_dataset/temp_masks/vein_train_0027_aug_02.png imgsz = 960 x 1280\n",
      "Processed and stored at /home/_sergei/DataspellProjects/vein-segmentation/data/26/yolo_dataset/labels/train/vein_train_0027_aug_02.txt imgsz = 960 x 1280\n"
     ]
    },
    {
     "data": {
      "text/plain": [
       "<IPython.core.display.HTML object>"
      ],
      "text/html": [
       "<p><b>DEBUG</b>: Processing train file: photo no checkersboard (31)_aug_2.jpg</p>"
      ]
     },
     "metadata": {},
     "output_type": "display_data"
    },
    {
     "name": "stdout",
     "output_type": "stream",
     "text": [
      "Processing /home/_sergei/DataspellProjects/vein-segmentation/data/26/yolo_dataset/temp_masks/vein_train_0027_aug_03.png imgsz = 1280 x 960\n",
      "Processed and stored at /home/_sergei/DataspellProjects/vein-segmentation/data/26/yolo_dataset/labels/train/vein_train_0027_aug_03.txt imgsz = 1280 x 960\n"
     ]
    },
    {
     "data": {
      "text/plain": [
       "<IPython.core.display.HTML object>"
      ],
      "text/html": [
       "<p><b>DEBUG</b>: Processing train file: photo no checkersboard (31)_aug_3.jpg</p>"
      ]
     },
     "metadata": {},
     "output_type": "display_data"
    },
    {
     "name": "stdout",
     "output_type": "stream",
     "text": [
      "Processing /home/_sergei/DataspellProjects/vein-segmentation/data/26/yolo_dataset/temp_masks/vein_train_0027_aug_04.png imgsz = 960 x 1280\n",
      "Processed and stored at /home/_sergei/DataspellProjects/vein-segmentation/data/26/yolo_dataset/labels/train/vein_train_0027_aug_04.txt imgsz = 960 x 1280\n"
     ]
    },
    {
     "data": {
      "text/plain": [
       "<IPython.core.display.HTML object>"
      ],
      "text/html": [
       "<p><b>DEBUG</b>: Processing train file: photo no checkersboard (31)_aug_4.jpg</p>"
      ]
     },
     "metadata": {},
     "output_type": "display_data"
    },
    {
     "name": "stdout",
     "output_type": "stream",
     "text": [
      "Processing /home/_sergei/DataspellProjects/vein-segmentation/data/26/yolo_dataset/temp_masks/vein_train_0027_aug_05.png imgsz = 960 x 1280\n",
      "Processed and stored at /home/_sergei/DataspellProjects/vein-segmentation/data/26/yolo_dataset/labels/train/vein_train_0027_aug_05.txt imgsz = 960 x 1280\n"
     ]
    },
    {
     "data": {
      "text/plain": [
       "<IPython.core.display.HTML object>"
      ],
      "text/html": [
       "<p><b>DEBUG</b>: Processing train file: photo no checkersboard (31)_aug_5.jpg</p>"
      ]
     },
     "metadata": {},
     "output_type": "display_data"
    },
    {
     "name": "stdout",
     "output_type": "stream",
     "text": [
      "Processing /home/_sergei/DataspellProjects/vein-segmentation/data/26/yolo_dataset/temp_masks/vein_train_0027_aug_06.png imgsz = 960 x 1280\n",
      "Processed and stored at /home/_sergei/DataspellProjects/vein-segmentation/data/26/yolo_dataset/labels/train/vein_train_0027_aug_06.txt imgsz = 960 x 1280\n"
     ]
    },
    {
     "data": {
      "text/plain": [
       "<IPython.core.display.HTML object>"
      ],
      "text/html": [
       "<p><b>DEBUG</b>: Processing train file: photo no checkersboard (31)_aug_6.jpg</p>"
      ]
     },
     "metadata": {},
     "output_type": "display_data"
    },
    {
     "name": "stdout",
     "output_type": "stream",
     "text": [
      "Processing /home/_sergei/DataspellProjects/vein-segmentation/data/26/yolo_dataset/temp_masks/vein_train_0027_aug_07.png imgsz = 960 x 1280\n",
      "Processed and stored at /home/_sergei/DataspellProjects/vein-segmentation/data/26/yolo_dataset/labels/train/vein_train_0027_aug_07.txt imgsz = 960 x 1280\n"
     ]
    },
    {
     "data": {
      "text/plain": [
       "<IPython.core.display.HTML object>"
      ],
      "text/html": [
       "<p><b>DEBUG</b>: Processing train file: photo no checkersboard (31)_aug_7.jpg</p>"
      ]
     },
     "metadata": {},
     "output_type": "display_data"
    },
    {
     "name": "stdout",
     "output_type": "stream",
     "text": [
      "Processing /home/_sergei/DataspellProjects/vein-segmentation/data/26/yolo_dataset/temp_masks/vein_train_0027_aug_08.png imgsz = 960 x 1280\n",
      "Processed and stored at /home/_sergei/DataspellProjects/vein-segmentation/data/26/yolo_dataset/labels/train/vein_train_0027_aug_08.txt imgsz = 960 x 1280\n"
     ]
    },
    {
     "data": {
      "text/plain": [
       "<IPython.core.display.HTML object>"
      ],
      "text/html": [
       "<p><b>DEBUG</b>: Processing train file: photo no checkersboard (31)_aug_8.jpg</p>"
      ]
     },
     "metadata": {},
     "output_type": "display_data"
    },
    {
     "name": "stdout",
     "output_type": "stream",
     "text": [
      "Processing /home/_sergei/DataspellProjects/vein-segmentation/data/26/yolo_dataset/temp_masks/vein_train_0027_aug_09.png imgsz = 960 x 1280\n",
      "Processed and stored at /home/_sergei/DataspellProjects/vein-segmentation/data/26/yolo_dataset/labels/train/vein_train_0027_aug_09.txt imgsz = 960 x 1280\n"
     ]
    },
    {
     "data": {
      "text/plain": [
       "<IPython.core.display.HTML object>"
      ],
      "text/html": [
       "<p><b>DEBUG</b>: Processing train file: photo no checkersboard (31)_aug_9.jpg</p>"
      ]
     },
     "metadata": {},
     "output_type": "display_data"
    },
    {
     "name": "stdout",
     "output_type": "stream",
     "text": [
      "Processing /home/_sergei/DataspellProjects/vein-segmentation/data/26/yolo_dataset/temp_masks/vein_train_0027_aug_10.png imgsz = 960 x 1280\n",
      "Processed and stored at /home/_sergei/DataspellProjects/vein-segmentation/data/26/yolo_dataset/labels/train/vein_train_0027_aug_10.txt imgsz = 960 x 1280\n"
     ]
    },
    {
     "data": {
      "text/plain": [
       "<IPython.core.display.HTML object>"
      ],
      "text/html": [
       "<p><b>DEBUG</b>: Processing train file: photo no checkersboard (11).jpg</p>"
      ]
     },
     "metadata": {},
     "output_type": "display_data"
    },
    {
     "name": "stdout",
     "output_type": "stream",
     "text": [
      "Processing /home/_sergei/DataspellProjects/vein-segmentation/data/26/yolo_dataset/temp_masks/vein_train_0028_aug_00.png imgsz = 725 x 544\n",
      "Processed and stored at /home/_sergei/DataspellProjects/vein-segmentation/data/26/yolo_dataset/labels/train/vein_train_0028_aug_00.txt imgsz = 725 x 544\n"
     ]
    },
    {
     "data": {
      "text/plain": [
       "<IPython.core.display.HTML object>"
      ],
      "text/html": [
       "<p><b>DEBUG</b>: Processing train file: photo no checkersboard (11)_aug_0.jpg</p>"
      ]
     },
     "metadata": {},
     "output_type": "display_data"
    },
    {
     "name": "stdout",
     "output_type": "stream",
     "text": [
      "Processing /home/_sergei/DataspellProjects/vein-segmentation/data/26/yolo_dataset/temp_masks/vein_train_0028_aug_01.png imgsz = 725 x 544\n",
      "Processed and stored at /home/_sergei/DataspellProjects/vein-segmentation/data/26/yolo_dataset/labels/train/vein_train_0028_aug_01.txt imgsz = 725 x 544\n"
     ]
    },
    {
     "data": {
      "text/plain": [
       "<IPython.core.display.HTML object>"
      ],
      "text/html": [
       "<p><b>DEBUG</b>: Processing train file: photo no checkersboard (11)_aug_1.jpg</p>"
      ]
     },
     "metadata": {},
     "output_type": "display_data"
    },
    {
     "name": "stdout",
     "output_type": "stream",
     "text": [
      "Processing /home/_sergei/DataspellProjects/vein-segmentation/data/26/yolo_dataset/temp_masks/vein_train_0028_aug_02.png imgsz = 960 x 1280\n",
      "Processed and stored at /home/_sergei/DataspellProjects/vein-segmentation/data/26/yolo_dataset/labels/train/vein_train_0028_aug_02.txt imgsz = 960 x 1280\n"
     ]
    },
    {
     "data": {
      "text/plain": [
       "<IPython.core.display.HTML object>"
      ],
      "text/html": [
       "<p><b>DEBUG</b>: Processing train file: photo no checkersboard (11)_aug_2.jpg</p>"
      ]
     },
     "metadata": {},
     "output_type": "display_data"
    },
    {
     "name": "stdout",
     "output_type": "stream",
     "text": [
      "Processing /home/_sergei/DataspellProjects/vein-segmentation/data/26/yolo_dataset/temp_masks/vein_train_0028_aug_03.png imgsz = 960 x 1280\n",
      "Processed and stored at /home/_sergei/DataspellProjects/vein-segmentation/data/26/yolo_dataset/labels/train/vein_train_0028_aug_03.txt imgsz = 960 x 1280\n"
     ]
    },
    {
     "data": {
      "text/plain": [
       "<IPython.core.display.HTML object>"
      ],
      "text/html": [
       "<p><b>DEBUG</b>: Processing train file: photo no checkersboard (11)_aug_3.jpg</p>"
      ]
     },
     "metadata": {},
     "output_type": "display_data"
    },
    {
     "name": "stdout",
     "output_type": "stream",
     "text": [
      "Processing /home/_sergei/DataspellProjects/vein-segmentation/data/26/yolo_dataset/temp_masks/vein_train_0028_aug_04.png imgsz = 960 x 1280\n",
      "Processed and stored at /home/_sergei/DataspellProjects/vein-segmentation/data/26/yolo_dataset/labels/train/vein_train_0028_aug_04.txt imgsz = 960 x 1280\n"
     ]
    },
    {
     "data": {
      "text/plain": [
       "<IPython.core.display.HTML object>"
      ],
      "text/html": [
       "<p><b>DEBUG</b>: Processing train file: photo no checkersboard (11)_aug_4.jpg</p>"
      ]
     },
     "metadata": {},
     "output_type": "display_data"
    },
    {
     "name": "stdout",
     "output_type": "stream",
     "text": [
      "Processing /home/_sergei/DataspellProjects/vein-segmentation/data/26/yolo_dataset/temp_masks/vein_train_0028_aug_05.png imgsz = 1280 x 960\n",
      "Processed and stored at /home/_sergei/DataspellProjects/vein-segmentation/data/26/yolo_dataset/labels/train/vein_train_0028_aug_05.txt imgsz = 1280 x 960\n"
     ]
    },
    {
     "data": {
      "text/plain": [
       "<IPython.core.display.HTML object>"
      ],
      "text/html": [
       "<p><b>DEBUG</b>: Processing train file: photo no checkersboard (11)_aug_5.jpg</p>"
      ]
     },
     "metadata": {},
     "output_type": "display_data"
    },
    {
     "name": "stdout",
     "output_type": "stream",
     "text": [
      "Processing /home/_sergei/DataspellProjects/vein-segmentation/data/26/yolo_dataset/temp_masks/vein_train_0028_aug_06.png imgsz = 960 x 1280\n",
      "Processed and stored at /home/_sergei/DataspellProjects/vein-segmentation/data/26/yolo_dataset/labels/train/vein_train_0028_aug_06.txt imgsz = 960 x 1280\n"
     ]
    },
    {
     "data": {
      "text/plain": [
       "<IPython.core.display.HTML object>"
      ],
      "text/html": [
       "<p><b>DEBUG</b>: Processing train file: photo no checkersboard (11)_aug_6.jpg</p>"
      ]
     },
     "metadata": {},
     "output_type": "display_data"
    },
    {
     "name": "stdout",
     "output_type": "stream",
     "text": [
      "Processing /home/_sergei/DataspellProjects/vein-segmentation/data/26/yolo_dataset/temp_masks/vein_train_0028_aug_07.png imgsz = 960 x 1280\n",
      "Processed and stored at /home/_sergei/DataspellProjects/vein-segmentation/data/26/yolo_dataset/labels/train/vein_train_0028_aug_07.txt imgsz = 960 x 1280\n"
     ]
    },
    {
     "data": {
      "text/plain": [
       "<IPython.core.display.HTML object>"
      ],
      "text/html": [
       "<p><b>DEBUG</b>: Processing train file: photo no checkersboard (11)_aug_7.jpg</p>"
      ]
     },
     "metadata": {},
     "output_type": "display_data"
    },
    {
     "name": "stdout",
     "output_type": "stream",
     "text": [
      "Processing /home/_sergei/DataspellProjects/vein-segmentation/data/26/yolo_dataset/temp_masks/vein_train_0028_aug_08.png imgsz = 1280 x 960\n",
      "Processed and stored at /home/_sergei/DataspellProjects/vein-segmentation/data/26/yolo_dataset/labels/train/vein_train_0028_aug_08.txt imgsz = 1280 x 960\n"
     ]
    },
    {
     "data": {
      "text/plain": [
       "<IPython.core.display.HTML object>"
      ],
      "text/html": [
       "<p><b>DEBUG</b>: Processing train file: photo no checkersboard (11)_aug_8.jpg</p>"
      ]
     },
     "metadata": {},
     "output_type": "display_data"
    },
    {
     "name": "stdout",
     "output_type": "stream",
     "text": [
      "Processing /home/_sergei/DataspellProjects/vein-segmentation/data/26/yolo_dataset/temp_masks/vein_train_0028_aug_09.png imgsz = 960 x 1280\n",
      "Processed and stored at /home/_sergei/DataspellProjects/vein-segmentation/data/26/yolo_dataset/labels/train/vein_train_0028_aug_09.txt imgsz = 960 x 1280\n"
     ]
    },
    {
     "data": {
      "text/plain": [
       "<IPython.core.display.HTML object>"
      ],
      "text/html": [
       "<p><b>DEBUG</b>: Processing train file: photo no checkersboard (11)_aug_9.jpg</p>"
      ]
     },
     "metadata": {},
     "output_type": "display_data"
    },
    {
     "name": "stdout",
     "output_type": "stream",
     "text": [
      "Processing /home/_sergei/DataspellProjects/vein-segmentation/data/26/yolo_dataset/temp_masks/vein_train_0028_aug_10.png imgsz = 960 x 1280\n",
      "Processed and stored at /home/_sergei/DataspellProjects/vein-segmentation/data/26/yolo_dataset/labels/train/vein_train_0028_aug_10.txt imgsz = 960 x 1280\n"
     ]
    },
    {
     "data": {
      "text/plain": [
       "Processing val set:   0%|          | 0/44 [00:00<?, ?it/s]"
      ],
      "application/vnd.jupyter.widget-view+json": {
       "version_major": 2,
       "version_minor": 0,
       "model_id": "42989ca7832a41a8b1cc7e3c0e528dbb"
      }
     },
     "metadata": {},
     "output_type": "display_data"
    },
    {
     "data": {
      "text/plain": [
       "<IPython.core.display.HTML object>"
      ],
      "text/html": [
       "<p><b>DEBUG</b>: Processing val file: photo no checkersboard (50).jpg</p>"
      ]
     },
     "metadata": {},
     "output_type": "display_data"
    },
    {
     "name": "stdout",
     "output_type": "stream",
     "text": [
      "Processing /home/_sergei/DataspellProjects/vein-segmentation/data/26/yolo_dataset/temp_masks/vein_val_0001_aug_00.png imgsz = 725 x 545\n",
      "Processed and stored at /home/_sergei/DataspellProjects/vein-segmentation/data/26/yolo_dataset/labels/val/vein_val_0001_aug_00.txt imgsz = 725 x 545\n"
     ]
    },
    {
     "data": {
      "text/plain": [
       "<IPython.core.display.HTML object>"
      ],
      "text/html": [
       "<p><b>DEBUG</b>: Processing val file: photo no checkersboard (50)_aug_0.jpg</p>"
      ]
     },
     "metadata": {},
     "output_type": "display_data"
    },
    {
     "name": "stdout",
     "output_type": "stream",
     "text": [
      "Processing /home/_sergei/DataspellProjects/vein-segmentation/data/26/yolo_dataset/temp_masks/vein_val_0001_aug_01.png imgsz = 725 x 545\n",
      "Processed and stored at /home/_sergei/DataspellProjects/vein-segmentation/data/26/yolo_dataset/labels/val/vein_val_0001_aug_01.txt imgsz = 725 x 545\n"
     ]
    },
    {
     "data": {
      "text/plain": [
       "<IPython.core.display.HTML object>"
      ],
      "text/html": [
       "<p><b>DEBUG</b>: Processing val file: photo no checkersboard (50)_aug_1.jpg</p>"
      ]
     },
     "metadata": {},
     "output_type": "display_data"
    },
    {
     "name": "stdout",
     "output_type": "stream",
     "text": [
      "Processing /home/_sergei/DataspellProjects/vein-segmentation/data/26/yolo_dataset/temp_masks/vein_val_0001_aug_02.png imgsz = 1280 x 960\n",
      "Processed and stored at /home/_sergei/DataspellProjects/vein-segmentation/data/26/yolo_dataset/labels/val/vein_val_0001_aug_02.txt imgsz = 1280 x 960\n"
     ]
    },
    {
     "data": {
      "text/plain": [
       "<IPython.core.display.HTML object>"
      ],
      "text/html": [
       "<p><b>DEBUG</b>: Processing val file: photo no checkersboard (50)_aug_2.jpg</p>"
      ]
     },
     "metadata": {},
     "output_type": "display_data"
    },
    {
     "name": "stdout",
     "output_type": "stream",
     "text": [
      "Processing /home/_sergei/DataspellProjects/vein-segmentation/data/26/yolo_dataset/temp_masks/vein_val_0001_aug_03.png imgsz = 1280 x 960\n",
      "Processed and stored at /home/_sergei/DataspellProjects/vein-segmentation/data/26/yolo_dataset/labels/val/vein_val_0001_aug_03.txt imgsz = 1280 x 960\n"
     ]
    },
    {
     "data": {
      "text/plain": [
       "<IPython.core.display.HTML object>"
      ],
      "text/html": [
       "<p><b>DEBUG</b>: Processing val file: photo no checkersboard (50)_aug_3.jpg</p>"
      ]
     },
     "metadata": {},
     "output_type": "display_data"
    },
    {
     "name": "stdout",
     "output_type": "stream",
     "text": [
      "Processing /home/_sergei/DataspellProjects/vein-segmentation/data/26/yolo_dataset/temp_masks/vein_val_0001_aug_04.png imgsz = 1280 x 960\n",
      "Processed and stored at /home/_sergei/DataspellProjects/vein-segmentation/data/26/yolo_dataset/labels/val/vein_val_0001_aug_04.txt imgsz = 1280 x 960\n"
     ]
    },
    {
     "data": {
      "text/plain": [
       "<IPython.core.display.HTML object>"
      ],
      "text/html": [
       "<p><b>DEBUG</b>: Processing val file: photo no checkersboard (50)_aug_4.jpg</p>"
      ]
     },
     "metadata": {},
     "output_type": "display_data"
    },
    {
     "name": "stdout",
     "output_type": "stream",
     "text": [
      "Processing /home/_sergei/DataspellProjects/vein-segmentation/data/26/yolo_dataset/temp_masks/vein_val_0001_aug_05.png imgsz = 960 x 1280\n",
      "Processed and stored at /home/_sergei/DataspellProjects/vein-segmentation/data/26/yolo_dataset/labels/val/vein_val_0001_aug_05.txt imgsz = 960 x 1280\n"
     ]
    },
    {
     "data": {
      "text/plain": [
       "<IPython.core.display.HTML object>"
      ],
      "text/html": [
       "<p><b>DEBUG</b>: Processing val file: photo no checkersboard (50)_aug_5.jpg</p>"
      ]
     },
     "metadata": {},
     "output_type": "display_data"
    },
    {
     "name": "stdout",
     "output_type": "stream",
     "text": [
      "Processing /home/_sergei/DataspellProjects/vein-segmentation/data/26/yolo_dataset/temp_masks/vein_val_0001_aug_06.png imgsz = 960 x 1280\n",
      "Processed and stored at /home/_sergei/DataspellProjects/vein-segmentation/data/26/yolo_dataset/labels/val/vein_val_0001_aug_06.txt imgsz = 960 x 1280\n"
     ]
    },
    {
     "data": {
      "text/plain": [
       "<IPython.core.display.HTML object>"
      ],
      "text/html": [
       "<p><b>DEBUG</b>: Processing val file: photo no checkersboard (50)_aug_6.jpg</p>"
      ]
     },
     "metadata": {},
     "output_type": "display_data"
    },
    {
     "name": "stdout",
     "output_type": "stream",
     "text": [
      "Processing /home/_sergei/DataspellProjects/vein-segmentation/data/26/yolo_dataset/temp_masks/vein_val_0001_aug_07.png imgsz = 1280 x 960\n",
      "Processed and stored at /home/_sergei/DataspellProjects/vein-segmentation/data/26/yolo_dataset/labels/val/vein_val_0001_aug_07.txt imgsz = 1280 x 960\n"
     ]
    },
    {
     "data": {
      "text/plain": [
       "<IPython.core.display.HTML object>"
      ],
      "text/html": [
       "<p><b>DEBUG</b>: Processing val file: photo no checkersboard (50)_aug_7.jpg</p>"
      ]
     },
     "metadata": {},
     "output_type": "display_data"
    },
    {
     "name": "stdout",
     "output_type": "stream",
     "text": [
      "Processing /home/_sergei/DataspellProjects/vein-segmentation/data/26/yolo_dataset/temp_masks/vein_val_0001_aug_08.png imgsz = 1280 x 960\n",
      "Processed and stored at /home/_sergei/DataspellProjects/vein-segmentation/data/26/yolo_dataset/labels/val/vein_val_0001_aug_08.txt imgsz = 1280 x 960\n"
     ]
    },
    {
     "data": {
      "text/plain": [
       "<IPython.core.display.HTML object>"
      ],
      "text/html": [
       "<p><b>DEBUG</b>: Processing val file: photo no checkersboard (50)_aug_8.jpg</p>"
      ]
     },
     "metadata": {},
     "output_type": "display_data"
    },
    {
     "name": "stdout",
     "output_type": "stream",
     "text": [
      "Processing /home/_sergei/DataspellProjects/vein-segmentation/data/26/yolo_dataset/temp_masks/vein_val_0001_aug_09.png imgsz = 960 x 1280\n",
      "Processed and stored at /home/_sergei/DataspellProjects/vein-segmentation/data/26/yolo_dataset/labels/val/vein_val_0001_aug_09.txt imgsz = 960 x 1280\n"
     ]
    },
    {
     "data": {
      "text/plain": [
       "<IPython.core.display.HTML object>"
      ],
      "text/html": [
       "<p><b>DEBUG</b>: Processing val file: photo no checkersboard (50)_aug_9.jpg</p>"
      ]
     },
     "metadata": {},
     "output_type": "display_data"
    },
    {
     "name": "stdout",
     "output_type": "stream",
     "text": [
      "Processing /home/_sergei/DataspellProjects/vein-segmentation/data/26/yolo_dataset/temp_masks/vein_val_0001_aug_10.png imgsz = 960 x 1280\n",
      "Processed and stored at /home/_sergei/DataspellProjects/vein-segmentation/data/26/yolo_dataset/labels/val/vein_val_0001_aug_10.txt imgsz = 960 x 1280\n"
     ]
    },
    {
     "data": {
      "text/plain": [
       "<IPython.core.display.HTML object>"
      ],
      "text/html": [
       "<p><b>DEBUG</b>: Processing val file: photo no checkersboard (25).jpg</p>"
      ]
     },
     "metadata": {},
     "output_type": "display_data"
    },
    {
     "name": "stdout",
     "output_type": "stream",
     "text": [
      "Processing /home/_sergei/DataspellProjects/vein-segmentation/data/26/yolo_dataset/temp_masks/vein_val_0002_aug_00.png imgsz = 726 x 545\n",
      "Processed and stored at /home/_sergei/DataspellProjects/vein-segmentation/data/26/yolo_dataset/labels/val/vein_val_0002_aug_00.txt imgsz = 726 x 545\n"
     ]
    },
    {
     "data": {
      "text/plain": [
       "<IPython.core.display.HTML object>"
      ],
      "text/html": [
       "<p><b>DEBUG</b>: Processing val file: photo no checkersboard (25)_aug_0.jpg</p>"
      ]
     },
     "metadata": {},
     "output_type": "display_data"
    },
    {
     "name": "stdout",
     "output_type": "stream",
     "text": [
      "Processing /home/_sergei/DataspellProjects/vein-segmentation/data/26/yolo_dataset/temp_masks/vein_val_0002_aug_01.png imgsz = 726 x 545\n",
      "Processed and stored at /home/_sergei/DataspellProjects/vein-segmentation/data/26/yolo_dataset/labels/val/vein_val_0002_aug_01.txt imgsz = 726 x 545\n"
     ]
    },
    {
     "data": {
      "text/plain": [
       "<IPython.core.display.HTML object>"
      ],
      "text/html": [
       "<p><b>DEBUG</b>: Processing val file: photo no checkersboard (25)_aug_1.jpg</p>"
      ]
     },
     "metadata": {},
     "output_type": "display_data"
    },
    {
     "name": "stdout",
     "output_type": "stream",
     "text": [
      "Processing /home/_sergei/DataspellProjects/vein-segmentation/data/26/yolo_dataset/temp_masks/vein_val_0002_aug_02.png imgsz = 960 x 1280\n",
      "Processed and stored at /home/_sergei/DataspellProjects/vein-segmentation/data/26/yolo_dataset/labels/val/vein_val_0002_aug_02.txt imgsz = 960 x 1280\n"
     ]
    },
    {
     "data": {
      "text/plain": [
       "<IPython.core.display.HTML object>"
      ],
      "text/html": [
       "<p><b>DEBUG</b>: Processing val file: photo no checkersboard (25)_aug_2.jpg</p>"
      ]
     },
     "metadata": {},
     "output_type": "display_data"
    },
    {
     "name": "stdout",
     "output_type": "stream",
     "text": [
      "Processing /home/_sergei/DataspellProjects/vein-segmentation/data/26/yolo_dataset/temp_masks/vein_val_0002_aug_03.png imgsz = 1280 x 960\n",
      "Processed and stored at /home/_sergei/DataspellProjects/vein-segmentation/data/26/yolo_dataset/labels/val/vein_val_0002_aug_03.txt imgsz = 1280 x 960\n"
     ]
    },
    {
     "data": {
      "text/plain": [
       "<IPython.core.display.HTML object>"
      ],
      "text/html": [
       "<p><b>DEBUG</b>: Processing val file: photo no checkersboard (25)_aug_3.jpg</p>"
      ]
     },
     "metadata": {},
     "output_type": "display_data"
    },
    {
     "name": "stdout",
     "output_type": "stream",
     "text": [
      "Processing /home/_sergei/DataspellProjects/vein-segmentation/data/26/yolo_dataset/temp_masks/vein_val_0002_aug_04.png imgsz = 960 x 1280\n",
      "Processed and stored at /home/_sergei/DataspellProjects/vein-segmentation/data/26/yolo_dataset/labels/val/vein_val_0002_aug_04.txt imgsz = 960 x 1280\n"
     ]
    },
    {
     "data": {
      "text/plain": [
       "<IPython.core.display.HTML object>"
      ],
      "text/html": [
       "<p><b>DEBUG</b>: Processing val file: photo no checkersboard (25)_aug_4.jpg</p>"
      ]
     },
     "metadata": {},
     "output_type": "display_data"
    },
    {
     "name": "stdout",
     "output_type": "stream",
     "text": [
      "Processing /home/_sergei/DataspellProjects/vein-segmentation/data/26/yolo_dataset/temp_masks/vein_val_0002_aug_05.png imgsz = 1280 x 960\n",
      "Processed and stored at /home/_sergei/DataspellProjects/vein-segmentation/data/26/yolo_dataset/labels/val/vein_val_0002_aug_05.txt imgsz = 1280 x 960\n"
     ]
    },
    {
     "data": {
      "text/plain": [
       "<IPython.core.display.HTML object>"
      ],
      "text/html": [
       "<p><b>DEBUG</b>: Processing val file: photo no checkersboard (25)_aug_5.jpg</p>"
      ]
     },
     "metadata": {},
     "output_type": "display_data"
    },
    {
     "name": "stdout",
     "output_type": "stream",
     "text": [
      "Processing /home/_sergei/DataspellProjects/vein-segmentation/data/26/yolo_dataset/temp_masks/vein_val_0002_aug_06.png imgsz = 1280 x 960\n",
      "Processed and stored at /home/_sergei/DataspellProjects/vein-segmentation/data/26/yolo_dataset/labels/val/vein_val_0002_aug_06.txt imgsz = 1280 x 960\n"
     ]
    },
    {
     "data": {
      "text/plain": [
       "<IPython.core.display.HTML object>"
      ],
      "text/html": [
       "<p><b>DEBUG</b>: Processing val file: photo no checkersboard (25)_aug_6.jpg</p>"
      ]
     },
     "metadata": {},
     "output_type": "display_data"
    },
    {
     "name": "stdout",
     "output_type": "stream",
     "text": [
      "Processing /home/_sergei/DataspellProjects/vein-segmentation/data/26/yolo_dataset/temp_masks/vein_val_0002_aug_07.png imgsz = 1280 x 960\n",
      "Processed and stored at /home/_sergei/DataspellProjects/vein-segmentation/data/26/yolo_dataset/labels/val/vein_val_0002_aug_07.txt imgsz = 1280 x 960\n"
     ]
    },
    {
     "data": {
      "text/plain": [
       "<IPython.core.display.HTML object>"
      ],
      "text/html": [
       "<p><b>DEBUG</b>: Processing val file: photo no checkersboard (25)_aug_7.jpg</p>"
      ]
     },
     "metadata": {},
     "output_type": "display_data"
    },
    {
     "name": "stdout",
     "output_type": "stream",
     "text": [
      "Processing /home/_sergei/DataspellProjects/vein-segmentation/data/26/yolo_dataset/temp_masks/vein_val_0002_aug_08.png imgsz = 1280 x 960\n",
      "Processed and stored at /home/_sergei/DataspellProjects/vein-segmentation/data/26/yolo_dataset/labels/val/vein_val_0002_aug_08.txt imgsz = 1280 x 960\n"
     ]
    },
    {
     "data": {
      "text/plain": [
       "<IPython.core.display.HTML object>"
      ],
      "text/html": [
       "<p><b>DEBUG</b>: Processing val file: photo no checkersboard (25)_aug_8.jpg</p>"
      ]
     },
     "metadata": {},
     "output_type": "display_data"
    },
    {
     "name": "stdout",
     "output_type": "stream",
     "text": [
      "Processing /home/_sergei/DataspellProjects/vein-segmentation/data/26/yolo_dataset/temp_masks/vein_val_0002_aug_09.png imgsz = 960 x 1280\n",
      "Processed and stored at /home/_sergei/DataspellProjects/vein-segmentation/data/26/yolo_dataset/labels/val/vein_val_0002_aug_09.txt imgsz = 960 x 1280\n"
     ]
    },
    {
     "data": {
      "text/plain": [
       "<IPython.core.display.HTML object>"
      ],
      "text/html": [
       "<p><b>DEBUG</b>: Processing val file: photo no checkersboard (25)_aug_9.jpg</p>"
      ]
     },
     "metadata": {},
     "output_type": "display_data"
    },
    {
     "name": "stdout",
     "output_type": "stream",
     "text": [
      "Processing /home/_sergei/DataspellProjects/vein-segmentation/data/26/yolo_dataset/temp_masks/vein_val_0002_aug_10.png imgsz = 1280 x 960\n",
      "Processed and stored at /home/_sergei/DataspellProjects/vein-segmentation/data/26/yolo_dataset/labels/val/vein_val_0002_aug_10.txt imgsz = 1280 x 960\n"
     ]
    },
    {
     "data": {
      "text/plain": [
       "<IPython.core.display.HTML object>"
      ],
      "text/html": [
       "<p><b>DEBUG</b>: Processing val file: photo no checkersboard (43).jpg</p>"
      ]
     },
     "metadata": {},
     "output_type": "display_data"
    },
    {
     "name": "stdout",
     "output_type": "stream",
     "text": [
      "Processing /home/_sergei/DataspellProjects/vein-segmentation/data/26/yolo_dataset/temp_masks/vein_val_0003_aug_00.png imgsz = 724 x 545\n",
      "Processed and stored at /home/_sergei/DataspellProjects/vein-segmentation/data/26/yolo_dataset/labels/val/vein_val_0003_aug_00.txt imgsz = 724 x 545\n"
     ]
    },
    {
     "data": {
      "text/plain": [
       "<IPython.core.display.HTML object>"
      ],
      "text/html": [
       "<p><b>DEBUG</b>: Processing val file: photo no checkersboard (43)_aug_0.jpg</p>"
      ]
     },
     "metadata": {},
     "output_type": "display_data"
    },
    {
     "name": "stdout",
     "output_type": "stream",
     "text": [
      "Processing /home/_sergei/DataspellProjects/vein-segmentation/data/26/yolo_dataset/temp_masks/vein_val_0003_aug_01.png imgsz = 724 x 545\n",
      "Processed and stored at /home/_sergei/DataspellProjects/vein-segmentation/data/26/yolo_dataset/labels/val/vein_val_0003_aug_01.txt imgsz = 724 x 545\n"
     ]
    },
    {
     "data": {
      "text/plain": [
       "<IPython.core.display.HTML object>"
      ],
      "text/html": [
       "<p><b>DEBUG</b>: Processing val file: photo no checkersboard (43)_aug_1.jpg</p>"
      ]
     },
     "metadata": {},
     "output_type": "display_data"
    },
    {
     "name": "stdout",
     "output_type": "stream",
     "text": [
      "Processing /home/_sergei/DataspellProjects/vein-segmentation/data/26/yolo_dataset/temp_masks/vein_val_0003_aug_02.png imgsz = 1280 x 960\n",
      "Processed and stored at /home/_sergei/DataspellProjects/vein-segmentation/data/26/yolo_dataset/labels/val/vein_val_0003_aug_02.txt imgsz = 1280 x 960\n"
     ]
    },
    {
     "data": {
      "text/plain": [
       "<IPython.core.display.HTML object>"
      ],
      "text/html": [
       "<p><b>DEBUG</b>: Processing val file: photo no checkersboard (43)_aug_2.jpg</p>"
      ]
     },
     "metadata": {},
     "output_type": "display_data"
    },
    {
     "name": "stdout",
     "output_type": "stream",
     "text": [
      "Processing /home/_sergei/DataspellProjects/vein-segmentation/data/26/yolo_dataset/temp_masks/vein_val_0003_aug_03.png imgsz = 960 x 1280\n",
      "Processed and stored at /home/_sergei/DataspellProjects/vein-segmentation/data/26/yolo_dataset/labels/val/vein_val_0003_aug_03.txt imgsz = 960 x 1280\n"
     ]
    },
    {
     "data": {
      "text/plain": [
       "<IPython.core.display.HTML object>"
      ],
      "text/html": [
       "<p><b>DEBUG</b>: Processing val file: photo no checkersboard (43)_aug_3.jpg</p>"
      ]
     },
     "metadata": {},
     "output_type": "display_data"
    },
    {
     "name": "stdout",
     "output_type": "stream",
     "text": [
      "Processing /home/_sergei/DataspellProjects/vein-segmentation/data/26/yolo_dataset/temp_masks/vein_val_0003_aug_04.png imgsz = 1280 x 960\n",
      "Processed and stored at /home/_sergei/DataspellProjects/vein-segmentation/data/26/yolo_dataset/labels/val/vein_val_0003_aug_04.txt imgsz = 1280 x 960\n"
     ]
    },
    {
     "data": {
      "text/plain": [
       "<IPython.core.display.HTML object>"
      ],
      "text/html": [
       "<p><b>DEBUG</b>: Processing val file: photo no checkersboard (43)_aug_4.jpg</p>"
      ]
     },
     "metadata": {},
     "output_type": "display_data"
    },
    {
     "name": "stdout",
     "output_type": "stream",
     "text": [
      "Processing /home/_sergei/DataspellProjects/vein-segmentation/data/26/yolo_dataset/temp_masks/vein_val_0003_aug_05.png imgsz = 960 x 1280\n",
      "Processed and stored at /home/_sergei/DataspellProjects/vein-segmentation/data/26/yolo_dataset/labels/val/vein_val_0003_aug_05.txt imgsz = 960 x 1280\n"
     ]
    },
    {
     "data": {
      "text/plain": [
       "<IPython.core.display.HTML object>"
      ],
      "text/html": [
       "<p><b>DEBUG</b>: Processing val file: photo no checkersboard (43)_aug_5.jpg</p>"
      ]
     },
     "metadata": {},
     "output_type": "display_data"
    },
    {
     "name": "stdout",
     "output_type": "stream",
     "text": [
      "Processing /home/_sergei/DataspellProjects/vein-segmentation/data/26/yolo_dataset/temp_masks/vein_val_0003_aug_06.png imgsz = 960 x 1280\n",
      "Processed and stored at /home/_sergei/DataspellProjects/vein-segmentation/data/26/yolo_dataset/labels/val/vein_val_0003_aug_06.txt imgsz = 960 x 1280\n"
     ]
    },
    {
     "data": {
      "text/plain": [
       "<IPython.core.display.HTML object>"
      ],
      "text/html": [
       "<p><b>DEBUG</b>: Processing val file: photo no checkersboard (43)_aug_6.jpg</p>"
      ]
     },
     "metadata": {},
     "output_type": "display_data"
    },
    {
     "name": "stdout",
     "output_type": "stream",
     "text": [
      "Processing /home/_sergei/DataspellProjects/vein-segmentation/data/26/yolo_dataset/temp_masks/vein_val_0003_aug_07.png imgsz = 1280 x 960\n",
      "Processed and stored at /home/_sergei/DataspellProjects/vein-segmentation/data/26/yolo_dataset/labels/val/vein_val_0003_aug_07.txt imgsz = 1280 x 960\n"
     ]
    },
    {
     "data": {
      "text/plain": [
       "<IPython.core.display.HTML object>"
      ],
      "text/html": [
       "<p><b>DEBUG</b>: Processing val file: photo no checkersboard (43)_aug_7.jpg</p>"
      ]
     },
     "metadata": {},
     "output_type": "display_data"
    },
    {
     "name": "stdout",
     "output_type": "stream",
     "text": [
      "Processing /home/_sergei/DataspellProjects/vein-segmentation/data/26/yolo_dataset/temp_masks/vein_val_0003_aug_08.png imgsz = 960 x 1280\n",
      "Processed and stored at /home/_sergei/DataspellProjects/vein-segmentation/data/26/yolo_dataset/labels/val/vein_val_0003_aug_08.txt imgsz = 960 x 1280\n"
     ]
    },
    {
     "data": {
      "text/plain": [
       "<IPython.core.display.HTML object>"
      ],
      "text/html": [
       "<p><b>DEBUG</b>: Processing val file: photo no checkersboard (43)_aug_8.jpg</p>"
      ]
     },
     "metadata": {},
     "output_type": "display_data"
    },
    {
     "name": "stdout",
     "output_type": "stream",
     "text": [
      "Processing /home/_sergei/DataspellProjects/vein-segmentation/data/26/yolo_dataset/temp_masks/vein_val_0003_aug_09.png imgsz = 960 x 1280\n",
      "Processed and stored at /home/_sergei/DataspellProjects/vein-segmentation/data/26/yolo_dataset/labels/val/vein_val_0003_aug_09.txt imgsz = 960 x 1280\n"
     ]
    },
    {
     "data": {
      "text/plain": [
       "<IPython.core.display.HTML object>"
      ],
      "text/html": [
       "<p><b>DEBUG</b>: Processing val file: photo no checkersboard (43)_aug_9.jpg</p>"
      ]
     },
     "metadata": {},
     "output_type": "display_data"
    },
    {
     "name": "stdout",
     "output_type": "stream",
     "text": [
      "Processing /home/_sergei/DataspellProjects/vein-segmentation/data/26/yolo_dataset/temp_masks/vein_val_0003_aug_10.png imgsz = 1280 x 960\n",
      "Processed and stored at /home/_sergei/DataspellProjects/vein-segmentation/data/26/yolo_dataset/labels/val/vein_val_0003_aug_10.txt imgsz = 1280 x 960\n"
     ]
    },
    {
     "data": {
      "text/plain": [
       "<IPython.core.display.HTML object>"
      ],
      "text/html": [
       "<p><b>DEBUG</b>: Processing val file: photo no checkersboard (29).jpg</p>"
      ]
     },
     "metadata": {},
     "output_type": "display_data"
    },
    {
     "name": "stdout",
     "output_type": "stream",
     "text": [
      "Processing /home/_sergei/DataspellProjects/vein-segmentation/data/26/yolo_dataset/temp_masks/vein_val_0004_aug_00.png imgsz = 725 x 545\n",
      "Processed and stored at /home/_sergei/DataspellProjects/vein-segmentation/data/26/yolo_dataset/labels/val/vein_val_0004_aug_00.txt imgsz = 725 x 545\n"
     ]
    },
    {
     "data": {
      "text/plain": [
       "<IPython.core.display.HTML object>"
      ],
      "text/html": [
       "<p><b>DEBUG</b>: Processing val file: photo no checkersboard (29)_aug_0.jpg</p>"
      ]
     },
     "metadata": {},
     "output_type": "display_data"
    },
    {
     "name": "stdout",
     "output_type": "stream",
     "text": [
      "Processing /home/_sergei/DataspellProjects/vein-segmentation/data/26/yolo_dataset/temp_masks/vein_val_0004_aug_01.png imgsz = 725 x 545\n",
      "Processed and stored at /home/_sergei/DataspellProjects/vein-segmentation/data/26/yolo_dataset/labels/val/vein_val_0004_aug_01.txt imgsz = 725 x 545\n"
     ]
    },
    {
     "data": {
      "text/plain": [
       "<IPython.core.display.HTML object>"
      ],
      "text/html": [
       "<p><b>DEBUG</b>: Processing val file: photo no checkersboard (29)_aug_1.jpg</p>"
      ]
     },
     "metadata": {},
     "output_type": "display_data"
    },
    {
     "name": "stdout",
     "output_type": "stream",
     "text": [
      "Processing /home/_sergei/DataspellProjects/vein-segmentation/data/26/yolo_dataset/temp_masks/vein_val_0004_aug_02.png imgsz = 1280 x 960\n",
      "Processed and stored at /home/_sergei/DataspellProjects/vein-segmentation/data/26/yolo_dataset/labels/val/vein_val_0004_aug_02.txt imgsz = 1280 x 960\n"
     ]
    },
    {
     "data": {
      "text/plain": [
       "<IPython.core.display.HTML object>"
      ],
      "text/html": [
       "<p><b>DEBUG</b>: Processing val file: photo no checkersboard (29)_aug_2.jpg</p>"
      ]
     },
     "metadata": {},
     "output_type": "display_data"
    },
    {
     "name": "stdout",
     "output_type": "stream",
     "text": [
      "Processing /home/_sergei/DataspellProjects/vein-segmentation/data/26/yolo_dataset/temp_masks/vein_val_0004_aug_03.png imgsz = 1280 x 960\n",
      "Processed and stored at /home/_sergei/DataspellProjects/vein-segmentation/data/26/yolo_dataset/labels/val/vein_val_0004_aug_03.txt imgsz = 1280 x 960\n"
     ]
    },
    {
     "data": {
      "text/plain": [
       "<IPython.core.display.HTML object>"
      ],
      "text/html": [
       "<p><b>DEBUG</b>: Processing val file: photo no checkersboard (29)_aug_3.jpg</p>"
      ]
     },
     "metadata": {},
     "output_type": "display_data"
    },
    {
     "name": "stdout",
     "output_type": "stream",
     "text": [
      "Processing /home/_sergei/DataspellProjects/vein-segmentation/data/26/yolo_dataset/temp_masks/vein_val_0004_aug_04.png imgsz = 1280 x 960\n",
      "Processed and stored at /home/_sergei/DataspellProjects/vein-segmentation/data/26/yolo_dataset/labels/val/vein_val_0004_aug_04.txt imgsz = 1280 x 960\n"
     ]
    },
    {
     "data": {
      "text/plain": [
       "<IPython.core.display.HTML object>"
      ],
      "text/html": [
       "<p><b>DEBUG</b>: Processing val file: photo no checkersboard (29)_aug_4.jpg</p>"
      ]
     },
     "metadata": {},
     "output_type": "display_data"
    },
    {
     "name": "stdout",
     "output_type": "stream",
     "text": [
      "Processing /home/_sergei/DataspellProjects/vein-segmentation/data/26/yolo_dataset/temp_masks/vein_val_0004_aug_05.png imgsz = 1280 x 960\n",
      "Processed and stored at /home/_sergei/DataspellProjects/vein-segmentation/data/26/yolo_dataset/labels/val/vein_val_0004_aug_05.txt imgsz = 1280 x 960\n"
     ]
    },
    {
     "data": {
      "text/plain": [
       "<IPython.core.display.HTML object>"
      ],
      "text/html": [
       "<p><b>DEBUG</b>: Processing val file: photo no checkersboard (29)_aug_5.jpg</p>"
      ]
     },
     "metadata": {},
     "output_type": "display_data"
    },
    {
     "name": "stdout",
     "output_type": "stream",
     "text": [
      "Processing /home/_sergei/DataspellProjects/vein-segmentation/data/26/yolo_dataset/temp_masks/vein_val_0004_aug_06.png imgsz = 960 x 1280\n",
      "Processed and stored at /home/_sergei/DataspellProjects/vein-segmentation/data/26/yolo_dataset/labels/val/vein_val_0004_aug_06.txt imgsz = 960 x 1280\n"
     ]
    },
    {
     "data": {
      "text/plain": [
       "<IPython.core.display.HTML object>"
      ],
      "text/html": [
       "<p><b>DEBUG</b>: Processing val file: photo no checkersboard (29)_aug_6.jpg</p>"
      ]
     },
     "metadata": {},
     "output_type": "display_data"
    },
    {
     "name": "stdout",
     "output_type": "stream",
     "text": [
      "Processing /home/_sergei/DataspellProjects/vein-segmentation/data/26/yolo_dataset/temp_masks/vein_val_0004_aug_07.png imgsz = 960 x 1280\n",
      "Processed and stored at /home/_sergei/DataspellProjects/vein-segmentation/data/26/yolo_dataset/labels/val/vein_val_0004_aug_07.txt imgsz = 960 x 1280\n"
     ]
    },
    {
     "data": {
      "text/plain": [
       "<IPython.core.display.HTML object>"
      ],
      "text/html": [
       "<p><b>DEBUG</b>: Processing val file: photo no checkersboard (29)_aug_7.jpg</p>"
      ]
     },
     "metadata": {},
     "output_type": "display_data"
    },
    {
     "name": "stdout",
     "output_type": "stream",
     "text": [
      "Processing /home/_sergei/DataspellProjects/vein-segmentation/data/26/yolo_dataset/temp_masks/vein_val_0004_aug_08.png imgsz = 1280 x 960\n",
      "Processed and stored at /home/_sergei/DataspellProjects/vein-segmentation/data/26/yolo_dataset/labels/val/vein_val_0004_aug_08.txt imgsz = 1280 x 960\n"
     ]
    },
    {
     "data": {
      "text/plain": [
       "<IPython.core.display.HTML object>"
      ],
      "text/html": [
       "<p><b>DEBUG</b>: Processing val file: photo no checkersboard (29)_aug_8.jpg</p>"
      ]
     },
     "metadata": {},
     "output_type": "display_data"
    },
    {
     "name": "stdout",
     "output_type": "stream",
     "text": [
      "Processing /home/_sergei/DataspellProjects/vein-segmentation/data/26/yolo_dataset/temp_masks/vein_val_0004_aug_09.png imgsz = 960 x 1280\n",
      "Processed and stored at /home/_sergei/DataspellProjects/vein-segmentation/data/26/yolo_dataset/labels/val/vein_val_0004_aug_09.txt imgsz = 960 x 1280\n"
     ]
    },
    {
     "data": {
      "text/plain": [
       "<IPython.core.display.HTML object>"
      ],
      "text/html": [
       "<p><b>DEBUG</b>: Processing val file: photo no checkersboard (29)_aug_9.jpg</p>"
      ]
     },
     "metadata": {},
     "output_type": "display_data"
    },
    {
     "name": "stdout",
     "output_type": "stream",
     "text": [
      "Processing /home/_sergei/DataspellProjects/vein-segmentation/data/26/yolo_dataset/temp_masks/vein_val_0004_aug_10.png imgsz = 960 x 1280\n",
      "Processed and stored at /home/_sergei/DataspellProjects/vein-segmentation/data/26/yolo_dataset/labels/val/vein_val_0004_aug_10.txt imgsz = 960 x 1280\n"
     ]
    },
    {
     "data": {
      "text/plain": [
       "<IPython.core.display.HTML object>"
      ],
      "text/html": [
       "<p><b>INFO</b>: Data preparation completed. Output saved to /home/_sergei/DataspellProjects/vein-segmentation/data/26/yolo_dataset</p>"
      ]
     },
     "metadata": {},
     "output_type": "display_data"
    },
    {
     "data": {
      "text/plain": [
       "<IPython.core.display.HTML object>"
      ],
      "text/html": [
       "<p><b>INFO</b>: Training set: 28 groups</p>"
      ]
     },
     "metadata": {},
     "output_type": "display_data"
    },
    {
     "data": {
      "text/plain": [
       "<IPython.core.display.HTML object>"
      ],
      "text/html": [
       "<p><b>INFO</b>: Validation set: 4 groups</p>"
      ]
     },
     "metadata": {},
     "output_type": "display_data"
    },
    {
     "data": {
      "text/plain": [
       "<IPython.core.display.HTML object>"
      ],
      "text/html": [
       "<p><b>INFO</b>: Created data.yaml file at /home/_sergei/DataspellProjects/vein-segmentation/data/26/yolo_dataset/data.yaml</p>"
      ]
     },
     "metadata": {},
     "output_type": "display_data"
    },
    {
     "data": {
      "text/plain": [
       "<IPython.core.display.HTML object>"
      ],
      "text/html": [
       "<p><b>INFO</b>: Total execution time: 7.65 seconds</p>"
      ]
     },
     "metadata": {},
     "output_type": "display_data"
    }
   ],
   "execution_count": 8
  },
  {
   "metadata": {},
   "cell_type": "code",
   "outputs": [],
   "execution_count": null,
   "source": "",
   "id": "7488d856d149f1c1"
  }
 ],
 "metadata": {
  "kernelspec": {
   "display_name": "Python 3",
   "language": "python",
   "name": "python3"
  },
  "language_info": {
   "codemirror_mode": {
    "name": "ipython",
    "version": 2
   },
   "file_extension": ".py",
   "mimetype": "text/x-python",
   "name": "python",
   "nbconvert_exporter": "python",
   "pygments_lexer": "ipython2",
   "version": "2.7.6"
  }
 },
 "nbformat": 4,
 "nbformat_minor": 5
}
