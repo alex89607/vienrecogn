{
 "cells": [
  {
   "metadata": {
    "ExecuteTime": {
     "end_time": "2024-09-26T17:43:37.997247Z",
     "start_time": "2024-09-26T17:43:36.527912Z"
    }
   },
   "cell_type": "code",
   "source": [
    "from ultralytics import YOLO\n",
    "import torch\n",
    "import gc"
   ],
   "id": "c5a3781ccf91efd1",
   "outputs": [],
   "execution_count": 1
  },
  {
   "cell_type": "code",
   "id": "initial_id",
   "metadata": {
    "collapsed": true,
    "ExecuteTime": {
     "end_time": "2024-09-26T17:43:38.030330Z",
     "start_time": "2024-09-26T17:43:38.001030Z"
    }
   },
   "source": "model = YOLO('yolov8n-seg.pt')",
   "outputs": [],
   "execution_count": 2
  },
  {
   "metadata": {
    "ExecuteTime": {
     "end_time": "2024-09-26T17:43:17.800423Z",
     "start_time": "2024-09-26T17:43:17.797444Z"
    }
   },
   "cell_type": "code",
   "source": [
    "def clear_gpu_memory():\n",
    "    torch.cuda.empty_cache()\n",
    "    gc.collect()\n",
    "\n",
    "def print_gpu_memory_usage():\n",
    "    if torch.cuda.is_available():\n",
    "        print(f\"Используется памяти GPU: {torch.cuda.memory_allocated() / 1024**3:.2f} ГБ\")\n",
    "        print(f\"Кэшировано памяти GPU: {torch.cuda.memory_reserved() / 1024**3:.2f} ГБ\")\n",
    "    else:\n",
    "        print(\"GPU недоступен\")\n",
    "\n",
    "def delete_model_and_clear_memory(model):\n",
    "    del model\n",
    "    clear_gpu_memory()"
   ],
   "id": "55ff21e312518b0",
   "outputs": [],
   "execution_count": 19
  },
  {
   "metadata": {
    "jupyter": {
     "is_executing": true
    },
    "ExecuteTime": {
     "end_time": "2024-09-26T17:43:33.952767235Z",
     "start_time": "2024-09-26T17:43:18.247198Z"
    }
   },
   "cell_type": "code",
   "source": [
    "print_gpu_memory_usage()\n",
    "delete_model_and_clear_memory(model)\n",
    "print_gpu_memory_usage()"
   ],
   "id": "a38604a61151257d",
   "outputs": [
    {
     "name": "stdout",
     "output_type": "stream",
     "text": [
      "Используется памяти GPU: 0.18 ГБ\n",
      "Кэшировано памяти GPU: 0.58 ГБ\n"
     ]
    }
   ],
   "execution_count": null
  },
  {
   "metadata": {
    "ExecuteTime": {
     "end_time": "2024-09-26T17:43:41.127629Z",
     "start_time": "2024-09-26T17:43:41.125530Z"
    }
   },
   "cell_type": "code",
   "source": "yaml_path = '/home/_sergei/DataspellProjects/vein-segmentation/data/26/yolo_dataset/data.yaml'",
   "id": "83b7ddce534644fe",
   "outputs": [],
   "execution_count": 3
  },
  {
   "metadata": {
    "ExecuteTime": {
     "end_time": "2024-09-26T17:48:30.330882Z",
     "start_time": "2024-09-26T17:43:41.700720Z"
    }
   },
   "cell_type": "code",
   "source": [
    "results = model.train(\n",
    "    data=yaml_path,\n",
    "    epochs=100,\n",
    "    imgsz=512,  \n",
    "    batch=4,  \n",
    "    workers=4, \n",
    "    device=0,   \n",
    "    amp=True,  \n",
    "    patience=50, \n",
    "    optimizer='AdamW', \n",
    "    lr0=1e-3,\n",
    "    lrf=1e-4,\n",
    "    momentum=0.937,\n",
    "    weight_decay=0.0005,\n",
    "    warmup_epochs=3,\n",
    "    warmup_momentum=0.8,\n",
    "    warmup_bias_lr=0.1,\n",
    "    box=7.5,\n",
    "    cls=0.5,\n",
    "    dfl=1.5,\n",
    "    pose=12.0,\n",
    "    kobj=1.0,\n",
    "    label_smoothing=0.0,\n",
    "    nbs=64,\n",
    "    hsv_h=0.015,\n",
    "    hsv_s=0.7,\n",
    "    hsv_v=0.4,\n",
    "    translate=0.1,\n",
    "    scale=0.5,\n",
    "    fliplr=0.5,\n",
    "    flipud=0.0,\n",
    "    mosaic=0.0, \n",
    "    mixup=0.0,  \n",
    "    copy_paste=0.0,\n",
    "    name='vein_segmentation_model'\n",
    ")"
   ],
   "id": "aa55f8b9839b69a4",
   "outputs": [
    {
     "name": "stdout",
     "output_type": "stream",
     "text": [
      "New https://pypi.org/project/ultralytics/8.2.101 available 😃 Update with 'pip install -U ultralytics'\n",
      "Ultralytics YOLOv8.2.99 🚀 Python-3.11.9 torch-2.4.1+cu121 CUDA:0 (NVIDIA GeForce RTX 3060 Laptop GPU, 5842MiB)\n",
      "\u001B[34m\u001B[1mengine/trainer: \u001B[0mtask=segment, mode=train, model=yolov8n-seg.pt, data=/home/_sergei/DataspellProjects/vein-segmentation/data/26/yolo_dataset/data.yaml, epochs=100, time=None, patience=50, batch=4, imgsz=512, save=True, save_period=-1, cache=False, device=0, workers=4, project=None, name=vein_segmentation_model10, exist_ok=False, pretrained=True, optimizer=AdamW, verbose=True, seed=0, deterministic=True, single_cls=False, rect=False, cos_lr=False, close_mosaic=10, resume=False, amp=True, fraction=1.0, profile=False, freeze=None, multi_scale=False, overlap_mask=True, mask_ratio=4, dropout=0.0, val=True, split=val, save_json=False, save_hybrid=False, conf=None, iou=0.7, max_det=300, half=False, dnn=False, plots=True, source=None, vid_stride=1, stream_buffer=False, visualize=False, augment=False, agnostic_nms=False, classes=None, retina_masks=False, embed=None, show=False, save_frames=False, save_txt=False, save_conf=False, save_crop=False, show_labels=True, show_conf=True, show_boxes=True, line_width=None, format=torchscript, keras=False, optimize=False, int8=False, dynamic=False, simplify=False, opset=None, workspace=4, nms=False, lr0=0.001, lrf=0.0001, momentum=0.937, weight_decay=0.0005, warmup_epochs=3, warmup_momentum=0.8, warmup_bias_lr=0.1, box=7.5, cls=0.5, dfl=1.5, pose=12.0, kobj=1.0, label_smoothing=0.0, nbs=64, hsv_h=0.015, hsv_s=0.7, hsv_v=0.4, degrees=0.0, translate=0.1, scale=0.5, shear=0.0, perspective=0.0, flipud=0.0, fliplr=0.5, bgr=0.0, mosaic=0.0, mixup=0.0, copy_paste=0.0, auto_augment=randaugment, erasing=0.4, crop_fraction=1.0, cfg=None, tracker=botsort.yaml, save_dir=runs/segment/vein_segmentation_model10\n",
      "Overriding model.yaml nc=80 with nc=1\n",
      "\n",
      "                   from  n    params  module                                       arguments                     \n",
      "  0                  -1  1       464  ultralytics.nn.modules.conv.Conv             [3, 16, 3, 2]                 \n",
      "  1                  -1  1      4672  ultralytics.nn.modules.conv.Conv             [16, 32, 3, 2]                \n",
      "  2                  -1  1      7360  ultralytics.nn.modules.block.C2f             [32, 32, 1, True]             \n",
      "  3                  -1  1     18560  ultralytics.nn.modules.conv.Conv             [32, 64, 3, 2]                \n",
      "  4                  -1  2     49664  ultralytics.nn.modules.block.C2f             [64, 64, 2, True]             \n",
      "  5                  -1  1     73984  ultralytics.nn.modules.conv.Conv             [64, 128, 3, 2]               \n",
      "  6                  -1  2    197632  ultralytics.nn.modules.block.C2f             [128, 128, 2, True]           \n",
      "  7                  -1  1    295424  ultralytics.nn.modules.conv.Conv             [128, 256, 3, 2]              \n",
      "  8                  -1  1    460288  ultralytics.nn.modules.block.C2f             [256, 256, 1, True]           \n",
      "  9                  -1  1    164608  ultralytics.nn.modules.block.SPPF            [256, 256, 5]                 \n",
      " 10                  -1  1         0  torch.nn.modules.upsampling.Upsample         [None, 2, 'nearest']          \n",
      " 11             [-1, 6]  1         0  ultralytics.nn.modules.conv.Concat           [1]                           \n",
      " 12                  -1  1    148224  ultralytics.nn.modules.block.C2f             [384, 128, 1]                 \n",
      " 13                  -1  1         0  torch.nn.modules.upsampling.Upsample         [None, 2, 'nearest']          \n",
      " 14             [-1, 4]  1         0  ultralytics.nn.modules.conv.Concat           [1]                           \n",
      " 15                  -1  1     37248  ultralytics.nn.modules.block.C2f             [192, 64, 1]                  \n",
      " 16                  -1  1     36992  ultralytics.nn.modules.conv.Conv             [64, 64, 3, 2]                \n",
      " 17            [-1, 12]  1         0  ultralytics.nn.modules.conv.Concat           [1]                           \n",
      " 18                  -1  1    123648  ultralytics.nn.modules.block.C2f             [192, 128, 1]                 \n",
      " 19                  -1  1    147712  ultralytics.nn.modules.conv.Conv             [128, 128, 3, 2]              \n",
      " 20             [-1, 9]  1         0  ultralytics.nn.modules.conv.Concat           [1]                           \n",
      " 21                  -1  1    493056  ultralytics.nn.modules.block.C2f             [384, 256, 1]                 \n",
      " 22        [15, 18, 21]  1   1004275  ultralytics.nn.modules.head.Segment          [1, 32, 64, [64, 128, 256]]   \n",
      "YOLOv8n-seg summary: 261 layers, 3,263,811 parameters, 3,263,795 gradients, 12.1 GFLOPs\n",
      "\n",
      "Transferred 381/417 items from pretrained weights\n",
      "Freezing layer 'model.22.dfl.conv.weight'\n",
      "\u001B[34m\u001B[1mAMP: \u001B[0mrunning Automatic Mixed Precision (AMP) checks with YOLOv8n...\n",
      "\u001B[34m\u001B[1mAMP: \u001B[0mchecks passed ✅\n"
     ]
    },
    {
     "name": "stderr",
     "output_type": "stream",
     "text": [
      "\u001B[34m\u001B[1mtrain: \u001B[0mScanning /home/_sergei/DataspellProjects/vein-segmentation/data/26/yolo_dataset/labels/train... 308 images, 0 backgrounds, 0 corrupt: 100%|██████████| 308/308 [00:00<00:00, 2908.46it/s]"
     ]
    },
    {
     "name": "stdout",
     "output_type": "stream",
     "text": [
      "\u001B[34m\u001B[1mtrain: \u001B[0mNew cache created: /home/_sergei/DataspellProjects/vein-segmentation/data/26/yolo_dataset/labels/train.cache\n"
     ]
    },
    {
     "name": "stderr",
     "output_type": "stream",
     "text": [
      "\n",
      "\u001B[34m\u001B[1mval: \u001B[0mScanning /home/_sergei/DataspellProjects/vein-segmentation/data/26/yolo_dataset/labels/val... 44 images, 0 backgrounds, 0 corrupt: 100%|██████████| 44/44 [00:00<00:00, 1820.03it/s]"
     ]
    },
    {
     "name": "stdout",
     "output_type": "stream",
     "text": [
      "\u001B[34m\u001B[1mval: \u001B[0mNew cache created: /home/_sergei/DataspellProjects/vein-segmentation/data/26/yolo_dataset/labels/val.cache\n"
     ]
    },
    {
     "name": "stderr",
     "output_type": "stream",
     "text": [
      "\n"
     ]
    },
    {
     "name": "stdout",
     "output_type": "stream",
     "text": [
      "Plotting labels to runs/segment/vein_segmentation_model10/labels.jpg... \n",
      "\u001B[34m\u001B[1moptimizer:\u001B[0m AdamW(lr=0.001, momentum=0.937) with parameter groups 66 weight(decay=0.0), 77 weight(decay=0.0005), 76 bias(decay=0.0)\n",
      "Image sizes 512 train, 512 val\n",
      "Using 4 dataloader workers\n",
      "Logging results to \u001B[1mruns/segment/vein_segmentation_model10\u001B[0m\n",
      "Starting training for 100 epochs...\n",
      "\n",
      "      Epoch    GPU_mem   box_loss   seg_loss   cls_loss   dfl_loss  Instances       Size\n"
     ]
    },
    {
     "name": "stderr",
     "output_type": "stream",
     "text": [
      "      1/100     0.539G      3.809      4.912      5.491      1.564          7        512: 100%|██████████| 77/77 [00:04<00:00, 17.51it/s]\n",
      "                 Class     Images  Instances      Box(P          R      mAP50  mAP50-95)     Mask(P          R      mAP50  mAP50-95): 100%|██████████| 6/6 [00:00<00:00, 13.66it/s]"
     ]
    },
    {
     "name": "stdout",
     "output_type": "stream",
     "text": [
      "                   all         44        110     0.0056      0.191    0.00614    0.00121     0.0048      0.164    0.00334    0.00076\n"
     ]
    },
    {
     "name": "stderr",
     "output_type": "stream",
     "text": [
      "\n"
     ]
    },
    {
     "name": "stdout",
     "output_type": "stream",
     "text": [
      "\n",
      "      Epoch    GPU_mem   box_loss   seg_loss   cls_loss   dfl_loss  Instances       Size\n"
     ]
    },
    {
     "name": "stderr",
     "output_type": "stream",
     "text": [
      "      2/100     0.522G      3.338      3.666      2.889      1.317          7        512: 100%|██████████| 77/77 [00:03<00:00, 21.84it/s]\n",
      "                 Class     Images  Instances      Box(P          R      mAP50  mAP50-95)     Mask(P          R      mAP50  mAP50-95): 100%|██████████| 6/6 [00:00<00:00, 25.41it/s]"
     ]
    },
    {
     "name": "stdout",
     "output_type": "stream",
     "text": [
      "                   all         44        110     0.0177      0.155     0.0125    0.00315     0.0229        0.2      0.024     0.0051\n"
     ]
    },
    {
     "name": "stderr",
     "output_type": "stream",
     "text": [
      "\n"
     ]
    },
    {
     "name": "stdout",
     "output_type": "stream",
     "text": [
      "\n",
      "      Epoch    GPU_mem   box_loss   seg_loss   cls_loss   dfl_loss  Instances       Size\n"
     ]
    },
    {
     "name": "stderr",
     "output_type": "stream",
     "text": [
      "      3/100     0.528G       3.14      3.685       2.57      1.267         11        512: 100%|██████████| 77/77 [00:03<00:00, 22.21it/s]\n",
      "                 Class     Images  Instances      Box(P          R      mAP50  mAP50-95)     Mask(P          R      mAP50  mAP50-95): 100%|██████████| 6/6 [00:00<00:00, 24.86it/s]"
     ]
    },
    {
     "name": "stdout",
     "output_type": "stream",
     "text": [
      "                   all         44        110      0.108      0.145     0.0377    0.00793      0.126      0.282     0.0538     0.0125\n"
     ]
    },
    {
     "name": "stderr",
     "output_type": "stream",
     "text": [
      "\n"
     ]
    },
    {
     "name": "stdout",
     "output_type": "stream",
     "text": [
      "\n",
      "      Epoch    GPU_mem   box_loss   seg_loss   cls_loss   dfl_loss  Instances       Size\n"
     ]
    },
    {
     "name": "stderr",
     "output_type": "stream",
     "text": [
      "      4/100     0.522G      3.042      3.295      2.355      1.253          8        512: 100%|██████████| 77/77 [00:03<00:00, 23.15it/s]\n",
      "                 Class     Images  Instances      Box(P          R      mAP50  mAP50-95)     Mask(P          R      mAP50  mAP50-95): 100%|██████████| 6/6 [00:00<00:00, 27.21it/s]"
     ]
    },
    {
     "name": "stdout",
     "output_type": "stream",
     "text": [
      "                   all         44        110      0.107      0.118     0.0477     0.0106      0.185      0.182      0.107     0.0213\n"
     ]
    },
    {
     "name": "stderr",
     "output_type": "stream",
     "text": [
      "\n"
     ]
    },
    {
     "name": "stdout",
     "output_type": "stream",
     "text": [
      "\n",
      "      Epoch    GPU_mem   box_loss   seg_loss   cls_loss   dfl_loss  Instances       Size\n"
     ]
    },
    {
     "name": "stderr",
     "output_type": "stream",
     "text": [
      "      5/100     0.522G      2.975      3.063      2.239      1.212         10        512: 100%|██████████| 77/77 [00:03<00:00, 23.00it/s]\n",
      "                 Class     Images  Instances      Box(P          R      mAP50  mAP50-95)     Mask(P          R      mAP50  mAP50-95): 100%|██████████| 6/6 [00:00<00:00, 27.39it/s]"
     ]
    },
    {
     "name": "stdout",
     "output_type": "stream",
     "text": [
      "                   all         44        110        0.1      0.118     0.0405    0.00824      0.232      0.173      0.113     0.0237\n"
     ]
    },
    {
     "name": "stderr",
     "output_type": "stream",
     "text": [
      "\n"
     ]
    },
    {
     "name": "stdout",
     "output_type": "stream",
     "text": [
      "\n",
      "      Epoch    GPU_mem   box_loss   seg_loss   cls_loss   dfl_loss  Instances       Size\n"
     ]
    },
    {
     "name": "stderr",
     "output_type": "stream",
     "text": [
      "      6/100     0.541G      2.916      3.366      2.092       1.19          5        512: 100%|██████████| 77/77 [00:03<00:00, 21.47it/s]\n",
      "                 Class     Images  Instances      Box(P          R      mAP50  mAP50-95)     Mask(P          R      mAP50  mAP50-95): 100%|██████████| 6/6 [00:00<00:00, 27.05it/s]"
     ]
    },
    {
     "name": "stdout",
     "output_type": "stream",
     "text": [
      "                   all         44        110       0.16      0.118     0.0502    0.00984      0.221      0.227      0.109     0.0234\n"
     ]
    },
    {
     "name": "stderr",
     "output_type": "stream",
     "text": [
      "\n"
     ]
    },
    {
     "name": "stdout",
     "output_type": "stream",
     "text": [
      "\n",
      "      Epoch    GPU_mem   box_loss   seg_loss   cls_loss   dfl_loss  Instances       Size\n"
     ]
    },
    {
     "name": "stderr",
     "output_type": "stream",
     "text": [
      "      7/100     0.522G      2.848      2.897      2.059      1.177          8        512: 100%|██████████| 77/77 [00:03<00:00, 22.27it/s]\n",
      "                 Class     Images  Instances      Box(P          R      mAP50  mAP50-95)     Mask(P          R      mAP50  mAP50-95): 100%|██████████| 6/6 [00:00<00:00, 26.43it/s]"
     ]
    },
    {
     "name": "stdout",
     "output_type": "stream",
     "text": [
      "                   all         44        110     0.0898      0.118     0.0415     0.0105      0.188      0.236      0.101     0.0239\n"
     ]
    },
    {
     "name": "stderr",
     "output_type": "stream",
     "text": [
      "\n"
     ]
    },
    {
     "name": "stdout",
     "output_type": "stream",
     "text": [
      "\n",
      "      Epoch    GPU_mem   box_loss   seg_loss   cls_loss   dfl_loss  Instances       Size\n"
     ]
    },
    {
     "name": "stderr",
     "output_type": "stream",
     "text": [
      "      8/100     0.522G      2.842      2.991      2.054      1.151          8        512: 100%|██████████| 77/77 [00:03<00:00, 22.08it/s]\n",
      "                 Class     Images  Instances      Box(P          R      mAP50  mAP50-95)     Mask(P          R      mAP50  mAP50-95): 100%|██████████| 6/6 [00:00<00:00, 26.18it/s]"
     ]
    },
    {
     "name": "stdout",
     "output_type": "stream",
     "text": [
      "                   all         44        110     0.0924      0.109     0.0464     0.0105      0.207      0.208      0.105     0.0283\n"
     ]
    },
    {
     "name": "stderr",
     "output_type": "stream",
     "text": [
      "\n"
     ]
    },
    {
     "name": "stdout",
     "output_type": "stream",
     "text": [
      "\n",
      "      Epoch    GPU_mem   box_loss   seg_loss   cls_loss   dfl_loss  Instances       Size\n"
     ]
    },
    {
     "name": "stderr",
     "output_type": "stream",
     "text": [
      "      9/100      0.52G      2.715      2.804      1.971      1.151          8        512: 100%|██████████| 77/77 [00:03<00:00, 22.40it/s]\n",
      "                 Class     Images  Instances      Box(P          R      mAP50  mAP50-95)     Mask(P          R      mAP50  mAP50-95): 100%|██████████| 6/6 [00:00<00:00, 26.62it/s]"
     ]
    },
    {
     "name": "stdout",
     "output_type": "stream",
     "text": [
      "                   all         44        110      0.135      0.182     0.0587     0.0135      0.203      0.255      0.119     0.0308\n"
     ]
    },
    {
     "name": "stderr",
     "output_type": "stream",
     "text": [
      "\n"
     ]
    },
    {
     "name": "stdout",
     "output_type": "stream",
     "text": [
      "\n",
      "      Epoch    GPU_mem   box_loss   seg_loss   cls_loss   dfl_loss  Instances       Size\n"
     ]
    },
    {
     "name": "stderr",
     "output_type": "stream",
     "text": [
      "     10/100     0.522G      2.712      2.932      1.917      1.138          8        512: 100%|██████████| 77/77 [00:03<00:00, 22.56it/s]\n",
      "                 Class     Images  Instances      Box(P          R      mAP50  mAP50-95)     Mask(P          R      mAP50  mAP50-95): 100%|██████████| 6/6 [00:00<00:00, 26.16it/s]"
     ]
    },
    {
     "name": "stdout",
     "output_type": "stream",
     "text": [
      "                   all         44        110      0.117      0.182     0.0609     0.0151      0.333      0.227      0.155     0.0374\n"
     ]
    },
    {
     "name": "stderr",
     "output_type": "stream",
     "text": [
      "\n"
     ]
    },
    {
     "name": "stdout",
     "output_type": "stream",
     "text": [
      "\n",
      "      Epoch    GPU_mem   box_loss   seg_loss   cls_loss   dfl_loss  Instances       Size\n"
     ]
    },
    {
     "name": "stderr",
     "output_type": "stream",
     "text": [
      "     11/100     0.522G      2.634      2.839      1.961      1.145          8        512: 100%|██████████| 77/77 [00:03<00:00, 22.27it/s]\n",
      "                 Class     Images  Instances      Box(P          R      mAP50  mAP50-95)     Mask(P          R      mAP50  mAP50-95): 100%|██████████| 6/6 [00:00<00:00, 27.55it/s]"
     ]
    },
    {
     "name": "stdout",
     "output_type": "stream",
     "text": [
      "                   all         44        110      0.145        0.2     0.0695     0.0183      0.244      0.327      0.149     0.0409\n"
     ]
    },
    {
     "name": "stderr",
     "output_type": "stream",
     "text": [
      "\n"
     ]
    },
    {
     "name": "stdout",
     "output_type": "stream",
     "text": [
      "\n",
      "      Epoch    GPU_mem   box_loss   seg_loss   cls_loss   dfl_loss  Instances       Size\n"
     ]
    },
    {
     "name": "stderr",
     "output_type": "stream",
     "text": [
      "     12/100     0.522G      2.642      2.827      1.864      1.122          7        512: 100%|██████████| 77/77 [00:03<00:00, 22.50it/s]\n",
      "                 Class     Images  Instances      Box(P          R      mAP50  mAP50-95)     Mask(P          R      mAP50  mAP50-95): 100%|██████████| 6/6 [00:00<00:00, 25.91it/s]"
     ]
    },
    {
     "name": "stdout",
     "output_type": "stream",
     "text": [
      "                   all         44        110      0.123      0.118     0.0611     0.0158      0.231      0.209      0.117     0.0329\n"
     ]
    },
    {
     "name": "stderr",
     "output_type": "stream",
     "text": [
      "\n"
     ]
    },
    {
     "name": "stdout",
     "output_type": "stream",
     "text": [
      "\n",
      "      Epoch    GPU_mem   box_loss   seg_loss   cls_loss   dfl_loss  Instances       Size\n"
     ]
    },
    {
     "name": "stderr",
     "output_type": "stream",
     "text": [
      "     13/100     0.531G      2.554      2.705      1.824      1.116          8        512: 100%|██████████| 77/77 [00:03<00:00, 23.27it/s]\n",
      "                 Class     Images  Instances      Box(P          R      mAP50  mAP50-95)     Mask(P          R      mAP50  mAP50-95): 100%|██████████| 6/6 [00:00<00:00, 27.15it/s]"
     ]
    },
    {
     "name": "stdout",
     "output_type": "stream",
     "text": [
      "                   all         44        110      0.145      0.191     0.0632     0.0167      0.171      0.255      0.106      0.026\n"
     ]
    },
    {
     "name": "stderr",
     "output_type": "stream",
     "text": [
      "\n"
     ]
    },
    {
     "name": "stdout",
     "output_type": "stream",
     "text": [
      "\n",
      "      Epoch    GPU_mem   box_loss   seg_loss   cls_loss   dfl_loss  Instances       Size\n"
     ]
    },
    {
     "name": "stderr",
     "output_type": "stream",
     "text": [
      "     14/100     0.541G      2.596      2.734      1.798      1.103          8        512: 100%|██████████| 77/77 [00:03<00:00, 22.59it/s]\n",
      "                 Class     Images  Instances      Box(P          R      mAP50  mAP50-95)     Mask(P          R      mAP50  mAP50-95): 100%|██████████| 6/6 [00:00<00:00, 25.94it/s]"
     ]
    },
    {
     "name": "stdout",
     "output_type": "stream",
     "text": [
      "                   all         44        110      0.191      0.264     0.0781     0.0194       0.31      0.382      0.221      0.043\n"
     ]
    },
    {
     "name": "stderr",
     "output_type": "stream",
     "text": [
      "\n"
     ]
    },
    {
     "name": "stdout",
     "output_type": "stream",
     "text": [
      "\n",
      "      Epoch    GPU_mem   box_loss   seg_loss   cls_loss   dfl_loss  Instances       Size\n"
     ]
    },
    {
     "name": "stderr",
     "output_type": "stream",
     "text": [
      "     15/100     0.522G      2.563      2.616      1.766       1.07          8        512: 100%|██████████| 77/77 [00:03<00:00, 22.53it/s]\n",
      "                 Class     Images  Instances      Box(P          R      mAP50  mAP50-95)     Mask(P          R      mAP50  mAP50-95): 100%|██████████| 6/6 [00:00<00:00, 25.90it/s]"
     ]
    },
    {
     "name": "stdout",
     "output_type": "stream",
     "text": [
      "                   all         44        110      0.139      0.182     0.0605     0.0173      0.287        0.3      0.172     0.0393\n"
     ]
    },
    {
     "name": "stderr",
     "output_type": "stream",
     "text": [
      "\n"
     ]
    },
    {
     "name": "stdout",
     "output_type": "stream",
     "text": [
      "\n",
      "      Epoch    GPU_mem   box_loss   seg_loss   cls_loss   dfl_loss  Instances       Size\n"
     ]
    },
    {
     "name": "stderr",
     "output_type": "stream",
     "text": [
      "     16/100      0.52G      2.482      2.664       1.74      1.052          8        512: 100%|██████████| 77/77 [00:03<00:00, 22.45it/s]\n",
      "                 Class     Images  Instances      Box(P          R      mAP50  mAP50-95)     Mask(P          R      mAP50  mAP50-95): 100%|██████████| 6/6 [00:00<00:00, 27.20it/s]"
     ]
    },
    {
     "name": "stdout",
     "output_type": "stream",
     "text": [
      "                   all         44        110      0.161      0.164     0.0652     0.0214      0.287      0.291      0.169       0.04\n"
     ]
    },
    {
     "name": "stderr",
     "output_type": "stream",
     "text": [
      "\n"
     ]
    },
    {
     "name": "stdout",
     "output_type": "stream",
     "text": [
      "\n",
      "      Epoch    GPU_mem   box_loss   seg_loss   cls_loss   dfl_loss  Instances       Size\n"
     ]
    },
    {
     "name": "stderr",
     "output_type": "stream",
     "text": [
      "     17/100     0.522G      2.604       2.72       1.73      1.083         11        512: 100%|██████████| 77/77 [00:03<00:00, 22.53it/s]\n",
      "                 Class     Images  Instances      Box(P          R      mAP50  mAP50-95)     Mask(P          R      mAP50  mAP50-95): 100%|██████████| 6/6 [00:00<00:00, 27.54it/s]"
     ]
    },
    {
     "name": "stdout",
     "output_type": "stream",
     "text": [
      "                   all         44        110       0.18       0.19     0.0751     0.0242      0.336      0.354      0.206     0.0536\n"
     ]
    },
    {
     "name": "stderr",
     "output_type": "stream",
     "text": [
      "\n"
     ]
    },
    {
     "name": "stdout",
     "output_type": "stream",
     "text": [
      "\n",
      "      Epoch    GPU_mem   box_loss   seg_loss   cls_loss   dfl_loss  Instances       Size\n"
     ]
    },
    {
     "name": "stderr",
     "output_type": "stream",
     "text": [
      "     18/100      0.52G      2.548      2.526      1.723      1.066          7        512: 100%|██████████| 77/77 [00:03<00:00, 22.34it/s]\n",
      "                 Class     Images  Instances      Box(P          R      mAP50  mAP50-95)     Mask(P          R      mAP50  mAP50-95): 100%|██████████| 6/6 [00:00<00:00, 27.32it/s]"
     ]
    },
    {
     "name": "stdout",
     "output_type": "stream",
     "text": [
      "                   all         44        110      0.195      0.214     0.0917     0.0265      0.304      0.364      0.204      0.047\n"
     ]
    },
    {
     "name": "stderr",
     "output_type": "stream",
     "text": [
      "\n"
     ]
    },
    {
     "name": "stdout",
     "output_type": "stream",
     "text": [
      "\n",
      "      Epoch    GPU_mem   box_loss   seg_loss   cls_loss   dfl_loss  Instances       Size\n"
     ]
    },
    {
     "name": "stderr",
     "output_type": "stream",
     "text": [
      "     19/100     0.522G      2.363      2.422      1.589      1.055          6        512: 100%|██████████| 77/77 [00:03<00:00, 22.60it/s]\n",
      "                 Class     Images  Instances      Box(P          R      mAP50  mAP50-95)     Mask(P          R      mAP50  mAP50-95): 100%|██████████| 6/6 [00:00<00:00, 26.64it/s]"
     ]
    },
    {
     "name": "stdout",
     "output_type": "stream",
     "text": [
      "                   all         44        110      0.163      0.273     0.0887     0.0244      0.288      0.345      0.205     0.0555\n"
     ]
    },
    {
     "name": "stderr",
     "output_type": "stream",
     "text": [
      "\n"
     ]
    },
    {
     "name": "stdout",
     "output_type": "stream",
     "text": [
      "\n",
      "      Epoch    GPU_mem   box_loss   seg_loss   cls_loss   dfl_loss  Instances       Size\n"
     ]
    },
    {
     "name": "stderr",
     "output_type": "stream",
     "text": [
      "     20/100     0.522G      2.431      2.643       1.76      1.052          8        512: 100%|██████████| 77/77 [00:03<00:00, 22.45it/s]\n",
      "                 Class     Images  Instances      Box(P          R      mAP50  mAP50-95)     Mask(P          R      mAP50  mAP50-95): 100%|██████████| 6/6 [00:00<00:00, 26.70it/s]"
     ]
    },
    {
     "name": "stdout",
     "output_type": "stream",
     "text": [
      "                   all         44        110      0.226      0.257      0.127     0.0286      0.399      0.382       0.25     0.0592\n"
     ]
    },
    {
     "name": "stderr",
     "output_type": "stream",
     "text": [
      "\n"
     ]
    },
    {
     "name": "stdout",
     "output_type": "stream",
     "text": [
      "\n",
      "      Epoch    GPU_mem   box_loss   seg_loss   cls_loss   dfl_loss  Instances       Size\n"
     ]
    },
    {
     "name": "stderr",
     "output_type": "stream",
     "text": [
      "     21/100     0.522G      2.421      2.722      1.632      1.038          4        512: 100%|██████████| 77/77 [00:03<00:00, 22.76it/s]\n",
      "                 Class     Images  Instances      Box(P          R      mAP50  mAP50-95)     Mask(P          R      mAP50  mAP50-95): 100%|██████████| 6/6 [00:00<00:00, 26.72it/s]"
     ]
    },
    {
     "name": "stdout",
     "output_type": "stream",
     "text": [
      "                   all         44        110      0.155      0.187     0.0625     0.0154      0.361      0.319      0.189     0.0441\n"
     ]
    },
    {
     "name": "stderr",
     "output_type": "stream",
     "text": [
      "\n"
     ]
    },
    {
     "name": "stdout",
     "output_type": "stream",
     "text": [
      "\n",
      "      Epoch    GPU_mem   box_loss   seg_loss   cls_loss   dfl_loss  Instances       Size\n"
     ]
    },
    {
     "name": "stderr",
     "output_type": "stream",
     "text": [
      "     22/100      0.52G      2.469      2.801      1.653      1.017          6        512: 100%|██████████| 77/77 [00:03<00:00, 22.20it/s]\n",
      "                 Class     Images  Instances      Box(P          R      mAP50  mAP50-95)     Mask(P          R      mAP50  mAP50-95): 100%|██████████| 6/6 [00:00<00:00, 24.11it/s]"
     ]
    },
    {
     "name": "stdout",
     "output_type": "stream",
     "text": [
      "                   all         44        110      0.176      0.236     0.0808      0.019      0.349      0.345      0.224     0.0499\n"
     ]
    },
    {
     "name": "stderr",
     "output_type": "stream",
     "text": [
      "\n"
     ]
    },
    {
     "name": "stdout",
     "output_type": "stream",
     "text": [
      "\n",
      "      Epoch    GPU_mem   box_loss   seg_loss   cls_loss   dfl_loss  Instances       Size\n"
     ]
    },
    {
     "name": "stderr",
     "output_type": "stream",
     "text": [
      "     23/100      0.52G      2.416      2.439      1.622      1.058         11        512: 100%|██████████| 77/77 [00:03<00:00, 23.02it/s]\n",
      "                 Class     Images  Instances      Box(P          R      mAP50  mAP50-95)     Mask(P          R      mAP50  mAP50-95): 100%|██████████| 6/6 [00:00<00:00, 25.35it/s]"
     ]
    },
    {
     "name": "stdout",
     "output_type": "stream",
     "text": [
      "                   all         44        110      0.253      0.255      0.134      0.028      0.328      0.336      0.178     0.0466\n"
     ]
    },
    {
     "name": "stderr",
     "output_type": "stream",
     "text": [
      "\n"
     ]
    },
    {
     "name": "stdout",
     "output_type": "stream",
     "text": [
      "\n",
      "      Epoch    GPU_mem   box_loss   seg_loss   cls_loss   dfl_loss  Instances       Size\n"
     ]
    },
    {
     "name": "stderr",
     "output_type": "stream",
     "text": [
      "     24/100     0.522G      2.363      2.568       1.57      1.019          7        512: 100%|██████████| 77/77 [00:03<00:00, 22.14it/s]\n",
      "                 Class     Images  Instances      Box(P          R      mAP50  mAP50-95)     Mask(P          R      mAP50  mAP50-95): 100%|██████████| 6/6 [00:00<00:00, 25.92it/s]"
     ]
    },
    {
     "name": "stdout",
     "output_type": "stream",
     "text": [
      "                   all         44        110      0.156      0.264     0.0663     0.0185      0.305        0.3      0.182      0.042\n"
     ]
    },
    {
     "name": "stderr",
     "output_type": "stream",
     "text": [
      "\n"
     ]
    },
    {
     "name": "stdout",
     "output_type": "stream",
     "text": [
      "\n",
      "      Epoch    GPU_mem   box_loss   seg_loss   cls_loss   dfl_loss  Instances       Size\n"
     ]
    },
    {
     "name": "stderr",
     "output_type": "stream",
     "text": [
      "     25/100      0.52G      2.399      2.514      1.659      1.033          7        512: 100%|██████████| 77/77 [00:03<00:00, 19.91it/s]\n",
      "                 Class     Images  Instances      Box(P          R      mAP50  mAP50-95)     Mask(P          R      mAP50  mAP50-95): 100%|██████████| 6/6 [00:00<00:00, 24.05it/s]"
     ]
    },
    {
     "name": "stdout",
     "output_type": "stream",
     "text": [
      "                   all         44        110      0.186      0.236     0.0919     0.0226      0.305      0.327      0.174     0.0397\n"
     ]
    },
    {
     "name": "stderr",
     "output_type": "stream",
     "text": [
      "\n"
     ]
    },
    {
     "name": "stdout",
     "output_type": "stream",
     "text": [
      "\n",
      "      Epoch    GPU_mem   box_loss   seg_loss   cls_loss   dfl_loss  Instances       Size\n"
     ]
    },
    {
     "name": "stderr",
     "output_type": "stream",
     "text": [
      "     26/100      0.52G      2.286      2.574      1.603      1.039         12        512: 100%|██████████| 77/77 [00:03<00:00, 21.90it/s]\n",
      "                 Class     Images  Instances      Box(P          R      mAP50  mAP50-95)     Mask(P          R      mAP50  mAP50-95): 100%|██████████| 6/6 [00:00<00:00, 25.08it/s]"
     ]
    },
    {
     "name": "stdout",
     "output_type": "stream",
     "text": [
      "                   all         44        110      0.191      0.264      0.098      0.028       0.31        0.4      0.204     0.0429\n"
     ]
    },
    {
     "name": "stderr",
     "output_type": "stream",
     "text": [
      "\n"
     ]
    },
    {
     "name": "stdout",
     "output_type": "stream",
     "text": [
      "\n",
      "      Epoch    GPU_mem   box_loss   seg_loss   cls_loss   dfl_loss  Instances       Size\n"
     ]
    },
    {
     "name": "stderr",
     "output_type": "stream",
     "text": [
      "     27/100     0.522G      2.327      2.593      1.633      1.043          8        512: 100%|██████████| 77/77 [00:03<00:00, 22.73it/s]\n",
      "                 Class     Images  Instances      Box(P          R      mAP50  mAP50-95)     Mask(P          R      mAP50  mAP50-95): 100%|██████████| 6/6 [00:00<00:00, 26.64it/s]"
     ]
    },
    {
     "name": "stdout",
     "output_type": "stream",
     "text": [
      "                   all         44        110      0.181      0.209     0.0747     0.0201      0.247      0.282      0.156      0.034\n"
     ]
    },
    {
     "name": "stderr",
     "output_type": "stream",
     "text": [
      "\n"
     ]
    },
    {
     "name": "stdout",
     "output_type": "stream",
     "text": [
      "\n",
      "      Epoch    GPU_mem   box_loss   seg_loss   cls_loss   dfl_loss  Instances       Size\n"
     ]
    },
    {
     "name": "stderr",
     "output_type": "stream",
     "text": [
      "     28/100     0.522G       2.31      2.541      1.549      1.021         10        512: 100%|██████████| 77/77 [00:03<00:00, 22.69it/s]\n",
      "                 Class     Images  Instances      Box(P          R      mAP50  mAP50-95)     Mask(P          R      mAP50  mAP50-95): 100%|██████████| 6/6 [00:00<00:00, 24.49it/s]"
     ]
    },
    {
     "name": "stdout",
     "output_type": "stream",
     "text": [
      "                   all         44        110      0.154      0.218     0.0664     0.0163      0.258      0.273      0.186     0.0363\n"
     ]
    },
    {
     "name": "stderr",
     "output_type": "stream",
     "text": [
      "\n"
     ]
    },
    {
     "name": "stdout",
     "output_type": "stream",
     "text": [
      "\n",
      "      Epoch    GPU_mem   box_loss   seg_loss   cls_loss   dfl_loss  Instances       Size\n"
     ]
    },
    {
     "name": "stderr",
     "output_type": "stream",
     "text": [
      "     29/100     0.531G      2.215      2.402      1.513      1.042         10        512: 100%|██████████| 77/77 [00:03<00:00, 22.74it/s]\n",
      "                 Class     Images  Instances      Box(P          R      mAP50  mAP50-95)     Mask(P          R      mAP50  mAP50-95): 100%|██████████| 6/6 [00:00<00:00, 26.15it/s]"
     ]
    },
    {
     "name": "stdout",
     "output_type": "stream",
     "text": [
      "                   all         44        110      0.149        0.2     0.0584      0.016      0.272      0.264      0.185     0.0326\n"
     ]
    },
    {
     "name": "stderr",
     "output_type": "stream",
     "text": [
      "\n"
     ]
    },
    {
     "name": "stdout",
     "output_type": "stream",
     "text": [
      "\n",
      "      Epoch    GPU_mem   box_loss   seg_loss   cls_loss   dfl_loss  Instances       Size\n"
     ]
    },
    {
     "name": "stderr",
     "output_type": "stream",
     "text": [
      "     30/100      0.52G      2.199      2.377      1.437      1.001          6        512: 100%|██████████| 77/77 [00:03<00:00, 22.44it/s]\n",
      "                 Class     Images  Instances      Box(P          R      mAP50  mAP50-95)     Mask(P          R      mAP50  mAP50-95): 100%|██████████| 6/6 [00:00<00:00, 24.88it/s]"
     ]
    },
    {
     "name": "stdout",
     "output_type": "stream",
     "text": [
      "                   all         44        110      0.166      0.209     0.0803     0.0192       0.31      0.314      0.182     0.0386\n"
     ]
    },
    {
     "name": "stderr",
     "output_type": "stream",
     "text": [
      "\n"
     ]
    },
    {
     "name": "stdout",
     "output_type": "stream",
     "text": [
      "\n",
      "      Epoch    GPU_mem   box_loss   seg_loss   cls_loss   dfl_loss  Instances       Size\n"
     ]
    },
    {
     "name": "stderr",
     "output_type": "stream",
     "text": [
      "     31/100     0.522G      2.238      2.451      1.483      1.006          7        512: 100%|██████████| 77/77 [00:03<00:00, 20.40it/s]\n",
      "                 Class     Images  Instances      Box(P          R      mAP50  mAP50-95)     Mask(P          R      mAP50  mAP50-95): 100%|██████████| 6/6 [00:00<00:00, 23.46it/s]"
     ]
    },
    {
     "name": "stdout",
     "output_type": "stream",
     "text": [
      "                   all         44        110      0.175      0.173     0.0789     0.0217      0.344      0.291      0.202     0.0441\n"
     ]
    },
    {
     "name": "stderr",
     "output_type": "stream",
     "text": [
      "\n"
     ]
    },
    {
     "name": "stdout",
     "output_type": "stream",
     "text": [
      "\n",
      "      Epoch    GPU_mem   box_loss   seg_loss   cls_loss   dfl_loss  Instances       Size\n"
     ]
    },
    {
     "name": "stderr",
     "output_type": "stream",
     "text": [
      "     32/100     0.522G      2.239      2.502      1.463      1.033         11        512: 100%|██████████| 77/77 [00:03<00:00, 21.38it/s]\n",
      "                 Class     Images  Instances      Box(P          R      mAP50  mAP50-95)     Mask(P          R      mAP50  mAP50-95): 100%|██████████| 6/6 [00:00<00:00, 25.47it/s]"
     ]
    },
    {
     "name": "stdout",
     "output_type": "stream",
     "text": [
      "                   all         44        110      0.205      0.282     0.0964     0.0254      0.326      0.318      0.196     0.0427\n"
     ]
    },
    {
     "name": "stderr",
     "output_type": "stream",
     "text": [
      "\n"
     ]
    },
    {
     "name": "stdout",
     "output_type": "stream",
     "text": [
      "\n",
      "      Epoch    GPU_mem   box_loss   seg_loss   cls_loss   dfl_loss  Instances       Size\n"
     ]
    },
    {
     "name": "stderr",
     "output_type": "stream",
     "text": [
      "     33/100     0.522G       2.17       2.49      1.399     0.9883          9        512: 100%|██████████| 77/77 [00:03<00:00, 21.85it/s]\n",
      "                 Class     Images  Instances      Box(P          R      mAP50  mAP50-95)     Mask(P          R      mAP50  mAP50-95): 100%|██████████| 6/6 [00:00<00:00, 24.87it/s]"
     ]
    },
    {
     "name": "stdout",
     "output_type": "stream",
     "text": [
      "                   all         44        110       0.22      0.236     0.0884     0.0216       0.34      0.382      0.245     0.0433\n"
     ]
    },
    {
     "name": "stderr",
     "output_type": "stream",
     "text": [
      "\n"
     ]
    },
    {
     "name": "stdout",
     "output_type": "stream",
     "text": [
      "\n",
      "      Epoch    GPU_mem   box_loss   seg_loss   cls_loss   dfl_loss  Instances       Size\n"
     ]
    },
    {
     "name": "stderr",
     "output_type": "stream",
     "text": [
      "     34/100     0.543G      2.145      2.239      1.393      1.007          9        512: 100%|██████████| 77/77 [00:03<00:00, 21.89it/s]\n",
      "                 Class     Images  Instances      Box(P          R      mAP50  mAP50-95)     Mask(P          R      mAP50  mAP50-95): 100%|██████████| 6/6 [00:00<00:00, 25.00it/s]"
     ]
    },
    {
     "name": "stdout",
     "output_type": "stream",
     "text": [
      "                   all         44        110      0.179        0.2     0.0795     0.0208      0.326      0.352      0.211     0.0378\n"
     ]
    },
    {
     "name": "stderr",
     "output_type": "stream",
     "text": [
      "\n"
     ]
    },
    {
     "name": "stdout",
     "output_type": "stream",
     "text": [
      "\n",
      "      Epoch    GPU_mem   box_loss   seg_loss   cls_loss   dfl_loss  Instances       Size\n"
     ]
    },
    {
     "name": "stderr",
     "output_type": "stream",
     "text": [
      "     35/100     0.522G      2.183      2.384      1.381     0.9932         10        512: 100%|██████████| 77/77 [00:03<00:00, 22.59it/s]\n",
      "                 Class     Images  Instances      Box(P          R      mAP50  mAP50-95)     Mask(P          R      mAP50  mAP50-95): 100%|██████████| 6/6 [00:00<00:00, 27.03it/s]"
     ]
    },
    {
     "name": "stdout",
     "output_type": "stream",
     "text": [
      "                   all         44        110       0.24        0.2     0.0923     0.0259      0.309      0.345      0.192      0.041\n"
     ]
    },
    {
     "name": "stderr",
     "output_type": "stream",
     "text": [
      "\n"
     ]
    },
    {
     "name": "stdout",
     "output_type": "stream",
     "text": [
      "\n",
      "      Epoch    GPU_mem   box_loss   seg_loss   cls_loss   dfl_loss  Instances       Size\n"
     ]
    },
    {
     "name": "stderr",
     "output_type": "stream",
     "text": [
      "     36/100     0.522G      2.155       2.47      1.389     0.9806          7        512: 100%|██████████| 77/77 [00:03<00:00, 21.95it/s]\n",
      "                 Class     Images  Instances      Box(P          R      mAP50  mAP50-95)     Mask(P          R      mAP50  mAP50-95): 100%|██████████| 6/6 [00:00<00:00, 26.33it/s]"
     ]
    },
    {
     "name": "stdout",
     "output_type": "stream",
     "text": [
      "                   all         44        110      0.232      0.167     0.0808     0.0227      0.226      0.282      0.153     0.0308\n"
     ]
    },
    {
     "name": "stderr",
     "output_type": "stream",
     "text": [
      "\n"
     ]
    },
    {
     "name": "stdout",
     "output_type": "stream",
     "text": [
      "\n",
      "      Epoch    GPU_mem   box_loss   seg_loss   cls_loss   dfl_loss  Instances       Size\n"
     ]
    },
    {
     "name": "stderr",
     "output_type": "stream",
     "text": [
      "     37/100      0.52G      2.074      2.251      1.337     0.9964          7        512: 100%|██████████| 77/77 [00:03<00:00, 21.38it/s]\n",
      "                 Class     Images  Instances      Box(P          R      mAP50  mAP50-95)     Mask(P          R      mAP50  mAP50-95): 100%|██████████| 6/6 [00:00<00:00, 26.37it/s]"
     ]
    },
    {
     "name": "stdout",
     "output_type": "stream",
     "text": [
      "                   all         44        110      0.188      0.236     0.0925     0.0238      0.195      0.291      0.146     0.0354\n"
     ]
    },
    {
     "name": "stderr",
     "output_type": "stream",
     "text": [
      "\n"
     ]
    },
    {
     "name": "stdout",
     "output_type": "stream",
     "text": [
      "\n",
      "      Epoch    GPU_mem   box_loss   seg_loss   cls_loss   dfl_loss  Instances       Size\n"
     ]
    },
    {
     "name": "stderr",
     "output_type": "stream",
     "text": [
      "     38/100     0.522G      2.121       2.36      1.399      1.003          8        512: 100%|██████████| 77/77 [00:03<00:00, 21.95it/s]\n",
      "                 Class     Images  Instances      Box(P          R      mAP50  mAP50-95)     Mask(P          R      mAP50  mAP50-95): 100%|██████████| 6/6 [00:00<00:00, 26.24it/s]"
     ]
    },
    {
     "name": "stdout",
     "output_type": "stream",
     "text": [
      "                   all         44        110      0.193      0.236     0.0842     0.0206      0.221      0.336       0.16     0.0358\n"
     ]
    },
    {
     "name": "stderr",
     "output_type": "stream",
     "text": [
      "\n"
     ]
    },
    {
     "name": "stdout",
     "output_type": "stream",
     "text": [
      "\n",
      "      Epoch    GPU_mem   box_loss   seg_loss   cls_loss   dfl_loss  Instances       Size\n"
     ]
    },
    {
     "name": "stderr",
     "output_type": "stream",
     "text": [
      "     39/100     0.543G      2.122      2.371      1.388      0.988         10        512: 100%|██████████| 77/77 [00:03<00:00, 22.76it/s]\n",
      "                 Class     Images  Instances      Box(P          R      mAP50  mAP50-95)     Mask(P          R      mAP50  mAP50-95): 100%|██████████| 6/6 [00:00<00:00, 26.08it/s]"
     ]
    },
    {
     "name": "stdout",
     "output_type": "stream",
     "text": [
      "                   all         44        110      0.198      0.227     0.0853     0.0214      0.211      0.309      0.134     0.0289\n"
     ]
    },
    {
     "name": "stderr",
     "output_type": "stream",
     "text": [
      "\n"
     ]
    },
    {
     "name": "stdout",
     "output_type": "stream",
     "text": [
      "\n",
      "      Epoch    GPU_mem   box_loss   seg_loss   cls_loss   dfl_loss  Instances       Size\n"
     ]
    },
    {
     "name": "stderr",
     "output_type": "stream",
     "text": [
      "     40/100     0.543G      2.102      2.444      1.415     0.9746         11        512: 100%|██████████| 77/77 [00:03<00:00, 22.44it/s]\n",
      "                 Class     Images  Instances      Box(P          R      mAP50  mAP50-95)     Mask(P          R      mAP50  mAP50-95): 100%|██████████| 6/6 [00:00<00:00, 26.45it/s]"
     ]
    },
    {
     "name": "stdout",
     "output_type": "stream",
     "text": [
      "                   all         44        110      0.177      0.245     0.0916     0.0187      0.286      0.291      0.176     0.0355\n"
     ]
    },
    {
     "name": "stderr",
     "output_type": "stream",
     "text": [
      "\n"
     ]
    },
    {
     "name": "stdout",
     "output_type": "stream",
     "text": [
      "\n",
      "      Epoch    GPU_mem   box_loss   seg_loss   cls_loss   dfl_loss  Instances       Size\n"
     ]
    },
    {
     "name": "stderr",
     "output_type": "stream",
     "text": [
      "     41/100     0.522G      2.123      2.347      1.426     0.9808          7        512: 100%|██████████| 77/77 [00:03<00:00, 21.80it/s]\n",
      "                 Class     Images  Instances      Box(P          R      mAP50  mAP50-95)     Mask(P          R      mAP50  mAP50-95): 100%|██████████| 6/6 [00:00<00:00, 26.89it/s]"
     ]
    },
    {
     "name": "stdout",
     "output_type": "stream",
     "text": [
      "                   all         44        110      0.265      0.246      0.111     0.0216      0.224      0.282      0.144     0.0338\n"
     ]
    },
    {
     "name": "stderr",
     "output_type": "stream",
     "text": [
      "\n"
     ]
    },
    {
     "name": "stdout",
     "output_type": "stream",
     "text": [
      "\n",
      "      Epoch    GPU_mem   box_loss   seg_loss   cls_loss   dfl_loss  Instances       Size\n"
     ]
    },
    {
     "name": "stderr",
     "output_type": "stream",
     "text": [
      "     42/100     0.522G      2.035      2.418      1.318     0.9764          6        512: 100%|██████████| 77/77 [00:03<00:00, 22.60it/s]\n",
      "                 Class     Images  Instances      Box(P          R      mAP50  mAP50-95)     Mask(P          R      mAP50  mAP50-95): 100%|██████████| 6/6 [00:00<00:00, 24.28it/s]"
     ]
    },
    {
     "name": "stdout",
     "output_type": "stream",
     "text": [
      "                   all         44        110      0.285      0.273       0.14     0.0254      0.239      0.264      0.151     0.0337\n"
     ]
    },
    {
     "name": "stderr",
     "output_type": "stream",
     "text": [
      "\n"
     ]
    },
    {
     "name": "stdout",
     "output_type": "stream",
     "text": [
      "\n",
      "      Epoch    GPU_mem   box_loss   seg_loss   cls_loss   dfl_loss  Instances       Size\n"
     ]
    },
    {
     "name": "stderr",
     "output_type": "stream",
     "text": [
      "     43/100     0.522G      1.968      2.315      1.305     0.9583          5        512: 100%|██████████| 77/77 [00:03<00:00, 21.93it/s]\n",
      "                 Class     Images  Instances      Box(P          R      mAP50  mAP50-95)     Mask(P          R      mAP50  mAP50-95): 100%|██████████| 6/6 [00:00<00:00, 25.28it/s]"
     ]
    },
    {
     "name": "stdout",
     "output_type": "stream",
     "text": [
      "                   all         44        110      0.202        0.2     0.0853     0.0182      0.235      0.231      0.138      0.032\n"
     ]
    },
    {
     "name": "stderr",
     "output_type": "stream",
     "text": [
      "\n"
     ]
    },
    {
     "name": "stdout",
     "output_type": "stream",
     "text": [
      "\n",
      "      Epoch    GPU_mem   box_loss   seg_loss   cls_loss   dfl_loss  Instances       Size\n"
     ]
    },
    {
     "name": "stderr",
     "output_type": "stream",
     "text": [
      "     44/100      0.52G      2.009       2.46      1.324     0.9676          7        512: 100%|██████████| 77/77 [00:03<00:00, 22.33it/s]\n",
      "                 Class     Images  Instances      Box(P          R      mAP50  mAP50-95)     Mask(P          R      mAP50  mAP50-95): 100%|██████████| 6/6 [00:00<00:00, 26.14it/s]"
     ]
    },
    {
     "name": "stdout",
     "output_type": "stream",
     "text": [
      "                   all         44        110      0.192      0.191     0.0641      0.013      0.254      0.273       0.15     0.0291\n"
     ]
    },
    {
     "name": "stderr",
     "output_type": "stream",
     "text": [
      "\n"
     ]
    },
    {
     "name": "stdout",
     "output_type": "stream",
     "text": [
      "\n",
      "      Epoch    GPU_mem   box_loss   seg_loss   cls_loss   dfl_loss  Instances       Size\n"
     ]
    },
    {
     "name": "stderr",
     "output_type": "stream",
     "text": [
      "     45/100     0.531G      2.027      2.299      1.248     0.9701          8        512: 100%|██████████| 77/77 [00:03<00:00, 22.73it/s]\n",
      "                 Class     Images  Instances      Box(P          R      mAP50  mAP50-95)     Mask(P          R      mAP50  mAP50-95): 100%|██████████| 6/6 [00:00<00:00, 25.63it/s]"
     ]
    },
    {
     "name": "stdout",
     "output_type": "stream",
     "text": [
      "                   all         44        110      0.167      0.218      0.064     0.0187      0.273      0.387       0.19     0.0389\n"
     ]
    },
    {
     "name": "stderr",
     "output_type": "stream",
     "text": [
      "\n"
     ]
    },
    {
     "name": "stdout",
     "output_type": "stream",
     "text": [
      "\n",
      "      Epoch    GPU_mem   box_loss   seg_loss   cls_loss   dfl_loss  Instances       Size\n"
     ]
    },
    {
     "name": "stderr",
     "output_type": "stream",
     "text": [
      "     46/100      0.52G      2.069      2.367      1.281     0.9671          8        512: 100%|██████████| 77/77 [00:03<00:00, 20.83it/s]\n",
      "                 Class     Images  Instances      Box(P          R      mAP50  mAP50-95)     Mask(P          R      mAP50  mAP50-95): 100%|██████████| 6/6 [00:00<00:00, 25.61it/s]"
     ]
    },
    {
     "name": "stdout",
     "output_type": "stream",
     "text": [
      "                   all         44        110       0.25      0.282      0.131     0.0307      0.287      0.374      0.217     0.0471\n"
     ]
    },
    {
     "name": "stderr",
     "output_type": "stream",
     "text": [
      "\n"
     ]
    },
    {
     "name": "stdout",
     "output_type": "stream",
     "text": [
      "\n",
      "      Epoch    GPU_mem   box_loss   seg_loss   cls_loss   dfl_loss  Instances       Size\n"
     ]
    },
    {
     "name": "stderr",
     "output_type": "stream",
     "text": [
      "     47/100     0.524G       1.96      2.378      1.276     0.9406          7        512: 100%|██████████| 77/77 [00:03<00:00, 21.75it/s]\n",
      "                 Class     Images  Instances      Box(P          R      mAP50  mAP50-95)     Mask(P          R      mAP50  mAP50-95): 100%|██████████| 6/6 [00:00<00:00, 25.72it/s]"
     ]
    },
    {
     "name": "stdout",
     "output_type": "stream",
     "text": [
      "                   all         44        110      0.304      0.247      0.136     0.0329      0.272      0.291      0.173     0.0435\n"
     ]
    },
    {
     "name": "stderr",
     "output_type": "stream",
     "text": [
      "\n"
     ]
    },
    {
     "name": "stdout",
     "output_type": "stream",
     "text": [
      "\n",
      "      Epoch    GPU_mem   box_loss   seg_loss   cls_loss   dfl_loss  Instances       Size\n"
     ]
    },
    {
     "name": "stderr",
     "output_type": "stream",
     "text": [
      "     48/100     0.522G      2.047       2.43      1.274     0.9754          4        512: 100%|██████████| 77/77 [00:03<00:00, 21.70it/s]\n",
      "                 Class     Images  Instances      Box(P          R      mAP50  mAP50-95)     Mask(P          R      mAP50  mAP50-95): 100%|██████████| 6/6 [00:00<00:00, 25.48it/s]"
     ]
    },
    {
     "name": "stdout",
     "output_type": "stream",
     "text": [
      "                   all         44        110      0.264      0.227      0.103     0.0261      0.251      0.336      0.167     0.0374\n"
     ]
    },
    {
     "name": "stderr",
     "output_type": "stream",
     "text": [
      "\n"
     ]
    },
    {
     "name": "stdout",
     "output_type": "stream",
     "text": [
      "\n",
      "      Epoch    GPU_mem   box_loss   seg_loss   cls_loss   dfl_loss  Instances       Size\n"
     ]
    },
    {
     "name": "stderr",
     "output_type": "stream",
     "text": [
      "     49/100     0.522G      1.985      2.285      1.281     0.9569         10        512: 100%|██████████| 77/77 [00:03<00:00, 21.15it/s]\n",
      "                 Class     Images  Instances      Box(P          R      mAP50  mAP50-95)     Mask(P          R      mAP50  mAP50-95): 100%|██████████| 6/6 [00:00<00:00, 24.83it/s]"
     ]
    },
    {
     "name": "stdout",
     "output_type": "stream",
     "text": [
      "                   all         44        110      0.196      0.191     0.0698       0.02      0.316      0.336      0.183     0.0369\n"
     ]
    },
    {
     "name": "stderr",
     "output_type": "stream",
     "text": [
      "\n"
     ]
    },
    {
     "name": "stdout",
     "output_type": "stream",
     "text": [
      "\n",
      "      Epoch    GPU_mem   box_loss   seg_loss   cls_loss   dfl_loss  Instances       Size\n"
     ]
    },
    {
     "name": "stderr",
     "output_type": "stream",
     "text": [
      "     50/100     0.543G      1.904      2.131      1.197     0.9414          8        512: 100%|██████████| 77/77 [00:03<00:00, 21.98it/s]\n",
      "                 Class     Images  Instances      Box(P          R      mAP50  mAP50-95)     Mask(P          R      mAP50  mAP50-95): 100%|██████████| 6/6 [00:00<00:00, 25.86it/s]"
     ]
    },
    {
     "name": "stdout",
     "output_type": "stream",
     "text": [
      "                   all         44        110      0.217      0.209     0.0776     0.0206      0.387      0.373      0.242     0.0494\n"
     ]
    },
    {
     "name": "stderr",
     "output_type": "stream",
     "text": [
      "\n"
     ]
    },
    {
     "name": "stdout",
     "output_type": "stream",
     "text": [
      "\n",
      "      Epoch    GPU_mem   box_loss   seg_loss   cls_loss   dfl_loss  Instances       Size\n"
     ]
    },
    {
     "name": "stderr",
     "output_type": "stream",
     "text": [
      "     51/100     0.522G       1.97      2.334      1.219     0.9556          7        512: 100%|██████████| 77/77 [00:03<00:00, 21.13it/s]\n",
      "                 Class     Images  Instances      Box(P          R      mAP50  mAP50-95)     Mask(P          R      mAP50  mAP50-95): 100%|██████████| 6/6 [00:00<00:00, 25.43it/s]"
     ]
    },
    {
     "name": "stdout",
     "output_type": "stream",
     "text": [
      "                   all         44        110      0.199      0.236     0.0911     0.0225      0.311      0.318      0.229     0.0451\n"
     ]
    },
    {
     "name": "stderr",
     "output_type": "stream",
     "text": [
      "\n"
     ]
    },
    {
     "name": "stdout",
     "output_type": "stream",
     "text": [
      "\n",
      "      Epoch    GPU_mem   box_loss   seg_loss   cls_loss   dfl_loss  Instances       Size\n"
     ]
    },
    {
     "name": "stderr",
     "output_type": "stream",
     "text": [
      "     52/100     0.522G       1.89      2.355      1.176     0.9488          7        512: 100%|██████████| 77/77 [00:03<00:00, 21.91it/s]\n",
      "                 Class     Images  Instances      Box(P          R      mAP50  mAP50-95)     Mask(P          R      mAP50  mAP50-95): 100%|██████████| 6/6 [00:00<00:00, 25.97it/s]"
     ]
    },
    {
     "name": "stdout",
     "output_type": "stream",
     "text": [
      "                   all         44        110      0.212      0.282      0.103     0.0266      0.317      0.373      0.256     0.0545\n"
     ]
    },
    {
     "name": "stderr",
     "output_type": "stream",
     "text": [
      "\n"
     ]
    },
    {
     "name": "stdout",
     "output_type": "stream",
     "text": [
      "\n",
      "      Epoch    GPU_mem   box_loss   seg_loss   cls_loss   dfl_loss  Instances       Size\n"
     ]
    },
    {
     "name": "stderr",
     "output_type": "stream",
     "text": [
      "     53/100     0.522G      1.926      2.337      1.261     0.9304          7        512: 100%|██████████| 77/77 [00:03<00:00, 22.18it/s]\n",
      "                 Class     Images  Instances      Box(P          R      mAP50  mAP50-95)     Mask(P          R      mAP50  mAP50-95): 100%|██████████| 6/6 [00:00<00:00, 27.43it/s]"
     ]
    },
    {
     "name": "stdout",
     "output_type": "stream",
     "text": [
      "                   all         44        110      0.245      0.245      0.123     0.0276      0.321      0.309      0.225     0.0369\n"
     ]
    },
    {
     "name": "stderr",
     "output_type": "stream",
     "text": [
      "\n"
     ]
    },
    {
     "name": "stdout",
     "output_type": "stream",
     "text": [
      "\n",
      "      Epoch    GPU_mem   box_loss   seg_loss   cls_loss   dfl_loss  Instances       Size\n"
     ]
    },
    {
     "name": "stderr",
     "output_type": "stream",
     "text": [
      "     54/100     0.543G      1.876      2.204       1.14     0.9361          6        512: 100%|██████████| 77/77 [00:03<00:00, 21.87it/s]\n",
      "                 Class     Images  Instances      Box(P          R      mAP50  mAP50-95)     Mask(P          R      mAP50  mAP50-95): 100%|██████████| 6/6 [00:00<00:00, 26.95it/s]"
     ]
    },
    {
     "name": "stdout",
     "output_type": "stream",
     "text": [
      "                   all         44        110      0.204      0.207     0.0815     0.0222      0.348      0.355      0.225     0.0422\n"
     ]
    },
    {
     "name": "stderr",
     "output_type": "stream",
     "text": [
      "\n"
     ]
    },
    {
     "name": "stdout",
     "output_type": "stream",
     "text": [
      "\n",
      "      Epoch    GPU_mem   box_loss   seg_loss   cls_loss   dfl_loss  Instances       Size\n"
     ]
    },
    {
     "name": "stderr",
     "output_type": "stream",
     "text": [
      "     55/100     0.522G      1.922      2.283       1.24     0.9514          7        512: 100%|██████████| 77/77 [00:03<00:00, 21.64it/s]\n",
      "                 Class     Images  Instances      Box(P          R      mAP50  mAP50-95)     Mask(P          R      mAP50  mAP50-95): 100%|██████████| 6/6 [00:00<00:00, 25.69it/s]"
     ]
    },
    {
     "name": "stdout",
     "output_type": "stream",
     "text": [
      "                   all         44        110      0.255      0.245      0.102      0.021      0.289      0.291      0.153     0.0312\n"
     ]
    },
    {
     "name": "stderr",
     "output_type": "stream",
     "text": [
      "\n"
     ]
    },
    {
     "name": "stdout",
     "output_type": "stream",
     "text": [
      "\n",
      "      Epoch    GPU_mem   box_loss   seg_loss   cls_loss   dfl_loss  Instances       Size\n"
     ]
    },
    {
     "name": "stderr",
     "output_type": "stream",
     "text": [
      "     56/100     0.522G      1.897      2.286      1.188     0.9288          7        512: 100%|██████████| 77/77 [00:03<00:00, 21.36it/s]\n",
      "                 Class     Images  Instances      Box(P          R      mAP50  mAP50-95)     Mask(P          R      mAP50  mAP50-95): 100%|██████████| 6/6 [00:00<00:00, 25.06it/s]"
     ]
    },
    {
     "name": "stdout",
     "output_type": "stream",
     "text": [
      "                   all         44        110      0.205      0.236     0.0927     0.0229      0.325      0.327      0.207     0.0367\n"
     ]
    },
    {
     "name": "stderr",
     "output_type": "stream",
     "text": [
      "\n"
     ]
    },
    {
     "name": "stdout",
     "output_type": "stream",
     "text": [
      "\n",
      "      Epoch    GPU_mem   box_loss   seg_loss   cls_loss   dfl_loss  Instances       Size\n"
     ]
    },
    {
     "name": "stderr",
     "output_type": "stream",
     "text": [
      "     57/100     0.543G      1.945      2.267      1.231     0.9589          6        512: 100%|██████████| 77/77 [00:03<00:00, 21.50it/s]\n",
      "                 Class     Images  Instances      Box(P          R      mAP50  mAP50-95)     Mask(P          R      mAP50  mAP50-95): 100%|██████████| 6/6 [00:00<00:00, 26.18it/s]"
     ]
    },
    {
     "name": "stdout",
     "output_type": "stream",
     "text": [
      "                   all         44        110      0.205      0.227     0.0812     0.0222      0.284      0.285      0.176      0.038\n"
     ]
    },
    {
     "name": "stderr",
     "output_type": "stream",
     "text": [
      "\n"
     ]
    },
    {
     "name": "stdout",
     "output_type": "stream",
     "text": [
      "\n",
      "      Epoch    GPU_mem   box_loss   seg_loss   cls_loss   dfl_loss  Instances       Size\n"
     ]
    },
    {
     "name": "stderr",
     "output_type": "stream",
     "text": [
      "     58/100     0.522G      1.867      2.307      1.134     0.9412          7        512: 100%|██████████| 77/77 [00:03<00:00, 21.91it/s]\n",
      "                 Class     Images  Instances      Box(P          R      mAP50  mAP50-95)     Mask(P          R      mAP50  mAP50-95): 100%|██████████| 6/6 [00:00<00:00, 26.70it/s]"
     ]
    },
    {
     "name": "stdout",
     "output_type": "stream",
     "text": [
      "                   all         44        110       0.22      0.245      0.102     0.0268       0.27      0.264      0.163     0.0416\n"
     ]
    },
    {
     "name": "stderr",
     "output_type": "stream",
     "text": [
      "\n"
     ]
    },
    {
     "name": "stdout",
     "output_type": "stream",
     "text": [
      "\n",
      "      Epoch    GPU_mem   box_loss   seg_loss   cls_loss   dfl_loss  Instances       Size\n"
     ]
    },
    {
     "name": "stderr",
     "output_type": "stream",
     "text": [
      "     59/100     0.522G      1.905      2.201      1.167      0.937          9        512: 100%|██████████| 77/77 [00:03<00:00, 21.83it/s]\n",
      "                 Class     Images  Instances      Box(P          R      mAP50  mAP50-95)     Mask(P          R      mAP50  mAP50-95): 100%|██████████| 6/6 [00:00<00:00, 26.30it/s]"
     ]
    },
    {
     "name": "stdout",
     "output_type": "stream",
     "text": [
      "                   all         44        110      0.218      0.227      0.103     0.0281      0.316      0.336      0.188     0.0446\n"
     ]
    },
    {
     "name": "stderr",
     "output_type": "stream",
     "text": [
      "\n"
     ]
    },
    {
     "name": "stdout",
     "output_type": "stream",
     "text": [
      "\n",
      "      Epoch    GPU_mem   box_loss   seg_loss   cls_loss   dfl_loss  Instances       Size\n"
     ]
    },
    {
     "name": "stderr",
     "output_type": "stream",
     "text": [
      "     60/100     0.522G      1.916      2.228      1.151      0.952          8        512: 100%|██████████| 77/77 [00:03<00:00, 21.99it/s]\n",
      "                 Class     Images  Instances      Box(P          R      mAP50  mAP50-95)     Mask(P          R      mAP50  mAP50-95): 100%|██████████| 6/6 [00:00<00:00, 25.40it/s]"
     ]
    },
    {
     "name": "stdout",
     "output_type": "stream",
     "text": [
      "                   all         44        110      0.179      0.192     0.0679     0.0196      0.315      0.291      0.185     0.0349\n"
     ]
    },
    {
     "name": "stderr",
     "output_type": "stream",
     "text": [
      "\n"
     ]
    },
    {
     "name": "stdout",
     "output_type": "stream",
     "text": [
      "\n",
      "      Epoch    GPU_mem   box_loss   seg_loss   cls_loss   dfl_loss  Instances       Size\n"
     ]
    },
    {
     "name": "stderr",
     "output_type": "stream",
     "text": [
      "     61/100     0.528G      1.913      2.233      1.133     0.9296         10        512: 100%|██████████| 77/77 [00:03<00:00, 21.54it/s]\n",
      "                 Class     Images  Instances      Box(P          R      mAP50  mAP50-95)     Mask(P          R      mAP50  mAP50-95): 100%|██████████| 6/6 [00:00<00:00, 23.15it/s]"
     ]
    },
    {
     "name": "stdout",
     "output_type": "stream",
     "text": [
      "                   all         44        110      0.186      0.245     0.0862     0.0219      0.296      0.318      0.157     0.0321\n"
     ]
    },
    {
     "name": "stderr",
     "output_type": "stream",
     "text": [
      "\n"
     ]
    },
    {
     "name": "stdout",
     "output_type": "stream",
     "text": [
      "\n",
      "      Epoch    GPU_mem   box_loss   seg_loss   cls_loss   dfl_loss  Instances       Size\n"
     ]
    },
    {
     "name": "stderr",
     "output_type": "stream",
     "text": [
      "     62/100     0.543G      1.839      2.166      1.113     0.9423          8        512: 100%|██████████| 77/77 [00:03<00:00, 21.35it/s]\n",
      "                 Class     Images  Instances      Box(P          R      mAP50  mAP50-95)     Mask(P          R      mAP50  mAP50-95): 100%|██████████| 6/6 [00:00<00:00, 23.61it/s]"
     ]
    },
    {
     "name": "stdout",
     "output_type": "stream",
     "text": [
      "                   all         44        110      0.185      0.218     0.0817     0.0232      0.332      0.336      0.178     0.0397\n"
     ]
    },
    {
     "name": "stderr",
     "output_type": "stream",
     "text": [
      "\n"
     ]
    },
    {
     "name": "stdout",
     "output_type": "stream",
     "text": [
      "\n",
      "      Epoch    GPU_mem   box_loss   seg_loss   cls_loss   dfl_loss  Instances       Size\n"
     ]
    },
    {
     "name": "stderr",
     "output_type": "stream",
     "text": [
      "     63/100     0.522G      1.829      2.047      1.111     0.9311          9        512: 100%|██████████| 77/77 [00:03<00:00, 22.04it/s]\n",
      "                 Class     Images  Instances      Box(P          R      mAP50  mAP50-95)     Mask(P          R      mAP50  mAP50-95): 100%|██████████| 6/6 [00:00<00:00, 24.66it/s]"
     ]
    },
    {
     "name": "stdout",
     "output_type": "stream",
     "text": [
      "                   all         44        110      0.208        0.2      0.076     0.0224      0.265      0.264      0.153      0.037\n"
     ]
    },
    {
     "name": "stderr",
     "output_type": "stream",
     "text": [
      "\n"
     ]
    },
    {
     "name": "stdout",
     "output_type": "stream",
     "text": [
      "\n",
      "      Epoch    GPU_mem   box_loss   seg_loss   cls_loss   dfl_loss  Instances       Size\n"
     ]
    },
    {
     "name": "stderr",
     "output_type": "stream",
     "text": [
      "     64/100     0.522G      1.772      2.107      1.079     0.9277          8        512: 100%|██████████| 77/77 [00:03<00:00, 22.20it/s]\n",
      "                 Class     Images  Instances      Box(P          R      mAP50  mAP50-95)     Mask(P          R      mAP50  mAP50-95): 100%|██████████| 6/6 [00:00<00:00, 26.40it/s]"
     ]
    },
    {
     "name": "stdout",
     "output_type": "stream",
     "text": [
      "                   all         44        110      0.196      0.255     0.0949      0.025      0.246      0.264      0.162     0.0345\n"
     ]
    },
    {
     "name": "stderr",
     "output_type": "stream",
     "text": [
      "\n"
     ]
    },
    {
     "name": "stdout",
     "output_type": "stream",
     "text": [
      "\n",
      "      Epoch    GPU_mem   box_loss   seg_loss   cls_loss   dfl_loss  Instances       Size\n"
     ]
    },
    {
     "name": "stderr",
     "output_type": "stream",
     "text": [
      "     65/100      0.52G      1.834      2.164      1.129     0.9236         10        512: 100%|██████████| 77/77 [00:03<00:00, 22.71it/s]\n",
      "                 Class     Images  Instances      Box(P          R      mAP50  mAP50-95)     Mask(P          R      mAP50  mAP50-95): 100%|██████████| 6/6 [00:00<00:00, 23.95it/s]"
     ]
    },
    {
     "name": "stdout",
     "output_type": "stream",
     "text": [
      "                   all         44        110      0.192      0.209     0.0828      0.025      0.263      0.237      0.161     0.0331\n"
     ]
    },
    {
     "name": "stderr",
     "output_type": "stream",
     "text": [
      "\n"
     ]
    },
    {
     "name": "stdout",
     "output_type": "stream",
     "text": [
      "\n",
      "      Epoch    GPU_mem   box_loss   seg_loss   cls_loss   dfl_loss  Instances       Size\n"
     ]
    },
    {
     "name": "stderr",
     "output_type": "stream",
     "text": [
      "     66/100      0.52G      1.797      2.052      1.099     0.9176          7        512: 100%|██████████| 77/77 [00:03<00:00, 22.49it/s]\n",
      "                 Class     Images  Instances      Box(P          R      mAP50  mAP50-95)     Mask(P          R      mAP50  mAP50-95): 100%|██████████| 6/6 [00:00<00:00, 26.48it/s]"
     ]
    },
    {
     "name": "stdout",
     "output_type": "stream",
     "text": [
      "                   all         44        110        0.2      0.255     0.0876     0.0233      0.303      0.273      0.159     0.0326\n"
     ]
    },
    {
     "name": "stderr",
     "output_type": "stream",
     "text": [
      "\n"
     ]
    },
    {
     "name": "stdout",
     "output_type": "stream",
     "text": [
      "\n",
      "      Epoch    GPU_mem   box_loss   seg_loss   cls_loss   dfl_loss  Instances       Size\n"
     ]
    },
    {
     "name": "stderr",
     "output_type": "stream",
     "text": [
      "     67/100     0.522G      1.852      2.161      1.103     0.9231          9        512: 100%|██████████| 77/77 [00:03<00:00, 22.39it/s]\n",
      "                 Class     Images  Instances      Box(P          R      mAP50  mAP50-95)     Mask(P          R      mAP50  mAP50-95): 100%|██████████| 6/6 [00:00<00:00, 26.36it/s]"
     ]
    },
    {
     "name": "stdout",
     "output_type": "stream",
     "text": [
      "                   all         44        110      0.201      0.307     0.0841     0.0204      0.345      0.273      0.158     0.0284\n"
     ]
    },
    {
     "name": "stderr",
     "output_type": "stream",
     "text": [
      "\n"
     ]
    },
    {
     "name": "stdout",
     "output_type": "stream",
     "text": [
      "\n",
      "      Epoch    GPU_mem   box_loss   seg_loss   cls_loss   dfl_loss  Instances       Size\n"
     ]
    },
    {
     "name": "stderr",
     "output_type": "stream",
     "text": [
      "     68/100     0.522G      1.764      2.178      1.126     0.9142          5        512: 100%|██████████| 77/77 [00:03<00:00, 22.54it/s]\n",
      "                 Class     Images  Instances      Box(P          R      mAP50  mAP50-95)     Mask(P          R      mAP50  mAP50-95): 100%|██████████| 6/6 [00:00<00:00, 26.30it/s]"
     ]
    },
    {
     "name": "stdout",
     "output_type": "stream",
     "text": [
      "                   all         44        110      0.238      0.273     0.0927     0.0256      0.279      0.309      0.158      0.031\n"
     ]
    },
    {
     "name": "stderr",
     "output_type": "stream",
     "text": [
      "\n"
     ]
    },
    {
     "name": "stdout",
     "output_type": "stream",
     "text": [
      "\n",
      "      Epoch    GPU_mem   box_loss   seg_loss   cls_loss   dfl_loss  Instances       Size\n"
     ]
    },
    {
     "name": "stderr",
     "output_type": "stream",
     "text": [
      "     69/100      0.52G      1.741      2.015       1.07     0.9081          6        512: 100%|██████████| 77/77 [00:03<00:00, 22.19it/s]\n",
      "                 Class     Images  Instances      Box(P          R      mAP50  mAP50-95)     Mask(P          R      mAP50  mAP50-95): 100%|██████████| 6/6 [00:00<00:00, 27.02it/s]"
     ]
    },
    {
     "name": "stdout",
     "output_type": "stream",
     "text": [
      "                   all         44        110      0.233      0.218     0.0858     0.0256      0.295      0.255      0.158     0.0306\n"
     ]
    },
    {
     "name": "stderr",
     "output_type": "stream",
     "text": [
      "\n"
     ]
    },
    {
     "name": "stdout",
     "output_type": "stream",
     "text": [
      "\n",
      "      Epoch    GPU_mem   box_loss   seg_loss   cls_loss   dfl_loss  Instances       Size\n"
     ]
    },
    {
     "name": "stderr",
     "output_type": "stream",
     "text": [
      "     70/100     0.522G      1.719      2.165       1.08     0.9147          8        512: 100%|██████████| 77/77 [00:03<00:00, 21.95it/s]\n",
      "                 Class     Images  Instances      Box(P          R      mAP50  mAP50-95)     Mask(P          R      mAP50  mAP50-95): 100%|██████████| 6/6 [00:00<00:00, 27.19it/s]"
     ]
    },
    {
     "name": "stdout",
     "output_type": "stream",
     "text": [
      "                   all         44        110      0.245      0.218      0.109     0.0274      0.324      0.282      0.175     0.0343\n",
      "\u001B[34m\u001B[1mEarlyStopping: \u001B[0mTraining stopped early as no improvement observed in last 50 epochs. Best results observed at epoch 20, best model saved as best.pt.\n",
      "To update EarlyStopping(patience=50) pass a new patience value, i.e. `patience=300` or use `patience=0` to disable EarlyStopping.\n"
     ]
    },
    {
     "name": "stderr",
     "output_type": "stream",
     "text": [
      "\n"
     ]
    },
    {
     "name": "stdout",
     "output_type": "stream",
     "text": [
      "\n",
      "70 epochs completed in 0.078 hours.\n",
      "Optimizer stripped from runs/segment/vein_segmentation_model10/weights/last.pt, 6.8MB\n",
      "Optimizer stripped from runs/segment/vein_segmentation_model10/weights/best.pt, 6.8MB\n",
      "\n",
      "Validating runs/segment/vein_segmentation_model10/weights/best.pt...\n",
      "Ultralytics YOLOv8.2.99 🚀 Python-3.11.9 torch-2.4.1+cu121 CUDA:0 (NVIDIA GeForce RTX 3060 Laptop GPU, 5842MiB)\n",
      "YOLOv8n-seg summary (fused): 195 layers, 3,258,259 parameters, 0 gradients, 12.0 GFLOPs\n"
     ]
    },
    {
     "name": "stderr",
     "output_type": "stream",
     "text": [
      "                 Class     Images  Instances      Box(P          R      mAP50  mAP50-95)     Mask(P          R      mAP50  mAP50-95): 100%|██████████| 6/6 [00:00<00:00, 12.63it/s]\n"
     ]
    },
    {
     "name": "stdout",
     "output_type": "stream",
     "text": [
      "                   all         44        110      0.225      0.257      0.127     0.0286      0.399      0.382      0.248     0.0587\n",
      "Speed: 0.6ms preprocess, 2.2ms inference, 0.0ms loss, 1.4ms postprocess per image\n",
      "Results saved to \u001B[1mruns/segment/vein_segmentation_model10\u001B[0m\n"
     ]
    }
   ],
   "execution_count": 4
  },
  {
   "metadata": {
    "ExecuteTime": {
     "end_time": "2024-09-26T17:50:50.975593Z",
     "start_time": "2024-09-26T17:50:48.318061Z"
    }
   },
   "cell_type": "code",
   "source": "model.val()",
   "id": "cf0117b7beb11563",
   "outputs": [
    {
     "name": "stdout",
     "output_type": "stream",
     "text": [
      "Ultralytics YOLOv8.2.99 🚀 Python-3.11.9 torch-2.4.1+cu121 CUDA:0 (NVIDIA GeForce RTX 3060 Laptop GPU, 5842MiB)\n",
      "YOLOv8n-seg summary (fused): 195 layers, 3,258,259 parameters, 0 gradients, 12.0 GFLOPs\n"
     ]
    },
    {
     "name": "stderr",
     "output_type": "stream",
     "text": [
      "\u001B[34m\u001B[1mval: \u001B[0mScanning /home/_sergei/DataspellProjects/vein-segmentation/data/26/yolo_dataset/labels/val.cache... 44 images, 0 backgrounds, 0 corrupt: 100%|██████████| 44/44 [00:00<?, ?it/s]\n",
      "                 Class     Images  Instances      Box(P          R      mAP50  mAP50-95)     Mask(P          R      mAP50  mAP50-95): 100%|██████████| 11/11 [00:00<00:00, 22.16it/s]\n"
     ]
    },
    {
     "name": "stdout",
     "output_type": "stream",
     "text": [
      "                   all         44        110      0.199      0.236      0.094     0.0252      0.399      0.364      0.242     0.0559\n",
      "Speed: 0.4ms preprocess, 5.8ms inference, 0.0ms loss, 0.9ms postprocess per image\n",
      "Results saved to \u001B[1mruns/segment/vein_segmentation_model102\u001B[0m\n"
     ]
    },
    {
     "data": {
      "text/plain": [
       "ultralytics.utils.metrics.SegmentMetrics object with attributes:\n",
       "\n",
       "ap_class_index: array([0])\n",
       "box: ultralytics.utils.metrics.Metric object\n",
       "confusion_matrix: <ultralytics.utils.metrics.ConfusionMatrix object at 0x75c3801e4190>\n",
       "curves: ['Precision-Recall(B)', 'F1-Confidence(B)', 'Precision-Confidence(B)', 'Recall-Confidence(B)', 'Precision-Recall(M)', 'F1-Confidence(M)', 'Precision-Confidence(M)', 'Recall-Confidence(M)']\n",
       "curves_results: [[array([          0,    0.001001,    0.002002,    0.003003,    0.004004,    0.005005,    0.006006,    0.007007,    0.008008,    0.009009,     0.01001,    0.011011,    0.012012,    0.013013,    0.014014,    0.015015,    0.016016,    0.017017,    0.018018,    0.019019,     0.02002,    0.021021,    0.022022,    0.023023,\n",
       "          0.024024,    0.025025,    0.026026,    0.027027,    0.028028,    0.029029,     0.03003,    0.031031,    0.032032,    0.033033,    0.034034,    0.035035,    0.036036,    0.037037,    0.038038,    0.039039,     0.04004,    0.041041,    0.042042,    0.043043,    0.044044,    0.045045,    0.046046,    0.047047,\n",
       "          0.048048,    0.049049,     0.05005,    0.051051,    0.052052,    0.053053,    0.054054,    0.055055,    0.056056,    0.057057,    0.058058,    0.059059,     0.06006,    0.061061,    0.062062,    0.063063,    0.064064,    0.065065,    0.066066,    0.067067,    0.068068,    0.069069,     0.07007,    0.071071,\n",
       "          0.072072,    0.073073,    0.074074,    0.075075,    0.076076,    0.077077,    0.078078,    0.079079,     0.08008,    0.081081,    0.082082,    0.083083,    0.084084,    0.085085,    0.086086,    0.087087,    0.088088,    0.089089,     0.09009,    0.091091,    0.092092,    0.093093,    0.094094,    0.095095,\n",
       "          0.096096,    0.097097,    0.098098,    0.099099,      0.1001,      0.1011,      0.1021,      0.1031,      0.1041,     0.10511,     0.10611,     0.10711,     0.10811,     0.10911,     0.11011,     0.11111,     0.11211,     0.11311,     0.11411,     0.11512,     0.11612,     0.11712,     0.11812,     0.11912,\n",
       "           0.12012,     0.12112,     0.12212,     0.12312,     0.12412,     0.12513,     0.12613,     0.12713,     0.12813,     0.12913,     0.13013,     0.13113,     0.13213,     0.13313,     0.13413,     0.13514,     0.13614,     0.13714,     0.13814,     0.13914,     0.14014,     0.14114,     0.14214,     0.14314,\n",
       "           0.14414,     0.14515,     0.14615,     0.14715,     0.14815,     0.14915,     0.15015,     0.15115,     0.15215,     0.15315,     0.15415,     0.15516,     0.15616,     0.15716,     0.15816,     0.15916,     0.16016,     0.16116,     0.16216,     0.16316,     0.16416,     0.16517,     0.16617,     0.16717,\n",
       "           0.16817,     0.16917,     0.17017,     0.17117,     0.17217,     0.17317,     0.17417,     0.17518,     0.17618,     0.17718,     0.17818,     0.17918,     0.18018,     0.18118,     0.18218,     0.18318,     0.18418,     0.18519,     0.18619,     0.18719,     0.18819,     0.18919,     0.19019,     0.19119,\n",
       "           0.19219,     0.19319,     0.19419,      0.1952,      0.1962,      0.1972,      0.1982,      0.1992,      0.2002,      0.2012,      0.2022,      0.2032,      0.2042,     0.20521,     0.20621,     0.20721,     0.20821,     0.20921,     0.21021,     0.21121,     0.21221,     0.21321,     0.21421,     0.21522,\n",
       "           0.21622,     0.21722,     0.21822,     0.21922,     0.22022,     0.22122,     0.22222,     0.22322,     0.22422,     0.22523,     0.22623,     0.22723,     0.22823,     0.22923,     0.23023,     0.23123,     0.23223,     0.23323,     0.23423,     0.23524,     0.23624,     0.23724,     0.23824,     0.23924,\n",
       "           0.24024,     0.24124,     0.24224,     0.24324,     0.24424,     0.24525,     0.24625,     0.24725,     0.24825,     0.24925,     0.25025,     0.25125,     0.25225,     0.25325,     0.25425,     0.25526,     0.25626,     0.25726,     0.25826,     0.25926,     0.26026,     0.26126,     0.26226,     0.26326,\n",
       "           0.26426,     0.26527,     0.26627,     0.26727,     0.26827,     0.26927,     0.27027,     0.27127,     0.27227,     0.27327,     0.27427,     0.27528,     0.27628,     0.27728,     0.27828,     0.27928,     0.28028,     0.28128,     0.28228,     0.28328,     0.28428,     0.28529,     0.28629,     0.28729,\n",
       "           0.28829,     0.28929,     0.29029,     0.29129,     0.29229,     0.29329,     0.29429,      0.2953,      0.2963,      0.2973,      0.2983,      0.2993,      0.3003,      0.3013,      0.3023,      0.3033,      0.3043,     0.30531,     0.30631,     0.30731,     0.30831,     0.30931,     0.31031,     0.31131,\n",
       "           0.31231,     0.31331,     0.31431,     0.31532,     0.31632,     0.31732,     0.31832,     0.31932,     0.32032,     0.32132,     0.32232,     0.32332,     0.32432,     0.32533,     0.32633,     0.32733,     0.32833,     0.32933,     0.33033,     0.33133,     0.33233,     0.33333,     0.33433,     0.33534,\n",
       "           0.33634,     0.33734,     0.33834,     0.33934,     0.34034,     0.34134,     0.34234,     0.34334,     0.34434,     0.34535,     0.34635,     0.34735,     0.34835,     0.34935,     0.35035,     0.35135,     0.35235,     0.35335,     0.35435,     0.35536,     0.35636,     0.35736,     0.35836,     0.35936,\n",
       "           0.36036,     0.36136,     0.36236,     0.36336,     0.36436,     0.36537,     0.36637,     0.36737,     0.36837,     0.36937,     0.37037,     0.37137,     0.37237,     0.37337,     0.37437,     0.37538,     0.37638,     0.37738,     0.37838,     0.37938,     0.38038,     0.38138,     0.38238,     0.38338,\n",
       "           0.38438,     0.38539,     0.38639,     0.38739,     0.38839,     0.38939,     0.39039,     0.39139,     0.39239,     0.39339,     0.39439,      0.3954,      0.3964,      0.3974,      0.3984,      0.3994,      0.4004,      0.4014,      0.4024,      0.4034,      0.4044,     0.40541,     0.40641,     0.40741,\n",
       "           0.40841,     0.40941,     0.41041,     0.41141,     0.41241,     0.41341,     0.41441,     0.41542,     0.41642,     0.41742,     0.41842,     0.41942,     0.42042,     0.42142,     0.42242,     0.42342,     0.42442,     0.42543,     0.42643,     0.42743,     0.42843,     0.42943,     0.43043,     0.43143,\n",
       "           0.43243,     0.43343,     0.43443,     0.43544,     0.43644,     0.43744,     0.43844,     0.43944,     0.44044,     0.44144,     0.44244,     0.44344,     0.44444,     0.44545,     0.44645,     0.44745,     0.44845,     0.44945,     0.45045,     0.45145,     0.45245,     0.45345,     0.45445,     0.45546,\n",
       "           0.45646,     0.45746,     0.45846,     0.45946,     0.46046,     0.46146,     0.46246,     0.46346,     0.46446,     0.46547,     0.46647,     0.46747,     0.46847,     0.46947,     0.47047,     0.47147,     0.47247,     0.47347,     0.47447,     0.47548,     0.47648,     0.47748,     0.47848,     0.47948,\n",
       "           0.48048,     0.48148,     0.48248,     0.48348,     0.48448,     0.48549,     0.48649,     0.48749,     0.48849,     0.48949,     0.49049,     0.49149,     0.49249,     0.49349,     0.49449,      0.4955,      0.4965,      0.4975,      0.4985,      0.4995,      0.5005,      0.5015,      0.5025,      0.5035,\n",
       "            0.5045,     0.50551,     0.50651,     0.50751,     0.50851,     0.50951,     0.51051,     0.51151,     0.51251,     0.51351,     0.51451,     0.51552,     0.51652,     0.51752,     0.51852,     0.51952,     0.52052,     0.52152,     0.52252,     0.52352,     0.52452,     0.52553,     0.52653,     0.52753,\n",
       "           0.52853,     0.52953,     0.53053,     0.53153,     0.53253,     0.53353,     0.53453,     0.53554,     0.53654,     0.53754,     0.53854,     0.53954,     0.54054,     0.54154,     0.54254,     0.54354,     0.54454,     0.54555,     0.54655,     0.54755,     0.54855,     0.54955,     0.55055,     0.55155,\n",
       "           0.55255,     0.55355,     0.55455,     0.55556,     0.55656,     0.55756,     0.55856,     0.55956,     0.56056,     0.56156,     0.56256,     0.56356,     0.56456,     0.56557,     0.56657,     0.56757,     0.56857,     0.56957,     0.57057,     0.57157,     0.57257,     0.57357,     0.57457,     0.57558,\n",
       "           0.57658,     0.57758,     0.57858,     0.57958,     0.58058,     0.58158,     0.58258,     0.58358,     0.58458,     0.58559,     0.58659,     0.58759,     0.58859,     0.58959,     0.59059,     0.59159,     0.59259,     0.59359,     0.59459,      0.5956,      0.5966,      0.5976,      0.5986,      0.5996,\n",
       "            0.6006,      0.6016,      0.6026,      0.6036,      0.6046,     0.60561,     0.60661,     0.60761,     0.60861,     0.60961,     0.61061,     0.61161,     0.61261,     0.61361,     0.61461,     0.61562,     0.61662,     0.61762,     0.61862,     0.61962,     0.62062,     0.62162,     0.62262,     0.62362,\n",
       "           0.62462,     0.62563,     0.62663,     0.62763,     0.62863,     0.62963,     0.63063,     0.63163,     0.63263,     0.63363,     0.63463,     0.63564,     0.63664,     0.63764,     0.63864,     0.63964,     0.64064,     0.64164,     0.64264,     0.64364,     0.64464,     0.64565,     0.64665,     0.64765,\n",
       "           0.64865,     0.64965,     0.65065,     0.65165,     0.65265,     0.65365,     0.65465,     0.65566,     0.65666,     0.65766,     0.65866,     0.65966,     0.66066,     0.66166,     0.66266,     0.66366,     0.66466,     0.66567,     0.66667,     0.66767,     0.66867,     0.66967,     0.67067,     0.67167,\n",
       "           0.67267,     0.67367,     0.67467,     0.67568,     0.67668,     0.67768,     0.67868,     0.67968,     0.68068,     0.68168,     0.68268,     0.68368,     0.68468,     0.68569,     0.68669,     0.68769,     0.68869,     0.68969,     0.69069,     0.69169,     0.69269,     0.69369,     0.69469,      0.6957,\n",
       "            0.6967,      0.6977,      0.6987,      0.6997,      0.7007,      0.7017,      0.7027,      0.7037,      0.7047,     0.70571,     0.70671,     0.70771,     0.70871,     0.70971,     0.71071,     0.71171,     0.71271,     0.71371,     0.71471,     0.71572,     0.71672,     0.71772,     0.71872,     0.71972,\n",
       "           0.72072,     0.72172,     0.72272,     0.72372,     0.72472,     0.72573,     0.72673,     0.72773,     0.72873,     0.72973,     0.73073,     0.73173,     0.73273,     0.73373,     0.73473,     0.73574,     0.73674,     0.73774,     0.73874,     0.73974,     0.74074,     0.74174,     0.74274,     0.74374,\n",
       "           0.74474,     0.74575,     0.74675,     0.74775,     0.74875,     0.74975,     0.75075,     0.75175,     0.75275,     0.75375,     0.75475,     0.75576,     0.75676,     0.75776,     0.75876,     0.75976,     0.76076,     0.76176,     0.76276,     0.76376,     0.76476,     0.76577,     0.76677,     0.76777,\n",
       "           0.76877,     0.76977,     0.77077,     0.77177,     0.77277,     0.77377,     0.77477,     0.77578,     0.77678,     0.77778,     0.77878,     0.77978,     0.78078,     0.78178,     0.78278,     0.78378,     0.78478,     0.78579,     0.78679,     0.78779,     0.78879,     0.78979,     0.79079,     0.79179,\n",
       "           0.79279,     0.79379,     0.79479,      0.7958,      0.7968,      0.7978,      0.7988,      0.7998,      0.8008,      0.8018,      0.8028,      0.8038,      0.8048,     0.80581,     0.80681,     0.80781,     0.80881,     0.80981,     0.81081,     0.81181,     0.81281,     0.81381,     0.81481,     0.81582,\n",
       "           0.81682,     0.81782,     0.81882,     0.81982,     0.82082,     0.82182,     0.82282,     0.82382,     0.82482,     0.82583,     0.82683,     0.82783,     0.82883,     0.82983,     0.83083,     0.83183,     0.83283,     0.83383,     0.83483,     0.83584,     0.83684,     0.83784,     0.83884,     0.83984,\n",
       "           0.84084,     0.84184,     0.84284,     0.84384,     0.84484,     0.84585,     0.84685,     0.84785,     0.84885,     0.84985,     0.85085,     0.85185,     0.85285,     0.85385,     0.85485,     0.85586,     0.85686,     0.85786,     0.85886,     0.85986,     0.86086,     0.86186,     0.86286,     0.86386,\n",
       "           0.86486,     0.86587,     0.86687,     0.86787,     0.86887,     0.86987,     0.87087,     0.87187,     0.87287,     0.87387,     0.87487,     0.87588,     0.87688,     0.87788,     0.87888,     0.87988,     0.88088,     0.88188,     0.88288,     0.88388,     0.88488,     0.88589,     0.88689,     0.88789,\n",
       "           0.88889,     0.88989,     0.89089,     0.89189,     0.89289,     0.89389,     0.89489,      0.8959,      0.8969,      0.8979,      0.8989,      0.8999,      0.9009,      0.9019,      0.9029,      0.9039,      0.9049,     0.90591,     0.90691,     0.90791,     0.90891,     0.90991,     0.91091,     0.91191,\n",
       "           0.91291,     0.91391,     0.91491,     0.91592,     0.91692,     0.91792,     0.91892,     0.91992,     0.92092,     0.92192,     0.92292,     0.92392,     0.92492,     0.92593,     0.92693,     0.92793,     0.92893,     0.92993,     0.93093,     0.93193,     0.93293,     0.93393,     0.93493,     0.93594,\n",
       "           0.93694,     0.93794,     0.93894,     0.93994,     0.94094,     0.94194,     0.94294,     0.94394,     0.94494,     0.94595,     0.94695,     0.94795,     0.94895,     0.94995,     0.95095,     0.95195,     0.95295,     0.95395,     0.95495,     0.95596,     0.95696,     0.95796,     0.95896,     0.95996,\n",
       "           0.96096,     0.96196,     0.96296,     0.96396,     0.96496,     0.96597,     0.96697,     0.96797,     0.96897,     0.96997,     0.97097,     0.97197,     0.97297,     0.97397,     0.97497,     0.97598,     0.97698,     0.97798,     0.97898,     0.97998,     0.98098,     0.98198,     0.98298,     0.98398,\n",
       "           0.98498,     0.98599,     0.98699,     0.98799,     0.98899,     0.98999,     0.99099,     0.99199,     0.99299,     0.99399,     0.99499,       0.996,       0.997,       0.998,       0.999,           1]), array([[          1,           1,           1,           1,           1,           1,           1,           1,           1,           1,         0.4,         0.4,         0.4,         0.4,         0.4,         0.4,         0.4,         0.4,         0.4,     0.23333,     0.23333,     0.23333,     0.23333,\n",
       "            0.23333,     0.23333,     0.23333,     0.23333,     0.23333,     0.23333,     0.23333,     0.23333,     0.23333,     0.23333,     0.23333,     0.23333,     0.23333,     0.23333,     0.23333,     0.23333,     0.23333,     0.23333,     0.23333,     0.23333,     0.23333,     0.23333,     0.23333,\n",
       "            0.23333,     0.23333,     0.23333,     0.23333,     0.23333,     0.23333,     0.23333,     0.23333,     0.23333,     0.23333,     0.23333,     0.23333,     0.23333,     0.23333,     0.23333,     0.23333,     0.23333,     0.23333,     0.21212,     0.21212,     0.21212,     0.21212,     0.21212,\n",
       "            0.21212,     0.21212,     0.21212,     0.21212,     0.21212,     0.21212,     0.21212,     0.21212,     0.21212,     0.21212,     0.21212,     0.21212,     0.21212,     0.21212,     0.21212,     0.21212,     0.21212,     0.21212,     0.21212,     0.21212,     0.21212,     0.21212,     0.21212,\n",
       "            0.21212,     0.21212,     0.21212,     0.21212,     0.21212,     0.21212,     0.21212,     0.21212,     0.21212,     0.21212,     0.21212,     0.21212,     0.21212,     0.21212,     0.21212,     0.21212,     0.21212,     0.21212,     0.21212,     0.21212,     0.21212,     0.21212,     0.21212,\n",
       "            0.21212,     0.21212,     0.21212,     0.21212,     0.21212,     0.21212,     0.21212,     0.21212,     0.21212,     0.21212,     0.21212,     0.21212,     0.21212,       0.208,       0.208,       0.208,       0.208,       0.208,       0.208,       0.208,       0.208,       0.208,       0.208,\n",
       "              0.208,       0.208,       0.208,       0.208,       0.208,       0.208,       0.208,       0.208,       0.208,       0.208,       0.208,       0.208,       0.208,       0.208,       0.208,       0.208,       0.208,       0.208,       0.208,       0.208,       0.208,       0.208,       0.208,\n",
       "              0.208,       0.208,       0.208,       0.208,       0.208,       0.208,       0.208,       0.208,       0.208,       0.208,       0.208,       0.208,       0.208,       0.208,       0.208,       0.208,       0.208,       0.208,       0.208,       0.208,       0.208,       0.208,       0.208,\n",
       "              0.208,       0.208,       0.208,       0.208,       0.208,       0.208,       0.208,       0.208,       0.208,       0.208,       0.208,       0.208,       0.208,       0.208,       0.208,       0.208,       0.208,       0.208,       0.208,       0.208,       0.208,       0.208,       0.208,\n",
       "              0.208,       0.208,       0.208,       0.208,       0.208,       0.208,       0.208,       0.208,       0.208,       0.208,       0.208,       0.208,       0.208,       0.208,       0.208,       0.208,       0.208,       0.208,       0.208,       0.208,       0.208,       0.208,       0.208,\n",
       "              0.208,       0.208,       0.208,       0.208,       0.208,       0.208,       0.208,     0.20149,     0.20149,     0.20149,     0.20149,     0.20149,     0.20149,     0.20149,     0.20149,     0.20149,     0.18667,     0.18667,     0.18667,     0.18667,     0.18667,     0.18667,     0.18667,\n",
       "            0.18667,     0.18667,     0.17365,     0.17365,     0.17365,     0.17365,     0.17365,     0.17365,     0.17365,     0.17365,     0.17365,     0.13734,     0.13734,     0.13734,     0.13734,     0.13734,     0.13734,     0.13734,     0.13734,     0.13734,     0.13734,     0.13734,     0.13734,\n",
       "            0.13734,     0.13734,     0.13734,     0.13734,     0.13734,     0.13734,     0.13734,     0.13734,     0.13734,     0.13734,     0.13734,     0.13734,     0.13734,     0.13734,     0.13734,      0.1358,      0.1358,      0.1358,      0.1358,      0.1358,      0.1358,      0.1358,      0.1358,\n",
       "             0.1358,     0.12687,     0.12687,     0.12687,     0.12687,     0.12687,     0.12687,     0.12687,     0.12687,     0.12687,       0.125,       0.125,       0.125,       0.125,       0.125,       0.125,       0.125,       0.125,       0.125,     0.11613,     0.11613,     0.11613,     0.11613,\n",
       "            0.11613,     0.11613,     0.11613,     0.11613,     0.11613,     0.11392,     0.11392,     0.11392,     0.11392,     0.11392,     0.11392,     0.11392,     0.11392,     0.11392,     0.11392,     0.11392,     0.11392,     0.11392,     0.11392,     0.11392,     0.11392,     0.11392,     0.11392,\n",
       "            0.11392,     0.11392,     0.11392,     0.11392,     0.11392,     0.11392,     0.11392,     0.11392,     0.11392,     0.11392,     0.11392,     0.11392,     0.11392,     0.11392,     0.11392,     0.11392,     0.11392,     0.11392,     0.11392,     0.11392,     0.11392,     0.11392,     0.11392,\n",
       "            0.11392,     0.11392,     0.11392,     0.11392,     0.11392,     0.11392,     0.11392,     0.11392,     0.11392,     0.11392,     0.11392,     0.11392,     0.11392,     0.11392,     0.11392,     0.11392,     0.11392,     0.11392,     0.11392,     0.11392,     0.11392,     0.11392,     0.11392,\n",
       "            0.11392,     0.11392,     0.11392,     0.11392,     0.11392,     0.11392,     0.11392,     0.11392,     0.11392,     0.11392,     0.11392,     0.11392,     0.11392,     0.11392,     0.11392,     0.11392,     0.11392,     0.11392,       0.096,       0.096,       0.096,       0.096,       0.096,\n",
       "              0.096,       0.096,       0.096,       0.096,       0.096,       0.096,       0.096,       0.096,       0.096,       0.096,       0.096,       0.096,       0.096,       0.096,       0.096,       0.096,       0.096,       0.096,       0.096,       0.096,       0.096,       0.096,    0.090239,\n",
       "           0.090239,    0.090239,    0.090239,    0.090239,    0.090239,    0.090239,    0.090239,    0.090239,    0.090239,    0.088339,    0.088339,    0.088339,    0.088339,    0.088339,    0.088339,    0.088339,    0.088339,    0.088339,    0.070539,    0.070539,    0.070539,    0.070539,    0.070539,\n",
       "           0.070539,    0.070539,    0.070539,    0.070539,    0.068152,    0.068152,    0.068152,    0.068152,    0.068152,    0.068152,    0.068152,    0.068152,    0.068152,    0.061556,    0.061556,    0.061556,    0.061556,    0.061556,    0.061556,    0.061556,    0.061556,    0.061556,    0.056309,\n",
       "           0.056309,    0.056309,    0.056309,    0.056309,    0.056309,    0.056309,    0.056309,    0.056309,    0.031954,    0.031891,    0.031828,    0.031765,    0.031702,    0.031639,    0.031577,    0.031514,    0.031451,    0.031388,    0.031325,    0.031262,    0.031199,    0.031136,    0.031073,\n",
       "            0.03101,    0.030948,    0.030885,    0.030822,    0.030759,    0.030696,    0.030633,     0.03057,    0.030507,    0.030444,    0.030381,    0.030318,    0.030256,    0.030193,     0.03013,    0.030067,    0.030004,    0.029941,    0.029878,    0.029815,    0.029752,    0.029689,    0.029627,\n",
       "           0.029564,    0.029501,    0.029438,    0.029375,    0.029312,    0.029249,    0.029186,    0.029123,     0.02906,    0.028998,    0.028935,    0.028872,    0.028809,    0.028746,    0.028683,     0.02862,    0.028557,    0.028494,    0.028431,    0.028369,    0.028306,    0.028243,     0.02818,\n",
       "           0.028117,    0.028054,    0.027991,    0.027928,    0.027865,    0.027802,     0.02774,    0.027677,    0.027614,    0.027551,    0.027488,    0.027425,    0.027362,    0.027299,    0.027236,    0.027173,    0.027111,    0.027048,    0.026985,    0.026922,    0.026859,    0.026796,    0.026733,\n",
       "            0.02667,    0.026607,    0.026544,    0.026482,    0.026419,    0.026356,    0.026293,     0.02623,    0.026167,    0.026104,    0.026041,    0.025978,    0.025915,    0.025852,     0.02579,    0.025727,    0.025664,    0.025601,    0.025538,    0.025475,    0.025412,    0.025349,    0.025286,\n",
       "           0.025223,    0.025161,    0.025098,    0.025035,    0.024972,    0.024909,    0.024846,    0.024783,     0.02472,    0.024657,    0.024594,    0.024532,    0.024469,    0.024406,    0.024343,     0.02428,    0.024217,    0.024154,    0.024091,    0.024028,    0.023965,    0.023903,     0.02384,\n",
       "           0.023777,    0.023714,    0.023651,    0.023588,    0.023525,    0.023462,    0.023399,    0.023336,    0.023274,    0.023211,    0.023148,    0.023085,    0.023022,    0.022959,    0.022896,    0.022833,     0.02277,    0.022707,    0.022645,    0.022582,    0.022519,    0.022456,    0.022393,\n",
       "            0.02233,    0.022267,    0.022204,    0.022141,    0.022078,    0.022015,    0.021953,     0.02189,    0.021827,    0.021764,    0.021701,    0.021638,    0.021575,    0.021512,    0.021449,    0.021386,    0.021324,    0.021261,    0.021198,    0.021135,    0.021072,    0.021009,    0.020946,\n",
       "           0.020883,     0.02082,    0.020757,    0.020695,    0.020632,    0.020569,    0.020506,    0.020443,     0.02038,    0.020317,    0.020254,    0.020191,    0.020128,    0.020066,    0.020003,     0.01994,    0.019877,    0.019814,    0.019751,    0.019688,    0.019625,    0.019562,    0.019499,\n",
       "           0.019437,    0.019374,    0.019311,    0.019248,    0.019185,    0.019122,    0.019059,    0.018996,    0.018933,     0.01887,    0.018808,    0.018745,    0.018682,    0.018619,    0.018556,    0.018493,     0.01843,    0.018367,    0.018304,    0.018241,    0.018179,    0.018116,    0.018053,\n",
       "            0.01799,    0.017927,    0.017864,    0.017801,    0.017738,    0.017675,    0.017612,    0.017549,    0.017487,    0.017424,    0.017361,    0.017298,    0.017235,    0.017172,    0.017109,    0.017046,    0.016983,     0.01692,    0.016858,    0.016795,    0.016732,    0.016669,    0.016606,\n",
       "           0.016543,     0.01648,    0.016417,    0.016354,    0.016291,    0.016229,    0.016166,    0.016103,     0.01604,    0.015977,    0.015914,    0.015851,    0.015788,    0.015725,    0.015662,      0.0156,    0.015537,    0.015474,    0.015411,    0.015348,    0.015285,    0.015222,    0.015159,\n",
       "           0.015096,    0.015033,    0.014971,    0.014908,    0.014845,    0.014782,    0.014719,    0.014656,    0.014593,     0.01453,    0.014467,    0.014404,    0.014342,    0.014279,    0.014216,    0.014153,     0.01409,    0.014027,    0.013964,    0.013901,    0.013838,    0.013775,    0.013713,\n",
       "            0.01365,    0.013587,    0.013524,    0.013461,    0.013398,    0.013335,    0.013272,    0.013209,    0.013146,    0.013083,    0.013021,    0.012958,    0.012895,    0.012832,    0.012769,    0.012706,    0.012643,     0.01258,    0.012517,    0.012454,    0.012392,    0.012329,    0.012266,\n",
       "           0.012203,     0.01214,    0.012077,    0.012014,    0.011951,    0.011888,    0.011825,    0.011763,      0.0117,    0.011637,    0.011574,    0.011511,    0.011448,    0.011385,    0.011322,    0.011259,    0.011196,    0.011134,    0.011071,    0.011008,    0.010945,    0.010882,    0.010819,\n",
       "           0.010756,    0.010693,     0.01063,    0.010567,    0.010505,    0.010442,    0.010379,    0.010316,    0.010253,     0.01019,    0.010127,    0.010064,    0.010001,   0.0099384,   0.0098755,   0.0098126,   0.0097497,   0.0096868,   0.0096239,    0.009561,   0.0094981,   0.0094352,   0.0093723,\n",
       "          0.0093094,   0.0092465,   0.0091836,   0.0091207,   0.0090578,   0.0089949,    0.008932,   0.0088691,   0.0088062,   0.0087433,   0.0086804,   0.0086175,   0.0085546,   0.0084917,   0.0084288,   0.0083659,    0.008303,   0.0082401,   0.0081772,   0.0081143,   0.0080514,   0.0079885,   0.0079256,\n",
       "          0.0078627,   0.0077998,   0.0077369,    0.007674,   0.0076111,   0.0075482,   0.0074853,   0.0074224,   0.0073595,   0.0072966,   0.0072337,   0.0071708,   0.0071079,    0.007045,   0.0069821,   0.0069192,   0.0068563,   0.0067934,   0.0067305,   0.0066676,   0.0066046,   0.0065417,   0.0064788,\n",
       "          0.0064159,    0.006353,   0.0062901,   0.0062272,   0.0061643,   0.0061014,   0.0060385,   0.0059756,   0.0059127,   0.0058498,   0.0057869,    0.005724,   0.0056611,   0.0055982,   0.0055353,   0.0054724,   0.0054095,   0.0053466,   0.0052837,   0.0052208,   0.0051579,    0.005095,   0.0050321,\n",
       "          0.0049692,   0.0049063,   0.0048434,   0.0047805,   0.0047176,   0.0046547,   0.0045918,   0.0045289,    0.004466,   0.0044031,   0.0043402,   0.0042773,   0.0042144,   0.0041515,   0.0040886,   0.0040257,   0.0039628,   0.0038999,    0.003837,   0.0037741,   0.0037112,   0.0036483,   0.0035854,\n",
       "          0.0035225,   0.0034596,   0.0033967,   0.0033338,   0.0032709,    0.003208,   0.0031451,   0.0030822,   0.0030193,   0.0029564,   0.0028935,   0.0028306,   0.0027677,   0.0027048,   0.0026419,    0.002579,   0.0025161,   0.0024532,   0.0023903,   0.0023274,   0.0022645,   0.0022015,   0.0021386,\n",
       "          0.0020757,   0.0020128,   0.0019499,    0.001887,   0.0018241,   0.0017612,   0.0016983,   0.0016354,   0.0015725,   0.0015096,   0.0014467,   0.0013838,   0.0013209,    0.001258,   0.0011951,   0.0011322,   0.0010693,   0.0010064,  0.00094352,  0.00088062,  0.00081772,  0.00075482,  0.00069192,\n",
       "         0.00062901,  0.00056611,  0.00050321,  0.00044031,  0.00037741,  0.00031451,  0.00025161,   0.0001887,   0.0001258,  6.2901e-05,           0]]), 'Recall', 'Precision'], [array([          0,    0.001001,    0.002002,    0.003003,    0.004004,    0.005005,    0.006006,    0.007007,    0.008008,    0.009009,     0.01001,    0.011011,    0.012012,    0.013013,    0.014014,    0.015015,    0.016016,    0.017017,    0.018018,    0.019019,     0.02002,    0.021021,    0.022022,    0.023023,\n",
       "          0.024024,    0.025025,    0.026026,    0.027027,    0.028028,    0.029029,     0.03003,    0.031031,    0.032032,    0.033033,    0.034034,    0.035035,    0.036036,    0.037037,    0.038038,    0.039039,     0.04004,    0.041041,    0.042042,    0.043043,    0.044044,    0.045045,    0.046046,    0.047047,\n",
       "          0.048048,    0.049049,     0.05005,    0.051051,    0.052052,    0.053053,    0.054054,    0.055055,    0.056056,    0.057057,    0.058058,    0.059059,     0.06006,    0.061061,    0.062062,    0.063063,    0.064064,    0.065065,    0.066066,    0.067067,    0.068068,    0.069069,     0.07007,    0.071071,\n",
       "          0.072072,    0.073073,    0.074074,    0.075075,    0.076076,    0.077077,    0.078078,    0.079079,     0.08008,    0.081081,    0.082082,    0.083083,    0.084084,    0.085085,    0.086086,    0.087087,    0.088088,    0.089089,     0.09009,    0.091091,    0.092092,    0.093093,    0.094094,    0.095095,\n",
       "          0.096096,    0.097097,    0.098098,    0.099099,      0.1001,      0.1011,      0.1021,      0.1031,      0.1041,     0.10511,     0.10611,     0.10711,     0.10811,     0.10911,     0.11011,     0.11111,     0.11211,     0.11311,     0.11411,     0.11512,     0.11612,     0.11712,     0.11812,     0.11912,\n",
       "           0.12012,     0.12112,     0.12212,     0.12312,     0.12412,     0.12513,     0.12613,     0.12713,     0.12813,     0.12913,     0.13013,     0.13113,     0.13213,     0.13313,     0.13413,     0.13514,     0.13614,     0.13714,     0.13814,     0.13914,     0.14014,     0.14114,     0.14214,     0.14314,\n",
       "           0.14414,     0.14515,     0.14615,     0.14715,     0.14815,     0.14915,     0.15015,     0.15115,     0.15215,     0.15315,     0.15415,     0.15516,     0.15616,     0.15716,     0.15816,     0.15916,     0.16016,     0.16116,     0.16216,     0.16316,     0.16416,     0.16517,     0.16617,     0.16717,\n",
       "           0.16817,     0.16917,     0.17017,     0.17117,     0.17217,     0.17317,     0.17417,     0.17518,     0.17618,     0.17718,     0.17818,     0.17918,     0.18018,     0.18118,     0.18218,     0.18318,     0.18418,     0.18519,     0.18619,     0.18719,     0.18819,     0.18919,     0.19019,     0.19119,\n",
       "           0.19219,     0.19319,     0.19419,      0.1952,      0.1962,      0.1972,      0.1982,      0.1992,      0.2002,      0.2012,      0.2022,      0.2032,      0.2042,     0.20521,     0.20621,     0.20721,     0.20821,     0.20921,     0.21021,     0.21121,     0.21221,     0.21321,     0.21421,     0.21522,\n",
       "           0.21622,     0.21722,     0.21822,     0.21922,     0.22022,     0.22122,     0.22222,     0.22322,     0.22422,     0.22523,     0.22623,     0.22723,     0.22823,     0.22923,     0.23023,     0.23123,     0.23223,     0.23323,     0.23423,     0.23524,     0.23624,     0.23724,     0.23824,     0.23924,\n",
       "           0.24024,     0.24124,     0.24224,     0.24324,     0.24424,     0.24525,     0.24625,     0.24725,     0.24825,     0.24925,     0.25025,     0.25125,     0.25225,     0.25325,     0.25425,     0.25526,     0.25626,     0.25726,     0.25826,     0.25926,     0.26026,     0.26126,     0.26226,     0.26326,\n",
       "           0.26426,     0.26527,     0.26627,     0.26727,     0.26827,     0.26927,     0.27027,     0.27127,     0.27227,     0.27327,     0.27427,     0.27528,     0.27628,     0.27728,     0.27828,     0.27928,     0.28028,     0.28128,     0.28228,     0.28328,     0.28428,     0.28529,     0.28629,     0.28729,\n",
       "           0.28829,     0.28929,     0.29029,     0.29129,     0.29229,     0.29329,     0.29429,      0.2953,      0.2963,      0.2973,      0.2983,      0.2993,      0.3003,      0.3013,      0.3023,      0.3033,      0.3043,     0.30531,     0.30631,     0.30731,     0.30831,     0.30931,     0.31031,     0.31131,\n",
       "           0.31231,     0.31331,     0.31431,     0.31532,     0.31632,     0.31732,     0.31832,     0.31932,     0.32032,     0.32132,     0.32232,     0.32332,     0.32432,     0.32533,     0.32633,     0.32733,     0.32833,     0.32933,     0.33033,     0.33133,     0.33233,     0.33333,     0.33433,     0.33534,\n",
       "           0.33634,     0.33734,     0.33834,     0.33934,     0.34034,     0.34134,     0.34234,     0.34334,     0.34434,     0.34535,     0.34635,     0.34735,     0.34835,     0.34935,     0.35035,     0.35135,     0.35235,     0.35335,     0.35435,     0.35536,     0.35636,     0.35736,     0.35836,     0.35936,\n",
       "           0.36036,     0.36136,     0.36236,     0.36336,     0.36436,     0.36537,     0.36637,     0.36737,     0.36837,     0.36937,     0.37037,     0.37137,     0.37237,     0.37337,     0.37437,     0.37538,     0.37638,     0.37738,     0.37838,     0.37938,     0.38038,     0.38138,     0.38238,     0.38338,\n",
       "           0.38438,     0.38539,     0.38639,     0.38739,     0.38839,     0.38939,     0.39039,     0.39139,     0.39239,     0.39339,     0.39439,      0.3954,      0.3964,      0.3974,      0.3984,      0.3994,      0.4004,      0.4014,      0.4024,      0.4034,      0.4044,     0.40541,     0.40641,     0.40741,\n",
       "           0.40841,     0.40941,     0.41041,     0.41141,     0.41241,     0.41341,     0.41441,     0.41542,     0.41642,     0.41742,     0.41842,     0.41942,     0.42042,     0.42142,     0.42242,     0.42342,     0.42442,     0.42543,     0.42643,     0.42743,     0.42843,     0.42943,     0.43043,     0.43143,\n",
       "           0.43243,     0.43343,     0.43443,     0.43544,     0.43644,     0.43744,     0.43844,     0.43944,     0.44044,     0.44144,     0.44244,     0.44344,     0.44444,     0.44545,     0.44645,     0.44745,     0.44845,     0.44945,     0.45045,     0.45145,     0.45245,     0.45345,     0.45445,     0.45546,\n",
       "           0.45646,     0.45746,     0.45846,     0.45946,     0.46046,     0.46146,     0.46246,     0.46346,     0.46446,     0.46547,     0.46647,     0.46747,     0.46847,     0.46947,     0.47047,     0.47147,     0.47247,     0.47347,     0.47447,     0.47548,     0.47648,     0.47748,     0.47848,     0.47948,\n",
       "           0.48048,     0.48148,     0.48248,     0.48348,     0.48448,     0.48549,     0.48649,     0.48749,     0.48849,     0.48949,     0.49049,     0.49149,     0.49249,     0.49349,     0.49449,      0.4955,      0.4965,      0.4975,      0.4985,      0.4995,      0.5005,      0.5015,      0.5025,      0.5035,\n",
       "            0.5045,     0.50551,     0.50651,     0.50751,     0.50851,     0.50951,     0.51051,     0.51151,     0.51251,     0.51351,     0.51451,     0.51552,     0.51652,     0.51752,     0.51852,     0.51952,     0.52052,     0.52152,     0.52252,     0.52352,     0.52452,     0.52553,     0.52653,     0.52753,\n",
       "           0.52853,     0.52953,     0.53053,     0.53153,     0.53253,     0.53353,     0.53453,     0.53554,     0.53654,     0.53754,     0.53854,     0.53954,     0.54054,     0.54154,     0.54254,     0.54354,     0.54454,     0.54555,     0.54655,     0.54755,     0.54855,     0.54955,     0.55055,     0.55155,\n",
       "           0.55255,     0.55355,     0.55455,     0.55556,     0.55656,     0.55756,     0.55856,     0.55956,     0.56056,     0.56156,     0.56256,     0.56356,     0.56456,     0.56557,     0.56657,     0.56757,     0.56857,     0.56957,     0.57057,     0.57157,     0.57257,     0.57357,     0.57457,     0.57558,\n",
       "           0.57658,     0.57758,     0.57858,     0.57958,     0.58058,     0.58158,     0.58258,     0.58358,     0.58458,     0.58559,     0.58659,     0.58759,     0.58859,     0.58959,     0.59059,     0.59159,     0.59259,     0.59359,     0.59459,      0.5956,      0.5966,      0.5976,      0.5986,      0.5996,\n",
       "            0.6006,      0.6016,      0.6026,      0.6036,      0.6046,     0.60561,     0.60661,     0.60761,     0.60861,     0.60961,     0.61061,     0.61161,     0.61261,     0.61361,     0.61461,     0.61562,     0.61662,     0.61762,     0.61862,     0.61962,     0.62062,     0.62162,     0.62262,     0.62362,\n",
       "           0.62462,     0.62563,     0.62663,     0.62763,     0.62863,     0.62963,     0.63063,     0.63163,     0.63263,     0.63363,     0.63463,     0.63564,     0.63664,     0.63764,     0.63864,     0.63964,     0.64064,     0.64164,     0.64264,     0.64364,     0.64464,     0.64565,     0.64665,     0.64765,\n",
       "           0.64865,     0.64965,     0.65065,     0.65165,     0.65265,     0.65365,     0.65465,     0.65566,     0.65666,     0.65766,     0.65866,     0.65966,     0.66066,     0.66166,     0.66266,     0.66366,     0.66466,     0.66567,     0.66667,     0.66767,     0.66867,     0.66967,     0.67067,     0.67167,\n",
       "           0.67267,     0.67367,     0.67467,     0.67568,     0.67668,     0.67768,     0.67868,     0.67968,     0.68068,     0.68168,     0.68268,     0.68368,     0.68468,     0.68569,     0.68669,     0.68769,     0.68869,     0.68969,     0.69069,     0.69169,     0.69269,     0.69369,     0.69469,      0.6957,\n",
       "            0.6967,      0.6977,      0.6987,      0.6997,      0.7007,      0.7017,      0.7027,      0.7037,      0.7047,     0.70571,     0.70671,     0.70771,     0.70871,     0.70971,     0.71071,     0.71171,     0.71271,     0.71371,     0.71471,     0.71572,     0.71672,     0.71772,     0.71872,     0.71972,\n",
       "           0.72072,     0.72172,     0.72272,     0.72372,     0.72472,     0.72573,     0.72673,     0.72773,     0.72873,     0.72973,     0.73073,     0.73173,     0.73273,     0.73373,     0.73473,     0.73574,     0.73674,     0.73774,     0.73874,     0.73974,     0.74074,     0.74174,     0.74274,     0.74374,\n",
       "           0.74474,     0.74575,     0.74675,     0.74775,     0.74875,     0.74975,     0.75075,     0.75175,     0.75275,     0.75375,     0.75475,     0.75576,     0.75676,     0.75776,     0.75876,     0.75976,     0.76076,     0.76176,     0.76276,     0.76376,     0.76476,     0.76577,     0.76677,     0.76777,\n",
       "           0.76877,     0.76977,     0.77077,     0.77177,     0.77277,     0.77377,     0.77477,     0.77578,     0.77678,     0.77778,     0.77878,     0.77978,     0.78078,     0.78178,     0.78278,     0.78378,     0.78478,     0.78579,     0.78679,     0.78779,     0.78879,     0.78979,     0.79079,     0.79179,\n",
       "           0.79279,     0.79379,     0.79479,      0.7958,      0.7968,      0.7978,      0.7988,      0.7998,      0.8008,      0.8018,      0.8028,      0.8038,      0.8048,     0.80581,     0.80681,     0.80781,     0.80881,     0.80981,     0.81081,     0.81181,     0.81281,     0.81381,     0.81481,     0.81582,\n",
       "           0.81682,     0.81782,     0.81882,     0.81982,     0.82082,     0.82182,     0.82282,     0.82382,     0.82482,     0.82583,     0.82683,     0.82783,     0.82883,     0.82983,     0.83083,     0.83183,     0.83283,     0.83383,     0.83483,     0.83584,     0.83684,     0.83784,     0.83884,     0.83984,\n",
       "           0.84084,     0.84184,     0.84284,     0.84384,     0.84484,     0.84585,     0.84685,     0.84785,     0.84885,     0.84985,     0.85085,     0.85185,     0.85285,     0.85385,     0.85485,     0.85586,     0.85686,     0.85786,     0.85886,     0.85986,     0.86086,     0.86186,     0.86286,     0.86386,\n",
       "           0.86486,     0.86587,     0.86687,     0.86787,     0.86887,     0.86987,     0.87087,     0.87187,     0.87287,     0.87387,     0.87487,     0.87588,     0.87688,     0.87788,     0.87888,     0.87988,     0.88088,     0.88188,     0.88288,     0.88388,     0.88488,     0.88589,     0.88689,     0.88789,\n",
       "           0.88889,     0.88989,     0.89089,     0.89189,     0.89289,     0.89389,     0.89489,      0.8959,      0.8969,      0.8979,      0.8989,      0.8999,      0.9009,      0.9019,      0.9029,      0.9039,      0.9049,     0.90591,     0.90691,     0.90791,     0.90891,     0.90991,     0.91091,     0.91191,\n",
       "           0.91291,     0.91391,     0.91491,     0.91592,     0.91692,     0.91792,     0.91892,     0.91992,     0.92092,     0.92192,     0.92292,     0.92392,     0.92492,     0.92593,     0.92693,     0.92793,     0.92893,     0.92993,     0.93093,     0.93193,     0.93293,     0.93393,     0.93493,     0.93594,\n",
       "           0.93694,     0.93794,     0.93894,     0.93994,     0.94094,     0.94194,     0.94294,     0.94394,     0.94494,     0.94595,     0.94695,     0.94795,     0.94895,     0.94995,     0.95095,     0.95195,     0.95295,     0.95395,     0.95495,     0.95596,     0.95696,     0.95796,     0.95896,     0.95996,\n",
       "           0.96096,     0.96196,     0.96296,     0.96396,     0.96496,     0.96597,     0.96697,     0.96797,     0.96897,     0.96997,     0.97097,     0.97197,     0.97297,     0.97397,     0.97497,     0.97598,     0.97698,     0.97798,     0.97898,     0.97998,     0.98098,     0.98198,     0.98298,     0.98398,\n",
       "           0.98498,     0.98599,     0.98699,     0.98799,     0.98899,     0.98999,     0.99099,     0.99199,     0.99299,     0.99399,     0.99499,       0.996,       0.997,       0.998,       0.999,           1]), array([[   0.060067,    0.060067,    0.090157,     0.10756,     0.12119,     0.13454,     0.14634,     0.15547,     0.15481,      0.1629,     0.17308,     0.17672,     0.17107,      0.1655,     0.16598,     0.16653,     0.16573,     0.16774,     0.17242,     0.17642,     0.17872,     0.17646,     0.17964,\n",
       "            0.17691,     0.17993,     0.18032,     0.18414,     0.18609,     0.18413,     0.18618,     0.17944,     0.17655,     0.17938,     0.18138,     0.18434,     0.18698,     0.18923,     0.19168,     0.19315,     0.19535,     0.19661,     0.19704,     0.19997,     0.20235,     0.20303,     0.20345,\n",
       "            0.20442,     0.20715,     0.20918,     0.20392,     0.20493,     0.20764,     0.20848,     0.20939,     0.21087,     0.21272,     0.21462,     0.20942,     0.20991,     0.21101,     0.21352,     0.21386,     0.21419,     0.21642,     0.21954,     0.22029,     0.21808,     0.21545,       0.216,\n",
       "            0.21631,     0.21661,     0.21687,     0.21712,     0.21737,     0.21774,      0.2186,     0.22063,     0.22086,     0.21923,     0.21761,     0.21598,     0.21436,     0.20951,     0.20626,     0.20674,     0.20718,     0.20759,     0.20801,     0.20845,     0.20999,     0.21102,     0.20969,\n",
       "             0.2048,     0.19643,     0.19748,     0.19786,     0.19543,     0.19369,     0.19446,     0.19462,     0.19478,     0.19494,      0.1951,     0.19526,     0.19577,       0.196,     0.18981,     0.19028,     0.19178,      0.1904,     0.18524,     0.18379,      0.1841,      0.1844,     0.17578,\n",
       "             0.1684,     0.16865,     0.16889,     0.16913,     0.16971,     0.17093,     0.17126,     0.17159,     0.17187,     0.17213,     0.17238,     0.17169,     0.16704,     0.16339,     0.16403,     0.16425,     0.16442,     0.16459,     0.16476,     0.16493,      0.1656,     0.16607,     0.16645,\n",
       "            0.16692,     0.16751,     0.16776,       0.168,     0.16823,     0.16932,     0.16955,     0.16978,     0.17001,     0.16954,     0.16233,     0.16133,     0.16151,      0.1617,     0.16189,     0.16208,     0.15941,     0.15426,     0.15289,     0.15398,     0.15446,     0.15502,     0.15561,\n",
       "            0.15601,     0.15641,     0.15659,     0.15677,     0.15694,     0.15711,     0.15728,     0.15767,     0.15808,     0.14859,     0.14868,     0.14877,     0.14887,     0.14896,     0.14905,     0.14914,     0.14923,     0.14932,     0.14942,     0.14795,     0.13975,      0.1401,     0.14044,\n",
       "            0.14076,     0.14107,     0.14133,     0.14155,     0.14177,     0.14199,     0.14284,     0.14299,     0.14312,     0.14326,     0.14339,     0.14352,     0.14366,     0.13718,     0.13286,     0.13242,     0.12524,     0.12117,     0.11972,     0.11827,     0.11682,     0.11537,     0.11392,\n",
       "            0.11247,     0.11102,     0.11062,     0.11094,     0.11121,     0.11142,     0.11163,     0.11193,     0.11259,     0.11283,     0.11307,     0.11342,     0.11398,     0.11473,     0.11486,     0.11499,     0.11512,     0.11525,     0.11537,     0.10303,    0.097766,    0.092495,    0.091566,\n",
       "           0.091663,     0.09176,    0.091856,    0.091952,    0.092047,    0.092148,    0.092258,    0.092367,    0.092475,    0.092583,     0.09269,    0.093959,     0.09414,    0.094319,    0.094495,    0.095909,    0.096031,    0.096152,    0.096272,    0.096391,    0.096509,    0.096806,    0.097195,\n",
       "           0.097491,    0.097774,     0.09801,    0.098208,    0.098403,    0.098597,    0.098891,    0.099179,    0.099396,    0.099567,    0.099736,    0.099904,    0.095887,    0.086333,    0.086419,    0.086504,    0.086589,    0.086672,    0.086756,    0.086838,     0.08692,    0.087135,     0.08745,\n",
       "           0.087274,    0.086686,    0.086098,     0.08551,    0.084922,    0.084334,    0.083746,    0.083158,    0.082569,    0.081981,    0.081393,    0.080804,    0.080216,    0.079627,    0.079038,     0.07845,    0.077861,    0.077272,    0.076683,    0.076094,    0.075505,    0.074916,    0.074327,\n",
       "           0.073738,     0.07356,    0.073607,    0.073654,      0.0737,    0.073747,    0.073793,    0.073839,    0.073884,    0.073929,    0.073974,    0.074019,    0.074064,    0.073486,    0.072723,     0.07196,    0.071197,    0.070434,    0.069671,    0.068907,    0.068144,     0.06738,    0.066617,\n",
       "           0.065853,    0.065089,    0.064326,    0.063562,    0.062798,    0.062033,    0.061269,    0.060505,     0.05974,    0.059872,    0.060047,    0.060166,    0.060205,    0.060244,    0.060283,    0.060322,     0.06036,    0.060398,    0.060436,    0.060473,    0.060511,    0.060548,    0.060585,\n",
       "           0.060676,    0.060838,    0.060996,    0.061085,    0.061115,    0.061144,    0.061174,    0.061203,    0.061232,    0.061262,     0.06129,    0.061319,    0.061348,    0.061376,    0.061405,    0.061433,    0.061461,    0.061489,    0.061517,    0.061114,    0.059197,     0.05728,    0.055362,\n",
       "           0.053443,    0.051524,    0.049604,    0.047684,    0.046526,    0.046562,    0.046598,    0.046634,     0.04667,    0.046705,     0.04674,    0.046774,    0.046808,    0.046842,    0.046878,    0.046999,    0.047117,     0.04723,    0.047569,    0.045469,    0.042965,     0.04046,    0.037954,\n",
       "           0.035448,     0.03294,    0.032062,    0.032157,    0.032248,    0.032462,    0.032601,    0.032705,    0.032795,    0.032841,    0.032886,    0.032929,    0.032972,    0.033013,    0.033054,    0.033084,    0.033112,    0.033141,    0.033168,    0.033195,    0.033222,    0.033248,    0.033274,\n",
       "             0.0333,    0.033325,    0.033365,    0.033412,    0.033458,    0.033502,    0.033545,    0.033587,    0.033619,    0.033635,    0.033651,    0.033667,    0.033682,    0.033698,    0.033713,    0.033728,    0.033743,    0.033757,    0.033772,    0.033786,      0.0338,    0.033814,    0.033828,\n",
       "           0.033842,    0.033856,    0.033869,    0.033882,    0.033895,    0.033919,    0.033945,     0.03397,    0.033995,     0.03402,    0.034044,    0.034067,     0.03409,    0.034113,    0.034135,    0.034156,    0.034178,    0.034197,    0.034215,    0.034233,    0.034251,    0.034268,    0.034285,\n",
       "           0.034301,    0.034318,    0.034334,     0.03435,    0.034365,    0.034381,    0.034396,    0.034411,    0.034426,     0.03444,    0.034454,    0.034469,    0.034482,     0.03457,    0.034651,    0.034726,    0.034642,    0.033824,    0.033006,    0.032188,     0.03137,    0.030551,    0.029733,\n",
       "           0.028914,    0.028095,    0.027276,    0.026457,    0.025637,    0.024818,    0.023998,    0.023178,    0.022358,    0.021537,    0.020716,    0.019895,    0.019073,    0.018251,    0.017546,    0.017558,     0.01757,    0.017581,    0.017592,    0.017603,    0.017613,    0.017623,    0.017632,\n",
       "           0.017641,     0.01765,    0.017659,    0.017667,    0.017675,    0.017683,    0.017691,    0.017698,    0.017721,    0.017744,    0.017764,    0.017783,      0.0178,    0.017816,     0.01783,    0.017843,    0.017856,    0.017865,    0.017873,    0.017881,    0.017888,    0.017895,    0.017902,\n",
       "           0.017909,    0.017915,    0.017921,    0.017926,    0.017932,    0.017937,    0.017942,    0.017946,    0.017951,    0.017955,     0.01796,    0.017964,    0.017968,    0.017971,    0.017975,    0.017979,    0.017982,    0.017985,    0.017989,    0.017992,    0.017995,    0.017998,       0.018,\n",
       "           0.018003,    0.018006,    0.018008,    0.018011,    0.018013,    0.018016,    0.018018,           0,           0,           0,           0,           0,           0,           0,           0,           0,           0,           0,           0,           0,           0,           0,           0,\n",
       "                  0,           0,           0,           0,           0,           0,           0,           0,           0,           0,           0,           0,           0,           0,           0,           0,           0,           0,           0,           0,           0,           0,           0,\n",
       "                  0,           0,           0,           0,           0,           0,           0,           0,           0,           0,           0,           0,           0,           0,           0,           0,           0,           0,           0,           0,           0,           0,           0,\n",
       "                  0,           0,           0,           0,           0,           0,           0,           0,           0,           0,           0,           0,           0,           0,           0,           0,           0,           0,           0,           0,           0,           0,           0,\n",
       "                  0,           0,           0,           0,           0,           0,           0,           0,           0,           0,           0,           0,           0,           0,           0,           0,           0,           0,           0,           0,           0,           0,           0,\n",
       "                  0,           0,           0,           0,           0,           0,           0,           0,           0,           0,           0,           0,           0,           0,           0,           0,           0,           0,           0,           0,           0,           0,           0,\n",
       "                  0,           0,           0,           0,           0,           0,           0,           0,           0,           0,           0,           0,           0,           0,           0,           0,           0,           0,           0,           0,           0,           0,           0,\n",
       "                  0,           0,           0,           0,           0,           0,           0,           0,           0,           0,           0,           0,           0,           0,           0,           0,           0,           0,           0,           0,           0,           0,           0,\n",
       "                  0,           0,           0,           0,           0,           0,           0,           0,           0,           0,           0,           0,           0,           0,           0,           0,           0,           0,           0,           0,           0,           0,           0,\n",
       "                  0,           0,           0,           0,           0,           0,           0,           0,           0,           0,           0,           0,           0,           0,           0,           0,           0,           0,           0,           0,           0,           0,           0,\n",
       "                  0,           0,           0,           0,           0,           0,           0,           0,           0,           0,           0,           0,           0,           0,           0,           0,           0,           0,           0,           0,           0,           0,           0,\n",
       "                  0,           0,           0,           0,           0,           0,           0,           0,           0,           0,           0,           0,           0,           0,           0,           0,           0,           0,           0,           0,           0,           0,           0,\n",
       "                  0,           0,           0,           0,           0,           0,           0,           0,           0,           0,           0,           0,           0,           0,           0,           0,           0,           0,           0,           0,           0,           0,           0,\n",
       "                  0,           0,           0,           0,           0,           0,           0,           0,           0,           0,           0,           0,           0,           0,           0,           0,           0,           0,           0,           0,           0,           0,           0,\n",
       "                  0,           0,           0,           0,           0,           0,           0,           0,           0,           0,           0,           0,           0,           0,           0,           0,           0,           0,           0,           0,           0,           0,           0,\n",
       "                  0,           0,           0,           0,           0,           0,           0,           0,           0,           0,           0,           0,           0,           0,           0,           0,           0,           0,           0,           0,           0,           0,           0,\n",
       "                  0,           0,           0,           0,           0,           0,           0,           0,           0,           0,           0,           0,           0,           0,           0,           0,           0,           0,           0,           0,           0,           0,           0,\n",
       "                  0,           0,           0,           0,           0,           0,           0,           0,           0,           0,           0,           0,           0,           0,           0,           0,           0,           0,           0,           0,           0,           0,           0,\n",
       "                  0,           0,           0,           0,           0,           0,           0,           0,           0,           0,           0,           0,           0,           0,           0,           0,           0,           0,           0,           0,           0,           0,           0,\n",
       "                  0,           0,           0,           0,           0,           0,           0,           0,           0,           0,           0]]), 'Confidence', 'F1'], [array([          0,    0.001001,    0.002002,    0.003003,    0.004004,    0.005005,    0.006006,    0.007007,    0.008008,    0.009009,     0.01001,    0.011011,    0.012012,    0.013013,    0.014014,    0.015015,    0.016016,    0.017017,    0.018018,    0.019019,     0.02002,    0.021021,    0.022022,    0.023023,\n",
       "          0.024024,    0.025025,    0.026026,    0.027027,    0.028028,    0.029029,     0.03003,    0.031031,    0.032032,    0.033033,    0.034034,    0.035035,    0.036036,    0.037037,    0.038038,    0.039039,     0.04004,    0.041041,    0.042042,    0.043043,    0.044044,    0.045045,    0.046046,    0.047047,\n",
       "          0.048048,    0.049049,     0.05005,    0.051051,    0.052052,    0.053053,    0.054054,    0.055055,    0.056056,    0.057057,    0.058058,    0.059059,     0.06006,    0.061061,    0.062062,    0.063063,    0.064064,    0.065065,    0.066066,    0.067067,    0.068068,    0.069069,     0.07007,    0.071071,\n",
       "          0.072072,    0.073073,    0.074074,    0.075075,    0.076076,    0.077077,    0.078078,    0.079079,     0.08008,    0.081081,    0.082082,    0.083083,    0.084084,    0.085085,    0.086086,    0.087087,    0.088088,    0.089089,     0.09009,    0.091091,    0.092092,    0.093093,    0.094094,    0.095095,\n",
       "          0.096096,    0.097097,    0.098098,    0.099099,      0.1001,      0.1011,      0.1021,      0.1031,      0.1041,     0.10511,     0.10611,     0.10711,     0.10811,     0.10911,     0.11011,     0.11111,     0.11211,     0.11311,     0.11411,     0.11512,     0.11612,     0.11712,     0.11812,     0.11912,\n",
       "           0.12012,     0.12112,     0.12212,     0.12312,     0.12412,     0.12513,     0.12613,     0.12713,     0.12813,     0.12913,     0.13013,     0.13113,     0.13213,     0.13313,     0.13413,     0.13514,     0.13614,     0.13714,     0.13814,     0.13914,     0.14014,     0.14114,     0.14214,     0.14314,\n",
       "           0.14414,     0.14515,     0.14615,     0.14715,     0.14815,     0.14915,     0.15015,     0.15115,     0.15215,     0.15315,     0.15415,     0.15516,     0.15616,     0.15716,     0.15816,     0.15916,     0.16016,     0.16116,     0.16216,     0.16316,     0.16416,     0.16517,     0.16617,     0.16717,\n",
       "           0.16817,     0.16917,     0.17017,     0.17117,     0.17217,     0.17317,     0.17417,     0.17518,     0.17618,     0.17718,     0.17818,     0.17918,     0.18018,     0.18118,     0.18218,     0.18318,     0.18418,     0.18519,     0.18619,     0.18719,     0.18819,     0.18919,     0.19019,     0.19119,\n",
       "           0.19219,     0.19319,     0.19419,      0.1952,      0.1962,      0.1972,      0.1982,      0.1992,      0.2002,      0.2012,      0.2022,      0.2032,      0.2042,     0.20521,     0.20621,     0.20721,     0.20821,     0.20921,     0.21021,     0.21121,     0.21221,     0.21321,     0.21421,     0.21522,\n",
       "           0.21622,     0.21722,     0.21822,     0.21922,     0.22022,     0.22122,     0.22222,     0.22322,     0.22422,     0.22523,     0.22623,     0.22723,     0.22823,     0.22923,     0.23023,     0.23123,     0.23223,     0.23323,     0.23423,     0.23524,     0.23624,     0.23724,     0.23824,     0.23924,\n",
       "           0.24024,     0.24124,     0.24224,     0.24324,     0.24424,     0.24525,     0.24625,     0.24725,     0.24825,     0.24925,     0.25025,     0.25125,     0.25225,     0.25325,     0.25425,     0.25526,     0.25626,     0.25726,     0.25826,     0.25926,     0.26026,     0.26126,     0.26226,     0.26326,\n",
       "           0.26426,     0.26527,     0.26627,     0.26727,     0.26827,     0.26927,     0.27027,     0.27127,     0.27227,     0.27327,     0.27427,     0.27528,     0.27628,     0.27728,     0.27828,     0.27928,     0.28028,     0.28128,     0.28228,     0.28328,     0.28428,     0.28529,     0.28629,     0.28729,\n",
       "           0.28829,     0.28929,     0.29029,     0.29129,     0.29229,     0.29329,     0.29429,      0.2953,      0.2963,      0.2973,      0.2983,      0.2993,      0.3003,      0.3013,      0.3023,      0.3033,      0.3043,     0.30531,     0.30631,     0.30731,     0.30831,     0.30931,     0.31031,     0.31131,\n",
       "           0.31231,     0.31331,     0.31431,     0.31532,     0.31632,     0.31732,     0.31832,     0.31932,     0.32032,     0.32132,     0.32232,     0.32332,     0.32432,     0.32533,     0.32633,     0.32733,     0.32833,     0.32933,     0.33033,     0.33133,     0.33233,     0.33333,     0.33433,     0.33534,\n",
       "           0.33634,     0.33734,     0.33834,     0.33934,     0.34034,     0.34134,     0.34234,     0.34334,     0.34434,     0.34535,     0.34635,     0.34735,     0.34835,     0.34935,     0.35035,     0.35135,     0.35235,     0.35335,     0.35435,     0.35536,     0.35636,     0.35736,     0.35836,     0.35936,\n",
       "           0.36036,     0.36136,     0.36236,     0.36336,     0.36436,     0.36537,     0.36637,     0.36737,     0.36837,     0.36937,     0.37037,     0.37137,     0.37237,     0.37337,     0.37437,     0.37538,     0.37638,     0.37738,     0.37838,     0.37938,     0.38038,     0.38138,     0.38238,     0.38338,\n",
       "           0.38438,     0.38539,     0.38639,     0.38739,     0.38839,     0.38939,     0.39039,     0.39139,     0.39239,     0.39339,     0.39439,      0.3954,      0.3964,      0.3974,      0.3984,      0.3994,      0.4004,      0.4014,      0.4024,      0.4034,      0.4044,     0.40541,     0.40641,     0.40741,\n",
       "           0.40841,     0.40941,     0.41041,     0.41141,     0.41241,     0.41341,     0.41441,     0.41542,     0.41642,     0.41742,     0.41842,     0.41942,     0.42042,     0.42142,     0.42242,     0.42342,     0.42442,     0.42543,     0.42643,     0.42743,     0.42843,     0.42943,     0.43043,     0.43143,\n",
       "           0.43243,     0.43343,     0.43443,     0.43544,     0.43644,     0.43744,     0.43844,     0.43944,     0.44044,     0.44144,     0.44244,     0.44344,     0.44444,     0.44545,     0.44645,     0.44745,     0.44845,     0.44945,     0.45045,     0.45145,     0.45245,     0.45345,     0.45445,     0.45546,\n",
       "           0.45646,     0.45746,     0.45846,     0.45946,     0.46046,     0.46146,     0.46246,     0.46346,     0.46446,     0.46547,     0.46647,     0.46747,     0.46847,     0.46947,     0.47047,     0.47147,     0.47247,     0.47347,     0.47447,     0.47548,     0.47648,     0.47748,     0.47848,     0.47948,\n",
       "           0.48048,     0.48148,     0.48248,     0.48348,     0.48448,     0.48549,     0.48649,     0.48749,     0.48849,     0.48949,     0.49049,     0.49149,     0.49249,     0.49349,     0.49449,      0.4955,      0.4965,      0.4975,      0.4985,      0.4995,      0.5005,      0.5015,      0.5025,      0.5035,\n",
       "            0.5045,     0.50551,     0.50651,     0.50751,     0.50851,     0.50951,     0.51051,     0.51151,     0.51251,     0.51351,     0.51451,     0.51552,     0.51652,     0.51752,     0.51852,     0.51952,     0.52052,     0.52152,     0.52252,     0.52352,     0.52452,     0.52553,     0.52653,     0.52753,\n",
       "           0.52853,     0.52953,     0.53053,     0.53153,     0.53253,     0.53353,     0.53453,     0.53554,     0.53654,     0.53754,     0.53854,     0.53954,     0.54054,     0.54154,     0.54254,     0.54354,     0.54454,     0.54555,     0.54655,     0.54755,     0.54855,     0.54955,     0.55055,     0.55155,\n",
       "           0.55255,     0.55355,     0.55455,     0.55556,     0.55656,     0.55756,     0.55856,     0.55956,     0.56056,     0.56156,     0.56256,     0.56356,     0.56456,     0.56557,     0.56657,     0.56757,     0.56857,     0.56957,     0.57057,     0.57157,     0.57257,     0.57357,     0.57457,     0.57558,\n",
       "           0.57658,     0.57758,     0.57858,     0.57958,     0.58058,     0.58158,     0.58258,     0.58358,     0.58458,     0.58559,     0.58659,     0.58759,     0.58859,     0.58959,     0.59059,     0.59159,     0.59259,     0.59359,     0.59459,      0.5956,      0.5966,      0.5976,      0.5986,      0.5996,\n",
       "            0.6006,      0.6016,      0.6026,      0.6036,      0.6046,     0.60561,     0.60661,     0.60761,     0.60861,     0.60961,     0.61061,     0.61161,     0.61261,     0.61361,     0.61461,     0.61562,     0.61662,     0.61762,     0.61862,     0.61962,     0.62062,     0.62162,     0.62262,     0.62362,\n",
       "           0.62462,     0.62563,     0.62663,     0.62763,     0.62863,     0.62963,     0.63063,     0.63163,     0.63263,     0.63363,     0.63463,     0.63564,     0.63664,     0.63764,     0.63864,     0.63964,     0.64064,     0.64164,     0.64264,     0.64364,     0.64464,     0.64565,     0.64665,     0.64765,\n",
       "           0.64865,     0.64965,     0.65065,     0.65165,     0.65265,     0.65365,     0.65465,     0.65566,     0.65666,     0.65766,     0.65866,     0.65966,     0.66066,     0.66166,     0.66266,     0.66366,     0.66466,     0.66567,     0.66667,     0.66767,     0.66867,     0.66967,     0.67067,     0.67167,\n",
       "           0.67267,     0.67367,     0.67467,     0.67568,     0.67668,     0.67768,     0.67868,     0.67968,     0.68068,     0.68168,     0.68268,     0.68368,     0.68468,     0.68569,     0.68669,     0.68769,     0.68869,     0.68969,     0.69069,     0.69169,     0.69269,     0.69369,     0.69469,      0.6957,\n",
       "            0.6967,      0.6977,      0.6987,      0.6997,      0.7007,      0.7017,      0.7027,      0.7037,      0.7047,     0.70571,     0.70671,     0.70771,     0.70871,     0.70971,     0.71071,     0.71171,     0.71271,     0.71371,     0.71471,     0.71572,     0.71672,     0.71772,     0.71872,     0.71972,\n",
       "           0.72072,     0.72172,     0.72272,     0.72372,     0.72472,     0.72573,     0.72673,     0.72773,     0.72873,     0.72973,     0.73073,     0.73173,     0.73273,     0.73373,     0.73473,     0.73574,     0.73674,     0.73774,     0.73874,     0.73974,     0.74074,     0.74174,     0.74274,     0.74374,\n",
       "           0.74474,     0.74575,     0.74675,     0.74775,     0.74875,     0.74975,     0.75075,     0.75175,     0.75275,     0.75375,     0.75475,     0.75576,     0.75676,     0.75776,     0.75876,     0.75976,     0.76076,     0.76176,     0.76276,     0.76376,     0.76476,     0.76577,     0.76677,     0.76777,\n",
       "           0.76877,     0.76977,     0.77077,     0.77177,     0.77277,     0.77377,     0.77477,     0.77578,     0.77678,     0.77778,     0.77878,     0.77978,     0.78078,     0.78178,     0.78278,     0.78378,     0.78478,     0.78579,     0.78679,     0.78779,     0.78879,     0.78979,     0.79079,     0.79179,\n",
       "           0.79279,     0.79379,     0.79479,      0.7958,      0.7968,      0.7978,      0.7988,      0.7998,      0.8008,      0.8018,      0.8028,      0.8038,      0.8048,     0.80581,     0.80681,     0.80781,     0.80881,     0.80981,     0.81081,     0.81181,     0.81281,     0.81381,     0.81481,     0.81582,\n",
       "           0.81682,     0.81782,     0.81882,     0.81982,     0.82082,     0.82182,     0.82282,     0.82382,     0.82482,     0.82583,     0.82683,     0.82783,     0.82883,     0.82983,     0.83083,     0.83183,     0.83283,     0.83383,     0.83483,     0.83584,     0.83684,     0.83784,     0.83884,     0.83984,\n",
       "           0.84084,     0.84184,     0.84284,     0.84384,     0.84484,     0.84585,     0.84685,     0.84785,     0.84885,     0.84985,     0.85085,     0.85185,     0.85285,     0.85385,     0.85485,     0.85586,     0.85686,     0.85786,     0.85886,     0.85986,     0.86086,     0.86186,     0.86286,     0.86386,\n",
       "           0.86486,     0.86587,     0.86687,     0.86787,     0.86887,     0.86987,     0.87087,     0.87187,     0.87287,     0.87387,     0.87487,     0.87588,     0.87688,     0.87788,     0.87888,     0.87988,     0.88088,     0.88188,     0.88288,     0.88388,     0.88488,     0.88589,     0.88689,     0.88789,\n",
       "           0.88889,     0.88989,     0.89089,     0.89189,     0.89289,     0.89389,     0.89489,      0.8959,      0.8969,      0.8979,      0.8989,      0.8999,      0.9009,      0.9019,      0.9029,      0.9039,      0.9049,     0.90591,     0.90691,     0.90791,     0.90891,     0.90991,     0.91091,     0.91191,\n",
       "           0.91291,     0.91391,     0.91491,     0.91592,     0.91692,     0.91792,     0.91892,     0.91992,     0.92092,     0.92192,     0.92292,     0.92392,     0.92492,     0.92593,     0.92693,     0.92793,     0.92893,     0.92993,     0.93093,     0.93193,     0.93293,     0.93393,     0.93493,     0.93594,\n",
       "           0.93694,     0.93794,     0.93894,     0.93994,     0.94094,     0.94194,     0.94294,     0.94394,     0.94494,     0.94595,     0.94695,     0.94795,     0.94895,     0.94995,     0.95095,     0.95195,     0.95295,     0.95395,     0.95495,     0.95596,     0.95696,     0.95796,     0.95896,     0.95996,\n",
       "           0.96096,     0.96196,     0.96296,     0.96396,     0.96496,     0.96597,     0.96697,     0.96797,     0.96897,     0.96997,     0.97097,     0.97197,     0.97297,     0.97397,     0.97497,     0.97598,     0.97698,     0.97798,     0.97898,     0.97998,     0.98098,     0.98198,     0.98298,     0.98398,\n",
       "           0.98498,     0.98599,     0.98699,     0.98799,     0.98899,     0.98999,     0.99099,     0.99199,     0.99299,     0.99399,     0.99499,       0.996,       0.997,       0.998,       0.999,           1]), array([[   0.031991,    0.031991,    0.049637,    0.060659,    0.069914,    0.078952,    0.087548,    0.094585,    0.095472,      0.1017,     0.10976,     0.11299,     0.11023,     0.10795,     0.10923,     0.11078,     0.11096,     0.11389,     0.11825,     0.12205,     0.12425,     0.12348,     0.12661,\n",
       "            0.12544,      0.1285,      0.1289,     0.13284,     0.13487,     0.13469,     0.13705,      0.1337,     0.13271,     0.13593,     0.13825,     0.14172,     0.14486,     0.14758,     0.15058,      0.1524,     0.15516,     0.15675,     0.15731,     0.16107,     0.16419,     0.16508,     0.16564,\n",
       "            0.16692,      0.1706,     0.17337,     0.17008,      0.1715,     0.17534,     0.17654,     0.17785,     0.17999,      0.1827,     0.18552,     0.18261,     0.18335,     0.18504,     0.18893,     0.18946,        0.19,     0.19353,     0.19858,     0.19981,     0.19884,     0.19794,     0.19887,\n",
       "            0.19939,      0.1999,     0.20035,     0.20078,     0.20121,     0.20184,     0.20331,     0.20685,     0.20765,     0.20628,     0.20492,     0.20355,     0.20219,     0.19809,     0.19557,     0.19644,     0.19723,     0.19797,     0.19875,     0.19955,     0.20239,     0.20431,      0.2036,\n",
       "            0.19937,     0.19299,     0.19502,     0.19576,     0.19494,     0.19655,     0.19815,     0.19848,     0.19881,     0.19915,     0.19948,     0.19981,     0.20089,     0.20393,     0.19854,     0.19958,     0.20289,     0.20229,     0.19744,     0.19636,     0.19706,     0.19777,     0.18987,\n",
       "            0.18499,     0.18558,     0.18617,     0.18676,     0.18817,      0.1912,     0.19203,     0.19286,     0.19358,     0.19423,     0.19488,      0.1945,     0.18983,     0.18636,     0.18804,     0.18863,     0.18908,     0.18953,     0.18998,     0.19043,     0.19221,      0.1935,     0.19453,\n",
       "            0.19581,     0.19746,     0.19815,     0.19881,     0.19946,     0.20256,     0.20322,     0.20388,     0.20453,     0.20442,     0.19681,     0.19748,     0.19804,     0.19861,     0.19917,     0.19974,     0.19702,     0.19144,     0.19143,     0.19488,     0.19643,     0.19823,     0.20018,\n",
       "            0.20151,     0.20285,     0.20346,     0.20405,     0.20464,     0.20523,     0.20582,     0.20714,     0.20856,     0.20006,      0.2004,     0.20073,     0.20107,     0.20141,     0.20174,     0.20208,     0.20242,     0.20275,     0.20309,     0.20356,     0.19439,     0.19574,     0.19707,\n",
       "            0.19833,     0.19958,     0.20061,     0.20151,     0.20241,     0.20332,     0.20682,     0.20745,     0.20802,     0.20858,     0.20915,     0.20972,     0.21029,     0.20228,     0.19787,     0.19881,     0.18947,     0.18414,      0.1822,     0.18027,     0.17834,      0.1764,     0.17447,\n",
       "            0.17253,      0.1706,     0.17072,     0.17226,     0.17356,     0.17458,      0.1756,     0.17714,     0.18044,     0.18168,     0.18293,     0.18479,     0.18779,     0.19196,     0.19269,     0.19341,     0.19413,     0.19485,     0.19558,     0.17749,     0.16949,      0.1615,     0.16319,\n",
       "            0.16381,     0.16443,     0.16505,     0.16567,     0.16629,     0.16695,     0.16767,     0.16839,     0.16912,     0.16984,     0.17056,     0.17948,     0.18081,     0.18214,     0.18346,      0.1946,     0.19561,     0.19661,     0.19762,     0.19863,     0.19964,      0.2022,     0.20564,\n",
       "            0.20831,     0.21092,     0.21314,     0.21502,     0.21691,     0.21881,     0.22173,     0.22465,     0.22689,     0.22869,     0.23049,     0.23229,     0.22537,     0.20692,     0.20791,      0.2089,     0.20989,     0.21088,     0.21187,     0.21286,     0.21385,     0.21647,     0.22041,\n",
       "            0.22155,     0.22029,     0.21904,     0.21779,     0.21654,     0.21529,     0.21403,     0.21278,     0.21153,     0.21028,     0.20903,     0.20777,     0.20652,     0.20527,     0.20402,     0.20277,     0.20151,     0.20026,     0.19901,     0.19776,     0.19651,     0.19525,       0.194,\n",
       "            0.19275,     0.19273,     0.19337,     0.19402,     0.19467,     0.19532,     0.19597,     0.19661,     0.19726,     0.19791,     0.19856,      0.1992,     0.19985,     0.19863,     0.19686,     0.19509,     0.19332,     0.19155,     0.18978,     0.18801,     0.18624,     0.18447,      0.1827,\n",
       "            0.18092,     0.17915,     0.17738,     0.17561,     0.17384,     0.17207,      0.1703,     0.16853,     0.16676,     0.16936,      0.1722,     0.17417,     0.17483,     0.17549,     0.17615,     0.17681,     0.17747,     0.17813,     0.17879,     0.17945,     0.18011,     0.18077,     0.18143,\n",
       "            0.18308,     0.18608,     0.18908,     0.19079,     0.19137,     0.19196,     0.19254,     0.19312,     0.19371,     0.19429,     0.19488,     0.19546,     0.19604,     0.19663,     0.19721,     0.19779,     0.19838,     0.19896,     0.19955,     0.19881,     0.19343,     0.18806,     0.18268,\n",
       "             0.1773,     0.17193,     0.16655,     0.16118,     0.15822,     0.15907,     0.15992,     0.16076,     0.16161,     0.16246,      0.1633,     0.16415,     0.16499,     0.16584,     0.16674,     0.16986,     0.17298,     0.17609,     0.18597,     0.18004,     0.17135,     0.16266,     0.15397,\n",
       "            0.14528,     0.13659,     0.13551,     0.13898,     0.14246,     0.15129,     0.15752,     0.16254,      0.1671,     0.16951,     0.17192,     0.17433,     0.17674,     0.17915,     0.18156,      0.1834,     0.18518,     0.18695,     0.18873,     0.19051,     0.19228,     0.19406,     0.19583,\n",
       "            0.19761,     0.19938,      0.2023,     0.20582,     0.20934,     0.21286,     0.21638,      0.2199,     0.22271,     0.22413,     0.22555,     0.22697,     0.22839,     0.22981,     0.23123,     0.23265,     0.23407,     0.23549,     0.23691,     0.23833,     0.23975,     0.24117,     0.24259,\n",
       "            0.24401,     0.24543,     0.24685,     0.24827,     0.24969,     0.25227,     0.25518,     0.25809,       0.261,     0.26391,     0.26682,     0.26973,     0.27263,     0.27554,     0.27845,     0.28136,     0.28427,     0.28701,     0.28958,     0.29215,     0.29472,     0.29729,     0.29986,\n",
       "            0.30243,       0.305,     0.30757,     0.31013,      0.3127,     0.31527,     0.31784,     0.32041,     0.32298,     0.32555,     0.32812,     0.33069,     0.33326,     0.35037,     0.36792,     0.38546,     0.39878,     0.39165,     0.38451,     0.37738,     0.37025,     0.36312,     0.35599,\n",
       "            0.34885,     0.34172,     0.33459,     0.32746,     0.32033,     0.31319,     0.30606,     0.29893,      0.2918,     0.28467,     0.27753,      0.2704,     0.26327,     0.25614,     0.25071,     0.25584,     0.26096,     0.26608,      0.2712,     0.27632,     0.28144,     0.28657,     0.29169,\n",
       "            0.29681,     0.30193,     0.30705,     0.31217,      0.3173,     0.32242,     0.32754,     0.33266,     0.34945,     0.36801,     0.38657,     0.40512,     0.42368,     0.44224,      0.4608,     0.47935,     0.49791,     0.51234,     0.52626,     0.54017,     0.55408,     0.56799,      0.5819,\n",
       "            0.59581,     0.60972,     0.62363,     0.63754,     0.65145,     0.66536,     0.67927,     0.69319,      0.7071,     0.72101,     0.73492,     0.74883,     0.76274,     0.77665,     0.79056,     0.80447,     0.81838,     0.83229,     0.84621,     0.86012,     0.87403,     0.88794,     0.90185,\n",
       "            0.91576,     0.92967,     0.94358,     0.95749,      0.9714,     0.98531,     0.99922,           1,           1,           1,           1,           1,           1,           1,           1,           1,           1,           1,           1,           1,           1,           1,           1,\n",
       "                  1,           1,           1,           1,           1,           1,           1,           1,           1,           1,           1,           1,           1,           1,           1,           1,           1,           1,           1,           1,           1,           1,           1,\n",
       "                  1,           1,           1,           1,           1,           1,           1,           1,           1,           1,           1,           1,           1,           1,           1,           1,           1,           1,           1,           1,           1,           1,           1,\n",
       "                  1,           1,           1,           1,           1,           1,           1,           1,           1,           1,           1,           1,           1,           1,           1,           1,           1,           1,           1,           1,           1,           1,           1,\n",
       "                  1,           1,           1,           1,           1,           1,           1,           1,           1,           1,           1,           1,           1,           1,           1,           1,           1,           1,           1,           1,           1,           1,           1,\n",
       "                  1,           1,           1,           1,           1,           1,           1,           1,           1,           1,           1,           1,           1,           1,           1,           1,           1,           1,           1,           1,           1,           1,           1,\n",
       "                  1,           1,           1,           1,           1,           1,           1,           1,           1,           1,           1,           1,           1,           1,           1,           1,           1,           1,           1,           1,           1,           1,           1,\n",
       "                  1,           1,           1,           1,           1,           1,           1,           1,           1,           1,           1,           1,           1,           1,           1,           1,           1,           1,           1,           1,           1,           1,           1,\n",
       "                  1,           1,           1,           1,           1,           1,           1,           1,           1,           1,           1,           1,           1,           1,           1,           1,           1,           1,           1,           1,           1,           1,           1,\n",
       "                  1,           1,           1,           1,           1,           1,           1,           1,           1,           1,           1,           1,           1,           1,           1,           1,           1,           1,           1,           1,           1,           1,           1,\n",
       "                  1,           1,           1,           1,           1,           1,           1,           1,           1,           1,           1,           1,           1,           1,           1,           1,           1,           1,           1,           1,           1,           1,           1,\n",
       "                  1,           1,           1,           1,           1,           1,           1,           1,           1,           1,           1,           1,           1,           1,           1,           1,           1,           1,           1,           1,           1,           1,           1,\n",
       "                  1,           1,           1,           1,           1,           1,           1,           1,           1,           1,           1,           1,           1,           1,           1,           1,           1,           1,           1,           1,           1,           1,           1,\n",
       "                  1,           1,           1,           1,           1,           1,           1,           1,           1,           1,           1,           1,           1,           1,           1,           1,           1,           1,           1,           1,           1,           1,           1,\n",
       "                  1,           1,           1,           1,           1,           1,           1,           1,           1,           1,           1,           1,           1,           1,           1,           1,           1,           1,           1,           1,           1,           1,           1,\n",
       "                  1,           1,           1,           1,           1,           1,           1,           1,           1,           1,           1,           1,           1,           1,           1,           1,           1,           1,           1,           1,           1,           1,           1,\n",
       "                  1,           1,           1,           1,           1,           1,           1,           1,           1,           1,           1,           1,           1,           1,           1,           1,           1,           1,           1,           1,           1,           1,           1,\n",
       "                  1,           1,           1,           1,           1,           1,           1,           1,           1,           1,           1,           1,           1,           1,           1,           1,           1,           1,           1,           1,           1,           1,           1,\n",
       "                  1,           1,           1,           1,           1,           1,           1,           1,           1,           1,           1,           1,           1,           1,           1,           1,           1,           1,           1,           1,           1,           1,           1,\n",
       "                  1,           1,           1,           1,           1,           1,           1,           1,           1,           1,           1]]), 'Confidence', 'Precision'], [array([          0,    0.001001,    0.002002,    0.003003,    0.004004,    0.005005,    0.006006,    0.007007,    0.008008,    0.009009,     0.01001,    0.011011,    0.012012,    0.013013,    0.014014,    0.015015,    0.016016,    0.017017,    0.018018,    0.019019,     0.02002,    0.021021,    0.022022,    0.023023,\n",
       "          0.024024,    0.025025,    0.026026,    0.027027,    0.028028,    0.029029,     0.03003,    0.031031,    0.032032,    0.033033,    0.034034,    0.035035,    0.036036,    0.037037,    0.038038,    0.039039,     0.04004,    0.041041,    0.042042,    0.043043,    0.044044,    0.045045,    0.046046,    0.047047,\n",
       "          0.048048,    0.049049,     0.05005,    0.051051,    0.052052,    0.053053,    0.054054,    0.055055,    0.056056,    0.057057,    0.058058,    0.059059,     0.06006,    0.061061,    0.062062,    0.063063,    0.064064,    0.065065,    0.066066,    0.067067,    0.068068,    0.069069,     0.07007,    0.071071,\n",
       "          0.072072,    0.073073,    0.074074,    0.075075,    0.076076,    0.077077,    0.078078,    0.079079,     0.08008,    0.081081,    0.082082,    0.083083,    0.084084,    0.085085,    0.086086,    0.087087,    0.088088,    0.089089,     0.09009,    0.091091,    0.092092,    0.093093,    0.094094,    0.095095,\n",
       "          0.096096,    0.097097,    0.098098,    0.099099,      0.1001,      0.1011,      0.1021,      0.1031,      0.1041,     0.10511,     0.10611,     0.10711,     0.10811,     0.10911,     0.11011,     0.11111,     0.11211,     0.11311,     0.11411,     0.11512,     0.11612,     0.11712,     0.11812,     0.11912,\n",
       "           0.12012,     0.12112,     0.12212,     0.12312,     0.12412,     0.12513,     0.12613,     0.12713,     0.12813,     0.12913,     0.13013,     0.13113,     0.13213,     0.13313,     0.13413,     0.13514,     0.13614,     0.13714,     0.13814,     0.13914,     0.14014,     0.14114,     0.14214,     0.14314,\n",
       "           0.14414,     0.14515,     0.14615,     0.14715,     0.14815,     0.14915,     0.15015,     0.15115,     0.15215,     0.15315,     0.15415,     0.15516,     0.15616,     0.15716,     0.15816,     0.15916,     0.16016,     0.16116,     0.16216,     0.16316,     0.16416,     0.16517,     0.16617,     0.16717,\n",
       "           0.16817,     0.16917,     0.17017,     0.17117,     0.17217,     0.17317,     0.17417,     0.17518,     0.17618,     0.17718,     0.17818,     0.17918,     0.18018,     0.18118,     0.18218,     0.18318,     0.18418,     0.18519,     0.18619,     0.18719,     0.18819,     0.18919,     0.19019,     0.19119,\n",
       "           0.19219,     0.19319,     0.19419,      0.1952,      0.1962,      0.1972,      0.1982,      0.1992,      0.2002,      0.2012,      0.2022,      0.2032,      0.2042,     0.20521,     0.20621,     0.20721,     0.20821,     0.20921,     0.21021,     0.21121,     0.21221,     0.21321,     0.21421,     0.21522,\n",
       "           0.21622,     0.21722,     0.21822,     0.21922,     0.22022,     0.22122,     0.22222,     0.22322,     0.22422,     0.22523,     0.22623,     0.22723,     0.22823,     0.22923,     0.23023,     0.23123,     0.23223,     0.23323,     0.23423,     0.23524,     0.23624,     0.23724,     0.23824,     0.23924,\n",
       "           0.24024,     0.24124,     0.24224,     0.24324,     0.24424,     0.24525,     0.24625,     0.24725,     0.24825,     0.24925,     0.25025,     0.25125,     0.25225,     0.25325,     0.25425,     0.25526,     0.25626,     0.25726,     0.25826,     0.25926,     0.26026,     0.26126,     0.26226,     0.26326,\n",
       "           0.26426,     0.26527,     0.26627,     0.26727,     0.26827,     0.26927,     0.27027,     0.27127,     0.27227,     0.27327,     0.27427,     0.27528,     0.27628,     0.27728,     0.27828,     0.27928,     0.28028,     0.28128,     0.28228,     0.28328,     0.28428,     0.28529,     0.28629,     0.28729,\n",
       "           0.28829,     0.28929,     0.29029,     0.29129,     0.29229,     0.29329,     0.29429,      0.2953,      0.2963,      0.2973,      0.2983,      0.2993,      0.3003,      0.3013,      0.3023,      0.3033,      0.3043,     0.30531,     0.30631,     0.30731,     0.30831,     0.30931,     0.31031,     0.31131,\n",
       "           0.31231,     0.31331,     0.31431,     0.31532,     0.31632,     0.31732,     0.31832,     0.31932,     0.32032,     0.32132,     0.32232,     0.32332,     0.32432,     0.32533,     0.32633,     0.32733,     0.32833,     0.32933,     0.33033,     0.33133,     0.33233,     0.33333,     0.33433,     0.33534,\n",
       "           0.33634,     0.33734,     0.33834,     0.33934,     0.34034,     0.34134,     0.34234,     0.34334,     0.34434,     0.34535,     0.34635,     0.34735,     0.34835,     0.34935,     0.35035,     0.35135,     0.35235,     0.35335,     0.35435,     0.35536,     0.35636,     0.35736,     0.35836,     0.35936,\n",
       "           0.36036,     0.36136,     0.36236,     0.36336,     0.36436,     0.36537,     0.36637,     0.36737,     0.36837,     0.36937,     0.37037,     0.37137,     0.37237,     0.37337,     0.37437,     0.37538,     0.37638,     0.37738,     0.37838,     0.37938,     0.38038,     0.38138,     0.38238,     0.38338,\n",
       "           0.38438,     0.38539,     0.38639,     0.38739,     0.38839,     0.38939,     0.39039,     0.39139,     0.39239,     0.39339,     0.39439,      0.3954,      0.3964,      0.3974,      0.3984,      0.3994,      0.4004,      0.4014,      0.4024,      0.4034,      0.4044,     0.40541,     0.40641,     0.40741,\n",
       "           0.40841,     0.40941,     0.41041,     0.41141,     0.41241,     0.41341,     0.41441,     0.41542,     0.41642,     0.41742,     0.41842,     0.41942,     0.42042,     0.42142,     0.42242,     0.42342,     0.42442,     0.42543,     0.42643,     0.42743,     0.42843,     0.42943,     0.43043,     0.43143,\n",
       "           0.43243,     0.43343,     0.43443,     0.43544,     0.43644,     0.43744,     0.43844,     0.43944,     0.44044,     0.44144,     0.44244,     0.44344,     0.44444,     0.44545,     0.44645,     0.44745,     0.44845,     0.44945,     0.45045,     0.45145,     0.45245,     0.45345,     0.45445,     0.45546,\n",
       "           0.45646,     0.45746,     0.45846,     0.45946,     0.46046,     0.46146,     0.46246,     0.46346,     0.46446,     0.46547,     0.46647,     0.46747,     0.46847,     0.46947,     0.47047,     0.47147,     0.47247,     0.47347,     0.47447,     0.47548,     0.47648,     0.47748,     0.47848,     0.47948,\n",
       "           0.48048,     0.48148,     0.48248,     0.48348,     0.48448,     0.48549,     0.48649,     0.48749,     0.48849,     0.48949,     0.49049,     0.49149,     0.49249,     0.49349,     0.49449,      0.4955,      0.4965,      0.4975,      0.4985,      0.4995,      0.5005,      0.5015,      0.5025,      0.5035,\n",
       "            0.5045,     0.50551,     0.50651,     0.50751,     0.50851,     0.50951,     0.51051,     0.51151,     0.51251,     0.51351,     0.51451,     0.51552,     0.51652,     0.51752,     0.51852,     0.51952,     0.52052,     0.52152,     0.52252,     0.52352,     0.52452,     0.52553,     0.52653,     0.52753,\n",
       "           0.52853,     0.52953,     0.53053,     0.53153,     0.53253,     0.53353,     0.53453,     0.53554,     0.53654,     0.53754,     0.53854,     0.53954,     0.54054,     0.54154,     0.54254,     0.54354,     0.54454,     0.54555,     0.54655,     0.54755,     0.54855,     0.54955,     0.55055,     0.55155,\n",
       "           0.55255,     0.55355,     0.55455,     0.55556,     0.55656,     0.55756,     0.55856,     0.55956,     0.56056,     0.56156,     0.56256,     0.56356,     0.56456,     0.56557,     0.56657,     0.56757,     0.56857,     0.56957,     0.57057,     0.57157,     0.57257,     0.57357,     0.57457,     0.57558,\n",
       "           0.57658,     0.57758,     0.57858,     0.57958,     0.58058,     0.58158,     0.58258,     0.58358,     0.58458,     0.58559,     0.58659,     0.58759,     0.58859,     0.58959,     0.59059,     0.59159,     0.59259,     0.59359,     0.59459,      0.5956,      0.5966,      0.5976,      0.5986,      0.5996,\n",
       "            0.6006,      0.6016,      0.6026,      0.6036,      0.6046,     0.60561,     0.60661,     0.60761,     0.60861,     0.60961,     0.61061,     0.61161,     0.61261,     0.61361,     0.61461,     0.61562,     0.61662,     0.61762,     0.61862,     0.61962,     0.62062,     0.62162,     0.62262,     0.62362,\n",
       "           0.62462,     0.62563,     0.62663,     0.62763,     0.62863,     0.62963,     0.63063,     0.63163,     0.63263,     0.63363,     0.63463,     0.63564,     0.63664,     0.63764,     0.63864,     0.63964,     0.64064,     0.64164,     0.64264,     0.64364,     0.64464,     0.64565,     0.64665,     0.64765,\n",
       "           0.64865,     0.64965,     0.65065,     0.65165,     0.65265,     0.65365,     0.65465,     0.65566,     0.65666,     0.65766,     0.65866,     0.65966,     0.66066,     0.66166,     0.66266,     0.66366,     0.66466,     0.66567,     0.66667,     0.66767,     0.66867,     0.66967,     0.67067,     0.67167,\n",
       "           0.67267,     0.67367,     0.67467,     0.67568,     0.67668,     0.67768,     0.67868,     0.67968,     0.68068,     0.68168,     0.68268,     0.68368,     0.68468,     0.68569,     0.68669,     0.68769,     0.68869,     0.68969,     0.69069,     0.69169,     0.69269,     0.69369,     0.69469,      0.6957,\n",
       "            0.6967,      0.6977,      0.6987,      0.6997,      0.7007,      0.7017,      0.7027,      0.7037,      0.7047,     0.70571,     0.70671,     0.70771,     0.70871,     0.70971,     0.71071,     0.71171,     0.71271,     0.71371,     0.71471,     0.71572,     0.71672,     0.71772,     0.71872,     0.71972,\n",
       "           0.72072,     0.72172,     0.72272,     0.72372,     0.72472,     0.72573,     0.72673,     0.72773,     0.72873,     0.72973,     0.73073,     0.73173,     0.73273,     0.73373,     0.73473,     0.73574,     0.73674,     0.73774,     0.73874,     0.73974,     0.74074,     0.74174,     0.74274,     0.74374,\n",
       "           0.74474,     0.74575,     0.74675,     0.74775,     0.74875,     0.74975,     0.75075,     0.75175,     0.75275,     0.75375,     0.75475,     0.75576,     0.75676,     0.75776,     0.75876,     0.75976,     0.76076,     0.76176,     0.76276,     0.76376,     0.76476,     0.76577,     0.76677,     0.76777,\n",
       "           0.76877,     0.76977,     0.77077,     0.77177,     0.77277,     0.77377,     0.77477,     0.77578,     0.77678,     0.77778,     0.77878,     0.77978,     0.78078,     0.78178,     0.78278,     0.78378,     0.78478,     0.78579,     0.78679,     0.78779,     0.78879,     0.78979,     0.79079,     0.79179,\n",
       "           0.79279,     0.79379,     0.79479,      0.7958,      0.7968,      0.7978,      0.7988,      0.7998,      0.8008,      0.8018,      0.8028,      0.8038,      0.8048,     0.80581,     0.80681,     0.80781,     0.80881,     0.80981,     0.81081,     0.81181,     0.81281,     0.81381,     0.81481,     0.81582,\n",
       "           0.81682,     0.81782,     0.81882,     0.81982,     0.82082,     0.82182,     0.82282,     0.82382,     0.82482,     0.82583,     0.82683,     0.82783,     0.82883,     0.82983,     0.83083,     0.83183,     0.83283,     0.83383,     0.83483,     0.83584,     0.83684,     0.83784,     0.83884,     0.83984,\n",
       "           0.84084,     0.84184,     0.84284,     0.84384,     0.84484,     0.84585,     0.84685,     0.84785,     0.84885,     0.84985,     0.85085,     0.85185,     0.85285,     0.85385,     0.85485,     0.85586,     0.85686,     0.85786,     0.85886,     0.85986,     0.86086,     0.86186,     0.86286,     0.86386,\n",
       "           0.86486,     0.86587,     0.86687,     0.86787,     0.86887,     0.86987,     0.87087,     0.87187,     0.87287,     0.87387,     0.87487,     0.87588,     0.87688,     0.87788,     0.87888,     0.87988,     0.88088,     0.88188,     0.88288,     0.88388,     0.88488,     0.88589,     0.88689,     0.88789,\n",
       "           0.88889,     0.88989,     0.89089,     0.89189,     0.89289,     0.89389,     0.89489,      0.8959,      0.8969,      0.8979,      0.8989,      0.8999,      0.9009,      0.9019,      0.9029,      0.9039,      0.9049,     0.90591,     0.90691,     0.90791,     0.90891,     0.90991,     0.91091,     0.91191,\n",
       "           0.91291,     0.91391,     0.91491,     0.91592,     0.91692,     0.91792,     0.91892,     0.91992,     0.92092,     0.92192,     0.92292,     0.92392,     0.92492,     0.92593,     0.92693,     0.92793,     0.92893,     0.92993,     0.93093,     0.93193,     0.93293,     0.93393,     0.93493,     0.93594,\n",
       "           0.93694,     0.93794,     0.93894,     0.93994,     0.94094,     0.94194,     0.94294,     0.94394,     0.94494,     0.94595,     0.94695,     0.94795,     0.94895,     0.94995,     0.95095,     0.95195,     0.95295,     0.95395,     0.95495,     0.95596,     0.95696,     0.95796,     0.95896,     0.95996,\n",
       "           0.96096,     0.96196,     0.96296,     0.96396,     0.96496,     0.96597,     0.96697,     0.96797,     0.96897,     0.96997,     0.97097,     0.97197,     0.97297,     0.97397,     0.97497,     0.97598,     0.97698,     0.97798,     0.97898,     0.97998,     0.98098,     0.98198,     0.98298,     0.98398,\n",
       "           0.98498,     0.98599,     0.98699,     0.98799,     0.98899,     0.98999,     0.99099,     0.99199,     0.99299,     0.99399,     0.99499,       0.996,       0.997,       0.998,       0.999,           1]), array([[    0.49091,     0.49091,     0.49091,     0.47434,     0.45455,     0.45455,     0.44545,     0.43636,     0.40909,     0.40909,     0.40909,     0.40532,     0.38182,     0.35455,     0.34545,     0.33523,     0.32727,     0.31818,     0.31818,     0.31818,     0.31818,     0.30909,     0.30909,\n",
       "                0.3,         0.3,         0.3,         0.3,         0.3,     0.29091,     0.29021,     0.27273,     0.26364,     0.26364,     0.26364,     0.26364,     0.26364,     0.26364,     0.26364,     0.26364,     0.26364,     0.26364,     0.26364,     0.26364,     0.26364,     0.26364,     0.26364,\n",
       "            0.26364,     0.26364,     0.26364,     0.25455,     0.25455,     0.25455,     0.25455,     0.25455,     0.25455,     0.25455,     0.25455,     0.24545,     0.24545,     0.24545,     0.24545,     0.24545,     0.24545,     0.24545,     0.24545,     0.24545,     0.24144,     0.23636,     0.23636,\n",
       "            0.23636,     0.23636,     0.23636,     0.23636,     0.23636,     0.23636,     0.23636,     0.23636,     0.23586,     0.23392,     0.23198,     0.23003,     0.22809,     0.22233,     0.21818,     0.21818,     0.21818,     0.21818,     0.21818,     0.21818,     0.21818,     0.21818,     0.21616,\n",
       "            0.21054,         0.2,         0.2,         0.2,     0.19593,     0.19091,     0.19091,     0.19091,     0.19091,     0.19091,     0.19091,     0.19091,     0.19091,     0.18866,     0.18182,     0.18182,     0.18182,     0.17983,     0.17446,     0.17273,     0.17273,     0.17273,     0.16364,\n",
       "            0.15455,     0.15455,     0.15455,     0.15455,     0.15455,     0.15455,     0.15455,     0.15455,     0.15455,     0.15455,     0.15455,     0.15366,     0.14913,     0.14545,     0.14545,     0.14545,     0.14545,     0.14545,     0.14545,     0.14545,     0.14545,     0.14545,     0.14545,\n",
       "            0.14545,     0.14545,     0.14545,     0.14545,     0.14545,     0.14545,     0.14545,     0.14545,     0.14545,     0.14483,     0.13813,     0.13636,     0.13636,     0.13636,     0.13636,     0.13636,     0.13386,     0.12917,     0.12727,     0.12727,     0.12727,     0.12727,     0.12727,\n",
       "            0.12727,     0.12727,     0.12727,     0.12727,     0.12727,     0.12727,     0.12727,     0.12727,     0.12727,     0.11818,     0.11818,     0.11818,     0.11818,     0.11818,     0.11818,     0.11818,     0.11818,     0.11818,     0.11818,      0.1162,     0.10909,     0.10909,     0.10909,\n",
       "            0.10909,     0.10909,     0.10909,     0.10909,     0.10909,     0.10909,     0.10909,     0.10909,     0.10909,     0.10909,     0.10909,     0.10909,     0.10909,     0.10378,         0.1,    0.099272,    0.093536,    0.090289,    0.089146,    0.088002,    0.086859,    0.085715,    0.084572,\n",
       "           0.083428,    0.082285,    0.081818,    0.081818,    0.081818,    0.081818,    0.081818,    0.081818,    0.081818,    0.081818,    0.081818,    0.081818,    0.081818,    0.081818,    0.081818,    0.081818,    0.081818,    0.081818,    0.081818,    0.072585,    0.068696,    0.064806,    0.063636,\n",
       "           0.063636,    0.063636,    0.063636,    0.063636,    0.063636,    0.063636,    0.063636,    0.063636,    0.063636,    0.063636,    0.063636,    0.063636,    0.063636,    0.063636,    0.063636,    0.063636,    0.063636,    0.063636,    0.063636,    0.063636,    0.063636,    0.063636,    0.063636,\n",
       "           0.063636,    0.063636,    0.063636,    0.063636,    0.063636,    0.063636,    0.063636,    0.063636,    0.063636,    0.063636,    0.063636,    0.063636,    0.060899,    0.054545,    0.054545,    0.054545,    0.054545,    0.054545,    0.054545,    0.054545,    0.054545,    0.054545,    0.054545,\n",
       "            0.05434,     0.05396,    0.053579,    0.053199,    0.052818,    0.052438,    0.052057,    0.051677,    0.051296,    0.050916,    0.050535,    0.050155,    0.049774,    0.049394,    0.049013,    0.048633,    0.048252,    0.047872,    0.047491,    0.047111,     0.04673,     0.04635,    0.045969,\n",
       "           0.045589,    0.045455,    0.045455,    0.045455,    0.045455,    0.045455,    0.045455,    0.045455,    0.045455,    0.045455,    0.045455,    0.045455,    0.045455,    0.045082,    0.044599,    0.044116,    0.043633,     0.04315,    0.042667,    0.042184,    0.041701,    0.041218,    0.040735,\n",
       "           0.040252,    0.039769,    0.039286,    0.038803,     0.03832,    0.037837,    0.037354,    0.036871,    0.036388,    0.036364,    0.036364,    0.036364,    0.036364,    0.036364,    0.036364,    0.036364,    0.036364,    0.036364,    0.036364,    0.036364,    0.036364,    0.036364,    0.036364,\n",
       "           0.036364,    0.036364,    0.036364,    0.036364,    0.036364,    0.036364,    0.036364,    0.036364,    0.036364,    0.036364,    0.036364,    0.036364,    0.036364,    0.036364,    0.036364,    0.036364,    0.036364,    0.036364,    0.036364,    0.036107,    0.034946,    0.033785,    0.032624,\n",
       "           0.031463,    0.030303,    0.029142,    0.027981,    0.027273,    0.027273,    0.027273,    0.027273,    0.027273,    0.027273,    0.027273,    0.027273,    0.027273,    0.027273,    0.027273,    0.027273,    0.027273,    0.027273,    0.027273,     0.02602,    0.024562,    0.023103,    0.021645,\n",
       "           0.020186,    0.018728,    0.018182,    0.018182,    0.018182,    0.018182,    0.018182,    0.018182,    0.018182,    0.018182,    0.018182,    0.018182,    0.018182,    0.018182,    0.018182,    0.018182,    0.018182,    0.018182,    0.018182,    0.018182,    0.018182,    0.018182,    0.018182,\n",
       "           0.018182,    0.018182,    0.018182,    0.018182,    0.018182,    0.018182,    0.018182,    0.018182,    0.018182,    0.018182,    0.018182,    0.018182,    0.018182,    0.018182,    0.018182,    0.018182,    0.018182,    0.018182,    0.018182,    0.018182,    0.018182,    0.018182,    0.018182,\n",
       "           0.018182,    0.018182,    0.018182,    0.018182,    0.018182,    0.018182,    0.018182,    0.018182,    0.018182,    0.018182,    0.018182,    0.018182,    0.018182,    0.018182,    0.018182,    0.018182,    0.018182,    0.018182,    0.018182,    0.018182,    0.018182,    0.018182,    0.018182,\n",
       "           0.018182,    0.018182,    0.018182,    0.018182,    0.018182,    0.018182,    0.018182,    0.018182,    0.018182,    0.018182,    0.018182,    0.018182,    0.018182,    0.018182,    0.018182,    0.018182,    0.018108,    0.017675,    0.017243,    0.016811,    0.016379,    0.015947,    0.015514,\n",
       "           0.015082,     0.01465,    0.014218,    0.013785,    0.013353,    0.012921,    0.012489,    0.012056,    0.011624,    0.011192,     0.01076,    0.010327,   0.0098951,   0.0094629,   0.0090909,   0.0090909,   0.0090909,   0.0090909,   0.0090909,   0.0090909,   0.0090909,   0.0090909,   0.0090909,\n",
       "          0.0090909,   0.0090909,   0.0090909,   0.0090909,   0.0090909,   0.0090909,   0.0090909,   0.0090909,   0.0090909,   0.0090909,   0.0090909,   0.0090909,   0.0090909,   0.0090909,   0.0090909,   0.0090909,   0.0090909,   0.0090909,   0.0090909,   0.0090909,   0.0090909,   0.0090909,   0.0090909,\n",
       "          0.0090909,   0.0090909,   0.0090909,   0.0090909,   0.0090909,   0.0090909,   0.0090909,   0.0090909,   0.0090909,   0.0090909,   0.0090909,   0.0090909,   0.0090909,   0.0090909,   0.0090909,   0.0090909,   0.0090909,   0.0090909,   0.0090909,   0.0090909,   0.0090909,   0.0090909,   0.0090909,\n",
       "          0.0090909,   0.0090909,   0.0090909,   0.0090909,   0.0090909,   0.0090909,   0.0090909,           0,           0,           0,           0,           0,           0,           0,           0,           0,           0,           0,           0,           0,           0,           0,           0,\n",
       "                  0,           0,           0,           0,           0,           0,           0,           0,           0,           0,           0,           0,           0,           0,           0,           0,           0,           0,           0,           0,           0,           0,           0,\n",
       "                  0,           0,           0,           0,           0,           0,           0,           0,           0,           0,           0,           0,           0,           0,           0,           0,           0,           0,           0,           0,           0,           0,           0,\n",
       "                  0,           0,           0,           0,           0,           0,           0,           0,           0,           0,           0,           0,           0,           0,           0,           0,           0,           0,           0,           0,           0,           0,           0,\n",
       "                  0,           0,           0,           0,           0,           0,           0,           0,           0,           0,           0,           0,           0,           0,           0,           0,           0,           0,           0,           0,           0,           0,           0,\n",
       "                  0,           0,           0,           0,           0,           0,           0,           0,           0,           0,           0,           0,           0,           0,           0,           0,           0,           0,           0,           0,           0,           0,           0,\n",
       "                  0,           0,           0,           0,           0,           0,           0,           0,           0,           0,           0,           0,           0,           0,           0,           0,           0,           0,           0,           0,           0,           0,           0,\n",
       "                  0,           0,           0,           0,           0,           0,           0,           0,           0,           0,           0,           0,           0,           0,           0,           0,           0,           0,           0,           0,           0,           0,           0,\n",
       "                  0,           0,           0,           0,           0,           0,           0,           0,           0,           0,           0,           0,           0,           0,           0,           0,           0,           0,           0,           0,           0,           0,           0,\n",
       "                  0,           0,           0,           0,           0,           0,           0,           0,           0,           0,           0,           0,           0,           0,           0,           0,           0,           0,           0,           0,           0,           0,           0,\n",
       "                  0,           0,           0,           0,           0,           0,           0,           0,           0,           0,           0,           0,           0,           0,           0,           0,           0,           0,           0,           0,           0,           0,           0,\n",
       "                  0,           0,           0,           0,           0,           0,           0,           0,           0,           0,           0,           0,           0,           0,           0,           0,           0,           0,           0,           0,           0,           0,           0,\n",
       "                  0,           0,           0,           0,           0,           0,           0,           0,           0,           0,           0,           0,           0,           0,           0,           0,           0,           0,           0,           0,           0,           0,           0,\n",
       "                  0,           0,           0,           0,           0,           0,           0,           0,           0,           0,           0,           0,           0,           0,           0,           0,           0,           0,           0,           0,           0,           0,           0,\n",
       "                  0,           0,           0,           0,           0,           0,           0,           0,           0,           0,           0,           0,           0,           0,           0,           0,           0,           0,           0,           0,           0,           0,           0,\n",
       "                  0,           0,           0,           0,           0,           0,           0,           0,           0,           0,           0,           0,           0,           0,           0,           0,           0,           0,           0,           0,           0,           0,           0,\n",
       "                  0,           0,           0,           0,           0,           0,           0,           0,           0,           0,           0,           0,           0,           0,           0,           0,           0,           0,           0,           0,           0,           0,           0,\n",
       "                  0,           0,           0,           0,           0,           0,           0,           0,           0,           0,           0,           0,           0,           0,           0,           0,           0,           0,           0,           0,           0,           0,           0,\n",
       "                  0,           0,           0,           0,           0,           0,           0,           0,           0,           0,           0,           0,           0,           0,           0,           0,           0,           0,           0,           0,           0,           0,           0,\n",
       "                  0,           0,           0,           0,           0,           0,           0,           0,           0,           0,           0]]), 'Confidence', 'Recall'], [array([          0,    0.001001,    0.002002,    0.003003,    0.004004,    0.005005,    0.006006,    0.007007,    0.008008,    0.009009,     0.01001,    0.011011,    0.012012,    0.013013,    0.014014,    0.015015,    0.016016,    0.017017,    0.018018,    0.019019,     0.02002,    0.021021,    0.022022,    0.023023,\n",
       "          0.024024,    0.025025,    0.026026,    0.027027,    0.028028,    0.029029,     0.03003,    0.031031,    0.032032,    0.033033,    0.034034,    0.035035,    0.036036,    0.037037,    0.038038,    0.039039,     0.04004,    0.041041,    0.042042,    0.043043,    0.044044,    0.045045,    0.046046,    0.047047,\n",
       "          0.048048,    0.049049,     0.05005,    0.051051,    0.052052,    0.053053,    0.054054,    0.055055,    0.056056,    0.057057,    0.058058,    0.059059,     0.06006,    0.061061,    0.062062,    0.063063,    0.064064,    0.065065,    0.066066,    0.067067,    0.068068,    0.069069,     0.07007,    0.071071,\n",
       "          0.072072,    0.073073,    0.074074,    0.075075,    0.076076,    0.077077,    0.078078,    0.079079,     0.08008,    0.081081,    0.082082,    0.083083,    0.084084,    0.085085,    0.086086,    0.087087,    0.088088,    0.089089,     0.09009,    0.091091,    0.092092,    0.093093,    0.094094,    0.095095,\n",
       "          0.096096,    0.097097,    0.098098,    0.099099,      0.1001,      0.1011,      0.1021,      0.1031,      0.1041,     0.10511,     0.10611,     0.10711,     0.10811,     0.10911,     0.11011,     0.11111,     0.11211,     0.11311,     0.11411,     0.11512,     0.11612,     0.11712,     0.11812,     0.11912,\n",
       "           0.12012,     0.12112,     0.12212,     0.12312,     0.12412,     0.12513,     0.12613,     0.12713,     0.12813,     0.12913,     0.13013,     0.13113,     0.13213,     0.13313,     0.13413,     0.13514,     0.13614,     0.13714,     0.13814,     0.13914,     0.14014,     0.14114,     0.14214,     0.14314,\n",
       "           0.14414,     0.14515,     0.14615,     0.14715,     0.14815,     0.14915,     0.15015,     0.15115,     0.15215,     0.15315,     0.15415,     0.15516,     0.15616,     0.15716,     0.15816,     0.15916,     0.16016,     0.16116,     0.16216,     0.16316,     0.16416,     0.16517,     0.16617,     0.16717,\n",
       "           0.16817,     0.16917,     0.17017,     0.17117,     0.17217,     0.17317,     0.17417,     0.17518,     0.17618,     0.17718,     0.17818,     0.17918,     0.18018,     0.18118,     0.18218,     0.18318,     0.18418,     0.18519,     0.18619,     0.18719,     0.18819,     0.18919,     0.19019,     0.19119,\n",
       "           0.19219,     0.19319,     0.19419,      0.1952,      0.1962,      0.1972,      0.1982,      0.1992,      0.2002,      0.2012,      0.2022,      0.2032,      0.2042,     0.20521,     0.20621,     0.20721,     0.20821,     0.20921,     0.21021,     0.21121,     0.21221,     0.21321,     0.21421,     0.21522,\n",
       "           0.21622,     0.21722,     0.21822,     0.21922,     0.22022,     0.22122,     0.22222,     0.22322,     0.22422,     0.22523,     0.22623,     0.22723,     0.22823,     0.22923,     0.23023,     0.23123,     0.23223,     0.23323,     0.23423,     0.23524,     0.23624,     0.23724,     0.23824,     0.23924,\n",
       "           0.24024,     0.24124,     0.24224,     0.24324,     0.24424,     0.24525,     0.24625,     0.24725,     0.24825,     0.24925,     0.25025,     0.25125,     0.25225,     0.25325,     0.25425,     0.25526,     0.25626,     0.25726,     0.25826,     0.25926,     0.26026,     0.26126,     0.26226,     0.26326,\n",
       "           0.26426,     0.26527,     0.26627,     0.26727,     0.26827,     0.26927,     0.27027,     0.27127,     0.27227,     0.27327,     0.27427,     0.27528,     0.27628,     0.27728,     0.27828,     0.27928,     0.28028,     0.28128,     0.28228,     0.28328,     0.28428,     0.28529,     0.28629,     0.28729,\n",
       "           0.28829,     0.28929,     0.29029,     0.29129,     0.29229,     0.29329,     0.29429,      0.2953,      0.2963,      0.2973,      0.2983,      0.2993,      0.3003,      0.3013,      0.3023,      0.3033,      0.3043,     0.30531,     0.30631,     0.30731,     0.30831,     0.30931,     0.31031,     0.31131,\n",
       "           0.31231,     0.31331,     0.31431,     0.31532,     0.31632,     0.31732,     0.31832,     0.31932,     0.32032,     0.32132,     0.32232,     0.32332,     0.32432,     0.32533,     0.32633,     0.32733,     0.32833,     0.32933,     0.33033,     0.33133,     0.33233,     0.33333,     0.33433,     0.33534,\n",
       "           0.33634,     0.33734,     0.33834,     0.33934,     0.34034,     0.34134,     0.34234,     0.34334,     0.34434,     0.34535,     0.34635,     0.34735,     0.34835,     0.34935,     0.35035,     0.35135,     0.35235,     0.35335,     0.35435,     0.35536,     0.35636,     0.35736,     0.35836,     0.35936,\n",
       "           0.36036,     0.36136,     0.36236,     0.36336,     0.36436,     0.36537,     0.36637,     0.36737,     0.36837,     0.36937,     0.37037,     0.37137,     0.37237,     0.37337,     0.37437,     0.37538,     0.37638,     0.37738,     0.37838,     0.37938,     0.38038,     0.38138,     0.38238,     0.38338,\n",
       "           0.38438,     0.38539,     0.38639,     0.38739,     0.38839,     0.38939,     0.39039,     0.39139,     0.39239,     0.39339,     0.39439,      0.3954,      0.3964,      0.3974,      0.3984,      0.3994,      0.4004,      0.4014,      0.4024,      0.4034,      0.4044,     0.40541,     0.40641,     0.40741,\n",
       "           0.40841,     0.40941,     0.41041,     0.41141,     0.41241,     0.41341,     0.41441,     0.41542,     0.41642,     0.41742,     0.41842,     0.41942,     0.42042,     0.42142,     0.42242,     0.42342,     0.42442,     0.42543,     0.42643,     0.42743,     0.42843,     0.42943,     0.43043,     0.43143,\n",
       "           0.43243,     0.43343,     0.43443,     0.43544,     0.43644,     0.43744,     0.43844,     0.43944,     0.44044,     0.44144,     0.44244,     0.44344,     0.44444,     0.44545,     0.44645,     0.44745,     0.44845,     0.44945,     0.45045,     0.45145,     0.45245,     0.45345,     0.45445,     0.45546,\n",
       "           0.45646,     0.45746,     0.45846,     0.45946,     0.46046,     0.46146,     0.46246,     0.46346,     0.46446,     0.46547,     0.46647,     0.46747,     0.46847,     0.46947,     0.47047,     0.47147,     0.47247,     0.47347,     0.47447,     0.47548,     0.47648,     0.47748,     0.47848,     0.47948,\n",
       "           0.48048,     0.48148,     0.48248,     0.48348,     0.48448,     0.48549,     0.48649,     0.48749,     0.48849,     0.48949,     0.49049,     0.49149,     0.49249,     0.49349,     0.49449,      0.4955,      0.4965,      0.4975,      0.4985,      0.4995,      0.5005,      0.5015,      0.5025,      0.5035,\n",
       "            0.5045,     0.50551,     0.50651,     0.50751,     0.50851,     0.50951,     0.51051,     0.51151,     0.51251,     0.51351,     0.51451,     0.51552,     0.51652,     0.51752,     0.51852,     0.51952,     0.52052,     0.52152,     0.52252,     0.52352,     0.52452,     0.52553,     0.52653,     0.52753,\n",
       "           0.52853,     0.52953,     0.53053,     0.53153,     0.53253,     0.53353,     0.53453,     0.53554,     0.53654,     0.53754,     0.53854,     0.53954,     0.54054,     0.54154,     0.54254,     0.54354,     0.54454,     0.54555,     0.54655,     0.54755,     0.54855,     0.54955,     0.55055,     0.55155,\n",
       "           0.55255,     0.55355,     0.55455,     0.55556,     0.55656,     0.55756,     0.55856,     0.55956,     0.56056,     0.56156,     0.56256,     0.56356,     0.56456,     0.56557,     0.56657,     0.56757,     0.56857,     0.56957,     0.57057,     0.57157,     0.57257,     0.57357,     0.57457,     0.57558,\n",
       "           0.57658,     0.57758,     0.57858,     0.57958,     0.58058,     0.58158,     0.58258,     0.58358,     0.58458,     0.58559,     0.58659,     0.58759,     0.58859,     0.58959,     0.59059,     0.59159,     0.59259,     0.59359,     0.59459,      0.5956,      0.5966,      0.5976,      0.5986,      0.5996,\n",
       "            0.6006,      0.6016,      0.6026,      0.6036,      0.6046,     0.60561,     0.60661,     0.60761,     0.60861,     0.60961,     0.61061,     0.61161,     0.61261,     0.61361,     0.61461,     0.61562,     0.61662,     0.61762,     0.61862,     0.61962,     0.62062,     0.62162,     0.62262,     0.62362,\n",
       "           0.62462,     0.62563,     0.62663,     0.62763,     0.62863,     0.62963,     0.63063,     0.63163,     0.63263,     0.63363,     0.63463,     0.63564,     0.63664,     0.63764,     0.63864,     0.63964,     0.64064,     0.64164,     0.64264,     0.64364,     0.64464,     0.64565,     0.64665,     0.64765,\n",
       "           0.64865,     0.64965,     0.65065,     0.65165,     0.65265,     0.65365,     0.65465,     0.65566,     0.65666,     0.65766,     0.65866,     0.65966,     0.66066,     0.66166,     0.66266,     0.66366,     0.66466,     0.66567,     0.66667,     0.66767,     0.66867,     0.66967,     0.67067,     0.67167,\n",
       "           0.67267,     0.67367,     0.67467,     0.67568,     0.67668,     0.67768,     0.67868,     0.67968,     0.68068,     0.68168,     0.68268,     0.68368,     0.68468,     0.68569,     0.68669,     0.68769,     0.68869,     0.68969,     0.69069,     0.69169,     0.69269,     0.69369,     0.69469,      0.6957,\n",
       "            0.6967,      0.6977,      0.6987,      0.6997,      0.7007,      0.7017,      0.7027,      0.7037,      0.7047,     0.70571,     0.70671,     0.70771,     0.70871,     0.70971,     0.71071,     0.71171,     0.71271,     0.71371,     0.71471,     0.71572,     0.71672,     0.71772,     0.71872,     0.71972,\n",
       "           0.72072,     0.72172,     0.72272,     0.72372,     0.72472,     0.72573,     0.72673,     0.72773,     0.72873,     0.72973,     0.73073,     0.73173,     0.73273,     0.73373,     0.73473,     0.73574,     0.73674,     0.73774,     0.73874,     0.73974,     0.74074,     0.74174,     0.74274,     0.74374,\n",
       "           0.74474,     0.74575,     0.74675,     0.74775,     0.74875,     0.74975,     0.75075,     0.75175,     0.75275,     0.75375,     0.75475,     0.75576,     0.75676,     0.75776,     0.75876,     0.75976,     0.76076,     0.76176,     0.76276,     0.76376,     0.76476,     0.76577,     0.76677,     0.76777,\n",
       "           0.76877,     0.76977,     0.77077,     0.77177,     0.77277,     0.77377,     0.77477,     0.77578,     0.77678,     0.77778,     0.77878,     0.77978,     0.78078,     0.78178,     0.78278,     0.78378,     0.78478,     0.78579,     0.78679,     0.78779,     0.78879,     0.78979,     0.79079,     0.79179,\n",
       "           0.79279,     0.79379,     0.79479,      0.7958,      0.7968,      0.7978,      0.7988,      0.7998,      0.8008,      0.8018,      0.8028,      0.8038,      0.8048,     0.80581,     0.80681,     0.80781,     0.80881,     0.80981,     0.81081,     0.81181,     0.81281,     0.81381,     0.81481,     0.81582,\n",
       "           0.81682,     0.81782,     0.81882,     0.81982,     0.82082,     0.82182,     0.82282,     0.82382,     0.82482,     0.82583,     0.82683,     0.82783,     0.82883,     0.82983,     0.83083,     0.83183,     0.83283,     0.83383,     0.83483,     0.83584,     0.83684,     0.83784,     0.83884,     0.83984,\n",
       "           0.84084,     0.84184,     0.84284,     0.84384,     0.84484,     0.84585,     0.84685,     0.84785,     0.84885,     0.84985,     0.85085,     0.85185,     0.85285,     0.85385,     0.85485,     0.85586,     0.85686,     0.85786,     0.85886,     0.85986,     0.86086,     0.86186,     0.86286,     0.86386,\n",
       "           0.86486,     0.86587,     0.86687,     0.86787,     0.86887,     0.86987,     0.87087,     0.87187,     0.87287,     0.87387,     0.87487,     0.87588,     0.87688,     0.87788,     0.87888,     0.87988,     0.88088,     0.88188,     0.88288,     0.88388,     0.88488,     0.88589,     0.88689,     0.88789,\n",
       "           0.88889,     0.88989,     0.89089,     0.89189,     0.89289,     0.89389,     0.89489,      0.8959,      0.8969,      0.8979,      0.8989,      0.8999,      0.9009,      0.9019,      0.9029,      0.9039,      0.9049,     0.90591,     0.90691,     0.90791,     0.90891,     0.90991,     0.91091,     0.91191,\n",
       "           0.91291,     0.91391,     0.91491,     0.91592,     0.91692,     0.91792,     0.91892,     0.91992,     0.92092,     0.92192,     0.92292,     0.92392,     0.92492,     0.92593,     0.92693,     0.92793,     0.92893,     0.92993,     0.93093,     0.93193,     0.93293,     0.93393,     0.93493,     0.93594,\n",
       "           0.93694,     0.93794,     0.93894,     0.93994,     0.94094,     0.94194,     0.94294,     0.94394,     0.94494,     0.94595,     0.94695,     0.94795,     0.94895,     0.94995,     0.95095,     0.95195,     0.95295,     0.95395,     0.95495,     0.95596,     0.95696,     0.95796,     0.95896,     0.95996,\n",
       "           0.96096,     0.96196,     0.96296,     0.96396,     0.96496,     0.96597,     0.96697,     0.96797,     0.96897,     0.96997,     0.97097,     0.97197,     0.97297,     0.97397,     0.97497,     0.97598,     0.97698,     0.97798,     0.97898,     0.97998,     0.98098,     0.98198,     0.98298,     0.98398,\n",
       "           0.98498,     0.98599,     0.98699,     0.98799,     0.98899,     0.98999,     0.99099,     0.99199,     0.99299,     0.99399,     0.99499,       0.996,       0.997,       0.998,       0.999,           1]), array([[          1,           1,           1,           1,           1,           1,           1,           1,           1,           1,     0.48387,     0.48387,     0.48387,     0.48387,     0.48387,     0.48387,     0.48387,     0.48387,     0.48387,     0.48387,     0.48387,     0.48387,     0.48387,\n",
       "            0.48387,     0.48387,     0.48387,     0.48387,     0.48387,     0.48387,     0.48387,     0.48387,     0.48387,     0.48387,     0.48387,     0.48387,     0.48387,     0.48387,     0.48387,     0.48387,     0.48387,     0.48387,     0.48387,     0.48387,     0.48387,     0.48387,     0.48387,\n",
       "            0.48387,     0.48387,     0.48387,     0.48387,     0.48387,     0.48387,     0.48387,     0.48387,     0.48387,     0.48387,     0.48387,     0.48387,     0.48387,     0.48387,     0.48387,     0.48387,     0.48387,     0.48387,     0.48387,     0.48387,     0.48387,     0.48387,     0.48387,\n",
       "            0.48387,     0.48387,     0.48387,     0.48387,     0.48387,     0.48387,     0.48387,     0.48387,     0.48387,     0.48387,     0.48387,     0.48387,     0.48387,     0.48387,     0.48387,     0.48387,     0.48387,     0.48387,     0.48387,     0.48387,     0.48387,     0.48387,     0.48387,\n",
       "            0.48387,     0.48387,     0.48387,     0.48387,     0.48387,     0.48387,     0.48387,     0.48387,     0.48387,     0.48387,     0.48387,     0.48387,     0.48387,     0.48387,     0.48387,     0.48387,     0.48387,     0.48387,     0.48387,     0.48387,     0.48387,     0.48387,     0.48387,\n",
       "            0.48387,     0.48387,     0.48387,     0.48387,     0.48387,     0.48387,     0.48387,     0.48387,     0.48387,     0.48387,     0.48387,     0.48387,     0.48387,     0.48387,     0.48387,     0.48387,     0.48387,     0.48387,     0.48387,     0.48387,     0.48387,     0.48387,     0.48148,\n",
       "            0.48148,     0.48148,     0.48148,     0.48148,     0.48148,     0.48148,     0.48148,     0.48148,     0.48148,     0.48148,     0.48148,     0.48148,     0.48148,     0.48148,     0.48148,     0.48148,     0.48148,     0.48148,     0.48148,     0.48148,     0.48148,     0.48148,     0.48148,\n",
       "            0.48148,     0.48148,     0.48148,     0.48148,     0.48148,     0.48148,     0.48148,     0.48148,     0.48148,     0.48148,     0.48148,     0.48148,     0.48148,     0.48148,     0.48148,     0.48148,     0.48148,     0.48148,     0.48148,     0.48148,     0.48148,     0.48148,     0.48148,\n",
       "            0.48148,     0.48148,     0.48148,     0.48148,     0.48148,     0.48148,     0.48148,     0.48148,     0.48148,     0.48148,     0.48148,     0.48148,     0.48148,     0.48148,     0.48148,     0.48148,     0.48148,     0.48148,     0.48148,     0.48148,     0.48148,     0.48148,     0.48148,\n",
       "            0.48148,     0.48148,     0.48148,     0.48148,     0.48148,     0.48148,     0.48148,     0.48148,     0.48148,     0.48148,     0.48148,     0.48148,     0.48148,     0.48148,     0.48148,     0.48148,     0.48148,     0.48148,     0.48148,     0.48148,     0.48148,     0.48148,     0.48148,\n",
       "            0.48148,     0.48148,     0.48148,     0.48148,     0.48148,     0.48148,     0.48148,     0.43902,     0.43902,     0.43902,     0.43902,     0.43902,     0.43902,     0.43902,     0.43902,     0.43902,     0.43902,     0.43902,     0.43902,     0.43902,     0.43902,     0.43902,     0.43902,\n",
       "            0.43902,     0.43902,     0.43902,     0.43902,     0.43902,     0.43902,     0.43902,     0.43902,     0.43902,     0.43902,     0.43902,     0.43902,     0.43902,     0.43902,     0.43902,     0.43902,     0.43902,     0.43902,     0.43902,     0.43902,     0.43902,     0.43902,     0.43902,\n",
       "            0.43902,     0.43902,     0.43902,     0.43902,     0.43902,     0.43902,     0.43902,     0.43902,     0.43902,     0.43902,     0.43902,     0.43902,     0.43902,     0.43902,     0.43902,     0.43902,     0.43902,     0.43902,     0.43902,     0.43902,     0.43902,     0.43902,     0.43902,\n",
       "            0.43902,     0.43902,     0.43902,     0.43902,     0.43902,     0.43902,     0.43902,     0.43902,     0.43902,     0.43902,     0.43902,     0.43902,     0.43902,     0.43902,     0.43902,     0.43902,     0.43902,     0.43902,     0.43902,     0.43902,     0.43902,     0.43902,     0.43902,\n",
       "            0.43902,     0.43902,     0.43902,     0.43902,     0.43902,     0.43678,     0.43678,     0.43678,     0.43678,     0.43678,     0.43678,     0.43678,     0.43678,     0.43678,     0.43678,     0.43678,     0.43678,     0.43678,     0.43678,     0.43678,     0.43678,     0.43678,     0.43678,\n",
       "            0.43678,     0.43333,     0.43333,     0.43333,     0.43333,     0.43333,     0.43333,     0.43333,     0.43333,     0.43333,     0.42553,     0.42553,     0.42553,     0.42553,     0.42553,     0.42553,     0.42553,     0.42553,     0.42553,     0.40196,     0.40196,     0.40196,     0.40196,\n",
       "            0.40196,     0.40196,     0.40196,     0.40196,     0.40196,     0.39623,     0.39623,     0.39623,     0.39623,     0.39623,     0.39623,     0.39623,     0.39623,     0.39623,     0.38739,     0.38739,     0.38739,     0.38739,     0.38739,     0.38739,     0.38739,     0.38739,     0.38739,\n",
       "            0.35484,     0.35484,     0.35484,     0.35484,     0.35484,     0.35484,     0.35484,     0.35484,     0.35484,     0.27439,     0.27439,     0.27439,     0.27439,     0.27439,     0.27439,     0.27439,     0.27439,     0.27439,     0.26136,     0.26136,     0.26136,     0.26136,     0.26136,\n",
       "            0.26136,     0.26136,     0.26136,     0.26136,     0.25405,     0.25405,     0.25405,     0.25405,     0.25405,     0.25405,     0.25405,     0.25405,     0.25405,     0.25397,     0.25397,     0.25397,     0.25397,     0.25397,     0.25397,     0.25397,     0.25397,     0.25397,     0.23902,\n",
       "            0.23902,     0.23902,     0.23902,     0.23902,     0.23902,     0.23902,     0.23902,     0.23902,     0.23902,     0.23256,     0.23256,     0.23256,     0.23256,     0.23256,     0.23256,     0.23256,     0.23256,     0.23256,     0.23077,     0.23077,     0.23077,     0.23077,     0.23077,\n",
       "            0.23077,     0.23077,     0.23077,     0.23077,     0.21667,     0.21667,     0.21667,     0.21667,     0.21667,     0.21667,     0.21667,     0.21667,     0.21667,      0.1963,      0.1963,      0.1963,      0.1963,      0.1963,      0.1963,      0.1963,      0.1963,      0.1963,     0.18243,\n",
       "            0.18243,     0.18243,     0.18243,     0.18243,     0.18243,     0.18243,     0.18243,     0.18243,     0.17134,     0.17134,     0.17134,     0.17134,     0.17134,     0.17134,     0.17134,     0.17134,     0.17134,     0.16864,     0.16864,     0.16864,     0.16864,     0.16864,     0.16864,\n",
       "            0.16864,     0.16864,     0.16864,     0.16864,     0.16864,     0.16864,     0.16864,     0.16864,     0.16864,     0.16864,     0.16864,     0.16864,      0.1686,      0.1686,      0.1686,      0.1686,      0.1686,      0.1686,      0.1686,      0.1686,      0.1686,     0.15946,     0.15946,\n",
       "            0.15946,     0.15946,     0.15946,     0.15946,     0.15946,     0.15946,     0.15946,     0.15544,     0.15544,     0.15544,     0.15544,     0.15544,     0.15544,     0.15544,     0.15544,     0.15544,     0.13927,     0.13927,     0.13927,     0.13927,     0.13927,     0.13927,     0.13927,\n",
       "            0.13927,     0.13927,     0.13717,     0.13717,     0.13717,     0.13717,     0.13717,     0.13717,     0.13717,     0.13717,     0.13717,     0.13717,     0.13617,     0.13617,     0.13617,     0.13617,     0.13617,     0.13617,     0.13617,     0.13617,     0.13617,     0.13617,     0.13617,\n",
       "            0.13617,     0.13617,     0.13617,     0.13617,     0.13617,     0.13617,     0.13617,        0.13,        0.13,        0.13,        0.13,        0.13,        0.13,        0.13,        0.13,        0.13,     0.12741,     0.12741,     0.12741,     0.12741,     0.12741,     0.12741,     0.12741,\n",
       "            0.12741,     0.12741,     0.12547,     0.12547,     0.12547,     0.12547,     0.12547,     0.12547,     0.12547,     0.12547,     0.12547,     0.12523,     0.12523,     0.12523,     0.12523,     0.12523,     0.12523,     0.12523,     0.12523,     0.12523,     0.11519,     0.11519,     0.11519,\n",
       "            0.11519,     0.11519,     0.11519,     0.11519,     0.11519,     0.11519,     0.11272,     0.11272,     0.11272,     0.11272,     0.11272,     0.11272,     0.11272,     0.11272,     0.11272,     0.10441,     0.10441,     0.10441,     0.10441,     0.10441,     0.10441,     0.10441,     0.10441,\n",
       "            0.10441,     0.10127,     0.10127,     0.10127,     0.10127,     0.10127,     0.10127,     0.10127,     0.10127,     0.10127,     0.10097,     0.10097,     0.10097,     0.10097,     0.10097,     0.10097,     0.10097,     0.10097,     0.10097,    0.096986,    0.096986,    0.096986,    0.096986,\n",
       "           0.096986,    0.096986,    0.096986,    0.096986,    0.096986,    0.096986,    0.090144,    0.090144,    0.090144,    0.090144,    0.090144,    0.090144,    0.090144,    0.090144,    0.090144,    0.079249,    0.079249,    0.079249,    0.079249,    0.079249,    0.079249,    0.079249,    0.079249,\n",
       "           0.079249,    0.078252,    0.078252,    0.078252,    0.078252,    0.078252,    0.078252,    0.078252,    0.078252,    0.078252,    0.070524,    0.070524,    0.070524,    0.070524,    0.070524,    0.070524,    0.070524,    0.070524,    0.070524,    0.054709,    0.054709,    0.054709,    0.054709,\n",
       "           0.054709,    0.054709,    0.054709,    0.054709,    0.054709,    0.046712,    0.046546,    0.046379,    0.046213,    0.046047,    0.045881,    0.045714,    0.045548,    0.045382,    0.045216,    0.045049,    0.044883,    0.044717,    0.044551,    0.044385,    0.044218,    0.044052,    0.043886,\n",
       "            0.04372,    0.043553,    0.043387,    0.043221,    0.043055,    0.042888,    0.042722,    0.042556,     0.04239,    0.042223,    0.042057,    0.041891,    0.041725,    0.041559,    0.041392,    0.041226,     0.04106,    0.040894,    0.040727,    0.040561,    0.040395,    0.040229,    0.040062,\n",
       "           0.039896,     0.03973,    0.039564,    0.039397,    0.039231,    0.039065,    0.038899,    0.038733,    0.038566,      0.0384,    0.038234,    0.038068,    0.037901,    0.037735,    0.037569,    0.037403,    0.037236,     0.03707,    0.036904,    0.036738,    0.036572,    0.036405,    0.036239,\n",
       "           0.036073,    0.035907,     0.03574,    0.035574,    0.035408,    0.035242,    0.035075,    0.034909,    0.034743,    0.034577,     0.03441,    0.034244,    0.034078,    0.033912,    0.033746,    0.033579,    0.033413,    0.033247,    0.033081,    0.032914,    0.032748,    0.032582,    0.032416,\n",
       "           0.032249,    0.032083,    0.031917,    0.031751,    0.031584,    0.031418,    0.031252,    0.031086,     0.03092,    0.030753,    0.030587,    0.030421,    0.030255,    0.030088,    0.029922,    0.029756,     0.02959,    0.029423,    0.029257,    0.029091,    0.028925,    0.028759,    0.028592,\n",
       "           0.028426,     0.02826,    0.028094,    0.027927,    0.027761,    0.027595,    0.027429,    0.027262,    0.027096,     0.02693,    0.026764,    0.026597,    0.026431,    0.026265,    0.026099,    0.025933,    0.025766,      0.0256,    0.025434,    0.025268,    0.025101,    0.024935,    0.024769,\n",
       "           0.024603,    0.024436,     0.02427,    0.024104,    0.023938,    0.023771,    0.023605,    0.023439,    0.023273,    0.023107,     0.02294,    0.022774,    0.022608,    0.022442,    0.022275,    0.022109,    0.021943,    0.021777,     0.02161,    0.021444,    0.021278,    0.021112,    0.020945,\n",
       "           0.020779,    0.020613,    0.020447,    0.020281,    0.020114,    0.019948,    0.019782,    0.019616,    0.019449,    0.019283,    0.019117,    0.018951,    0.018784,    0.018618,    0.018452,    0.018286,     0.01812,    0.017953,    0.017787,    0.017621,    0.017455,    0.017288,    0.017122,\n",
       "           0.016956,     0.01679,    0.016623,    0.016457,    0.016291,    0.016125,    0.015958,    0.015792,    0.015626,     0.01546,    0.015294,    0.015127,    0.014961,    0.014795,    0.014629,    0.014462,    0.014296,     0.01413,    0.013964,    0.013797,    0.013631,    0.013465,    0.013299,\n",
       "           0.013132,    0.012966,      0.0128,    0.012634,    0.012468,    0.012301,    0.012135,    0.011969,    0.011803,    0.011636,     0.01147,    0.011304,    0.011138,    0.010971,    0.010805,    0.010639,    0.010473,    0.010307,     0.01014,    0.009974,   0.0098078,   0.0096416,   0.0094753,\n",
       "          0.0093091,   0.0091429,   0.0089766,   0.0088104,   0.0086442,   0.0084779,   0.0083117,   0.0081455,   0.0079792,    0.007813,   0.0076468,   0.0074805,   0.0073143,   0.0071481,   0.0069818,   0.0068156,   0.0066494,   0.0064831,   0.0063169,   0.0061507,   0.0059844,   0.0058182,    0.005652,\n",
       "          0.0054857,   0.0053195,   0.0051533,    0.004987,   0.0048208,   0.0046546,   0.0044883,   0.0043221,   0.0041559,   0.0039896,   0.0038234,   0.0036572,   0.0034909,   0.0033247,   0.0031584,   0.0029922,    0.002826,   0.0026597,   0.0024935,   0.0023273,    0.002161,   0.0019948,   0.0018286,\n",
       "          0.0016623,   0.0014961,   0.0013299,   0.0011636,   0.0009974,  0.00083117,  0.00066494,   0.0004987,  0.00033247,  0.00016623,           0]]), 'Recall', 'Precision'], [array([          0,    0.001001,    0.002002,    0.003003,    0.004004,    0.005005,    0.006006,    0.007007,    0.008008,    0.009009,     0.01001,    0.011011,    0.012012,    0.013013,    0.014014,    0.015015,    0.016016,    0.017017,    0.018018,    0.019019,     0.02002,    0.021021,    0.022022,    0.023023,\n",
       "          0.024024,    0.025025,    0.026026,    0.027027,    0.028028,    0.029029,     0.03003,    0.031031,    0.032032,    0.033033,    0.034034,    0.035035,    0.036036,    0.037037,    0.038038,    0.039039,     0.04004,    0.041041,    0.042042,    0.043043,    0.044044,    0.045045,    0.046046,    0.047047,\n",
       "          0.048048,    0.049049,     0.05005,    0.051051,    0.052052,    0.053053,    0.054054,    0.055055,    0.056056,    0.057057,    0.058058,    0.059059,     0.06006,    0.061061,    0.062062,    0.063063,    0.064064,    0.065065,    0.066066,    0.067067,    0.068068,    0.069069,     0.07007,    0.071071,\n",
       "          0.072072,    0.073073,    0.074074,    0.075075,    0.076076,    0.077077,    0.078078,    0.079079,     0.08008,    0.081081,    0.082082,    0.083083,    0.084084,    0.085085,    0.086086,    0.087087,    0.088088,    0.089089,     0.09009,    0.091091,    0.092092,    0.093093,    0.094094,    0.095095,\n",
       "          0.096096,    0.097097,    0.098098,    0.099099,      0.1001,      0.1011,      0.1021,      0.1031,      0.1041,     0.10511,     0.10611,     0.10711,     0.10811,     0.10911,     0.11011,     0.11111,     0.11211,     0.11311,     0.11411,     0.11512,     0.11612,     0.11712,     0.11812,     0.11912,\n",
       "           0.12012,     0.12112,     0.12212,     0.12312,     0.12412,     0.12513,     0.12613,     0.12713,     0.12813,     0.12913,     0.13013,     0.13113,     0.13213,     0.13313,     0.13413,     0.13514,     0.13614,     0.13714,     0.13814,     0.13914,     0.14014,     0.14114,     0.14214,     0.14314,\n",
       "           0.14414,     0.14515,     0.14615,     0.14715,     0.14815,     0.14915,     0.15015,     0.15115,     0.15215,     0.15315,     0.15415,     0.15516,     0.15616,     0.15716,     0.15816,     0.15916,     0.16016,     0.16116,     0.16216,     0.16316,     0.16416,     0.16517,     0.16617,     0.16717,\n",
       "           0.16817,     0.16917,     0.17017,     0.17117,     0.17217,     0.17317,     0.17417,     0.17518,     0.17618,     0.17718,     0.17818,     0.17918,     0.18018,     0.18118,     0.18218,     0.18318,     0.18418,     0.18519,     0.18619,     0.18719,     0.18819,     0.18919,     0.19019,     0.19119,\n",
       "           0.19219,     0.19319,     0.19419,      0.1952,      0.1962,      0.1972,      0.1982,      0.1992,      0.2002,      0.2012,      0.2022,      0.2032,      0.2042,     0.20521,     0.20621,     0.20721,     0.20821,     0.20921,     0.21021,     0.21121,     0.21221,     0.21321,     0.21421,     0.21522,\n",
       "           0.21622,     0.21722,     0.21822,     0.21922,     0.22022,     0.22122,     0.22222,     0.22322,     0.22422,     0.22523,     0.22623,     0.22723,     0.22823,     0.22923,     0.23023,     0.23123,     0.23223,     0.23323,     0.23423,     0.23524,     0.23624,     0.23724,     0.23824,     0.23924,\n",
       "           0.24024,     0.24124,     0.24224,     0.24324,     0.24424,     0.24525,     0.24625,     0.24725,     0.24825,     0.24925,     0.25025,     0.25125,     0.25225,     0.25325,     0.25425,     0.25526,     0.25626,     0.25726,     0.25826,     0.25926,     0.26026,     0.26126,     0.26226,     0.26326,\n",
       "           0.26426,     0.26527,     0.26627,     0.26727,     0.26827,     0.26927,     0.27027,     0.27127,     0.27227,     0.27327,     0.27427,     0.27528,     0.27628,     0.27728,     0.27828,     0.27928,     0.28028,     0.28128,     0.28228,     0.28328,     0.28428,     0.28529,     0.28629,     0.28729,\n",
       "           0.28829,     0.28929,     0.29029,     0.29129,     0.29229,     0.29329,     0.29429,      0.2953,      0.2963,      0.2973,      0.2983,      0.2993,      0.3003,      0.3013,      0.3023,      0.3033,      0.3043,     0.30531,     0.30631,     0.30731,     0.30831,     0.30931,     0.31031,     0.31131,\n",
       "           0.31231,     0.31331,     0.31431,     0.31532,     0.31632,     0.31732,     0.31832,     0.31932,     0.32032,     0.32132,     0.32232,     0.32332,     0.32432,     0.32533,     0.32633,     0.32733,     0.32833,     0.32933,     0.33033,     0.33133,     0.33233,     0.33333,     0.33433,     0.33534,\n",
       "           0.33634,     0.33734,     0.33834,     0.33934,     0.34034,     0.34134,     0.34234,     0.34334,     0.34434,     0.34535,     0.34635,     0.34735,     0.34835,     0.34935,     0.35035,     0.35135,     0.35235,     0.35335,     0.35435,     0.35536,     0.35636,     0.35736,     0.35836,     0.35936,\n",
       "           0.36036,     0.36136,     0.36236,     0.36336,     0.36436,     0.36537,     0.36637,     0.36737,     0.36837,     0.36937,     0.37037,     0.37137,     0.37237,     0.37337,     0.37437,     0.37538,     0.37638,     0.37738,     0.37838,     0.37938,     0.38038,     0.38138,     0.38238,     0.38338,\n",
       "           0.38438,     0.38539,     0.38639,     0.38739,     0.38839,     0.38939,     0.39039,     0.39139,     0.39239,     0.39339,     0.39439,      0.3954,      0.3964,      0.3974,      0.3984,      0.3994,      0.4004,      0.4014,      0.4024,      0.4034,      0.4044,     0.40541,     0.40641,     0.40741,\n",
       "           0.40841,     0.40941,     0.41041,     0.41141,     0.41241,     0.41341,     0.41441,     0.41542,     0.41642,     0.41742,     0.41842,     0.41942,     0.42042,     0.42142,     0.42242,     0.42342,     0.42442,     0.42543,     0.42643,     0.42743,     0.42843,     0.42943,     0.43043,     0.43143,\n",
       "           0.43243,     0.43343,     0.43443,     0.43544,     0.43644,     0.43744,     0.43844,     0.43944,     0.44044,     0.44144,     0.44244,     0.44344,     0.44444,     0.44545,     0.44645,     0.44745,     0.44845,     0.44945,     0.45045,     0.45145,     0.45245,     0.45345,     0.45445,     0.45546,\n",
       "           0.45646,     0.45746,     0.45846,     0.45946,     0.46046,     0.46146,     0.46246,     0.46346,     0.46446,     0.46547,     0.46647,     0.46747,     0.46847,     0.46947,     0.47047,     0.47147,     0.47247,     0.47347,     0.47447,     0.47548,     0.47648,     0.47748,     0.47848,     0.47948,\n",
       "           0.48048,     0.48148,     0.48248,     0.48348,     0.48448,     0.48549,     0.48649,     0.48749,     0.48849,     0.48949,     0.49049,     0.49149,     0.49249,     0.49349,     0.49449,      0.4955,      0.4965,      0.4975,      0.4985,      0.4995,      0.5005,      0.5015,      0.5025,      0.5035,\n",
       "            0.5045,     0.50551,     0.50651,     0.50751,     0.50851,     0.50951,     0.51051,     0.51151,     0.51251,     0.51351,     0.51451,     0.51552,     0.51652,     0.51752,     0.51852,     0.51952,     0.52052,     0.52152,     0.52252,     0.52352,     0.52452,     0.52553,     0.52653,     0.52753,\n",
       "           0.52853,     0.52953,     0.53053,     0.53153,     0.53253,     0.53353,     0.53453,     0.53554,     0.53654,     0.53754,     0.53854,     0.53954,     0.54054,     0.54154,     0.54254,     0.54354,     0.54454,     0.54555,     0.54655,     0.54755,     0.54855,     0.54955,     0.55055,     0.55155,\n",
       "           0.55255,     0.55355,     0.55455,     0.55556,     0.55656,     0.55756,     0.55856,     0.55956,     0.56056,     0.56156,     0.56256,     0.56356,     0.56456,     0.56557,     0.56657,     0.56757,     0.56857,     0.56957,     0.57057,     0.57157,     0.57257,     0.57357,     0.57457,     0.57558,\n",
       "           0.57658,     0.57758,     0.57858,     0.57958,     0.58058,     0.58158,     0.58258,     0.58358,     0.58458,     0.58559,     0.58659,     0.58759,     0.58859,     0.58959,     0.59059,     0.59159,     0.59259,     0.59359,     0.59459,      0.5956,      0.5966,      0.5976,      0.5986,      0.5996,\n",
       "            0.6006,      0.6016,      0.6026,      0.6036,      0.6046,     0.60561,     0.60661,     0.60761,     0.60861,     0.60961,     0.61061,     0.61161,     0.61261,     0.61361,     0.61461,     0.61562,     0.61662,     0.61762,     0.61862,     0.61962,     0.62062,     0.62162,     0.62262,     0.62362,\n",
       "           0.62462,     0.62563,     0.62663,     0.62763,     0.62863,     0.62963,     0.63063,     0.63163,     0.63263,     0.63363,     0.63463,     0.63564,     0.63664,     0.63764,     0.63864,     0.63964,     0.64064,     0.64164,     0.64264,     0.64364,     0.64464,     0.64565,     0.64665,     0.64765,\n",
       "           0.64865,     0.64965,     0.65065,     0.65165,     0.65265,     0.65365,     0.65465,     0.65566,     0.65666,     0.65766,     0.65866,     0.65966,     0.66066,     0.66166,     0.66266,     0.66366,     0.66466,     0.66567,     0.66667,     0.66767,     0.66867,     0.66967,     0.67067,     0.67167,\n",
       "           0.67267,     0.67367,     0.67467,     0.67568,     0.67668,     0.67768,     0.67868,     0.67968,     0.68068,     0.68168,     0.68268,     0.68368,     0.68468,     0.68569,     0.68669,     0.68769,     0.68869,     0.68969,     0.69069,     0.69169,     0.69269,     0.69369,     0.69469,      0.6957,\n",
       "            0.6967,      0.6977,      0.6987,      0.6997,      0.7007,      0.7017,      0.7027,      0.7037,      0.7047,     0.70571,     0.70671,     0.70771,     0.70871,     0.70971,     0.71071,     0.71171,     0.71271,     0.71371,     0.71471,     0.71572,     0.71672,     0.71772,     0.71872,     0.71972,\n",
       "           0.72072,     0.72172,     0.72272,     0.72372,     0.72472,     0.72573,     0.72673,     0.72773,     0.72873,     0.72973,     0.73073,     0.73173,     0.73273,     0.73373,     0.73473,     0.73574,     0.73674,     0.73774,     0.73874,     0.73974,     0.74074,     0.74174,     0.74274,     0.74374,\n",
       "           0.74474,     0.74575,     0.74675,     0.74775,     0.74875,     0.74975,     0.75075,     0.75175,     0.75275,     0.75375,     0.75475,     0.75576,     0.75676,     0.75776,     0.75876,     0.75976,     0.76076,     0.76176,     0.76276,     0.76376,     0.76476,     0.76577,     0.76677,     0.76777,\n",
       "           0.76877,     0.76977,     0.77077,     0.77177,     0.77277,     0.77377,     0.77477,     0.77578,     0.77678,     0.77778,     0.77878,     0.77978,     0.78078,     0.78178,     0.78278,     0.78378,     0.78478,     0.78579,     0.78679,     0.78779,     0.78879,     0.78979,     0.79079,     0.79179,\n",
       "           0.79279,     0.79379,     0.79479,      0.7958,      0.7968,      0.7978,      0.7988,      0.7998,      0.8008,      0.8018,      0.8028,      0.8038,      0.8048,     0.80581,     0.80681,     0.80781,     0.80881,     0.80981,     0.81081,     0.81181,     0.81281,     0.81381,     0.81481,     0.81582,\n",
       "           0.81682,     0.81782,     0.81882,     0.81982,     0.82082,     0.82182,     0.82282,     0.82382,     0.82482,     0.82583,     0.82683,     0.82783,     0.82883,     0.82983,     0.83083,     0.83183,     0.83283,     0.83383,     0.83483,     0.83584,     0.83684,     0.83784,     0.83884,     0.83984,\n",
       "           0.84084,     0.84184,     0.84284,     0.84384,     0.84484,     0.84585,     0.84685,     0.84785,     0.84885,     0.84985,     0.85085,     0.85185,     0.85285,     0.85385,     0.85485,     0.85586,     0.85686,     0.85786,     0.85886,     0.85986,     0.86086,     0.86186,     0.86286,     0.86386,\n",
       "           0.86486,     0.86587,     0.86687,     0.86787,     0.86887,     0.86987,     0.87087,     0.87187,     0.87287,     0.87387,     0.87487,     0.87588,     0.87688,     0.87788,     0.87888,     0.87988,     0.88088,     0.88188,     0.88288,     0.88388,     0.88488,     0.88589,     0.88689,     0.88789,\n",
       "           0.88889,     0.88989,     0.89089,     0.89189,     0.89289,     0.89389,     0.89489,      0.8959,      0.8969,      0.8979,      0.8989,      0.8999,      0.9009,      0.9019,      0.9029,      0.9039,      0.9049,     0.90591,     0.90691,     0.90791,     0.90891,     0.90991,     0.91091,     0.91191,\n",
       "           0.91291,     0.91391,     0.91491,     0.91592,     0.91692,     0.91792,     0.91892,     0.91992,     0.92092,     0.92192,     0.92292,     0.92392,     0.92492,     0.92593,     0.92693,     0.92793,     0.92893,     0.92993,     0.93093,     0.93193,     0.93293,     0.93393,     0.93493,     0.93594,\n",
       "           0.93694,     0.93794,     0.93894,     0.93994,     0.94094,     0.94194,     0.94294,     0.94394,     0.94494,     0.94595,     0.94695,     0.94795,     0.94895,     0.94995,     0.95095,     0.95195,     0.95295,     0.95395,     0.95495,     0.95596,     0.95696,     0.95796,     0.95896,     0.95996,\n",
       "           0.96096,     0.96196,     0.96296,     0.96396,     0.96496,     0.96597,     0.96697,     0.96797,     0.96897,     0.96997,     0.97097,     0.97197,     0.97297,     0.97397,     0.97497,     0.97598,     0.97698,     0.97798,     0.97898,     0.97998,     0.98098,     0.98198,     0.98298,     0.98398,\n",
       "           0.98498,     0.98599,     0.98699,     0.98799,     0.98899,     0.98999,     0.99099,     0.99199,     0.99299,     0.99399,     0.99499,       0.996,       0.997,       0.998,       0.999,           1]), array([[   0.087875,    0.087875,     0.12856,     0.15461,     0.17451,     0.18835,     0.20308,     0.21053,     0.22018,     0.22082,     0.23077,     0.23782,     0.24031,     0.24613,     0.25333,     0.25233,     0.25321,     0.25881,     0.26599,     0.26715,     0.27063,     0.27507,     0.27474,\n",
       "            0.27876,     0.28353,     0.28414,     0.29016,     0.29323,     0.29345,     0.29744,     0.30504,      0.3044,     0.30309,     0.30647,     0.30913,     0.30948,     0.31321,     0.31726,     0.31969,     0.31659,     0.31864,     0.31493,     0.31719,     0.32098,     0.31977,     0.31628,\n",
       "             0.3172,     0.32144,     0.32459,     0.32772,     0.32401,      0.3263,     0.32761,     0.32905,     0.33137,     0.33427,     0.33726,     0.34127,     0.34207,     0.34387,     0.34795,     0.34851,     0.34906,     0.35268,     0.35778,     0.35899,     0.36131,     0.36461,     0.36554,\n",
       "            0.36606,     0.36657,     0.36701,     0.36744,     0.36786,     0.36848,     0.36993,     0.37337,     0.37456,      0.3749,     0.37524,     0.37558,     0.37593,     0.37228,     0.36954,     0.37041,     0.37119,     0.37193,     0.37269,     0.37348,     0.37623,     0.37808,     0.37923,\n",
       "            0.38027,     0.38394,     0.38598,     0.38672,     0.38587,     0.38738,     0.38876,     0.38744,     0.38611,     0.38479,     0.38347,     0.38214,     0.38222,      0.3849,     0.37962,     0.38057,     0.38356,     0.38502,     0.38612,     0.38692,     0.38757,     0.38822,     0.39062,\n",
       "            0.38634,      0.3869,     0.38746,     0.38801,     0.38933,     0.38208,     0.38282,     0.38356,     0.38419,     0.38476,     0.38533,     0.38499,     0.38089,     0.37635,     0.36998,     0.36957,     0.36995,     0.37034,     0.37072,      0.3711,     0.37259,     0.37366,     0.37451,\n",
       "            0.37256,     0.36675,     0.36433,     0.36206,     0.35978,     0.35981,      0.3603,     0.36078,     0.36127,      0.3611,     0.35465,     0.35447,     0.35256,     0.35066,     0.34875,     0.34684,     0.34347,     0.33883,     0.33855,     0.33921,     0.33403,     0.33218,     0.33276,\n",
       "            0.32847,     0.32419,     0.32224,     0.32039,     0.31853,     0.31667,     0.31481,     0.31071,     0.30631,     0.29718,     0.29736,     0.29755,     0.29773,     0.29792,      0.2981,     0.29828,     0.29847,     0.29865,     0.29883,     0.30096,      0.3028,     0.30355,     0.30428,\n",
       "            0.30497,     0.30566,     0.30621,     0.30669,     0.30718,     0.30765,     0.30948,     0.30981,      0.3101,     0.31039,     0.31068,     0.31097,     0.31126,     0.31248,     0.31403,     0.31531,     0.31652,     0.31637,     0.31507,     0.31378,     0.31248,     0.31118,     0.30988,\n",
       "            0.30858,     0.30728,     0.30384,     0.29892,      0.2948,     0.29162,     0.28843,      0.2837,     0.27521,      0.2758,     0.27638,     0.27724,     0.27769,     0.26625,     0.26433,      0.2624,     0.26048,     0.25855,     0.25661,     0.25809,     0.25881,     0.25953,     0.26027,\n",
       "            0.25845,     0.25662,     0.25479,     0.25295,     0.25112,      0.2492,     0.24714,     0.24509,     0.24303,     0.24097,      0.2389,     0.22821,     0.22484,     0.22148,     0.21812,     0.21922,      0.2195,     0.21978,     0.22005,     0.22032,     0.22059,     0.22127,     0.22216,\n",
       "            0.21739,     0.21218,     0.21002,     0.21045,     0.21086,     0.21128,     0.21191,     0.21253,     0.21093,     0.20788,     0.20483,     0.20177,     0.19611,       0.187,     0.18525,     0.18349,     0.18174,     0.17998,     0.17822,     0.17646,      0.1747,     0.17025,     0.16363,\n",
       "            0.16028,     0.15971,     0.15915,     0.15858,     0.15802,     0.15745,     0.15689,     0.15632,     0.15576,     0.15519,     0.15463,     0.15406,     0.15349,     0.15293,     0.15236,      0.1518,     0.15123,     0.15066,      0.1501,     0.14953,     0.14896,     0.14839,     0.14783,\n",
       "            0.14726,     0.14631,     0.14516,     0.14401,     0.14285,      0.1417,     0.14054,     0.13938,     0.13823,     0.13707,     0.13591,     0.13476,      0.1336,     0.13276,     0.13203,     0.13129,     0.13055,     0.12981,     0.12907,     0.12833,     0.12759,     0.12685,     0.12611,\n",
       "            0.12537,     0.12463,     0.12389,     0.12315,     0.12241,     0.12167,     0.12092,     0.12018,     0.11944,     0.11974,     0.12009,     0.12033,     0.12041,     0.12049,     0.12057,     0.12064,     0.12072,      0.1208,     0.12087,     0.12095,     0.12102,      0.1211,     0.12117,\n",
       "            0.12135,     0.12168,     0.12199,     0.12166,     0.12078,      0.1199,     0.11901,     0.11813,     0.11724,     0.11636,     0.11547,     0.11459,      0.1137,     0.11282,     0.11193,     0.11104,     0.11016,     0.10927,     0.10838,     0.10728,     0.10541,     0.10354,     0.10167,\n",
       "           0.099794,     0.09792,    0.096045,    0.094169,    0.093052,    0.093125,    0.093197,    0.093268,    0.093339,     0.09341,    0.093479,    0.093548,    0.093617,    0.093684,    0.093756,    0.093998,    0.094233,    0.094461,    0.081463,    0.077252,     0.07479,    0.072326,    0.069861,\n",
       "           0.067394,    0.064925,    0.064123,    0.064314,    0.064496,    0.064924,    0.060503,    0.054287,    0.049193,    0.049262,    0.049329,    0.049394,    0.049458,     0.04952,     0.04958,    0.049626,    0.049669,    0.049711,    0.049752,    0.049793,    0.049833,    0.049873,    0.049911,\n",
       "            0.04995,    0.049987,    0.048307,    0.045715,    0.043121,    0.040526,    0.037929,     0.03533,    0.033324,    0.032473,    0.031622,     0.03077,    0.029919,    0.029068,    0.028216,    0.027365,    0.026513,    0.025661,     0.02481,    0.023958,    0.023106,    0.022253,    0.021401,\n",
       "           0.020549,    0.019696,    0.018843,     0.01799,    0.017137,    0.016959,    0.016973,    0.016985,    0.016998,     0.01701,    0.017022,    0.017034,    0.017045,    0.017056,    0.017067,    0.017078,    0.017089,    0.017099,    0.017108,    0.017117,    0.017125,    0.017134,    0.017142,\n",
       "           0.017151,    0.017159,    0.017167,    0.017175,    0.017183,     0.01719,    0.017198,    0.017205,    0.017213,     0.01722,    0.017227,    0.017234,    0.017241,    0.017285,    0.017326,    0.017363,    0.017393,    0.017402,     0.01741,    0.017419,    0.017427,    0.017435,    0.017443,\n",
       "           0.017451,    0.017459,    0.017466,    0.017473,     0.01748,    0.017487,    0.017494,    0.017501,    0.017508,    0.017514,     0.01752,    0.017527,    0.017533,    0.017539,    0.017546,    0.017558,     0.01757,    0.017581,    0.017592,    0.017603,    0.017613,    0.017623,    0.017632,\n",
       "           0.017641,     0.01765,    0.017659,    0.017667,    0.017675,    0.017683,    0.017691,    0.017698,    0.017721,    0.017744,    0.017764,    0.017783,      0.0178,    0.017816,     0.01783,    0.017843,    0.017856,    0.017865,    0.017873,    0.017881,    0.017888,    0.017895,    0.017902,\n",
       "           0.017909,    0.017915,    0.017921,    0.017926,    0.017932,    0.017937,    0.017942,    0.017946,    0.017951,    0.017955,     0.01796,    0.017964,    0.017968,    0.017971,    0.017975,    0.017979,    0.017982,    0.017985,    0.017989,    0.017992,    0.017995,    0.017998,       0.018,\n",
       "           0.018003,    0.018006,    0.018008,    0.018011,    0.018013,    0.018016,    0.018018,           0,           0,           0,           0,           0,           0,           0,           0,           0,           0,           0,           0,           0,           0,           0,           0,\n",
       "                  0,           0,           0,           0,           0,           0,           0,           0,           0,           0,           0,           0,           0,           0,           0,           0,           0,           0,           0,           0,           0,           0,           0,\n",
       "                  0,           0,           0,           0,           0,           0,           0,           0,           0,           0,           0,           0,           0,           0,           0,           0,           0,           0,           0,           0,           0,           0,           0,\n",
       "                  0,           0,           0,           0,           0,           0,           0,           0,           0,           0,           0,           0,           0,           0,           0,           0,           0,           0,           0,           0,           0,           0,           0,\n",
       "                  0,           0,           0,           0,           0,           0,           0,           0,           0,           0,           0,           0,           0,           0,           0,           0,           0,           0,           0,           0,           0,           0,           0,\n",
       "                  0,           0,           0,           0,           0,           0,           0,           0,           0,           0,           0,           0,           0,           0,           0,           0,           0,           0,           0,           0,           0,           0,           0,\n",
       "                  0,           0,           0,           0,           0,           0,           0,           0,           0,           0,           0,           0,           0,           0,           0,           0,           0,           0,           0,           0,           0,           0,           0,\n",
       "                  0,           0,           0,           0,           0,           0,           0,           0,           0,           0,           0,           0,           0,           0,           0,           0,           0,           0,           0,           0,           0,           0,           0,\n",
       "                  0,           0,           0,           0,           0,           0,           0,           0,           0,           0,           0,           0,           0,           0,           0,           0,           0,           0,           0,           0,           0,           0,           0,\n",
       "                  0,           0,           0,           0,           0,           0,           0,           0,           0,           0,           0,           0,           0,           0,           0,           0,           0,           0,           0,           0,           0,           0,           0,\n",
       "                  0,           0,           0,           0,           0,           0,           0,           0,           0,           0,           0,           0,           0,           0,           0,           0,           0,           0,           0,           0,           0,           0,           0,\n",
       "                  0,           0,           0,           0,           0,           0,           0,           0,           0,           0,           0,           0,           0,           0,           0,           0,           0,           0,           0,           0,           0,           0,           0,\n",
       "                  0,           0,           0,           0,           0,           0,           0,           0,           0,           0,           0,           0,           0,           0,           0,           0,           0,           0,           0,           0,           0,           0,           0,\n",
       "                  0,           0,           0,           0,           0,           0,           0,           0,           0,           0,           0,           0,           0,           0,           0,           0,           0,           0,           0,           0,           0,           0,           0,\n",
       "                  0,           0,           0,           0,           0,           0,           0,           0,           0,           0,           0,           0,           0,           0,           0,           0,           0,           0,           0,           0,           0,           0,           0,\n",
       "                  0,           0,           0,           0,           0,           0,           0,           0,           0,           0,           0,           0,           0,           0,           0,           0,           0,           0,           0,           0,           0,           0,           0,\n",
       "                  0,           0,           0,           0,           0,           0,           0,           0,           0,           0,           0,           0,           0,           0,           0,           0,           0,           0,           0,           0,           0,           0,           0,\n",
       "                  0,           0,           0,           0,           0,           0,           0,           0,           0,           0,           0,           0,           0,           0,           0,           0,           0,           0,           0,           0,           0,           0,           0,\n",
       "                  0,           0,           0,           0,           0,           0,           0,           0,           0,           0,           0,           0,           0,           0,           0,           0,           0,           0,           0,           0,           0,           0,           0,\n",
       "                  0,           0,           0,           0,           0,           0,           0,           0,           0,           0,           0]]), 'Confidence', 'F1'], [array([          0,    0.001001,    0.002002,    0.003003,    0.004004,    0.005005,    0.006006,    0.007007,    0.008008,    0.009009,     0.01001,    0.011011,    0.012012,    0.013013,    0.014014,    0.015015,    0.016016,    0.017017,    0.018018,    0.019019,     0.02002,    0.021021,    0.022022,    0.023023,\n",
       "          0.024024,    0.025025,    0.026026,    0.027027,    0.028028,    0.029029,     0.03003,    0.031031,    0.032032,    0.033033,    0.034034,    0.035035,    0.036036,    0.037037,    0.038038,    0.039039,     0.04004,    0.041041,    0.042042,    0.043043,    0.044044,    0.045045,    0.046046,    0.047047,\n",
       "          0.048048,    0.049049,     0.05005,    0.051051,    0.052052,    0.053053,    0.054054,    0.055055,    0.056056,    0.057057,    0.058058,    0.059059,     0.06006,    0.061061,    0.062062,    0.063063,    0.064064,    0.065065,    0.066066,    0.067067,    0.068068,    0.069069,     0.07007,    0.071071,\n",
       "          0.072072,    0.073073,    0.074074,    0.075075,    0.076076,    0.077077,    0.078078,    0.079079,     0.08008,    0.081081,    0.082082,    0.083083,    0.084084,    0.085085,    0.086086,    0.087087,    0.088088,    0.089089,     0.09009,    0.091091,    0.092092,    0.093093,    0.094094,    0.095095,\n",
       "          0.096096,    0.097097,    0.098098,    0.099099,      0.1001,      0.1011,      0.1021,      0.1031,      0.1041,     0.10511,     0.10611,     0.10711,     0.10811,     0.10911,     0.11011,     0.11111,     0.11211,     0.11311,     0.11411,     0.11512,     0.11612,     0.11712,     0.11812,     0.11912,\n",
       "           0.12012,     0.12112,     0.12212,     0.12312,     0.12412,     0.12513,     0.12613,     0.12713,     0.12813,     0.12913,     0.13013,     0.13113,     0.13213,     0.13313,     0.13413,     0.13514,     0.13614,     0.13714,     0.13814,     0.13914,     0.14014,     0.14114,     0.14214,     0.14314,\n",
       "           0.14414,     0.14515,     0.14615,     0.14715,     0.14815,     0.14915,     0.15015,     0.15115,     0.15215,     0.15315,     0.15415,     0.15516,     0.15616,     0.15716,     0.15816,     0.15916,     0.16016,     0.16116,     0.16216,     0.16316,     0.16416,     0.16517,     0.16617,     0.16717,\n",
       "           0.16817,     0.16917,     0.17017,     0.17117,     0.17217,     0.17317,     0.17417,     0.17518,     0.17618,     0.17718,     0.17818,     0.17918,     0.18018,     0.18118,     0.18218,     0.18318,     0.18418,     0.18519,     0.18619,     0.18719,     0.18819,     0.18919,     0.19019,     0.19119,\n",
       "           0.19219,     0.19319,     0.19419,      0.1952,      0.1962,      0.1972,      0.1982,      0.1992,      0.2002,      0.2012,      0.2022,      0.2032,      0.2042,     0.20521,     0.20621,     0.20721,     0.20821,     0.20921,     0.21021,     0.21121,     0.21221,     0.21321,     0.21421,     0.21522,\n",
       "           0.21622,     0.21722,     0.21822,     0.21922,     0.22022,     0.22122,     0.22222,     0.22322,     0.22422,     0.22523,     0.22623,     0.22723,     0.22823,     0.22923,     0.23023,     0.23123,     0.23223,     0.23323,     0.23423,     0.23524,     0.23624,     0.23724,     0.23824,     0.23924,\n",
       "           0.24024,     0.24124,     0.24224,     0.24324,     0.24424,     0.24525,     0.24625,     0.24725,     0.24825,     0.24925,     0.25025,     0.25125,     0.25225,     0.25325,     0.25425,     0.25526,     0.25626,     0.25726,     0.25826,     0.25926,     0.26026,     0.26126,     0.26226,     0.26326,\n",
       "           0.26426,     0.26527,     0.26627,     0.26727,     0.26827,     0.26927,     0.27027,     0.27127,     0.27227,     0.27327,     0.27427,     0.27528,     0.27628,     0.27728,     0.27828,     0.27928,     0.28028,     0.28128,     0.28228,     0.28328,     0.28428,     0.28529,     0.28629,     0.28729,\n",
       "           0.28829,     0.28929,     0.29029,     0.29129,     0.29229,     0.29329,     0.29429,      0.2953,      0.2963,      0.2973,      0.2983,      0.2993,      0.3003,      0.3013,      0.3023,      0.3033,      0.3043,     0.30531,     0.30631,     0.30731,     0.30831,     0.30931,     0.31031,     0.31131,\n",
       "           0.31231,     0.31331,     0.31431,     0.31532,     0.31632,     0.31732,     0.31832,     0.31932,     0.32032,     0.32132,     0.32232,     0.32332,     0.32432,     0.32533,     0.32633,     0.32733,     0.32833,     0.32933,     0.33033,     0.33133,     0.33233,     0.33333,     0.33433,     0.33534,\n",
       "           0.33634,     0.33734,     0.33834,     0.33934,     0.34034,     0.34134,     0.34234,     0.34334,     0.34434,     0.34535,     0.34635,     0.34735,     0.34835,     0.34935,     0.35035,     0.35135,     0.35235,     0.35335,     0.35435,     0.35536,     0.35636,     0.35736,     0.35836,     0.35936,\n",
       "           0.36036,     0.36136,     0.36236,     0.36336,     0.36436,     0.36537,     0.36637,     0.36737,     0.36837,     0.36937,     0.37037,     0.37137,     0.37237,     0.37337,     0.37437,     0.37538,     0.37638,     0.37738,     0.37838,     0.37938,     0.38038,     0.38138,     0.38238,     0.38338,\n",
       "           0.38438,     0.38539,     0.38639,     0.38739,     0.38839,     0.38939,     0.39039,     0.39139,     0.39239,     0.39339,     0.39439,      0.3954,      0.3964,      0.3974,      0.3984,      0.3994,      0.4004,      0.4014,      0.4024,      0.4034,      0.4044,     0.40541,     0.40641,     0.40741,\n",
       "           0.40841,     0.40941,     0.41041,     0.41141,     0.41241,     0.41341,     0.41441,     0.41542,     0.41642,     0.41742,     0.41842,     0.41942,     0.42042,     0.42142,     0.42242,     0.42342,     0.42442,     0.42543,     0.42643,     0.42743,     0.42843,     0.42943,     0.43043,     0.43143,\n",
       "           0.43243,     0.43343,     0.43443,     0.43544,     0.43644,     0.43744,     0.43844,     0.43944,     0.44044,     0.44144,     0.44244,     0.44344,     0.44444,     0.44545,     0.44645,     0.44745,     0.44845,     0.44945,     0.45045,     0.45145,     0.45245,     0.45345,     0.45445,     0.45546,\n",
       "           0.45646,     0.45746,     0.45846,     0.45946,     0.46046,     0.46146,     0.46246,     0.46346,     0.46446,     0.46547,     0.46647,     0.46747,     0.46847,     0.46947,     0.47047,     0.47147,     0.47247,     0.47347,     0.47447,     0.47548,     0.47648,     0.47748,     0.47848,     0.47948,\n",
       "           0.48048,     0.48148,     0.48248,     0.48348,     0.48448,     0.48549,     0.48649,     0.48749,     0.48849,     0.48949,     0.49049,     0.49149,     0.49249,     0.49349,     0.49449,      0.4955,      0.4965,      0.4975,      0.4985,      0.4995,      0.5005,      0.5015,      0.5025,      0.5035,\n",
       "            0.5045,     0.50551,     0.50651,     0.50751,     0.50851,     0.50951,     0.51051,     0.51151,     0.51251,     0.51351,     0.51451,     0.51552,     0.51652,     0.51752,     0.51852,     0.51952,     0.52052,     0.52152,     0.52252,     0.52352,     0.52452,     0.52553,     0.52653,     0.52753,\n",
       "           0.52853,     0.52953,     0.53053,     0.53153,     0.53253,     0.53353,     0.53453,     0.53554,     0.53654,     0.53754,     0.53854,     0.53954,     0.54054,     0.54154,     0.54254,     0.54354,     0.54454,     0.54555,     0.54655,     0.54755,     0.54855,     0.54955,     0.55055,     0.55155,\n",
       "           0.55255,     0.55355,     0.55455,     0.55556,     0.55656,     0.55756,     0.55856,     0.55956,     0.56056,     0.56156,     0.56256,     0.56356,     0.56456,     0.56557,     0.56657,     0.56757,     0.56857,     0.56957,     0.57057,     0.57157,     0.57257,     0.57357,     0.57457,     0.57558,\n",
       "           0.57658,     0.57758,     0.57858,     0.57958,     0.58058,     0.58158,     0.58258,     0.58358,     0.58458,     0.58559,     0.58659,     0.58759,     0.58859,     0.58959,     0.59059,     0.59159,     0.59259,     0.59359,     0.59459,      0.5956,      0.5966,      0.5976,      0.5986,      0.5996,\n",
       "            0.6006,      0.6016,      0.6026,      0.6036,      0.6046,     0.60561,     0.60661,     0.60761,     0.60861,     0.60961,     0.61061,     0.61161,     0.61261,     0.61361,     0.61461,     0.61562,     0.61662,     0.61762,     0.61862,     0.61962,     0.62062,     0.62162,     0.62262,     0.62362,\n",
       "           0.62462,     0.62563,     0.62663,     0.62763,     0.62863,     0.62963,     0.63063,     0.63163,     0.63263,     0.63363,     0.63463,     0.63564,     0.63664,     0.63764,     0.63864,     0.63964,     0.64064,     0.64164,     0.64264,     0.64364,     0.64464,     0.64565,     0.64665,     0.64765,\n",
       "           0.64865,     0.64965,     0.65065,     0.65165,     0.65265,     0.65365,     0.65465,     0.65566,     0.65666,     0.65766,     0.65866,     0.65966,     0.66066,     0.66166,     0.66266,     0.66366,     0.66466,     0.66567,     0.66667,     0.66767,     0.66867,     0.66967,     0.67067,     0.67167,\n",
       "           0.67267,     0.67367,     0.67467,     0.67568,     0.67668,     0.67768,     0.67868,     0.67968,     0.68068,     0.68168,     0.68268,     0.68368,     0.68468,     0.68569,     0.68669,     0.68769,     0.68869,     0.68969,     0.69069,     0.69169,     0.69269,     0.69369,     0.69469,      0.6957,\n",
       "            0.6967,      0.6977,      0.6987,      0.6997,      0.7007,      0.7017,      0.7027,      0.7037,      0.7047,     0.70571,     0.70671,     0.70771,     0.70871,     0.70971,     0.71071,     0.71171,     0.71271,     0.71371,     0.71471,     0.71572,     0.71672,     0.71772,     0.71872,     0.71972,\n",
       "           0.72072,     0.72172,     0.72272,     0.72372,     0.72472,     0.72573,     0.72673,     0.72773,     0.72873,     0.72973,     0.73073,     0.73173,     0.73273,     0.73373,     0.73473,     0.73574,     0.73674,     0.73774,     0.73874,     0.73974,     0.74074,     0.74174,     0.74274,     0.74374,\n",
       "           0.74474,     0.74575,     0.74675,     0.74775,     0.74875,     0.74975,     0.75075,     0.75175,     0.75275,     0.75375,     0.75475,     0.75576,     0.75676,     0.75776,     0.75876,     0.75976,     0.76076,     0.76176,     0.76276,     0.76376,     0.76476,     0.76577,     0.76677,     0.76777,\n",
       "           0.76877,     0.76977,     0.77077,     0.77177,     0.77277,     0.77377,     0.77477,     0.77578,     0.77678,     0.77778,     0.77878,     0.77978,     0.78078,     0.78178,     0.78278,     0.78378,     0.78478,     0.78579,     0.78679,     0.78779,     0.78879,     0.78979,     0.79079,     0.79179,\n",
       "           0.79279,     0.79379,     0.79479,      0.7958,      0.7968,      0.7978,      0.7988,      0.7998,      0.8008,      0.8018,      0.8028,      0.8038,      0.8048,     0.80581,     0.80681,     0.80781,     0.80881,     0.80981,     0.81081,     0.81181,     0.81281,     0.81381,     0.81481,     0.81582,\n",
       "           0.81682,     0.81782,     0.81882,     0.81982,     0.82082,     0.82182,     0.82282,     0.82382,     0.82482,     0.82583,     0.82683,     0.82783,     0.82883,     0.82983,     0.83083,     0.83183,     0.83283,     0.83383,     0.83483,     0.83584,     0.83684,     0.83784,     0.83884,     0.83984,\n",
       "           0.84084,     0.84184,     0.84284,     0.84384,     0.84484,     0.84585,     0.84685,     0.84785,     0.84885,     0.84985,     0.85085,     0.85185,     0.85285,     0.85385,     0.85485,     0.85586,     0.85686,     0.85786,     0.85886,     0.85986,     0.86086,     0.86186,     0.86286,     0.86386,\n",
       "           0.86486,     0.86587,     0.86687,     0.86787,     0.86887,     0.86987,     0.87087,     0.87187,     0.87287,     0.87387,     0.87487,     0.87588,     0.87688,     0.87788,     0.87888,     0.87988,     0.88088,     0.88188,     0.88288,     0.88388,     0.88488,     0.88589,     0.88689,     0.88789,\n",
       "           0.88889,     0.88989,     0.89089,     0.89189,     0.89289,     0.89389,     0.89489,      0.8959,      0.8969,      0.8979,      0.8989,      0.8999,      0.9009,      0.9019,      0.9029,      0.9039,      0.9049,     0.90591,     0.90691,     0.90791,     0.90891,     0.90991,     0.91091,     0.91191,\n",
       "           0.91291,     0.91391,     0.91491,     0.91592,     0.91692,     0.91792,     0.91892,     0.91992,     0.92092,     0.92192,     0.92292,     0.92392,     0.92492,     0.92593,     0.92693,     0.92793,     0.92893,     0.92993,     0.93093,     0.93193,     0.93293,     0.93393,     0.93493,     0.93594,\n",
       "           0.93694,     0.93794,     0.93894,     0.93994,     0.94094,     0.94194,     0.94294,     0.94394,     0.94494,     0.94595,     0.94695,     0.94795,     0.94895,     0.94995,     0.95095,     0.95195,     0.95295,     0.95395,     0.95495,     0.95596,     0.95696,     0.95796,     0.95896,     0.95996,\n",
       "           0.96096,     0.96196,     0.96296,     0.96396,     0.96496,     0.96597,     0.96697,     0.96797,     0.96897,     0.96997,     0.97097,     0.97197,     0.97297,     0.97397,     0.97497,     0.97598,     0.97698,     0.97798,     0.97898,     0.97998,     0.98098,     0.98198,     0.98298,     0.98398,\n",
       "           0.98498,     0.98599,     0.98699,     0.98799,     0.98899,     0.98999,     0.99099,     0.99199,     0.99299,     0.99399,     0.99499,       0.996,       0.997,       0.998,       0.999,           1]), array([[   0.046801,    0.046801,    0.070778,    0.087191,     0.10068,     0.11053,      0.1215,     0.12808,     0.13578,     0.13786,     0.14635,     0.15206,     0.15484,     0.16053,     0.16672,     0.16786,     0.16953,     0.17572,     0.18242,     0.18481,     0.18816,     0.19248,     0.19364,\n",
       "            0.19766,     0.20248,     0.20311,     0.20932,     0.21253,     0.21466,     0.21896,      0.2273,     0.22882,     0.22968,     0.23359,     0.23765,     0.23977,     0.24427,     0.24923,     0.25225,     0.25146,     0.25404,     0.25142,     0.25549,     0.26044,        0.26,     0.25749,\n",
       "            0.25902,     0.26472,     0.26903,     0.27335,     0.27115,     0.27553,     0.27741,     0.27947,     0.28284,     0.28709,     0.29153,     0.29758,      0.2988,     0.30155,     0.30789,     0.30876,     0.30962,     0.31538,     0.32361,     0.32561,     0.32945,     0.33497,     0.33655,\n",
       "            0.33742,     0.33829,     0.33905,     0.33978,     0.34051,     0.34157,     0.34407,     0.35006,     0.35216,     0.35276,     0.35337,     0.35398,     0.35458,     0.35199,      0.3504,     0.35196,     0.35337,      0.3547,     0.35609,     0.35753,     0.36262,     0.36606,     0.36823,\n",
       "            0.37019,     0.37722,     0.38117,     0.38263,      0.3849,      0.3931,     0.39613,     0.39511,      0.3941,     0.39308,     0.39206,     0.39105,     0.39221,     0.40049,     0.39708,     0.39915,     0.40578,     0.40908,     0.41157,     0.41338,     0.41487,     0.41636,     0.42194,\n",
       "            0.42439,     0.42575,      0.4271,     0.42845,     0.43168,     0.42739,     0.42925,      0.4311,     0.43271,     0.43416,     0.43561,     0.43615,     0.43288,     0.42927,     0.42413,     0.42442,     0.42544,     0.42645,     0.42746,     0.42848,     0.43247,     0.43537,     0.43768,\n",
       "            0.43704,     0.43231,     0.43031,     0.42843,     0.42656,     0.43045,     0.43184,     0.43324,     0.43463,      0.4354,        0.43,      0.4339,     0.43228,     0.43066,     0.42904,     0.42742,     0.42453,     0.42053,     0.42389,     0.42929,     0.42475,     0.42478,     0.42806,\n",
       "            0.42425,     0.42044,     0.41867,     0.41699,     0.41531,     0.41363,     0.41195,     0.40817,     0.40412,     0.40012,      0.4008,     0.40147,     0.40214,     0.40282,     0.40349,     0.40416,     0.40483,     0.40551,     0.40618,     0.41415,     0.42117,      0.4241,     0.42698,\n",
       "             0.4297,     0.43243,     0.43465,     0.43661,     0.43856,     0.44052,      0.4481,     0.44948,     0.45071,     0.45193,     0.45316,     0.45439,     0.45562,      0.4609,      0.4677,     0.47343,     0.47895,     0.48081,     0.47958,     0.47835,     0.47712,     0.47589,     0.47466,\n",
       "            0.47343,      0.4722,     0.46887,     0.46408,     0.46005,     0.45687,     0.45369,     0.44891,     0.44108,     0.44412,     0.44715,      0.4517,      0.4575,     0.44544,     0.44335,     0.44126,     0.43918,     0.43709,       0.435,      0.4446,     0.44892,     0.45325,     0.46382,\n",
       "            0.46178,     0.45974,      0.4577,     0.45566,     0.45363,     0.45146,     0.44908,     0.44671,     0.44434,     0.44196,     0.43959,     0.43592,     0.43174,     0.42757,     0.42341,      0.4448,      0.4471,      0.4494,      0.4517,     0.45401,     0.45631,     0.46216,     0.47003,\n",
       "            0.46434,     0.45762,     0.45673,     0.46076,      0.4648,     0.46887,     0.47513,      0.4814,     0.48138,     0.47727,     0.47316,     0.46905,     0.46113,     0.44821,     0.44557,     0.44293,      0.4403,     0.43766,     0.43502,     0.43238,     0.42975,     0.42274,     0.41224,\n",
       "            0.40689,     0.40594,     0.40498,     0.40403,     0.40308,     0.40212,     0.40117,     0.40022,     0.39926,     0.39831,     0.39735,      0.3964,     0.39545,     0.39449,     0.39354,     0.39258,     0.39163,     0.39068,     0.38972,     0.38877,     0.38781,     0.38686,     0.38591,\n",
       "            0.38495,     0.38327,      0.3812,     0.37913,     0.37706,     0.37498,     0.37291,     0.37084,     0.36877,     0.36669,     0.36462,     0.36255,     0.36047,     0.35891,     0.35749,     0.35607,     0.35466,     0.35324,     0.35182,     0.35041,     0.34899,     0.34757,     0.34616,\n",
       "            0.34474,     0.34332,     0.34191,     0.34049,     0.33907,     0.33766,     0.33624,     0.33482,     0.33341,     0.33872,     0.34439,     0.34835,     0.34967,     0.35099,     0.35231,     0.35363,     0.35495,     0.35627,     0.35759,     0.35891,     0.36023,     0.36155,     0.36287,\n",
       "            0.36615,     0.37216,     0.37816,     0.37994,     0.37804,     0.37614,     0.37425,     0.37235,     0.37045,     0.36855,     0.36666,     0.36476,     0.36286,     0.36096,     0.35907,     0.35717,     0.35527,     0.35337,     0.35148,     0.34903,     0.34466,      0.3403,     0.33593,\n",
       "            0.33156,     0.32719,     0.32282,     0.31845,     0.31645,     0.31814,     0.31983,     0.32153,     0.32322,     0.32491,      0.3266,      0.3283,     0.32999,     0.33168,     0.33349,     0.33972,     0.34595,     0.35218,      0.3181,     0.30619,     0.29883,     0.29148,     0.28413,\n",
       "            0.27677,     0.26942,     0.27101,     0.27797,     0.28492,     0.30257,     0.29116,     0.26855,     0.25065,     0.25426,     0.25788,     0.26149,     0.26511,     0.26872,     0.27234,      0.2751,     0.27777,     0.28043,     0.28309,     0.28576,     0.28842,     0.29109,     0.29375,\n",
       "            0.29641,     0.29908,     0.29195,     0.27963,     0.26731,     0.25499,     0.24267,     0.23035,     0.22053,     0.21556,     0.21059,     0.20562,     0.20065,     0.19568,     0.19071,     0.18574,     0.18077,      0.1758,     0.17083,     0.16586,     0.16089,     0.15592,     0.15095,\n",
       "            0.14598,     0.14101,     0.13603,     0.13106,     0.12609,     0.12613,     0.12759,     0.12904,      0.1305,     0.13195,     0.13341,     0.13486,     0.13632,     0.13777,     0.13923,     0.14068,     0.14214,     0.14351,     0.14479,     0.14607,     0.14736,     0.14864,     0.14993,\n",
       "            0.15121,      0.1525,     0.15378,     0.15507,     0.15635,     0.15764,     0.15892,     0.16021,     0.16149,     0.16278,     0.16406,     0.16534,     0.16663,     0.17519,     0.18396,     0.19273,     0.20041,     0.20278,     0.20516,     0.20754,     0.20992,     0.21229,     0.21467,\n",
       "            0.21705,     0.21943,      0.2218,     0.22418,     0.22656,     0.22894,     0.23131,     0.23369,     0.23607,     0.23844,     0.24082,      0.2432,     0.24558,     0.24795,     0.25071,     0.25584,     0.26096,     0.26608,      0.2712,     0.27632,     0.28144,     0.28657,     0.29169,\n",
       "            0.29681,     0.30193,     0.30705,     0.31217,      0.3173,     0.32242,     0.32754,     0.33266,     0.34945,     0.36801,     0.38657,     0.40512,     0.42368,     0.44224,      0.4608,     0.47935,     0.49791,     0.51234,     0.52626,     0.54017,     0.55408,     0.56799,      0.5819,\n",
       "            0.59581,     0.60972,     0.62363,     0.63754,     0.65145,     0.66536,     0.67927,     0.69319,      0.7071,     0.72101,     0.73492,     0.74883,     0.76274,     0.77665,     0.79056,     0.80447,     0.81838,     0.83229,     0.84621,     0.86012,     0.87403,     0.88794,     0.90185,\n",
       "            0.91576,     0.92967,     0.94358,     0.95749,      0.9714,     0.98531,     0.99922,           1,           1,           1,           1,           1,           1,           1,           1,           1,           1,           1,           1,           1,           1,           1,           1,\n",
       "                  1,           1,           1,           1,           1,           1,           1,           1,           1,           1,           1,           1,           1,           1,           1,           1,           1,           1,           1,           1,           1,           1,           1,\n",
       "                  1,           1,           1,           1,           1,           1,           1,           1,           1,           1,           1,           1,           1,           1,           1,           1,           1,           1,           1,           1,           1,           1,           1,\n",
       "                  1,           1,           1,           1,           1,           1,           1,           1,           1,           1,           1,           1,           1,           1,           1,           1,           1,           1,           1,           1,           1,           1,           1,\n",
       "                  1,           1,           1,           1,           1,           1,           1,           1,           1,           1,           1,           1,           1,           1,           1,           1,           1,           1,           1,           1,           1,           1,           1,\n",
       "                  1,           1,           1,           1,           1,           1,           1,           1,           1,           1,           1,           1,           1,           1,           1,           1,           1,           1,           1,           1,           1,           1,           1,\n",
       "                  1,           1,           1,           1,           1,           1,           1,           1,           1,           1,           1,           1,           1,           1,           1,           1,           1,           1,           1,           1,           1,           1,           1,\n",
       "                  1,           1,           1,           1,           1,           1,           1,           1,           1,           1,           1,           1,           1,           1,           1,           1,           1,           1,           1,           1,           1,           1,           1,\n",
       "                  1,           1,           1,           1,           1,           1,           1,           1,           1,           1,           1,           1,           1,           1,           1,           1,           1,           1,           1,           1,           1,           1,           1,\n",
       "                  1,           1,           1,           1,           1,           1,           1,           1,           1,           1,           1,           1,           1,           1,           1,           1,           1,           1,           1,           1,           1,           1,           1,\n",
       "                  1,           1,           1,           1,           1,           1,           1,           1,           1,           1,           1,           1,           1,           1,           1,           1,           1,           1,           1,           1,           1,           1,           1,\n",
       "                  1,           1,           1,           1,           1,           1,           1,           1,           1,           1,           1,           1,           1,           1,           1,           1,           1,           1,           1,           1,           1,           1,           1,\n",
       "                  1,           1,           1,           1,           1,           1,           1,           1,           1,           1,           1,           1,           1,           1,           1,           1,           1,           1,           1,           1,           1,           1,           1,\n",
       "                  1,           1,           1,           1,           1,           1,           1,           1,           1,           1,           1,           1,           1,           1,           1,           1,           1,           1,           1,           1,           1,           1,           1,\n",
       "                  1,           1,           1,           1,           1,           1,           1,           1,           1,           1,           1,           1,           1,           1,           1,           1,           1,           1,           1,           1,           1,           1,           1,\n",
       "                  1,           1,           1,           1,           1,           1,           1,           1,           1,           1,           1,           1,           1,           1,           1,           1,           1,           1,           1,           1,           1,           1,           1,\n",
       "                  1,           1,           1,           1,           1,           1,           1,           1,           1,           1,           1,           1,           1,           1,           1,           1,           1,           1,           1,           1,           1,           1,           1,\n",
       "                  1,           1,           1,           1,           1,           1,           1,           1,           1,           1,           1,           1,           1,           1,           1,           1,           1,           1,           1,           1,           1,           1,           1,\n",
       "                  1,           1,           1,           1,           1,           1,           1,           1,           1,           1,           1,           1,           1,           1,           1,           1,           1,           1,           1,           1,           1,           1,           1,\n",
       "                  1,           1,           1,           1,           1,           1,           1,           1,           1,           1,           1]]), 'Confidence', 'Precision'], [array([          0,    0.001001,    0.002002,    0.003003,    0.004004,    0.005005,    0.006006,    0.007007,    0.008008,    0.009009,     0.01001,    0.011011,    0.012012,    0.013013,    0.014014,    0.015015,    0.016016,    0.017017,    0.018018,    0.019019,     0.02002,    0.021021,    0.022022,    0.023023,\n",
       "          0.024024,    0.025025,    0.026026,    0.027027,    0.028028,    0.029029,     0.03003,    0.031031,    0.032032,    0.033033,    0.034034,    0.035035,    0.036036,    0.037037,    0.038038,    0.039039,     0.04004,    0.041041,    0.042042,    0.043043,    0.044044,    0.045045,    0.046046,    0.047047,\n",
       "          0.048048,    0.049049,     0.05005,    0.051051,    0.052052,    0.053053,    0.054054,    0.055055,    0.056056,    0.057057,    0.058058,    0.059059,     0.06006,    0.061061,    0.062062,    0.063063,    0.064064,    0.065065,    0.066066,    0.067067,    0.068068,    0.069069,     0.07007,    0.071071,\n",
       "          0.072072,    0.073073,    0.074074,    0.075075,    0.076076,    0.077077,    0.078078,    0.079079,     0.08008,    0.081081,    0.082082,    0.083083,    0.084084,    0.085085,    0.086086,    0.087087,    0.088088,    0.089089,     0.09009,    0.091091,    0.092092,    0.093093,    0.094094,    0.095095,\n",
       "          0.096096,    0.097097,    0.098098,    0.099099,      0.1001,      0.1011,      0.1021,      0.1031,      0.1041,     0.10511,     0.10611,     0.10711,     0.10811,     0.10911,     0.11011,     0.11111,     0.11211,     0.11311,     0.11411,     0.11512,     0.11612,     0.11712,     0.11812,     0.11912,\n",
       "           0.12012,     0.12112,     0.12212,     0.12312,     0.12412,     0.12513,     0.12613,     0.12713,     0.12813,     0.12913,     0.13013,     0.13113,     0.13213,     0.13313,     0.13413,     0.13514,     0.13614,     0.13714,     0.13814,     0.13914,     0.14014,     0.14114,     0.14214,     0.14314,\n",
       "           0.14414,     0.14515,     0.14615,     0.14715,     0.14815,     0.14915,     0.15015,     0.15115,     0.15215,     0.15315,     0.15415,     0.15516,     0.15616,     0.15716,     0.15816,     0.15916,     0.16016,     0.16116,     0.16216,     0.16316,     0.16416,     0.16517,     0.16617,     0.16717,\n",
       "           0.16817,     0.16917,     0.17017,     0.17117,     0.17217,     0.17317,     0.17417,     0.17518,     0.17618,     0.17718,     0.17818,     0.17918,     0.18018,     0.18118,     0.18218,     0.18318,     0.18418,     0.18519,     0.18619,     0.18719,     0.18819,     0.18919,     0.19019,     0.19119,\n",
       "           0.19219,     0.19319,     0.19419,      0.1952,      0.1962,      0.1972,      0.1982,      0.1992,      0.2002,      0.2012,      0.2022,      0.2032,      0.2042,     0.20521,     0.20621,     0.20721,     0.20821,     0.20921,     0.21021,     0.21121,     0.21221,     0.21321,     0.21421,     0.21522,\n",
       "           0.21622,     0.21722,     0.21822,     0.21922,     0.22022,     0.22122,     0.22222,     0.22322,     0.22422,     0.22523,     0.22623,     0.22723,     0.22823,     0.22923,     0.23023,     0.23123,     0.23223,     0.23323,     0.23423,     0.23524,     0.23624,     0.23724,     0.23824,     0.23924,\n",
       "           0.24024,     0.24124,     0.24224,     0.24324,     0.24424,     0.24525,     0.24625,     0.24725,     0.24825,     0.24925,     0.25025,     0.25125,     0.25225,     0.25325,     0.25425,     0.25526,     0.25626,     0.25726,     0.25826,     0.25926,     0.26026,     0.26126,     0.26226,     0.26326,\n",
       "           0.26426,     0.26527,     0.26627,     0.26727,     0.26827,     0.26927,     0.27027,     0.27127,     0.27227,     0.27327,     0.27427,     0.27528,     0.27628,     0.27728,     0.27828,     0.27928,     0.28028,     0.28128,     0.28228,     0.28328,     0.28428,     0.28529,     0.28629,     0.28729,\n",
       "           0.28829,     0.28929,     0.29029,     0.29129,     0.29229,     0.29329,     0.29429,      0.2953,      0.2963,      0.2973,      0.2983,      0.2993,      0.3003,      0.3013,      0.3023,      0.3033,      0.3043,     0.30531,     0.30631,     0.30731,     0.30831,     0.30931,     0.31031,     0.31131,\n",
       "           0.31231,     0.31331,     0.31431,     0.31532,     0.31632,     0.31732,     0.31832,     0.31932,     0.32032,     0.32132,     0.32232,     0.32332,     0.32432,     0.32533,     0.32633,     0.32733,     0.32833,     0.32933,     0.33033,     0.33133,     0.33233,     0.33333,     0.33433,     0.33534,\n",
       "           0.33634,     0.33734,     0.33834,     0.33934,     0.34034,     0.34134,     0.34234,     0.34334,     0.34434,     0.34535,     0.34635,     0.34735,     0.34835,     0.34935,     0.35035,     0.35135,     0.35235,     0.35335,     0.35435,     0.35536,     0.35636,     0.35736,     0.35836,     0.35936,\n",
       "           0.36036,     0.36136,     0.36236,     0.36336,     0.36436,     0.36537,     0.36637,     0.36737,     0.36837,     0.36937,     0.37037,     0.37137,     0.37237,     0.37337,     0.37437,     0.37538,     0.37638,     0.37738,     0.37838,     0.37938,     0.38038,     0.38138,     0.38238,     0.38338,\n",
       "           0.38438,     0.38539,     0.38639,     0.38739,     0.38839,     0.38939,     0.39039,     0.39139,     0.39239,     0.39339,     0.39439,      0.3954,      0.3964,      0.3974,      0.3984,      0.3994,      0.4004,      0.4014,      0.4024,      0.4034,      0.4044,     0.40541,     0.40641,     0.40741,\n",
       "           0.40841,     0.40941,     0.41041,     0.41141,     0.41241,     0.41341,     0.41441,     0.41542,     0.41642,     0.41742,     0.41842,     0.41942,     0.42042,     0.42142,     0.42242,     0.42342,     0.42442,     0.42543,     0.42643,     0.42743,     0.42843,     0.42943,     0.43043,     0.43143,\n",
       "           0.43243,     0.43343,     0.43443,     0.43544,     0.43644,     0.43744,     0.43844,     0.43944,     0.44044,     0.44144,     0.44244,     0.44344,     0.44444,     0.44545,     0.44645,     0.44745,     0.44845,     0.44945,     0.45045,     0.45145,     0.45245,     0.45345,     0.45445,     0.45546,\n",
       "           0.45646,     0.45746,     0.45846,     0.45946,     0.46046,     0.46146,     0.46246,     0.46346,     0.46446,     0.46547,     0.46647,     0.46747,     0.46847,     0.46947,     0.47047,     0.47147,     0.47247,     0.47347,     0.47447,     0.47548,     0.47648,     0.47748,     0.47848,     0.47948,\n",
       "           0.48048,     0.48148,     0.48248,     0.48348,     0.48448,     0.48549,     0.48649,     0.48749,     0.48849,     0.48949,     0.49049,     0.49149,     0.49249,     0.49349,     0.49449,      0.4955,      0.4965,      0.4975,      0.4985,      0.4995,      0.5005,      0.5015,      0.5025,      0.5035,\n",
       "            0.5045,     0.50551,     0.50651,     0.50751,     0.50851,     0.50951,     0.51051,     0.51151,     0.51251,     0.51351,     0.51451,     0.51552,     0.51652,     0.51752,     0.51852,     0.51952,     0.52052,     0.52152,     0.52252,     0.52352,     0.52452,     0.52553,     0.52653,     0.52753,\n",
       "           0.52853,     0.52953,     0.53053,     0.53153,     0.53253,     0.53353,     0.53453,     0.53554,     0.53654,     0.53754,     0.53854,     0.53954,     0.54054,     0.54154,     0.54254,     0.54354,     0.54454,     0.54555,     0.54655,     0.54755,     0.54855,     0.54955,     0.55055,     0.55155,\n",
       "           0.55255,     0.55355,     0.55455,     0.55556,     0.55656,     0.55756,     0.55856,     0.55956,     0.56056,     0.56156,     0.56256,     0.56356,     0.56456,     0.56557,     0.56657,     0.56757,     0.56857,     0.56957,     0.57057,     0.57157,     0.57257,     0.57357,     0.57457,     0.57558,\n",
       "           0.57658,     0.57758,     0.57858,     0.57958,     0.58058,     0.58158,     0.58258,     0.58358,     0.58458,     0.58559,     0.58659,     0.58759,     0.58859,     0.58959,     0.59059,     0.59159,     0.59259,     0.59359,     0.59459,      0.5956,      0.5966,      0.5976,      0.5986,      0.5996,\n",
       "            0.6006,      0.6016,      0.6026,      0.6036,      0.6046,     0.60561,     0.60661,     0.60761,     0.60861,     0.60961,     0.61061,     0.61161,     0.61261,     0.61361,     0.61461,     0.61562,     0.61662,     0.61762,     0.61862,     0.61962,     0.62062,     0.62162,     0.62262,     0.62362,\n",
       "           0.62462,     0.62563,     0.62663,     0.62763,     0.62863,     0.62963,     0.63063,     0.63163,     0.63263,     0.63363,     0.63463,     0.63564,     0.63664,     0.63764,     0.63864,     0.63964,     0.64064,     0.64164,     0.64264,     0.64364,     0.64464,     0.64565,     0.64665,     0.64765,\n",
       "           0.64865,     0.64965,     0.65065,     0.65165,     0.65265,     0.65365,     0.65465,     0.65566,     0.65666,     0.65766,     0.65866,     0.65966,     0.66066,     0.66166,     0.66266,     0.66366,     0.66466,     0.66567,     0.66667,     0.66767,     0.66867,     0.66967,     0.67067,     0.67167,\n",
       "           0.67267,     0.67367,     0.67467,     0.67568,     0.67668,     0.67768,     0.67868,     0.67968,     0.68068,     0.68168,     0.68268,     0.68368,     0.68468,     0.68569,     0.68669,     0.68769,     0.68869,     0.68969,     0.69069,     0.69169,     0.69269,     0.69369,     0.69469,      0.6957,\n",
       "            0.6967,      0.6977,      0.6987,      0.6997,      0.7007,      0.7017,      0.7027,      0.7037,      0.7047,     0.70571,     0.70671,     0.70771,     0.70871,     0.70971,     0.71071,     0.71171,     0.71271,     0.71371,     0.71471,     0.71572,     0.71672,     0.71772,     0.71872,     0.71972,\n",
       "           0.72072,     0.72172,     0.72272,     0.72372,     0.72472,     0.72573,     0.72673,     0.72773,     0.72873,     0.72973,     0.73073,     0.73173,     0.73273,     0.73373,     0.73473,     0.73574,     0.73674,     0.73774,     0.73874,     0.73974,     0.74074,     0.74174,     0.74274,     0.74374,\n",
       "           0.74474,     0.74575,     0.74675,     0.74775,     0.74875,     0.74975,     0.75075,     0.75175,     0.75275,     0.75375,     0.75475,     0.75576,     0.75676,     0.75776,     0.75876,     0.75976,     0.76076,     0.76176,     0.76276,     0.76376,     0.76476,     0.76577,     0.76677,     0.76777,\n",
       "           0.76877,     0.76977,     0.77077,     0.77177,     0.77277,     0.77377,     0.77477,     0.77578,     0.77678,     0.77778,     0.77878,     0.77978,     0.78078,     0.78178,     0.78278,     0.78378,     0.78478,     0.78579,     0.78679,     0.78779,     0.78879,     0.78979,     0.79079,     0.79179,\n",
       "           0.79279,     0.79379,     0.79479,      0.7958,      0.7968,      0.7978,      0.7988,      0.7998,      0.8008,      0.8018,      0.8028,      0.8038,      0.8048,     0.80581,     0.80681,     0.80781,     0.80881,     0.80981,     0.81081,     0.81181,     0.81281,     0.81381,     0.81481,     0.81582,\n",
       "           0.81682,     0.81782,     0.81882,     0.81982,     0.82082,     0.82182,     0.82282,     0.82382,     0.82482,     0.82583,     0.82683,     0.82783,     0.82883,     0.82983,     0.83083,     0.83183,     0.83283,     0.83383,     0.83483,     0.83584,     0.83684,     0.83784,     0.83884,     0.83984,\n",
       "           0.84084,     0.84184,     0.84284,     0.84384,     0.84484,     0.84585,     0.84685,     0.84785,     0.84885,     0.84985,     0.85085,     0.85185,     0.85285,     0.85385,     0.85485,     0.85586,     0.85686,     0.85786,     0.85886,     0.85986,     0.86086,     0.86186,     0.86286,     0.86386,\n",
       "           0.86486,     0.86587,     0.86687,     0.86787,     0.86887,     0.86987,     0.87087,     0.87187,     0.87287,     0.87387,     0.87487,     0.87588,     0.87688,     0.87788,     0.87888,     0.87988,     0.88088,     0.88188,     0.88288,     0.88388,     0.88488,     0.88589,     0.88689,     0.88789,\n",
       "           0.88889,     0.88989,     0.89089,     0.89189,     0.89289,     0.89389,     0.89489,      0.8959,      0.8969,      0.8979,      0.8989,      0.8999,      0.9009,      0.9019,      0.9029,      0.9039,      0.9049,     0.90591,     0.90691,     0.90791,     0.90891,     0.90991,     0.91091,     0.91191,\n",
       "           0.91291,     0.91391,     0.91491,     0.91592,     0.91692,     0.91792,     0.91892,     0.91992,     0.92092,     0.92192,     0.92292,     0.92392,     0.92492,     0.92593,     0.92693,     0.92793,     0.92893,     0.92993,     0.93093,     0.93193,     0.93293,     0.93393,     0.93493,     0.93594,\n",
       "           0.93694,     0.93794,     0.93894,     0.93994,     0.94094,     0.94194,     0.94294,     0.94394,     0.94494,     0.94595,     0.94695,     0.94795,     0.94895,     0.94995,     0.95095,     0.95195,     0.95295,     0.95395,     0.95495,     0.95596,     0.95696,     0.95796,     0.95896,     0.95996,\n",
       "           0.96096,     0.96196,     0.96296,     0.96396,     0.96496,     0.96597,     0.96697,     0.96797,     0.96897,     0.96997,     0.97097,     0.97197,     0.97297,     0.97397,     0.97497,     0.97598,     0.97698,     0.97798,     0.97898,     0.97998,     0.98098,     0.98198,     0.98298,     0.98398,\n",
       "           0.98498,     0.98599,     0.98699,     0.98799,     0.98899,     0.98999,     0.99099,     0.99199,     0.99299,     0.99399,     0.99499,       0.996,       0.997,       0.998,       0.999,           1]), array([[    0.71818,     0.71818,         0.7,     0.68182,     0.65455,     0.63636,     0.61818,     0.59091,     0.58182,     0.55455,     0.54545,     0.54545,     0.53636,     0.52727,     0.52727,     0.50796,         0.5,     0.49091,     0.49086,     0.48182,     0.48182,     0.48182,     0.47273,\n",
       "            0.47273,     0.47273,     0.47273,     0.47273,     0.47273,     0.46364,     0.46364,     0.46364,     0.45455,     0.44545,     0.44545,      0.4421,     0.43636,     0.43636,     0.43636,     0.43636,     0.42727,     0.42727,     0.42137,     0.41818,     0.41818,     0.41524,     0.40985,\n",
       "            0.40909,     0.40909,     0.40909,     0.40909,     0.40247,         0.4,         0.4,         0.4,         0.4,         0.4,         0.4,         0.4,         0.4,         0.4,         0.4,         0.4,         0.4,         0.4,         0.4,         0.4,         0.4,         0.4,         0.4,\n",
       "                0.4,         0.4,         0.4,         0.4,         0.4,         0.4,         0.4,         0.4,         0.4,         0.4,         0.4,         0.4,         0.4,     0.39506,     0.39091,     0.39091,     0.39091,     0.39091,     0.39091,     0.39091,     0.39091,     0.39091,     0.39091,\n",
       "            0.39091,     0.39091,     0.39091,     0.39091,     0.38684,     0.38182,     0.38166,     0.38005,     0.37845,     0.37684,     0.37524,     0.37363,     0.37273,     0.37048,     0.36364,     0.36364,     0.36364,     0.36364,     0.36364,     0.36364,     0.36364,     0.36364,     0.36364,\n",
       "            0.35455,     0.35455,     0.35455,     0.35455,     0.35455,     0.34545,     0.34545,     0.34545,     0.34545,     0.34545,     0.34545,     0.34457,     0.34004,     0.33505,     0.32809,     0.32727,     0.32727,     0.32727,     0.32727,     0.32727,     0.32727,     0.32727,     0.32727,\n",
       "            0.32466,     0.31846,     0.31589,     0.31349,     0.31109,     0.30909,     0.30909,     0.30909,     0.30909,     0.30847,     0.30177,     0.29962,     0.29767,     0.29572,     0.29377,     0.29182,      0.2884,     0.28371,     0.28182,     0.28038,     0.27524,     0.27273,     0.27216,\n",
       "            0.26798,      0.2638,     0.26191,     0.26012,     0.25833,     0.25654,     0.25475,     0.25082,     0.24663,     0.23636,     0.23636,     0.23636,     0.23636,     0.23636,     0.23636,     0.23636,     0.23636,     0.23636,     0.23636,     0.23636,     0.23636,     0.23636,     0.23636,\n",
       "            0.23636,     0.23636,     0.23636,     0.23636,     0.23636,     0.23636,     0.23636,     0.23636,     0.23636,     0.23636,     0.23636,     0.23636,     0.23636,     0.23636,     0.23636,     0.23636,     0.23636,     0.23574,      0.2346,     0.23346,     0.23231,     0.23117,     0.23003,\n",
       "            0.22888,     0.22774,     0.22474,     0.22046,      0.2169,     0.21416,     0.21142,     0.20738,         0.2,         0.2,         0.2,         0.2,     0.19934,     0.18987,      0.1883,     0.18672,     0.18514,     0.18356,     0.18199,     0.18182,     0.18182,     0.18182,     0.18089,\n",
       "            0.17944,     0.17798,     0.17653,     0.17507,     0.17362,      0.1721,     0.17048,     0.16887,     0.16725,     0.16564,     0.16402,     0.15456,       0.152,     0.14945,      0.1469,     0.14545,     0.14545,     0.14545,     0.14545,     0.14545,     0.14545,     0.14545,     0.14545,\n",
       "            0.14191,     0.13811,     0.13636,     0.13636,     0.13636,     0.13636,     0.13636,     0.13636,     0.13505,     0.13288,     0.13071,     0.12853,     0.12454,     0.11815,     0.11693,     0.11572,      0.1145,     0.11328,     0.11207,     0.11085,     0.10963,     0.10659,     0.10208,\n",
       "           0.099795,    0.099414,    0.099034,    0.098653,    0.098273,    0.097892,    0.097512,    0.097131,    0.096751,     0.09637,     0.09599,    0.095609,    0.095229,    0.094848,    0.094468,    0.094087,    0.093707,    0.093326,    0.092946,    0.092565,    0.092185,    0.091804,    0.091424,\n",
       "           0.091043,    0.090414,    0.089648,    0.088883,    0.088117,    0.087352,    0.086586,    0.085821,    0.085055,     0.08429,    0.083524,    0.082759,    0.081993,    0.081446,    0.080963,     0.08048,    0.079997,    0.079514,    0.079031,    0.078548,    0.078065,    0.077582,    0.077099,\n",
       "           0.076616,    0.076133,     0.07565,    0.075167,    0.074684,    0.074201,    0.073718,    0.073235,    0.072752,    0.072727,    0.072727,    0.072727,    0.072727,    0.072727,    0.072727,    0.072727,    0.072727,    0.072727,    0.072727,    0.072727,    0.072727,    0.072727,    0.072727,\n",
       "           0.072727,    0.072727,    0.072727,    0.072429,    0.071872,    0.071315,    0.070757,      0.0702,    0.069643,    0.069086,    0.068528,    0.067971,    0.067414,    0.066857,    0.066299,    0.065742,    0.065185,    0.064627,     0.06407,    0.063379,    0.062219,    0.061058,    0.059897,\n",
       "           0.058736,    0.057575,    0.056415,    0.055254,    0.054545,    0.054545,    0.054545,    0.054545,    0.054545,    0.054545,    0.054545,    0.054545,    0.054545,    0.054545,    0.054545,    0.054545,    0.054545,    0.054545,    0.046713,    0.044202,    0.042744,    0.041285,    0.039827,\n",
       "           0.038368,     0.03691,    0.036364,    0.036364,    0.036364,    0.036364,    0.033759,    0.030196,    0.027273,    0.027273,    0.027273,    0.027273,    0.027273,    0.027273,    0.027273,    0.027273,    0.027273,    0.027273,    0.027273,    0.027273,    0.027273,    0.027273,    0.027273,\n",
       "           0.027273,    0.027273,    0.026332,    0.024892,    0.023452,    0.022012,    0.020572,    0.019132,    0.018024,    0.017559,    0.017094,    0.016629,    0.016165,      0.0157,    0.015235,     0.01477,    0.014306,    0.013841,    0.013376,    0.012911,    0.012447,    0.011982,    0.011517,\n",
       "           0.011052,    0.010587,    0.010123,    0.009658,   0.0091932,   0.0090909,   0.0090909,   0.0090909,   0.0090909,   0.0090909,   0.0090909,   0.0090909,   0.0090909,   0.0090909,   0.0090909,   0.0090909,   0.0090909,   0.0090909,   0.0090909,   0.0090909,   0.0090909,   0.0090909,   0.0090909,\n",
       "          0.0090909,   0.0090909,   0.0090909,   0.0090909,   0.0090909,   0.0090909,   0.0090909,   0.0090909,   0.0090909,   0.0090909,   0.0090909,   0.0090909,   0.0090909,   0.0090909,   0.0090909,   0.0090909,   0.0090909,   0.0090909,   0.0090909,   0.0090909,   0.0090909,   0.0090909,   0.0090909,\n",
       "          0.0090909,   0.0090909,   0.0090909,   0.0090909,   0.0090909,   0.0090909,   0.0090909,   0.0090909,   0.0090909,   0.0090909,   0.0090909,   0.0090909,   0.0090909,   0.0090909,   0.0090909,   0.0090909,   0.0090909,   0.0090909,   0.0090909,   0.0090909,   0.0090909,   0.0090909,   0.0090909,\n",
       "          0.0090909,   0.0090909,   0.0090909,   0.0090909,   0.0090909,   0.0090909,   0.0090909,   0.0090909,   0.0090909,   0.0090909,   0.0090909,   0.0090909,   0.0090909,   0.0090909,   0.0090909,   0.0090909,   0.0090909,   0.0090909,   0.0090909,   0.0090909,   0.0090909,   0.0090909,   0.0090909,\n",
       "          0.0090909,   0.0090909,   0.0090909,   0.0090909,   0.0090909,   0.0090909,   0.0090909,   0.0090909,   0.0090909,   0.0090909,   0.0090909,   0.0090909,   0.0090909,   0.0090909,   0.0090909,   0.0090909,   0.0090909,   0.0090909,   0.0090909,   0.0090909,   0.0090909,   0.0090909,   0.0090909,\n",
       "          0.0090909,   0.0090909,   0.0090909,   0.0090909,   0.0090909,   0.0090909,   0.0090909,           0,           0,           0,           0,           0,           0,           0,           0,           0,           0,           0,           0,           0,           0,           0,           0,\n",
       "                  0,           0,           0,           0,           0,           0,           0,           0,           0,           0,           0,           0,           0,           0,           0,           0,           0,           0,           0,           0,           0,           0,           0,\n",
       "                  0,           0,           0,           0,           0,           0,           0,           0,           0,           0,           0,           0,           0,           0,           0,           0,           0,           0,           0,           0,           0,           0,           0,\n",
       "                  0,           0,           0,           0,           0,           0,           0,           0,           0,           0,           0,           0,           0,           0,           0,           0,           0,           0,           0,           0,           0,           0,           0,\n",
       "                  0,           0,           0,           0,           0,           0,           0,           0,           0,           0,           0,           0,           0,           0,           0,           0,           0,           0,           0,           0,           0,           0,           0,\n",
       "                  0,           0,           0,           0,           0,           0,           0,           0,           0,           0,           0,           0,           0,           0,           0,           0,           0,           0,           0,           0,           0,           0,           0,\n",
       "                  0,           0,           0,           0,           0,           0,           0,           0,           0,           0,           0,           0,           0,           0,           0,           0,           0,           0,           0,           0,           0,           0,           0,\n",
       "                  0,           0,           0,           0,           0,           0,           0,           0,           0,           0,           0,           0,           0,           0,           0,           0,           0,           0,           0,           0,           0,           0,           0,\n",
       "                  0,           0,           0,           0,           0,           0,           0,           0,           0,           0,           0,           0,           0,           0,           0,           0,           0,           0,           0,           0,           0,           0,           0,\n",
       "                  0,           0,           0,           0,           0,           0,           0,           0,           0,           0,           0,           0,           0,           0,           0,           0,           0,           0,           0,           0,           0,           0,           0,\n",
       "                  0,           0,           0,           0,           0,           0,           0,           0,           0,           0,           0,           0,           0,           0,           0,           0,           0,           0,           0,           0,           0,           0,           0,\n",
       "                  0,           0,           0,           0,           0,           0,           0,           0,           0,           0,           0,           0,           0,           0,           0,           0,           0,           0,           0,           0,           0,           0,           0,\n",
       "                  0,           0,           0,           0,           0,           0,           0,           0,           0,           0,           0,           0,           0,           0,           0,           0,           0,           0,           0,           0,           0,           0,           0,\n",
       "                  0,           0,           0,           0,           0,           0,           0,           0,           0,           0,           0,           0,           0,           0,           0,           0,           0,           0,           0,           0,           0,           0,           0,\n",
       "                  0,           0,           0,           0,           0,           0,           0,           0,           0,           0,           0,           0,           0,           0,           0,           0,           0,           0,           0,           0,           0,           0,           0,\n",
       "                  0,           0,           0,           0,           0,           0,           0,           0,           0,           0,           0,           0,           0,           0,           0,           0,           0,           0,           0,           0,           0,           0,           0,\n",
       "                  0,           0,           0,           0,           0,           0,           0,           0,           0,           0,           0,           0,           0,           0,           0,           0,           0,           0,           0,           0,           0,           0,           0,\n",
       "                  0,           0,           0,           0,           0,           0,           0,           0,           0,           0,           0,           0,           0,           0,           0,           0,           0,           0,           0,           0,           0,           0,           0,\n",
       "                  0,           0,           0,           0,           0,           0,           0,           0,           0,           0,           0,           0,           0,           0,           0,           0,           0,           0,           0,           0,           0,           0,           0,\n",
       "                  0,           0,           0,           0,           0,           0,           0,           0,           0,           0,           0]]), 'Confidence', 'Recall']]\n",
       "fitness: 0.10652180542906708\n",
       "keys: ['metrics/precision(B)', 'metrics/recall(B)', 'metrics/mAP50(B)', 'metrics/mAP50-95(B)', 'metrics/precision(M)', 'metrics/recall(M)', 'metrics/mAP50(M)', 'metrics/mAP50-95(M)']\n",
       "maps: array([   0.081056])\n",
       "names: {0: 'vein'}\n",
       "plot: True\n",
       "results_dict: {'metrics/precision(B)': 0.19887305917857645, 'metrics/recall(B)': 0.23636363636363636, 'metrics/mAP50(B)': 0.09404936364314798, 'metrics/mAP50-95(B)': 0.025158800014857104, 'metrics/precision(M)': 0.3991520021118494, 'metrics/recall(M)': 0.36363636363636365, 'metrics/mAP50(M)': 0.24166549633526008, 'metrics/mAP50-95(M)': 0.055897110464283216, 'fitness': 0.10652180542906708}\n",
       "save_dir: PosixPath('runs/segment/vein_segmentation_model102')\n",
       "seg: ultralytics.utils.metrics.Metric object\n",
       "speed: {'preprocess': 0.38196281953291455, 'inference': 5.794991146434437, 'loss': 0.0030344182794744315, 'postprocess': 0.8922815322875977}\n",
       "task: 'segment'"
      ]
     },
     "execution_count": 5,
     "metadata": {},
     "output_type": "execute_result"
    }
   ],
   "execution_count": 5
  },
  {
   "metadata": {
    "ExecuteTime": {
     "end_time": "2024-09-26T17:52:41.918085Z",
     "start_time": "2024-09-26T17:52:41.823234Z"
    }
   },
   "cell_type": "code",
   "source": "model('/home/_sergei/DataspellProjects/vein-segmentation/data/22/dataset/test/images/photo no checkersboard (4).jpg')",
   "id": "a721c76a322de587",
   "outputs": [
    {
     "name": "stdout",
     "output_type": "stream",
     "text": [
      "\n",
      "image 1/1 /home/_sergei/DataspellProjects/vein-segmentation/data/22/dataset/test/images/photo no checkersboard (4).jpg: 512x384 1 vein, 45.8ms\n",
      "Speed: 2.1ms preprocess, 45.8ms inference, 2.6ms postprocess per image at shape (1, 3, 512, 384)\n"
     ]
    },
    {
     "data": {
      "text/plain": [
       "[ultralytics.engine.results.Results object with attributes:\n",
       " \n",
       " boxes: ultralytics.engine.results.Boxes object\n",
       " keypoints: None\n",
       " masks: ultralytics.engine.results.Masks object\n",
       " names: {0: 'vein'}\n",
       " obb: None\n",
       " orig_img: array([[[4, 8, 9],\n",
       "         [3, 7, 8],\n",
       "         [3, 7, 8],\n",
       "         ...,\n",
       "         [0, 0, 6],\n",
       "         [0, 0, 6],\n",
       "         [0, 0, 6]],\n",
       " \n",
       "        [[4, 8, 9],\n",
       "         [3, 7, 8],\n",
       "         [3, 7, 8],\n",
       "         ...,\n",
       "         [0, 0, 6],\n",
       "         [0, 0, 6],\n",
       "         [0, 0, 6]],\n",
       " \n",
       "        [[4, 8, 9],\n",
       "         [3, 7, 8],\n",
       "         [3, 7, 8],\n",
       "         ...,\n",
       "         [0, 0, 6],\n",
       "         [0, 0, 6],\n",
       "         [0, 0, 6]],\n",
       " \n",
       "        ...,\n",
       " \n",
       "        [[0, 0, 0],\n",
       "         [0, 0, 0],\n",
       "         [0, 0, 0],\n",
       "         ...,\n",
       "         [0, 0, 0],\n",
       "         [0, 0, 0],\n",
       "         [0, 0, 0]],\n",
       " \n",
       "        [[0, 0, 0],\n",
       "         [0, 0, 0],\n",
       "         [0, 0, 0],\n",
       "         ...,\n",
       "         [0, 0, 0],\n",
       "         [0, 0, 0],\n",
       "         [0, 0, 0]],\n",
       " \n",
       "        [[0, 0, 0],\n",
       "         [0, 0, 0],\n",
       "         [0, 0, 0],\n",
       "         ...,\n",
       "         [0, 0, 0],\n",
       "         [0, 0, 0],\n",
       "         [0, 0, 0]]], dtype=uint8)\n",
       " orig_shape: (1280, 960)\n",
       " path: '/home/_sergei/DataspellProjects/vein-segmentation/data/22/dataset/test/images/photo no checkersboard (4).jpg'\n",
       " probs: None\n",
       " save_dir: 'runs/segment/vein_segmentation_model103'\n",
       " speed: {'preprocess': 2.06756591796875, 'inference': 45.8216667175293, 'postprocess': 2.6297569274902344}]"
      ]
     },
     "execution_count": 7,
     "metadata": {},
     "output_type": "execute_result"
    }
   ],
   "execution_count": 7
  },
  {
   "metadata": {},
   "cell_type": "code",
   "outputs": [],
   "execution_count": null,
   "source": "",
   "id": "c9f9f302e71b9922"
  }
 ],
 "metadata": {
  "kernelspec": {
   "display_name": "Python 3",
   "language": "python",
   "name": "python3"
  },
  "language_info": {
   "codemirror_mode": {
    "name": "ipython",
    "version": 2
   },
   "file_extension": ".py",
   "mimetype": "text/x-python",
   "name": "python",
   "nbconvert_exporter": "python",
   "pygments_lexer": "ipython2",
   "version": "2.7.6"
  }
 },
 "nbformat": 4,
 "nbformat_minor": 5
}
