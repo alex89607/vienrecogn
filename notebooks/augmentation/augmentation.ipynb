{
 "cells": [
  {
   "cell_type": "code",
   "id": "initial_id",
   "metadata": {
    "collapsed": true,
    "ExecuteTime": {
     "end_time": "2024-09-23T11:54:13.593925Z",
     "start_time": "2024-09-23T11:54:13.590870Z"
    }
   },
   "source": [
    "import albumentations as A\n",
    "import cv2\n",
    "import os\n",
    "import numpy as np\n",
    "from tqdm import tqdm\n",
    "import shutil"
   ],
   "outputs": [],
   "execution_count": 19
  },
  {
   "metadata": {
    "ExecuteTime": {
     "end_time": "2024-09-23T13:04:32.334987Z",
     "start_time": "2024-09-23T13:04:32.330484Z"
    }
   },
   "cell_type": "code",
   "source": [
    "def get_augmentation():\n",
    "    return A.Compose([\n",
    "        A.RandomRotate90(p=0.75),\n",
    "        A.HorizontalFlip(p=0.5),\n",
    "        A.VerticalFlip(p=0.5),\n",
    "        A.Transpose(p=0.75),\n",
    "        A.OneOf([\n",
    "            A.GridDistortion(p=0.5),\n",
    "            A.OpticalDistortion(distort_limit=1, shift_limit=0.5, p=0.5),\n",
    "        ], p=0.9),\n",
    "        A.OneOf([\n",
    "            A.HueSaturationValue(hue_shift_limit=20, sat_shift_limit=30, val_shift_limit=20, p=0.5),\n",
    "            A.RandomBrightnessContrast(brightness_limit=0.2, contrast_limit=0.2, p=0.5),\n",
    "        ], p=0.9),\n",
    "        A.OneOf([\n",
    "            A.GaussNoise(var_limit=(10.0, 50.0), p=0.5),\n",
    "            A.MultiplicativeNoise(multiplier=(0.9, 1.1), p=0.5),\n",
    "        ], p=0.4),\n",
    "        A.CoarseDropout(max_holes=8, max_height=32, max_width=32, p=0.3),\n",
    "    ])"
   ],
   "id": "db940115a95e6560",
   "outputs": [],
   "execution_count": 26
  },
  {
   "metadata": {
    "ExecuteTime": {
     "end_time": "2024-09-23T13:04:41.710342Z",
     "start_time": "2024-09-23T13:04:41.708290Z"
    }
   },
   "cell_type": "code",
   "source": [
    "def resize_mask(mask, target_size):\n",
    "    return cv2.resize(mask, target_size, interpolation=cv2.INTER_NEAREST)"
   ],
   "id": "f58be9dc7838f6f5",
   "outputs": [],
   "execution_count": 27
  },
  {
   "metadata": {
    "ExecuteTime": {
     "end_time": "2024-09-23T13:04:52.673062Z",
     "start_time": "2024-09-23T13:04:52.669798Z"
    }
   },
   "cell_type": "code",
   "source": [
    "def augment_and_save(image_path, mask_path, output_image_path, output_mask_path, augmentation):\n",
    "    image = cv2.imread(image_path)\n",
    "    image = cv2.cvtColor(image, cv2.COLOR_BGR2RGB)\n",
    "    mask = cv2.imread(mask_path, cv2.IMREAD_GRAYSCALE)\n",
    "    \n",
    "    mask = resize_mask(mask, (image.shape[1], image.shape[0]))\n",
    "\n",
    "    augmented = augmentation(image=image, mask=mask)\n",
    "    augmented_image = augmented['image']\n",
    "    augmented_mask = augmented['mask']\n",
    "\n",
    "    cv2.imwrite(output_image_path, cv2.cvtColor(augmented_image, cv2.COLOR_RGB2BGR))\n",
    "    cv2.imwrite(output_mask_path, augmented_mask)"
   ],
   "id": "4d4e51b6f32c6835",
   "outputs": [],
   "execution_count": 28
  },
  {
   "metadata": {
    "ExecuteTime": {
     "end_time": "2024-09-23T13:05:07.691142Z",
     "start_time": "2024-09-23T13:05:07.686094Z"
    }
   },
   "cell_type": "code",
   "source": [
    "def augment_dataset(input_dir, output_dir, augmentations_per_image=10):\n",
    "    augmentation = get_augmentation()\n",
    "\n",
    "    input_images_dir = os.path.join(input_dir, 'images')\n",
    "    input_masks_dir = os.path.join(input_dir, 'masks')\n",
    "\n",
    "    os.makedirs(os.path.join(output_dir, 'images'), exist_ok=True)\n",
    "    os.makedirs(os.path.join(output_dir, 'masks'), exist_ok=True)\n",
    "\n",
    "    print(f\"Checking input images directory: {input_images_dir}\")\n",
    "    if not os.path.exists(input_images_dir):\n",
    "        print(f\"Error: Input images directory {input_images_dir} does not exist.\")\n",
    "        return\n",
    "\n",
    "    image_files = [f for f in os.listdir(input_images_dir) if f.lower().endswith(('.jpg', '.jpeg', '.png'))]\n",
    "    print(f\"Found {len(image_files)} image files in the input directory.\")\n",
    "\n",
    "    if not image_files:\n",
    "        print(\"No image files found in the input directory.\")\n",
    "        return\n",
    "    \n",
    "    for image_file in tqdm(image_files, desc=\"Augmenting images\"):\n",
    "        image_path = os.path.join(input_images_dir, image_file)\n",
    "        mask_file = f\"({image_file.split('(')[1].split(')')[0]}) annotated.PNG\"\n",
    "        mask_path = os.path.join(input_masks_dir, mask_file)\n",
    "        \n",
    "        print(f\"Processing image: {image_file}\")\n",
    "        print(f\"Looking for mask: {mask_file}\")\n",
    "        \n",
    "        if not os.path.exists(mask_path):\n",
    "            print(f\"Warning: Mask not found for {image_file}. Skipping this image.\")\n",
    "            continue\n",
    "\n",
    "        shutil.copy(image_path, os.path.join(output_dir, 'images', image_file))\n",
    "        shutil.copy(mask_path, os.path.join(output_dir, 'masks', mask_file))\n",
    "        \n",
    "        for i in range(augmentations_per_image):\n",
    "            output_image_path = os.path.join(output_dir, 'images', f\"{image_file.split('.')[0]}_aug_{i}.jpg\")\n",
    "            output_mask_path = os.path.join(output_dir, 'masks', f\"{mask_file.split('.')[0]}_aug_{i}.PNG\")\n",
    "            augment_and_save(image_path, mask_path, output_image_path, output_mask_path, augmentation)\n",
    "\n",
    "    print(f\"Augmentation complete. Check the '{output_dir}' folder for results.\")"
   ],
   "id": "3c2c7f66a7eee8c",
   "outputs": [],
   "execution_count": 29
  },
  {
   "metadata": {
    "ExecuteTime": {
     "end_time": "2024-09-23T13:05:35.256082Z",
     "start_time": "2024-09-23T13:05:19.521255Z"
    }
   },
   "cell_type": "code",
   "source": [
    "input_dir = \"/home/_sergei/DataspellProjects/vein-segmentation/data/22/dataset/train\"\n",
    "output_dir = \"/home/_sergei/DataspellProjects/vein-segmentation/data/22/augmented_data\"\n",
    "augment_dataset(input_dir, output_dir, augmentations_per_image=10)"
   ],
   "id": "d9bb6407156a1f8a",
   "outputs": [
    {
     "name": "stdout",
     "output_type": "stream",
     "text": [
      "Checking input images directory: /home/_sergei/DataspellProjects/vein-segmentation/data/22/dataset/train/images\n",
      "Found 32 image files in the input directory.\n"
     ]
    },
    {
     "name": "stderr",
     "output_type": "stream",
     "text": [
      "Augmenting images:   0%|          | 0/32 [00:00<?, ?it/s]"
     ]
    },
    {
     "name": "stdout",
     "output_type": "stream",
     "text": [
      "Processing image: photo no checkersboard (40).jpg\n",
      "Looking for mask: (40) annotated.PNG\n"
     ]
    },
    {
     "name": "stderr",
     "output_type": "stream",
     "text": [
      "Augmenting images:   3%|▎         | 1/32 [00:00<00:19,  1.60it/s]"
     ]
    },
    {
     "name": "stdout",
     "output_type": "stream",
     "text": [
      "Processing image: photo no checkersboard (35).jpg\n",
      "Looking for mask: (35) annotated.PNG\n"
     ]
    },
    {
     "name": "stderr",
     "output_type": "stream",
     "text": [
      "Augmenting images:   6%|▋         | 2/32 [00:01<00:19,  1.58it/s]"
     ]
    },
    {
     "name": "stdout",
     "output_type": "stream",
     "text": [
      "Processing image: photo no checkersboard (3).jpg\n",
      "Looking for mask: (3) annotated.PNG\n"
     ]
    },
    {
     "name": "stderr",
     "output_type": "stream",
     "text": [
      "Augmenting images:   9%|▉         | 3/32 [00:01<00:17,  1.69it/s]"
     ]
    },
    {
     "name": "stdout",
     "output_type": "stream",
     "text": [
      "Processing image: photo no checkersboard (17).jpg\n",
      "Looking for mask: (17) annotated.PNG\n"
     ]
    },
    {
     "name": "stderr",
     "output_type": "stream",
     "text": [
      "Augmenting images:  12%|█▎        | 4/32 [00:02<00:15,  1.83it/s]"
     ]
    },
    {
     "name": "stdout",
     "output_type": "stream",
     "text": [
      "Processing image: photo no checkersboard (46).jpg\n",
      "Looking for mask: (46) annotated.PNG\n"
     ]
    },
    {
     "name": "stderr",
     "output_type": "stream",
     "text": [
      "Augmenting images:  16%|█▌        | 5/32 [00:02<00:14,  1.88it/s]"
     ]
    },
    {
     "name": "stdout",
     "output_type": "stream",
     "text": [
      "Processing image: photo no checkersboard (24).jpg\n",
      "Looking for mask: (24) annotated.PNG\n"
     ]
    },
    {
     "name": "stderr",
     "output_type": "stream",
     "text": [
      "Augmenting images:  19%|█▉        | 6/32 [00:03<00:13,  2.00it/s]"
     ]
    },
    {
     "name": "stdout",
     "output_type": "stream",
     "text": [
      "Processing image: photo no checkersboard (22).jpg\n",
      "Looking for mask: (22) annotated.PNG\n"
     ]
    },
    {
     "name": "stderr",
     "output_type": "stream",
     "text": [
      "Augmenting images:  22%|██▏       | 7/32 [00:03<00:13,  1.82it/s]"
     ]
    },
    {
     "name": "stdout",
     "output_type": "stream",
     "text": [
      "Processing image: photo no checkersboard (50).jpg\n",
      "Looking for mask: (50) annotated.PNG\n"
     ]
    },
    {
     "name": "stderr",
     "output_type": "stream",
     "text": [
      "Augmenting images:  25%|██▌       | 8/32 [00:04<00:11,  2.06it/s]"
     ]
    },
    {
     "name": "stdout",
     "output_type": "stream",
     "text": [
      "Processing image: photo no checkersboard (47).jpg\n",
      "Looking for mask: (47) annotated.PNG\n"
     ]
    },
    {
     "name": "stderr",
     "output_type": "stream",
     "text": [
      "Augmenting images:  28%|██▊       | 9/32 [00:04<00:10,  2.12it/s]"
     ]
    },
    {
     "name": "stdout",
     "output_type": "stream",
     "text": [
      "Processing image: photo no checkersboard (23).jpg\n",
      "Looking for mask: (23) annotated.PNG\n"
     ]
    },
    {
     "name": "stderr",
     "output_type": "stream",
     "text": [
      "Augmenting images:  31%|███▏      | 10/32 [00:05<00:11,  1.89it/s]"
     ]
    },
    {
     "name": "stdout",
     "output_type": "stream",
     "text": [
      "Processing image: photo no checkersboard (10).jpg\n",
      "Looking for mask: (10) annotated.PNG\n"
     ]
    },
    {
     "name": "stderr",
     "output_type": "stream",
     "text": [
      "Augmenting images:  34%|███▍      | 11/32 [00:05<00:10,  2.08it/s]"
     ]
    },
    {
     "name": "stdout",
     "output_type": "stream",
     "text": [
      "Processing image: photo no checkersboard (52).jpg\n",
      "Looking for mask: (52) annotated.PNG\n"
     ]
    },
    {
     "name": "stderr",
     "output_type": "stream",
     "text": [
      "Augmenting images:  38%|███▊      | 12/32 [00:06<00:09,  2.13it/s]"
     ]
    },
    {
     "name": "stdout",
     "output_type": "stream",
     "text": [
      "Processing image: photo no checkersboard (38).jpg\n",
      "Looking for mask: (38) annotated.PNG\n"
     ]
    },
    {
     "name": "stderr",
     "output_type": "stream",
     "text": [
      "Augmenting images:  41%|████      | 13/32 [00:06<00:08,  2.32it/s]"
     ]
    },
    {
     "name": "stdout",
     "output_type": "stream",
     "text": [
      "Processing image: photo no checkersboard (18).jpg\n",
      "Looking for mask: (18) annotated.PNG\n"
     ]
    },
    {
     "name": "stderr",
     "output_type": "stream",
     "text": [
      "Augmenting images:  44%|████▍     | 14/32 [00:06<00:07,  2.38it/s]"
     ]
    },
    {
     "name": "stdout",
     "output_type": "stream",
     "text": [
      "Processing image: photo no checkersboard (51).jpg\n",
      "Looking for mask: (51) annotated.PNG\n"
     ]
    },
    {
     "name": "stderr",
     "output_type": "stream",
     "text": [
      "Augmenting images:  47%|████▋     | 15/32 [00:07<00:06,  2.64it/s]"
     ]
    },
    {
     "name": "stdout",
     "output_type": "stream",
     "text": [
      "Processing image: photo no checkersboard (43).jpg\n",
      "Looking for mask: (43) annotated.PNG\n"
     ]
    },
    {
     "name": "stderr",
     "output_type": "stream",
     "text": [
      "Augmenting images:  50%|█████     | 16/32 [00:07<00:07,  2.16it/s]"
     ]
    },
    {
     "name": "stdout",
     "output_type": "stream",
     "text": [
      "Processing image: photo no checkersboard (31).jpg\n",
      "Looking for mask: (31) annotated.PNG\n"
     ]
    },
    {
     "name": "stderr",
     "output_type": "stream",
     "text": [
      "Augmenting images:  53%|█████▎    | 17/32 [00:08<00:06,  2.18it/s]"
     ]
    },
    {
     "name": "stdout",
     "output_type": "stream",
     "text": [
      "Processing image: photo no checkersboard (7).jpg\n",
      "Looking for mask: (7) annotated.PNG\n"
     ]
    },
    {
     "name": "stderr",
     "output_type": "stream",
     "text": [
      "Augmenting images:  56%|█████▋    | 18/32 [00:08<00:06,  2.19it/s]"
     ]
    },
    {
     "name": "stdout",
     "output_type": "stream",
     "text": [
      "Processing image: photo no checkersboard (12).jpg\n",
      "Looking for mask: (12) annotated.PNG\n"
     ]
    },
    {
     "name": "stderr",
     "output_type": "stream",
     "text": [
      "Augmenting images:  59%|█████▉    | 19/32 [00:09<00:05,  2.46it/s]"
     ]
    },
    {
     "name": "stdout",
     "output_type": "stream",
     "text": [
      "Processing image: photo no checkersboard (44).jpg\n",
      "Looking for mask: (44) annotated.PNG\n"
     ]
    },
    {
     "name": "stderr",
     "output_type": "stream",
     "text": [
      "Augmenting images:  62%|██████▎   | 20/32 [00:09<00:05,  2.11it/s]"
     ]
    },
    {
     "name": "stdout",
     "output_type": "stream",
     "text": [
      "Processing image: photo no checkersboard (49).jpg\n",
      "Looking for mask: (49) annotated.PNG\n"
     ]
    },
    {
     "name": "stderr",
     "output_type": "stream",
     "text": [
      "Augmenting images:  66%|██████▌   | 21/32 [00:10<00:04,  2.25it/s]"
     ]
    },
    {
     "name": "stdout",
     "output_type": "stream",
     "text": [
      "Processing image: photo no checkersboard (8).jpg\n",
      "Looking for mask: (8) annotated.PNG\n"
     ]
    },
    {
     "name": "stderr",
     "output_type": "stream",
     "text": [
      "Augmenting images:  69%|██████▉   | 22/32 [00:10<00:04,  2.12it/s]"
     ]
    },
    {
     "name": "stdout",
     "output_type": "stream",
     "text": [
      "Processing image: photo no checkersboard (2).jpg\n",
      "Looking for mask: (2) annotated.PNG\n"
     ]
    },
    {
     "name": "stderr",
     "output_type": "stream",
     "text": [
      "Augmenting images:  72%|███████▏  | 23/32 [00:10<00:04,  2.24it/s]"
     ]
    },
    {
     "name": "stdout",
     "output_type": "stream",
     "text": [
      "Processing image: photo no checkersboard (20).jpg\n",
      "Looking for mask: (20) annotated.PNG\n"
     ]
    },
    {
     "name": "stderr",
     "output_type": "stream",
     "text": [
      "Augmenting images:  75%|███████▌  | 24/32 [00:11<00:03,  2.19it/s]"
     ]
    },
    {
     "name": "stdout",
     "output_type": "stream",
     "text": [
      "Processing image: photo no checkersboard (11).jpg\n",
      "Looking for mask: (11) annotated.PNG\n"
     ]
    },
    {
     "name": "stderr",
     "output_type": "stream",
     "text": [
      "Augmenting images:  78%|███████▊  | 25/32 [00:11<00:03,  2.15it/s]"
     ]
    },
    {
     "name": "stdout",
     "output_type": "stream",
     "text": [
      "Processing image: photo no checkersboard (39).jpg\n",
      "Looking for mask: (39) annotated.PNG\n"
     ]
    },
    {
     "name": "stderr",
     "output_type": "stream",
     "text": [
      "Augmenting images:  81%|████████▏ | 26/32 [00:12<00:02,  2.18it/s]"
     ]
    },
    {
     "name": "stdout",
     "output_type": "stream",
     "text": [
      "Processing image: photo no checkersboard (29).jpg\n",
      "Looking for mask: (29) annotated.PNG\n"
     ]
    },
    {
     "name": "stderr",
     "output_type": "stream",
     "text": [
      "Augmenting images:  84%|████████▍ | 27/32 [00:12<00:02,  2.30it/s]"
     ]
    },
    {
     "name": "stdout",
     "output_type": "stream",
     "text": [
      "Processing image: photo no checkersboard (6).jpg\n",
      "Looking for mask: (6) annotated.PNG\n"
     ]
    },
    {
     "name": "stderr",
     "output_type": "stream",
     "text": [
      "Augmenting images:  88%|████████▊ | 28/32 [00:13<00:01,  2.06it/s]"
     ]
    },
    {
     "name": "stdout",
     "output_type": "stream",
     "text": [
      "Processing image: photo no checkersboard (21).jpg\n",
      "Looking for mask: (21) annotated.PNG\n"
     ]
    },
    {
     "name": "stderr",
     "output_type": "stream",
     "text": [
      "Augmenting images:  91%|█████████ | 29/32 [00:13<00:01,  2.01it/s]"
     ]
    },
    {
     "name": "stdout",
     "output_type": "stream",
     "text": [
      "Processing image: photo no checkersboard (27).jpg\n",
      "Looking for mask: (27) annotated.PNG\n"
     ]
    },
    {
     "name": "stderr",
     "output_type": "stream",
     "text": [
      "Augmenting images:  94%|█████████▍| 30/32 [00:14<00:01,  1.92it/s]"
     ]
    },
    {
     "name": "stdout",
     "output_type": "stream",
     "text": [
      "Processing image: photo no checkersboard (25).jpg\n",
      "Looking for mask: (25) annotated.PNG\n"
     ]
    },
    {
     "name": "stderr",
     "output_type": "stream",
     "text": [
      "Augmenting images:  97%|█████████▋| 31/32 [00:15<00:00,  1.79it/s]"
     ]
    },
    {
     "name": "stdout",
     "output_type": "stream",
     "text": [
      "Processing image: photo no checkersboard (30).jpg\n",
      "Looking for mask: (30) annotated.PNG\n"
     ]
    },
    {
     "name": "stderr",
     "output_type": "stream",
     "text": [
      "Augmenting images: 100%|██████████| 32/32 [00:15<00:00,  2.03it/s]"
     ]
    },
    {
     "name": "stdout",
     "output_type": "stream",
     "text": [
      "Augmentation complete. Check the '/home/_sergei/DataspellProjects/vein-segmentation/data/22/augmented_data' folder for results.\n"
     ]
    },
    {
     "name": "stderr",
     "output_type": "stream",
     "text": [
      "\n"
     ]
    }
   ],
   "execution_count": 30
  },
  {
   "metadata": {},
   "cell_type": "code",
   "outputs": [],
   "execution_count": null,
   "source": "",
   "id": "8d39cf890f2cdb4d"
  }
 ],
 "metadata": {
  "kernelspec": {
   "display_name": "Python 3",
   "language": "python",
   "name": "python3"
  },
  "language_info": {
   "codemirror_mode": {
    "name": "ipython",
    "version": 2
   },
   "file_extension": ".py",
   "mimetype": "text/x-python",
   "name": "python",
   "nbconvert_exporter": "python",
   "pygments_lexer": "ipython2",
   "version": "2.7.6"
  }
 },
 "nbformat": 4,
 "nbformat_minor": 5
}
